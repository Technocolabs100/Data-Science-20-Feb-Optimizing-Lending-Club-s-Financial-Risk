{
  "nbformat": 4,
  "nbformat_minor": 0,
  "metadata": {
    "colab": {
      "name": "modelling.ipynb",
      "provenance": [],
      "collapsed_sections": [],
      "toc_visible": true
    },
    "kernelspec": {
      "name": "python3",
      "display_name": "Python 3"
    },
    "language_info": {
      "name": "python"
    }
  },
  "cells": [
    {
      "cell_type": "code",
      "metadata": {
        "colab": {
          "base_uri": "https://localhost:8080/"
        },
        "id": "ve-DI5OuMuLV",
        "outputId": "553376e3-e3c6-4a22-cd15-08bf73c6b6d8"
      },
      "source": [
        "from google.colab import drive\n",
        "drive.mount('/content/drive')"
      ],
      "execution_count": 1,
      "outputs": [
        {
          "output_type": "stream",
          "text": [
            "Mounted at /content/drive\n"
          ],
          "name": "stdout"
        }
      ]
    },
    {
      "cell_type": "code",
      "metadata": {
        "id": "MG5aPOnQNaVA"
      },
      "source": [
        "import pandas as pd\n",
        "import numpy as np\n",
        "from sklearn.model_selection import train_test_split\n",
        "from sklearn.preprocessing import StandardScaler"
      ],
      "execution_count": 4,
      "outputs": []
    },
    {
      "cell_type": "code",
      "metadata": {
        "id": "2ZRavsXzNDoh"
      },
      "source": [
        "#define the data path \n",
        "path = '/content/drive/MyDrive/Mukund/ML_DL/technocolabs/major_project/data/LC_loan_approval_optimization.csv'"
      ],
      "execution_count": 5,
      "outputs": []
    },
    {
      "cell_type": "code",
      "metadata": {
        "colab": {
          "base_uri": "https://localhost:8080/",
          "height": 198
        },
        "id": "k-n0NaYgE7nJ",
        "outputId": "bd21b9ce-f4d1-4b7a-c553-2632b2bd1b4b"
      },
      "source": [
        "df = pd.read_csv(path).iloc[: , 1:]\n",
        "df.columns = ['Amount_Requested', 'Risk_Score', 'DTI_Ratio', 'Employment_Length', 'Target']\n",
        "df.head()"
      ],
      "execution_count": 7,
      "outputs": [
        {
          "output_type": "execute_result",
          "data": {
            "text/html": [
              "<div>\n",
              "<style scoped>\n",
              "    .dataframe tbody tr th:only-of-type {\n",
              "        vertical-align: middle;\n",
              "    }\n",
              "\n",
              "    .dataframe tbody tr th {\n",
              "        vertical-align: top;\n",
              "    }\n",
              "\n",
              "    .dataframe thead th {\n",
              "        text-align: right;\n",
              "    }\n",
              "</style>\n",
              "<table border=\"1\" class=\"dataframe\">\n",
              "  <thead>\n",
              "    <tr style=\"text-align: right;\">\n",
              "      <th></th>\n",
              "      <th>Amount_Requested</th>\n",
              "      <th>Risk_Score</th>\n",
              "      <th>DTI_Ratio</th>\n",
              "      <th>Employment_Length</th>\n",
              "      <th>Target</th>\n",
              "    </tr>\n",
              "  </thead>\n",
              "  <tbody>\n",
              "    <tr>\n",
              "      <th>0</th>\n",
              "      <td>3600.0</td>\n",
              "      <td>677.0</td>\n",
              "      <td>5.91</td>\n",
              "      <td>10</td>\n",
              "      <td>1</td>\n",
              "    </tr>\n",
              "    <tr>\n",
              "      <th>1</th>\n",
              "      <td>24700.0</td>\n",
              "      <td>717.0</td>\n",
              "      <td>16.06</td>\n",
              "      <td>10</td>\n",
              "      <td>1</td>\n",
              "    </tr>\n",
              "    <tr>\n",
              "      <th>2</th>\n",
              "      <td>20000.0</td>\n",
              "      <td>697.0</td>\n",
              "      <td>10.78</td>\n",
              "      <td>10</td>\n",
              "      <td>1</td>\n",
              "    </tr>\n",
              "    <tr>\n",
              "      <th>3</th>\n",
              "      <td>10400.0</td>\n",
              "      <td>697.0</td>\n",
              "      <td>25.37</td>\n",
              "      <td>3</td>\n",
              "      <td>1</td>\n",
              "    </tr>\n",
              "    <tr>\n",
              "      <th>4</th>\n",
              "      <td>11950.0</td>\n",
              "      <td>692.0</td>\n",
              "      <td>10.20</td>\n",
              "      <td>4</td>\n",
              "      <td>1</td>\n",
              "    </tr>\n",
              "  </tbody>\n",
              "</table>\n",
              "</div>"
            ],
            "text/plain": [
              "   Amount_Requested  Risk_Score  DTI_Ratio  Employment_Length  Target\n",
              "0            3600.0       677.0       5.91                 10       1\n",
              "1           24700.0       717.0      16.06                 10       1\n",
              "2           20000.0       697.0      10.78                 10       1\n",
              "3           10400.0       697.0      25.37                  3       1\n",
              "4           11950.0       692.0      10.20                  4       1"
            ]
          },
          "metadata": {
            "tags": []
          },
          "execution_count": 7
        }
      ]
    },
    {
      "cell_type": "code",
      "metadata": {
        "id": "L_1d0_EyFNax"
      },
      "source": [
        "X = df.iloc[:,:4]\n",
        "Y = df.iloc[:,4:]"
      ],
      "execution_count": 8,
      "outputs": []
    },
    {
      "cell_type": "code",
      "metadata": {
        "colab": {
          "base_uri": "https://localhost:8080/"
        },
        "id": "7kK-As9vX8_P",
        "outputId": "de6a7898-3704-4c6c-aa71-e0729eed5976"
      },
      "source": [
        "print(f'Shape of the independent dataset: {X.shape}')\n",
        "print(f'Shape of the Target column: {Y.shape}')"
      ],
      "execution_count": 38,
      "outputs": [
        {
          "output_type": "stream",
          "text": [
            "Shape of the independent dataset: (2072806, 4)\n",
            "Shape of the Target column: (2072806, 1)\n"
          ],
          "name": "stdout"
        }
      ]
    },
    {
      "cell_type": "code",
      "metadata": {
        "id": "Ro65-eGzq2BF"
      },
      "source": [
        "# Split the dataset into train:validation:test = 80:10:10\n",
        "X_train, X_test, y_train, y_test = train_test_split(X, Y, stratify=Y, test_size=0.1, shuffle = True, random_state = 1)"
      ],
      "execution_count": 9,
      "outputs": []
    },
    {
      "cell_type": "code",
      "metadata": {
        "id": "1O_TQDyKfmGK"
      },
      "source": [
        "X_train, X_val, y_train, y_val = train_test_split(X_train, y_train, stratify=y_train, test_size=0.111, shuffle = True, random_state = 1)"
      ],
      "execution_count": 10,
      "outputs": []
    },
    {
      "cell_type": "code",
      "metadata": {
        "colab": {
          "base_uri": "https://localhost:8080/"
        },
        "id": "omMt-th_eaHD",
        "outputId": "08ce3979-c189-4473-c108-149bb964bb4e"
      },
      "source": [
        "print(f'Shape of the train dataset: {X_train.shape}')\n",
        "print(f'Shape of the validation data: {X_val.shape}')\n",
        "print(f'Shape of the test dataset: {X_test.shape}')"
      ],
      "execution_count": 11,
      "outputs": [
        {
          "output_type": "stream",
          "text": [
            "Shape of the train dataset: (1658451, 4)\n",
            "Shape of the validation data: (207074, 4)\n",
            "Shape of the test dataset: (207281, 4)\n"
          ],
          "name": "stdout"
        }
      ]
    },
    {
      "cell_type": "markdown",
      "metadata": {
        "id": "-aEoGPxYi_m3"
      },
      "source": [
        "# Data normalization: StandarScaler()\n",
        "\n",
        "Standardization is a scaling technique where the values are centered around the mean with a unit standard deviation. This means that the mean of the attribute becomes zero and the resultant distribution has a unit standard deviation.\n",
        "standardization does not have a bounding range. So, even if data have outliers, they will not be affected by standardization."
      ]
    },
    {
      "cell_type": "code",
      "metadata": {
        "id": "5K1PboQotR3y"
      },
      "source": [
        "scaler = StandardScaler()"
      ],
      "execution_count": 12,
      "outputs": []
    },
    {
      "cell_type": "code",
      "metadata": {
        "id": "ZO0XbUS-oqyx"
      },
      "source": [
        "df_scaled = scaler.fit_transform(X_train)"
      ],
      "execution_count": 13,
      "outputs": []
    },
    {
      "cell_type": "code",
      "metadata": {
        "id": "FK14IChbpDY_"
      },
      "source": [
        "df_scaled = pd.DataFrame(df_scaled, columns=X_train.columns)"
      ],
      "execution_count": 14,
      "outputs": []
    },
    {
      "cell_type": "code",
      "metadata": {
        "id": "CYDQHTK_pKNb",
        "colab": {
          "base_uri": "https://localhost:8080/",
          "height": 198
        },
        "outputId": "62ff297d-704b-4d3a-9d37-bb20f7c47ddc"
      },
      "source": [
        "df_scaled.head()"
      ],
      "execution_count": 15,
      "outputs": [
        {
          "output_type": "execute_result",
          "data": {
            "text/html": [
              "<div>\n",
              "<style scoped>\n",
              "    .dataframe tbody tr th:only-of-type {\n",
              "        vertical-align: middle;\n",
              "    }\n",
              "\n",
              "    .dataframe tbody tr th {\n",
              "        vertical-align: top;\n",
              "    }\n",
              "\n",
              "    .dataframe thead th {\n",
              "        text-align: right;\n",
              "    }\n",
              "</style>\n",
              "<table border=\"1\" class=\"dataframe\">\n",
              "  <thead>\n",
              "    <tr style=\"text-align: right;\">\n",
              "      <th></th>\n",
              "      <th>Amount_Requested</th>\n",
              "      <th>Risk_Score</th>\n",
              "      <th>DTI_Ratio</th>\n",
              "      <th>Employment_Length</th>\n",
              "    </tr>\n",
              "  </thead>\n",
              "  <tbody>\n",
              "    <tr>\n",
              "      <th>0</th>\n",
              "      <td>-0.107113</td>\n",
              "      <td>1.177179</td>\n",
              "      <td>-0.021953</td>\n",
              "      <td>-0.924049</td>\n",
              "    </tr>\n",
              "    <tr>\n",
              "      <th>1</th>\n",
              "      <td>-1.105285</td>\n",
              "      <td>-1.319030</td>\n",
              "      <td>-0.017697</td>\n",
              "      <td>-0.924049</td>\n",
              "    </tr>\n",
              "    <tr>\n",
              "      <th>2</th>\n",
              "      <td>-0.205076</td>\n",
              "      <td>0.302339</td>\n",
              "      <td>-0.022419</td>\n",
              "      <td>1.547039</td>\n",
              "    </tr>\n",
              "    <tr>\n",
              "      <th>3</th>\n",
              "      <td>0.536272</td>\n",
              "      <td>0.535630</td>\n",
              "      <td>-0.021014</td>\n",
              "      <td>-0.924049</td>\n",
              "    </tr>\n",
              "    <tr>\n",
              "      <th>4</th>\n",
              "      <td>-0.070045</td>\n",
              "      <td>0.535630</td>\n",
              "      <td>-0.019461</td>\n",
              "      <td>1.547039</td>\n",
              "    </tr>\n",
              "  </tbody>\n",
              "</table>\n",
              "</div>"
            ],
            "text/plain": [
              "   Amount_Requested  Risk_Score  DTI_Ratio  Employment_Length\n",
              "0         -0.107113    1.177179  -0.021953          -0.924049\n",
              "1         -1.105285   -1.319030  -0.017697          -0.924049\n",
              "2         -0.205076    0.302339  -0.022419           1.547039\n",
              "3          0.536272    0.535630  -0.021014          -0.924049\n",
              "4         -0.070045    0.535630  -0.019461           1.547039"
            ]
          },
          "metadata": {
            "tags": []
          },
          "execution_count": 15
        }
      ]
    },
    {
      "cell_type": "code",
      "metadata": {
        "id": "duF2Mi5IzxDo",
        "colab": {
          "base_uri": "https://localhost:8080/"
        },
        "outputId": "1cdee027-3701-47db-b823-835b97365421"
      },
      "source": [
        "#save the standardScaler object to the std_scaler.bin file\n",
        "\n",
        "from sklearn.externals.joblib import dump, load\n",
        "dump(scaler, 'std_scaler.bin', compress=True)"
      ],
      "execution_count": 16,
      "outputs": [
        {
          "output_type": "stream",
          "text": [
            "/usr/local/lib/python3.7/dist-packages/sklearn/externals/joblib/__init__.py:15: FutureWarning: sklearn.externals.joblib is deprecated in 0.21 and will be removed in 0.23. Please import this functionality directly from joblib, which can be installed with: pip install joblib. If this warning is raised when loading pickled models, you may need to re-serialize those models with scikit-learn 0.21+.\n",
            "  warnings.warn(msg, category=FutureWarning)\n"
          ],
          "name": "stderr"
        },
        {
          "output_type": "execute_result",
          "data": {
            "text/plain": [
              "['std_scaler.bin']"
            ]
          },
          "metadata": {
            "tags": []
          },
          "execution_count": 16
        }
      ]
    },
    {
      "cell_type": "code",
      "metadata": {
        "id": "YCiQm6Tg0Ysv"
      },
      "source": [
        "std=load('std_scaler.bin')"
      ],
      "execution_count": 17,
      "outputs": []
    },
    {
      "cell_type": "code",
      "metadata": {
        "id": "N_NuCoPZ0fef"
      },
      "source": [
        "df_val_scaled = std.transform(X_val)"
      ],
      "execution_count": 18,
      "outputs": []
    },
    {
      "cell_type": "code",
      "metadata": {
        "id": "JI9oro2jJtXE"
      },
      "source": [
        ""
      ],
      "execution_count": 18,
      "outputs": []
    },
    {
      "cell_type": "markdown",
      "metadata": {
        "id": "BIoxyukHFFLP"
      },
      "source": [
        "# Hyperparameter tuning and Model building \n",
        "\n",
        "Each model has its own sets of parameters that need to be tuned to get optimal output. For every model, our goal is to minimize the error or say to have predictions as close as possible to actual values. This is one of the major objective of hyperparameter tuning.\n",
        "\n",
        "\n",
        "------------------------------------------------------------------------------\n",
        "\n",
        "### **Hyperparameters should be tuned**\n",
        "1. How many number of hidden layers we should have?\n",
        "2. How many number of neurons we should have in each hidden layer?\n",
        "3. Learning rate"
      ]
    },
    {
      "cell_type": "code",
      "metadata": {
        "id": "GqrSvaGNFc-D"
      },
      "source": [
        "!pip install keras-tuner"
      ],
      "execution_count": null,
      "outputs": []
    },
    {
      "cell_type": "code",
      "metadata": {
        "id": "y13iDu0pN5xw"
      },
      "source": [
        "import tensorflow as tf\n",
        "from tensorflow import keras\n",
        "from kerastuner.tuners import Hyperband\n",
        "from tensorflow.keras import layers"
      ],
      "execution_count": 22,
      "outputs": []
    },
    {
      "cell_type": "code",
      "metadata": {
        "id": "UcZj6KxSNIV4"
      },
      "source": [
        "'''install the keras-tuner for neural network hyperparameter tuning'''\n",
        "\n",
        "!pip install -q -U keras-tuner"
      ],
      "execution_count": 23,
      "outputs": []
    },
    {
      "cell_type": "code",
      "metadata": {
        "id": "2EBV352YtSap",
        "colab": {
          "base_uri": "https://localhost:8080/"
        },
        "outputId": "018314c1-2623-4dba-bc96-82fdadd2f137"
      },
      "source": [
        "print(tf.__version__)"
      ],
      "execution_count": 24,
      "outputs": [
        {
          "output_type": "stream",
          "text": [
            "2.4.1\n"
          ],
          "name": "stdout"
        }
      ]
    },
    {
      "cell_type": "code",
      "metadata": {
        "id": "fnta_bhItiXB"
      },
      "source": [
        "def build_model(hp):\n",
        "  model = keras.Sequential()\n",
        "  \n",
        "  for i in range(hp.Int('number_of_layers',2,7)):\n",
        "    model.add(\n",
        "        layers.Dense(\n",
        "            units= hp.Int(\n",
        "                'unit_'+str(i), \n",
        "                min_value = 2, \n",
        "                max_value = 100, \n",
        "                step = 32), \n",
        "                activation = 'relu'))\n",
        "  \n",
        "  model.add(layers.Dense(20, activation = 'linear'))   \n",
        "  model.add(layers.Dense(1, activation='sigmoid'))\n",
        "  \n",
        "  model.compile( \n",
        "      keras.optimizers.Adam(hp.Choice(\n",
        "          'learning_rate', [1e-2, 1e-3, 1e-4])), \n",
        "          loss='binary_crossentropy', \n",
        "          metrics=['accuracy'])\n",
        "  \n",
        "  return model"
      ],
      "execution_count": 25,
      "outputs": []
    },
    {
      "cell_type": "code",
      "metadata": {
        "id": "iRcxrnlY09Uh"
      },
      "source": [
        "tuner = Hyperband(\n",
        "    build_model,\n",
        "    objective='val_accuracy',\n",
        "    max_epochs=5,\n",
        "    hyperband_iterations=2,\n",
        "    directory='my_dir',\n",
        "    project_name='model_loan1'\n",
        "    )\n"
      ],
      "execution_count": 26,
      "outputs": []
    },
    {
      "cell_type": "code",
      "metadata": {
        "id": "OSxsbEUivdBl",
        "colab": {
          "base_uri": "https://localhost:8080/"
        },
        "outputId": "5025ed27-4170-44c6-8180-33e9ec13c2da"
      },
      "source": [
        "tuner.search_space_summary()"
      ],
      "execution_count": 27,
      "outputs": [
        {
          "output_type": "stream",
          "text": [
            "Search space summary\n",
            "Default search space size: 4\n",
            "number_of_layers (Int)\n",
            "{'default': None, 'conditions': [], 'min_value': 2, 'max_value': 7, 'step': 1, 'sampling': None}\n",
            "unit_0 (Int)\n",
            "{'default': None, 'conditions': [], 'min_value': 2, 'max_value': 100, 'step': 32, 'sampling': None}\n",
            "unit_1 (Int)\n",
            "{'default': None, 'conditions': [], 'min_value': 2, 'max_value': 100, 'step': 32, 'sampling': None}\n",
            "learning_rate (Choice)\n",
            "{'default': 0.01, 'conditions': [], 'values': [0.01, 0.001, 0.0001], 'ordered': True}\n"
          ],
          "name": "stdout"
        }
      ]
    },
    {
      "cell_type": "code",
      "metadata": {
        "colab": {
          "base_uri": "https://localhost:8080/"
        },
        "id": "iBZOoOhqDmER",
        "outputId": "f9b4bd67-f212-4954-806f-27a40dbca311"
      },
      "source": [
        "tuner.search(df_scaled, y_train,epochs = 5, validation_data = (df_val_scaled,y_val))"
      ],
      "execution_count": 28,
      "outputs": [
        {
          "output_type": "stream",
          "text": [
            "Trial 20 Complete [00h 09m 36s]\n",
            "val_accuracy: 0.885963499546051\n",
            "\n",
            "Best val_accuracy So Far: 0.8876053690910339\n",
            "Total elapsed time: 01h 39m 03s\n",
            "INFO:tensorflow:Oracle triggered exit\n"
          ],
          "name": "stdout"
        }
      ]
    },
    {
      "cell_type": "code",
      "metadata": {
        "colab": {
          "base_uri": "https://localhost:8080/"
        },
        "id": "JkPBQgV8Pu--",
        "outputId": "9bcb7009-b5ff-4e53-e944-c36eebc968cc"
      },
      "source": [
        "print(tuner.get_best_hyperparameters()[0].values)"
      ],
      "execution_count": 29,
      "outputs": [
        {
          "output_type": "stream",
          "text": [
            "{'number_of_layers': 4, 'unit_0': 66, 'unit_1': 2, 'learning_rate': 0.001, 'unit_2': 98, 'unit_3': 2, 'unit_4': 66, 'tuner/epochs': 5, 'tuner/initial_epoch': 0, 'tuner/bracket': 0, 'tuner/round': 0}\n"
          ],
          "name": "stdout"
        }
      ]
    },
    {
      "cell_type": "code",
      "metadata": {
        "id": "2W8kx-fusPle",
        "colab": {
          "base_uri": "https://localhost:8080/"
        },
        "outputId": "7841bd10-2e17-4317-c101-9fe691250f51"
      },
      "source": [
        "print(tuner.get_best_models(1)[0])"
      ],
      "execution_count": 30,
      "outputs": [
        {
          "output_type": "stream",
          "text": [
            "<tensorflow.python.keras.engine.sequential.Sequential object at 0x7f4961d44cd0>\n",
            "WARNING:tensorflow:Unresolved object in checkpoint: (root).layer_with_weights-0.kernel\n",
            "WARNING:tensorflow:Unresolved object in checkpoint: (root).layer_with_weights-0.bias\n",
            "WARNING:tensorflow:Unresolved object in checkpoint: (root).layer_with_weights-1.kernel\n",
            "WARNING:tensorflow:Unresolved object in checkpoint: (root).layer_with_weights-1.bias\n",
            "WARNING:tensorflow:Unresolved object in checkpoint: (root).layer_with_weights-2.kernel\n",
            "WARNING:tensorflow:Unresolved object in checkpoint: (root).layer_with_weights-2.bias\n",
            "WARNING:tensorflow:Unresolved object in checkpoint: (root).layer_with_weights-3.kernel\n",
            "WARNING:tensorflow:Unresolved object in checkpoint: (root).layer_with_weights-3.bias\n",
            "WARNING:tensorflow:Unresolved object in checkpoint: (root).layer_with_weights-4.kernel\n",
            "WARNING:tensorflow:Unresolved object in checkpoint: (root).layer_with_weights-4.bias\n",
            "WARNING:tensorflow:Unresolved object in checkpoint: (root).layer_with_weights-5.kernel\n",
            "WARNING:tensorflow:Unresolved object in checkpoint: (root).layer_with_weights-5.bias\n",
            "WARNING:tensorflow:Unresolved object in checkpoint: (root).optimizer.iter\n",
            "WARNING:tensorflow:Unresolved object in checkpoint: (root).optimizer.beta_1\n",
            "WARNING:tensorflow:Unresolved object in checkpoint: (root).optimizer.beta_2\n",
            "WARNING:tensorflow:Unresolved object in checkpoint: (root).optimizer.decay\n",
            "WARNING:tensorflow:Unresolved object in checkpoint: (root).optimizer.learning_rate\n",
            "WARNING:tensorflow:Unresolved object in checkpoint: (root).optimizer's state 'm' for (root).layer_with_weights-0.kernel\n",
            "WARNING:tensorflow:Unresolved object in checkpoint: (root).optimizer's state 'm' for (root).layer_with_weights-0.bias\n",
            "WARNING:tensorflow:Unresolved object in checkpoint: (root).optimizer's state 'm' for (root).layer_with_weights-1.kernel\n",
            "WARNING:tensorflow:Unresolved object in checkpoint: (root).optimizer's state 'm' for (root).layer_with_weights-1.bias\n",
            "WARNING:tensorflow:Unresolved object in checkpoint: (root).optimizer's state 'm' for (root).layer_with_weights-2.kernel\n",
            "WARNING:tensorflow:Unresolved object in checkpoint: (root).optimizer's state 'm' for (root).layer_with_weights-2.bias\n",
            "WARNING:tensorflow:Unresolved object in checkpoint: (root).optimizer's state 'm' for (root).layer_with_weights-3.kernel\n",
            "WARNING:tensorflow:Unresolved object in checkpoint: (root).optimizer's state 'm' for (root).layer_with_weights-3.bias\n",
            "WARNING:tensorflow:Unresolved object in checkpoint: (root).optimizer's state 'm' for (root).layer_with_weights-4.kernel\n",
            "WARNING:tensorflow:Unresolved object in checkpoint: (root).optimizer's state 'm' for (root).layer_with_weights-4.bias\n",
            "WARNING:tensorflow:Unresolved object in checkpoint: (root).optimizer's state 'm' for (root).layer_with_weights-5.kernel\n",
            "WARNING:tensorflow:Unresolved object in checkpoint: (root).optimizer's state 'm' for (root).layer_with_weights-5.bias\n",
            "WARNING:tensorflow:Unresolved object in checkpoint: (root).optimizer's state 'v' for (root).layer_with_weights-0.kernel\n",
            "WARNING:tensorflow:Unresolved object in checkpoint: (root).optimizer's state 'v' for (root).layer_with_weights-0.bias\n",
            "WARNING:tensorflow:Unresolved object in checkpoint: (root).optimizer's state 'v' for (root).layer_with_weights-1.kernel\n",
            "WARNING:tensorflow:Unresolved object in checkpoint: (root).optimizer's state 'v' for (root).layer_with_weights-1.bias\n",
            "WARNING:tensorflow:Unresolved object in checkpoint: (root).optimizer's state 'v' for (root).layer_with_weights-2.kernel\n",
            "WARNING:tensorflow:Unresolved object in checkpoint: (root).optimizer's state 'v' for (root).layer_with_weights-2.bias\n",
            "WARNING:tensorflow:Unresolved object in checkpoint: (root).optimizer's state 'v' for (root).layer_with_weights-3.kernel\n",
            "WARNING:tensorflow:Unresolved object in checkpoint: (root).optimizer's state 'v' for (root).layer_with_weights-3.bias\n",
            "WARNING:tensorflow:Unresolved object in checkpoint: (root).optimizer's state 'v' for (root).layer_with_weights-4.kernel\n",
            "WARNING:tensorflow:Unresolved object in checkpoint: (root).optimizer's state 'v' for (root).layer_with_weights-4.bias\n",
            "WARNING:tensorflow:Unresolved object in checkpoint: (root).optimizer's state 'v' for (root).layer_with_weights-5.kernel\n",
            "WARNING:tensorflow:Unresolved object in checkpoint: (root).optimizer's state 'v' for (root).layer_with_weights-5.bias\n",
            "WARNING:tensorflow:A checkpoint was restored (e.g. tf.train.Checkpoint.restore or tf.keras.Model.load_weights) but not all checkpointed values were used. See above for specific issues. Use expect_partial() on the load status object, e.g. tf.train.Checkpoint.restore(...).expect_partial(), to silence these warnings, or use assert_consumed() to make the check explicit. See https://www.tensorflow.org/guide/checkpoint#loading_mechanics for details.\n"
          ],
          "name": "stdout"
        }
      ]
    },
    {
      "cell_type": "code",
      "metadata": {
        "colab": {
          "base_uri": "https://localhost:8080/"
        },
        "id": "r6bE-SV8v-nD",
        "outputId": "d8369554-9ec8-4a7d-ea2a-44f4ac6afa6f"
      },
      "source": [
        "tuner.results_summary()"
      ],
      "execution_count": 31,
      "outputs": [
        {
          "output_type": "stream",
          "text": [
            "Results summary\n",
            "Results in my_dir/model_loan1\n",
            "Showing 10 best trials\n",
            "Objective(name='val_accuracy', direction='max')\n",
            "Trial summary\n",
            "Hyperparameters:\n",
            "number_of_layers: 4\n",
            "unit_0: 66\n",
            "unit_1: 2\n",
            "learning_rate: 0.001\n",
            "unit_2: 98\n",
            "unit_3: 2\n",
            "unit_4: 66\n",
            "tuner/epochs: 5\n",
            "tuner/initial_epoch: 0\n",
            "tuner/bracket: 0\n",
            "tuner/round: 0\n",
            "Score: 0.8876053690910339\n",
            "Trial summary\n",
            "Hyperparameters:\n",
            "number_of_layers: 7\n",
            "unit_0: 66\n",
            "unit_1: 66\n",
            "learning_rate: 0.001\n",
            "unit_2: 34\n",
            "unit_3: 34\n",
            "unit_4: 34\n",
            "tuner/epochs: 5\n",
            "tuner/initial_epoch: 0\n",
            "tuner/bracket: 0\n",
            "tuner/round: 0\n",
            "unit_5: 2\n",
            "unit_6: 2\n",
            "Score: 0.887528121471405\n",
            "Trial summary\n",
            "Hyperparameters:\n",
            "number_of_layers: 4\n",
            "unit_0: 66\n",
            "unit_1: 34\n",
            "learning_rate: 0.001\n",
            "unit_2: 2\n",
            "unit_3: 66\n",
            "unit_4: 98\n",
            "tuner/epochs: 2\n",
            "tuner/initial_epoch: 0\n",
            "tuner/bracket: 1\n",
            "tuner/round: 0\n",
            "Score: 0.8875136375427246\n",
            "Trial summary\n",
            "Hyperparameters:\n",
            "number_of_layers: 4\n",
            "unit_0: 66\n",
            "unit_1: 34\n",
            "learning_rate: 0.001\n",
            "unit_2: 2\n",
            "unit_3: 66\n",
            "unit_4: 98\n",
            "tuner/epochs: 5\n",
            "tuner/initial_epoch: 2\n",
            "tuner/bracket: 1\n",
            "tuner/round: 1\n",
            "tuner/trial_id: 435eaebc8f02f9e2859e3125ac590ba3\n",
            "Score: 0.8874267339706421\n",
            "Trial summary\n",
            "Hyperparameters:\n",
            "number_of_layers: 4\n",
            "unit_0: 66\n",
            "unit_1: 66\n",
            "learning_rate: 0.001\n",
            "unit_2: 2\n",
            "unit_3: 98\n",
            "unit_4: 2\n",
            "tuner/epochs: 5\n",
            "tuner/initial_epoch: 0\n",
            "tuner/bracket: 0\n",
            "tuner/round: 0\n",
            "Score: 0.8873445987701416\n",
            "Trial summary\n",
            "Hyperparameters:\n",
            "number_of_layers: 5\n",
            "unit_0: 98\n",
            "unit_1: 66\n",
            "learning_rate: 0.001\n",
            "unit_2: 66\n",
            "unit_3: 98\n",
            "unit_4: 2\n",
            "tuner/epochs: 5\n",
            "tuner/initial_epoch: 2\n",
            "tuner/bracket: 1\n",
            "tuner/round: 1\n",
            "tuner/trial_id: 484c933523dea431660bb97ea81c7abc\n",
            "Score: 0.887209415435791\n",
            "Trial summary\n",
            "Hyperparameters:\n",
            "number_of_layers: 5\n",
            "unit_0: 34\n",
            "unit_1: 98\n",
            "learning_rate: 0.001\n",
            "unit_2: 66\n",
            "unit_3: 34\n",
            "unit_4: 34\n",
            "tuner/epochs: 2\n",
            "tuner/initial_epoch: 0\n",
            "tuner/bracket: 1\n",
            "tuner/round: 0\n",
            "Score: 0.8869679570198059\n",
            "Trial summary\n",
            "Hyperparameters:\n",
            "number_of_layers: 5\n",
            "unit_0: 98\n",
            "unit_1: 66\n",
            "learning_rate: 0.001\n",
            "unit_2: 66\n",
            "unit_3: 98\n",
            "unit_4: 2\n",
            "tuner/epochs: 2\n",
            "tuner/initial_epoch: 0\n",
            "tuner/bracket: 1\n",
            "tuner/round: 0\n",
            "Score: 0.8867940902709961\n",
            "Trial summary\n",
            "Hyperparameters:\n",
            "number_of_layers: 4\n",
            "unit_0: 66\n",
            "unit_1: 34\n",
            "learning_rate: 0.01\n",
            "unit_2: 34\n",
            "unit_3: 66\n",
            "unit_4: 34\n",
            "tuner/epochs: 2\n",
            "tuner/initial_epoch: 0\n",
            "tuner/bracket: 1\n",
            "tuner/round: 0\n",
            "Score: 0.8865574598312378\n",
            "Trial summary\n",
            "Hyperparameters:\n",
            "number_of_layers: 5\n",
            "unit_0: 34\n",
            "unit_1: 66\n",
            "learning_rate: 0.01\n",
            "tuner/epochs: 2\n",
            "tuner/initial_epoch: 0\n",
            "tuner/bracket: 1\n",
            "tuner/round: 0\n",
            "unit_2: 2\n",
            "unit_3: 2\n",
            "unit_4: 2\n",
            "Score: 0.8864898681640625\n"
          ],
          "name": "stdout"
        }
      ]
    },
    {
      "cell_type": "code",
      "metadata": {
        "id": "LqI-TeEU8YcO"
      },
      "source": [
        "#get the best model from the trials\n",
        "\n",
        "model = tuner.get_best_models(1)[0]"
      ],
      "execution_count": 32,
      "outputs": []
    },
    {
      "cell_type": "code",
      "metadata": {
        "colab": {
          "base_uri": "https://localhost:8080/"
        },
        "id": "lpIjx19F-ItA",
        "outputId": "f362ed1d-1fe1-447f-dc98-b2c01a1b44d8"
      },
      "source": [
        "from sklearn.metrics import accuracy_score\n",
        "\n",
        "'''standardize the test data before prediction\n",
        "    and predict the result.'''\n",
        "\n",
        "df_test_scaled = std.transform(X_test)\n",
        "y_prediction = model.predict_classes(df_test_scaled)\n",
        "print(\"\\n\\nThe Test Accuracy of the model is: {} %\".format(accuracy_score(y_test, y_prediction) * 100.))"
      ],
      "execution_count": 33,
      "outputs": [
        {
          "output_type": "stream",
          "text": [
            "/usr/local/lib/python3.7/dist-packages/tensorflow/python/keras/engine/sequential.py:450: UserWarning: `model.predict_classes()` is deprecated and will be removed after 2021-01-01. Please use instead:* `np.argmax(model.predict(x), axis=-1)`,   if your model does multi-class classification   (e.g. if it uses a `softmax` last-layer activation).* `(model.predict(x) > 0.5).astype(\"int32\")`,   if your model does binary classification   (e.g. if it uses a `sigmoid` last-layer activation).\n",
            "  warnings.warn('`model.predict_classes()` is deprecated and '\n"
          ],
          "name": "stderr"
        },
        {
          "output_type": "stream",
          "text": [
            "\n",
            "\n",
            "The Test Accuracy of the model is: 88.78720191430956 %\n"
          ],
          "name": "stdout"
        }
      ]
    },
    {
      "cell_type": "code",
      "metadata": {
        "id": "4uHnQt7aNQTw"
      },
      "source": [
        ""
      ],
      "execution_count": null,
      "outputs": []
    },
    {
      "cell_type": "markdown",
      "metadata": {
        "id": "CreIG1UVCFXB"
      },
      "source": [
        "# Save and Load the Model"
      ]
    },
    {
      "cell_type": "code",
      "metadata": {
        "id": "STKSEu36BRiF"
      },
      "source": [
        "# Save the entire model to a HDF5 file.\n",
        "# The '.h5' extension indicates that the model should be saved to HDF5.\n",
        "\n",
        "model.save('/content/drive/MyDrive/Mukund/ML_DL/technocolabs/major_project/model/model.h5')"
      ],
      "execution_count": 34,
      "outputs": []
    },
    {
      "cell_type": "code",
      "metadata": {
        "id": "gfGdgARrBhq6"
      },
      "source": [
        "# load the exact same model, including its weights and the optimizer\n",
        "new_model = tf.keras.models.load_model('/content/drive/MyDrive/Mukund/ML_DL/technocolabs/major_project/model/model.h5')"
      ],
      "execution_count": 35,
      "outputs": []
    },
    {
      "cell_type": "code",
      "metadata": {
        "colab": {
          "base_uri": "https://localhost:8080/"
        },
        "id": "wIXINuF0BzFH",
        "outputId": "bae2d6b5-22d9-41fd-a4df-6b2588f12194"
      },
      "source": [
        "#predict result and find accuracy\n",
        "y_pred = new_model.predict_classes(df_test_scaled)\n",
        "print(\"\\n\\nThe Test Accuracy of the model is: {} %\".format(accuracy_score(y_test, y_pred) * 100.)) "
      ],
      "execution_count": 36,
      "outputs": [
        {
          "output_type": "stream",
          "text": [
            "/usr/local/lib/python3.7/dist-packages/tensorflow/python/keras/engine/sequential.py:450: UserWarning: `model.predict_classes()` is deprecated and will be removed after 2021-01-01. Please use instead:* `np.argmax(model.predict(x), axis=-1)`,   if your model does multi-class classification   (e.g. if it uses a `softmax` last-layer activation).* `(model.predict(x) > 0.5).astype(\"int32\")`,   if your model does binary classification   (e.g. if it uses a `sigmoid` last-layer activation).\n",
            "  warnings.warn('`model.predict_classes()` is deprecated and '\n"
          ],
          "name": "stderr"
        },
        {
          "output_type": "stream",
          "text": [
            "\n",
            "\n",
            "The Test Accuracy of the model is: 88.78720191430956 %\n"
          ],
          "name": "stdout"
        }
      ]
    },
    {
      "cell_type": "code",
      "metadata": {
        "colab": {
          "base_uri": "https://localhost:8080/"
        },
        "id": "5gIMtsp8B_KY",
        "outputId": "26c02cdb-71e7-4070-dd1c-8c240f83ce59"
      },
      "source": [
        "from sklearn.metrics import confusion_matrix\n",
        "print(confusion_matrix(y_test, y_pred))\n",
        "print()\n",
        "\n",
        "from sklearn.metrics import classification_report\n",
        "target_names = ['Fully Paid', 'Default']\n",
        "print(classification_report(y_test, y_pred, target_names=target_names))"
      ],
      "execution_count": 37,
      "outputs": [
        {
          "output_type": "stream",
          "text": [
            "[[ 80488  23152]\n",
            " [    90 103551]]\n",
            "\n",
            "              precision    recall  f1-score   support\n",
            "\n",
            "  Fully Paid       1.00      0.78      0.87    103640\n",
            "     Default       0.82      1.00      0.90    103641\n",
            "\n",
            "    accuracy                           0.89    207281\n",
            "   macro avg       0.91      0.89      0.89    207281\n",
            "weighted avg       0.91      0.89      0.89    207281\n",
            "\n"
          ],
          "name": "stdout"
        }
      ]
    },
    {
      "cell_type": "code",
      "metadata": {
        "id": "t12hUlWFPPBn"
      },
      "source": [
        ""
      ],
      "execution_count": null,
      "outputs": []
    }
  ]
}