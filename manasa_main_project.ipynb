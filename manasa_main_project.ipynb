{
  "nbformat": 4,
  "nbformat_minor": 0,
  "metadata": {
    "colab": {
      "name": "manasa_main_project.ipynb",
      "provenance": [],
      "collapsed_sections": [],
      "machine_shape": "hm",
      "include_colab_link": true
    },
    "kernelspec": {
      "name": "python3",
      "display_name": "Python 3"
    }
  },
  "cells": [
    {
      "cell_type": "markdown",
      "metadata": {
        "id": "view-in-github",
        "colab_type": "text"
      },
      "source": [
        "<a href=\"https://colab.research.google.com/github/Technocolabs100/Data-Science-20-Feb-Optimizing-Lending-Club-s-Financial-Risk/blob/main/manasa_main_project.ipynb\" target=\"_parent\"><img src=\"https://colab.research.google.com/assets/colab-badge.svg\" alt=\"Open In Colab\"/></a>"
      ]
    },
    {
      "cell_type": "markdown",
      "metadata": {
        "id": "4cbgwZWWfWpp"
      },
      "source": [
        "# New Section"
      ]
    },
    {
      "cell_type": "code",
      "metadata": {
        "id": "tAb77yZ9fzMG",
        "colab": {
          "base_uri": "https://localhost:8080/"
        },
        "outputId": "6ecc5768-526b-4aec-96ac-38e51cc26033"
      },
      "source": [
        "from google.colab import drive\n",
        "drive.mount('/content/drive')"
      ],
      "execution_count": 78,
      "outputs": [
        {
          "output_type": "stream",
          "text": [
            "Drive already mounted at /content/drive; to attempt to forcibly remount, call drive.mount(\"/content/drive\", force_remount=True).\n"
          ],
          "name": "stdout"
        }
      ]
    },
    {
      "cell_type": "code",
      "metadata": {
        "id": "pafL7Li0jyXW"
      },
      "source": [
        "pip install -q keras"
      ],
      "execution_count": 108,
      "outputs": []
    },
    {
      "cell_type": "code",
      "metadata": {
        "id": "EPqPIa2TDBY_"
      },
      "source": [
        "import keras"
      ],
      "execution_count": 109,
      "outputs": []
    },
    {
      "cell_type": "code",
      "metadata": {
        "id": "gGpyDaQ5DDq8"
      },
      "source": [
        "import pandas as pd\n",
        "import numpy as np\n",
        "import seaborn as sn\n",
        "import matplotlib.pyplot as plt\n",
        "\n",
        "#Filter the unwanted warning\n",
        "import warnings\n",
        "warnings.simplefilter(\"ignore\")"
      ],
      "execution_count": 175,
      "outputs": []
    },
    {
      "cell_type": "code",
      "metadata": {
        "id": "BliPYSqcDHbV"
      },
      "source": [
        "data_filepath=\"/content/drive/MyDrive/accepted_2007_to_2018Q4.csv.gz\""
      ],
      "execution_count": 82,
      "outputs": []
    },
    {
      "cell_type": "code",
      "metadata": {
        "id": "dIAv0TndDKUO"
      },
      "source": [
        "df_Accepted=pd.read_csv(data_filepath)"
      ],
      "execution_count": 111,
      "outputs": []
    },
    {
      "cell_type": "code",
      "metadata": {
        "colab": {
          "base_uri": "https://localhost:8080/",
          "height": 355
        },
        "id": "V8cF9c8DDMx7",
        "outputId": "e28da2c0-f1cd-44ef-bf67-d23a5765e0aa"
      },
      "source": [
        "df_Accepted.head()"
      ],
      "execution_count": 112,
      "outputs": [
        {
          "output_type": "execute_result",
          "data": {
            "text/html": [
              "<div>\n",
              "<style scoped>\n",
              "    .dataframe tbody tr th:only-of-type {\n",
              "        vertical-align: middle;\n",
              "    }\n",
              "\n",
              "    .dataframe tbody tr th {\n",
              "        vertical-align: top;\n",
              "    }\n",
              "\n",
              "    .dataframe thead th {\n",
              "        text-align: right;\n",
              "    }\n",
              "</style>\n",
              "<table border=\"1\" class=\"dataframe\">\n",
              "  <thead>\n",
              "    <tr style=\"text-align: right;\">\n",
              "      <th></th>\n",
              "      <th>id</th>\n",
              "      <th>member_id</th>\n",
              "      <th>loan_amnt</th>\n",
              "      <th>funded_amnt</th>\n",
              "      <th>funded_amnt_inv</th>\n",
              "      <th>term</th>\n",
              "      <th>int_rate</th>\n",
              "      <th>installment</th>\n",
              "      <th>grade</th>\n",
              "      <th>sub_grade</th>\n",
              "      <th>emp_title</th>\n",
              "      <th>emp_length</th>\n",
              "      <th>home_ownership</th>\n",
              "      <th>annual_inc</th>\n",
              "      <th>verification_status</th>\n",
              "      <th>issue_d</th>\n",
              "      <th>loan_status</th>\n",
              "      <th>pymnt_plan</th>\n",
              "      <th>url</th>\n",
              "      <th>desc</th>\n",
              "      <th>purpose</th>\n",
              "      <th>title</th>\n",
              "      <th>zip_code</th>\n",
              "      <th>addr_state</th>\n",
              "      <th>dti</th>\n",
              "      <th>delinq_2yrs</th>\n",
              "      <th>earliest_cr_line</th>\n",
              "      <th>fico_range_low</th>\n",
              "      <th>fico_range_high</th>\n",
              "      <th>inq_last_6mths</th>\n",
              "      <th>mths_since_last_delinq</th>\n",
              "      <th>mths_since_last_record</th>\n",
              "      <th>open_acc</th>\n",
              "      <th>pub_rec</th>\n",
              "      <th>revol_bal</th>\n",
              "      <th>revol_util</th>\n",
              "      <th>total_acc</th>\n",
              "      <th>initial_list_status</th>\n",
              "      <th>out_prncp</th>\n",
              "      <th>out_prncp_inv</th>\n",
              "      <th>...</th>\n",
              "      <th>tot_hi_cred_lim</th>\n",
              "      <th>total_bal_ex_mort</th>\n",
              "      <th>total_bc_limit</th>\n",
              "      <th>total_il_high_credit_limit</th>\n",
              "      <th>revol_bal_joint</th>\n",
              "      <th>sec_app_fico_range_low</th>\n",
              "      <th>sec_app_fico_range_high</th>\n",
              "      <th>sec_app_earliest_cr_line</th>\n",
              "      <th>sec_app_inq_last_6mths</th>\n",
              "      <th>sec_app_mort_acc</th>\n",
              "      <th>sec_app_open_acc</th>\n",
              "      <th>sec_app_revol_util</th>\n",
              "      <th>sec_app_open_act_il</th>\n",
              "      <th>sec_app_num_rev_accts</th>\n",
              "      <th>sec_app_chargeoff_within_12_mths</th>\n",
              "      <th>sec_app_collections_12_mths_ex_med</th>\n",
              "      <th>sec_app_mths_since_last_major_derog</th>\n",
              "      <th>hardship_flag</th>\n",
              "      <th>hardship_type</th>\n",
              "      <th>hardship_reason</th>\n",
              "      <th>hardship_status</th>\n",
              "      <th>deferral_term</th>\n",
              "      <th>hardship_amount</th>\n",
              "      <th>hardship_start_date</th>\n",
              "      <th>hardship_end_date</th>\n",
              "      <th>payment_plan_start_date</th>\n",
              "      <th>hardship_length</th>\n",
              "      <th>hardship_dpd</th>\n",
              "      <th>hardship_loan_status</th>\n",
              "      <th>orig_projected_additional_accrued_interest</th>\n",
              "      <th>hardship_payoff_balance_amount</th>\n",
              "      <th>hardship_last_payment_amount</th>\n",
              "      <th>disbursement_method</th>\n",
              "      <th>debt_settlement_flag</th>\n",
              "      <th>debt_settlement_flag_date</th>\n",
              "      <th>settlement_status</th>\n",
              "      <th>settlement_date</th>\n",
              "      <th>settlement_amount</th>\n",
              "      <th>settlement_percentage</th>\n",
              "      <th>settlement_term</th>\n",
              "    </tr>\n",
              "  </thead>\n",
              "  <tbody>\n",
              "    <tr>\n",
              "      <th>0</th>\n",
              "      <td>68407277</td>\n",
              "      <td>NaN</td>\n",
              "      <td>3600.0</td>\n",
              "      <td>3600.0</td>\n",
              "      <td>3600.0</td>\n",
              "      <td>36 months</td>\n",
              "      <td>13.99</td>\n",
              "      <td>123.03</td>\n",
              "      <td>C</td>\n",
              "      <td>C4</td>\n",
              "      <td>leadman</td>\n",
              "      <td>10+ years</td>\n",
              "      <td>MORTGAGE</td>\n",
              "      <td>55000.0</td>\n",
              "      <td>Not Verified</td>\n",
              "      <td>Dec-2015</td>\n",
              "      <td>Fully Paid</td>\n",
              "      <td>n</td>\n",
              "      <td>https://lendingclub.com/browse/loanDetail.acti...</td>\n",
              "      <td>NaN</td>\n",
              "      <td>debt_consolidation</td>\n",
              "      <td>Debt consolidation</td>\n",
              "      <td>190xx</td>\n",
              "      <td>PA</td>\n",
              "      <td>5.91</td>\n",
              "      <td>0.0</td>\n",
              "      <td>Aug-2003</td>\n",
              "      <td>675.0</td>\n",
              "      <td>679.0</td>\n",
              "      <td>1.0</td>\n",
              "      <td>30.0</td>\n",
              "      <td>NaN</td>\n",
              "      <td>7.0</td>\n",
              "      <td>0.0</td>\n",
              "      <td>2765.0</td>\n",
              "      <td>29.7</td>\n",
              "      <td>13.0</td>\n",
              "      <td>w</td>\n",
              "      <td>0.00</td>\n",
              "      <td>0.00</td>\n",
              "      <td>...</td>\n",
              "      <td>178050.0</td>\n",
              "      <td>7746.0</td>\n",
              "      <td>2400.0</td>\n",
              "      <td>13734.0</td>\n",
              "      <td>NaN</td>\n",
              "      <td>NaN</td>\n",
              "      <td>NaN</td>\n",
              "      <td>NaN</td>\n",
              "      <td>NaN</td>\n",
              "      <td>NaN</td>\n",
              "      <td>NaN</td>\n",
              "      <td>NaN</td>\n",
              "      <td>NaN</td>\n",
              "      <td>NaN</td>\n",
              "      <td>NaN</td>\n",
              "      <td>NaN</td>\n",
              "      <td>NaN</td>\n",
              "      <td>N</td>\n",
              "      <td>NaN</td>\n",
              "      <td>NaN</td>\n",
              "      <td>NaN</td>\n",
              "      <td>NaN</td>\n",
              "      <td>NaN</td>\n",
              "      <td>NaN</td>\n",
              "      <td>NaN</td>\n",
              "      <td>NaN</td>\n",
              "      <td>NaN</td>\n",
              "      <td>NaN</td>\n",
              "      <td>NaN</td>\n",
              "      <td>NaN</td>\n",
              "      <td>NaN</td>\n",
              "      <td>NaN</td>\n",
              "      <td>Cash</td>\n",
              "      <td>N</td>\n",
              "      <td>NaN</td>\n",
              "      <td>NaN</td>\n",
              "      <td>NaN</td>\n",
              "      <td>NaN</td>\n",
              "      <td>NaN</td>\n",
              "      <td>NaN</td>\n",
              "    </tr>\n",
              "    <tr>\n",
              "      <th>1</th>\n",
              "      <td>68355089</td>\n",
              "      <td>NaN</td>\n",
              "      <td>24700.0</td>\n",
              "      <td>24700.0</td>\n",
              "      <td>24700.0</td>\n",
              "      <td>36 months</td>\n",
              "      <td>11.99</td>\n",
              "      <td>820.28</td>\n",
              "      <td>C</td>\n",
              "      <td>C1</td>\n",
              "      <td>Engineer</td>\n",
              "      <td>10+ years</td>\n",
              "      <td>MORTGAGE</td>\n",
              "      <td>65000.0</td>\n",
              "      <td>Not Verified</td>\n",
              "      <td>Dec-2015</td>\n",
              "      <td>Fully Paid</td>\n",
              "      <td>n</td>\n",
              "      <td>https://lendingclub.com/browse/loanDetail.acti...</td>\n",
              "      <td>NaN</td>\n",
              "      <td>small_business</td>\n",
              "      <td>Business</td>\n",
              "      <td>577xx</td>\n",
              "      <td>SD</td>\n",
              "      <td>16.06</td>\n",
              "      <td>1.0</td>\n",
              "      <td>Dec-1999</td>\n",
              "      <td>715.0</td>\n",
              "      <td>719.0</td>\n",
              "      <td>4.0</td>\n",
              "      <td>6.0</td>\n",
              "      <td>NaN</td>\n",
              "      <td>22.0</td>\n",
              "      <td>0.0</td>\n",
              "      <td>21470.0</td>\n",
              "      <td>19.2</td>\n",
              "      <td>38.0</td>\n",
              "      <td>w</td>\n",
              "      <td>0.00</td>\n",
              "      <td>0.00</td>\n",
              "      <td>...</td>\n",
              "      <td>314017.0</td>\n",
              "      <td>39475.0</td>\n",
              "      <td>79300.0</td>\n",
              "      <td>24667.0</td>\n",
              "      <td>NaN</td>\n",
              "      <td>NaN</td>\n",
              "      <td>NaN</td>\n",
              "      <td>NaN</td>\n",
              "      <td>NaN</td>\n",
              "      <td>NaN</td>\n",
              "      <td>NaN</td>\n",
              "      <td>NaN</td>\n",
              "      <td>NaN</td>\n",
              "      <td>NaN</td>\n",
              "      <td>NaN</td>\n",
              "      <td>NaN</td>\n",
              "      <td>NaN</td>\n",
              "      <td>N</td>\n",
              "      <td>NaN</td>\n",
              "      <td>NaN</td>\n",
              "      <td>NaN</td>\n",
              "      <td>NaN</td>\n",
              "      <td>NaN</td>\n",
              "      <td>NaN</td>\n",
              "      <td>NaN</td>\n",
              "      <td>NaN</td>\n",
              "      <td>NaN</td>\n",
              "      <td>NaN</td>\n",
              "      <td>NaN</td>\n",
              "      <td>NaN</td>\n",
              "      <td>NaN</td>\n",
              "      <td>NaN</td>\n",
              "      <td>Cash</td>\n",
              "      <td>N</td>\n",
              "      <td>NaN</td>\n",
              "      <td>NaN</td>\n",
              "      <td>NaN</td>\n",
              "      <td>NaN</td>\n",
              "      <td>NaN</td>\n",
              "      <td>NaN</td>\n",
              "    </tr>\n",
              "    <tr>\n",
              "      <th>2</th>\n",
              "      <td>68341763</td>\n",
              "      <td>NaN</td>\n",
              "      <td>20000.0</td>\n",
              "      <td>20000.0</td>\n",
              "      <td>20000.0</td>\n",
              "      <td>60 months</td>\n",
              "      <td>10.78</td>\n",
              "      <td>432.66</td>\n",
              "      <td>B</td>\n",
              "      <td>B4</td>\n",
              "      <td>truck driver</td>\n",
              "      <td>10+ years</td>\n",
              "      <td>MORTGAGE</td>\n",
              "      <td>63000.0</td>\n",
              "      <td>Not Verified</td>\n",
              "      <td>Dec-2015</td>\n",
              "      <td>Fully Paid</td>\n",
              "      <td>n</td>\n",
              "      <td>https://lendingclub.com/browse/loanDetail.acti...</td>\n",
              "      <td>NaN</td>\n",
              "      <td>home_improvement</td>\n",
              "      <td>NaN</td>\n",
              "      <td>605xx</td>\n",
              "      <td>IL</td>\n",
              "      <td>10.78</td>\n",
              "      <td>0.0</td>\n",
              "      <td>Aug-2000</td>\n",
              "      <td>695.0</td>\n",
              "      <td>699.0</td>\n",
              "      <td>0.0</td>\n",
              "      <td>NaN</td>\n",
              "      <td>NaN</td>\n",
              "      <td>6.0</td>\n",
              "      <td>0.0</td>\n",
              "      <td>7869.0</td>\n",
              "      <td>56.2</td>\n",
              "      <td>18.0</td>\n",
              "      <td>w</td>\n",
              "      <td>0.00</td>\n",
              "      <td>0.00</td>\n",
              "      <td>...</td>\n",
              "      <td>218418.0</td>\n",
              "      <td>18696.0</td>\n",
              "      <td>6200.0</td>\n",
              "      <td>14877.0</td>\n",
              "      <td>NaN</td>\n",
              "      <td>NaN</td>\n",
              "      <td>NaN</td>\n",
              "      <td>NaN</td>\n",
              "      <td>NaN</td>\n",
              "      <td>NaN</td>\n",
              "      <td>NaN</td>\n",
              "      <td>NaN</td>\n",
              "      <td>NaN</td>\n",
              "      <td>NaN</td>\n",
              "      <td>NaN</td>\n",
              "      <td>NaN</td>\n",
              "      <td>NaN</td>\n",
              "      <td>N</td>\n",
              "      <td>NaN</td>\n",
              "      <td>NaN</td>\n",
              "      <td>NaN</td>\n",
              "      <td>NaN</td>\n",
              "      <td>NaN</td>\n",
              "      <td>NaN</td>\n",
              "      <td>NaN</td>\n",
              "      <td>NaN</td>\n",
              "      <td>NaN</td>\n",
              "      <td>NaN</td>\n",
              "      <td>NaN</td>\n",
              "      <td>NaN</td>\n",
              "      <td>NaN</td>\n",
              "      <td>NaN</td>\n",
              "      <td>Cash</td>\n",
              "      <td>N</td>\n",
              "      <td>NaN</td>\n",
              "      <td>NaN</td>\n",
              "      <td>NaN</td>\n",
              "      <td>NaN</td>\n",
              "      <td>NaN</td>\n",
              "      <td>NaN</td>\n",
              "    </tr>\n",
              "    <tr>\n",
              "      <th>3</th>\n",
              "      <td>66310712</td>\n",
              "      <td>NaN</td>\n",
              "      <td>35000.0</td>\n",
              "      <td>35000.0</td>\n",
              "      <td>35000.0</td>\n",
              "      <td>60 months</td>\n",
              "      <td>14.85</td>\n",
              "      <td>829.90</td>\n",
              "      <td>C</td>\n",
              "      <td>C5</td>\n",
              "      <td>Information Systems Officer</td>\n",
              "      <td>10+ years</td>\n",
              "      <td>MORTGAGE</td>\n",
              "      <td>110000.0</td>\n",
              "      <td>Source Verified</td>\n",
              "      <td>Dec-2015</td>\n",
              "      <td>Current</td>\n",
              "      <td>n</td>\n",
              "      <td>https://lendingclub.com/browse/loanDetail.acti...</td>\n",
              "      <td>NaN</td>\n",
              "      <td>debt_consolidation</td>\n",
              "      <td>Debt consolidation</td>\n",
              "      <td>076xx</td>\n",
              "      <td>NJ</td>\n",
              "      <td>17.06</td>\n",
              "      <td>0.0</td>\n",
              "      <td>Sep-2008</td>\n",
              "      <td>785.0</td>\n",
              "      <td>789.0</td>\n",
              "      <td>0.0</td>\n",
              "      <td>NaN</td>\n",
              "      <td>NaN</td>\n",
              "      <td>13.0</td>\n",
              "      <td>0.0</td>\n",
              "      <td>7802.0</td>\n",
              "      <td>11.6</td>\n",
              "      <td>17.0</td>\n",
              "      <td>w</td>\n",
              "      <td>15897.65</td>\n",
              "      <td>15897.65</td>\n",
              "      <td>...</td>\n",
              "      <td>381215.0</td>\n",
              "      <td>52226.0</td>\n",
              "      <td>62500.0</td>\n",
              "      <td>18000.0</td>\n",
              "      <td>NaN</td>\n",
              "      <td>NaN</td>\n",
              "      <td>NaN</td>\n",
              "      <td>NaN</td>\n",
              "      <td>NaN</td>\n",
              "      <td>NaN</td>\n",
              "      <td>NaN</td>\n",
              "      <td>NaN</td>\n",
              "      <td>NaN</td>\n",
              "      <td>NaN</td>\n",
              "      <td>NaN</td>\n",
              "      <td>NaN</td>\n",
              "      <td>NaN</td>\n",
              "      <td>N</td>\n",
              "      <td>NaN</td>\n",
              "      <td>NaN</td>\n",
              "      <td>NaN</td>\n",
              "      <td>NaN</td>\n",
              "      <td>NaN</td>\n",
              "      <td>NaN</td>\n",
              "      <td>NaN</td>\n",
              "      <td>NaN</td>\n",
              "      <td>NaN</td>\n",
              "      <td>NaN</td>\n",
              "      <td>NaN</td>\n",
              "      <td>NaN</td>\n",
              "      <td>NaN</td>\n",
              "      <td>NaN</td>\n",
              "      <td>Cash</td>\n",
              "      <td>N</td>\n",
              "      <td>NaN</td>\n",
              "      <td>NaN</td>\n",
              "      <td>NaN</td>\n",
              "      <td>NaN</td>\n",
              "      <td>NaN</td>\n",
              "      <td>NaN</td>\n",
              "    </tr>\n",
              "    <tr>\n",
              "      <th>4</th>\n",
              "      <td>68476807</td>\n",
              "      <td>NaN</td>\n",
              "      <td>10400.0</td>\n",
              "      <td>10400.0</td>\n",
              "      <td>10400.0</td>\n",
              "      <td>60 months</td>\n",
              "      <td>22.45</td>\n",
              "      <td>289.91</td>\n",
              "      <td>F</td>\n",
              "      <td>F1</td>\n",
              "      <td>Contract Specialist</td>\n",
              "      <td>3 years</td>\n",
              "      <td>MORTGAGE</td>\n",
              "      <td>104433.0</td>\n",
              "      <td>Source Verified</td>\n",
              "      <td>Dec-2015</td>\n",
              "      <td>Fully Paid</td>\n",
              "      <td>n</td>\n",
              "      <td>https://lendingclub.com/browse/loanDetail.acti...</td>\n",
              "      <td>NaN</td>\n",
              "      <td>major_purchase</td>\n",
              "      <td>Major purchase</td>\n",
              "      <td>174xx</td>\n",
              "      <td>PA</td>\n",
              "      <td>25.37</td>\n",
              "      <td>1.0</td>\n",
              "      <td>Jun-1998</td>\n",
              "      <td>695.0</td>\n",
              "      <td>699.0</td>\n",
              "      <td>3.0</td>\n",
              "      <td>12.0</td>\n",
              "      <td>NaN</td>\n",
              "      <td>12.0</td>\n",
              "      <td>0.0</td>\n",
              "      <td>21929.0</td>\n",
              "      <td>64.5</td>\n",
              "      <td>35.0</td>\n",
              "      <td>w</td>\n",
              "      <td>0.00</td>\n",
              "      <td>0.00</td>\n",
              "      <td>...</td>\n",
              "      <td>439570.0</td>\n",
              "      <td>95768.0</td>\n",
              "      <td>20300.0</td>\n",
              "      <td>88097.0</td>\n",
              "      <td>NaN</td>\n",
              "      <td>NaN</td>\n",
              "      <td>NaN</td>\n",
              "      <td>NaN</td>\n",
              "      <td>NaN</td>\n",
              "      <td>NaN</td>\n",
              "      <td>NaN</td>\n",
              "      <td>NaN</td>\n",
              "      <td>NaN</td>\n",
              "      <td>NaN</td>\n",
              "      <td>NaN</td>\n",
              "      <td>NaN</td>\n",
              "      <td>NaN</td>\n",
              "      <td>N</td>\n",
              "      <td>NaN</td>\n",
              "      <td>NaN</td>\n",
              "      <td>NaN</td>\n",
              "      <td>NaN</td>\n",
              "      <td>NaN</td>\n",
              "      <td>NaN</td>\n",
              "      <td>NaN</td>\n",
              "      <td>NaN</td>\n",
              "      <td>NaN</td>\n",
              "      <td>NaN</td>\n",
              "      <td>NaN</td>\n",
              "      <td>NaN</td>\n",
              "      <td>NaN</td>\n",
              "      <td>NaN</td>\n",
              "      <td>Cash</td>\n",
              "      <td>N</td>\n",
              "      <td>NaN</td>\n",
              "      <td>NaN</td>\n",
              "      <td>NaN</td>\n",
              "      <td>NaN</td>\n",
              "      <td>NaN</td>\n",
              "      <td>NaN</td>\n",
              "    </tr>\n",
              "  </tbody>\n",
              "</table>\n",
              "<p>5 rows × 151 columns</p>\n",
              "</div>"
            ],
            "text/plain": [
              "         id  member_id  ...  settlement_percentage  settlement_term\n",
              "0  68407277        NaN  ...                    NaN              NaN\n",
              "1  68355089        NaN  ...                    NaN              NaN\n",
              "2  68341763        NaN  ...                    NaN              NaN\n",
              "3  66310712        NaN  ...                    NaN              NaN\n",
              "4  68476807        NaN  ...                    NaN              NaN\n",
              "\n",
              "[5 rows x 151 columns]"
            ]
          },
          "metadata": {
            "tags": []
          },
          "execution_count": 112
        }
      ]
    },
    {
      "cell_type": "code",
      "metadata": {
        "colab": {
          "base_uri": "https://localhost:8080/",
          "height": 491
        },
        "id": "kQsIqvEDDl85",
        "outputId": "08bdb126-474e-484c-f567-4c5ced223a7d"
      },
      "source": [
        "data.tail()"
      ],
      "execution_count": 85,
      "outputs": [
        {
          "output_type": "execute_result",
          "data": {
            "text/html": [
              "<div>\n",
              "<style scoped>\n",
              "    .dataframe tbody tr th:only-of-type {\n",
              "        vertical-align: middle;\n",
              "    }\n",
              "\n",
              "    .dataframe tbody tr th {\n",
              "        vertical-align: top;\n",
              "    }\n",
              "\n",
              "    .dataframe thead th {\n",
              "        text-align: right;\n",
              "    }\n",
              "</style>\n",
              "<table border=\"1\" class=\"dataframe\">\n",
              "  <thead>\n",
              "    <tr style=\"text-align: right;\">\n",
              "      <th></th>\n",
              "      <th>id</th>\n",
              "      <th>member_id</th>\n",
              "      <th>loan_amnt</th>\n",
              "      <th>funded_amnt</th>\n",
              "      <th>funded_amnt_inv</th>\n",
              "      <th>term</th>\n",
              "      <th>int_rate</th>\n",
              "      <th>installment</th>\n",
              "      <th>grade</th>\n",
              "      <th>sub_grade</th>\n",
              "      <th>emp_title</th>\n",
              "      <th>emp_length</th>\n",
              "      <th>home_ownership</th>\n",
              "      <th>annual_inc</th>\n",
              "      <th>verification_status</th>\n",
              "      <th>issue_d</th>\n",
              "      <th>loan_status</th>\n",
              "      <th>pymnt_plan</th>\n",
              "      <th>url</th>\n",
              "      <th>desc</th>\n",
              "      <th>purpose</th>\n",
              "      <th>title</th>\n",
              "      <th>zip_code</th>\n",
              "      <th>addr_state</th>\n",
              "      <th>dti</th>\n",
              "      <th>delinq_2yrs</th>\n",
              "      <th>earliest_cr_line</th>\n",
              "      <th>fico_range_low</th>\n",
              "      <th>fico_range_high</th>\n",
              "      <th>inq_last_6mths</th>\n",
              "      <th>mths_since_last_delinq</th>\n",
              "      <th>mths_since_last_record</th>\n",
              "      <th>open_acc</th>\n",
              "      <th>pub_rec</th>\n",
              "      <th>revol_bal</th>\n",
              "      <th>revol_util</th>\n",
              "      <th>total_acc</th>\n",
              "      <th>initial_list_status</th>\n",
              "      <th>out_prncp</th>\n",
              "      <th>out_prncp_inv</th>\n",
              "      <th>...</th>\n",
              "      <th>tot_hi_cred_lim</th>\n",
              "      <th>total_bal_ex_mort</th>\n",
              "      <th>total_bc_limit</th>\n",
              "      <th>total_il_high_credit_limit</th>\n",
              "      <th>revol_bal_joint</th>\n",
              "      <th>sec_app_fico_range_low</th>\n",
              "      <th>sec_app_fico_range_high</th>\n",
              "      <th>sec_app_earliest_cr_line</th>\n",
              "      <th>sec_app_inq_last_6mths</th>\n",
              "      <th>sec_app_mort_acc</th>\n",
              "      <th>sec_app_open_acc</th>\n",
              "      <th>sec_app_revol_util</th>\n",
              "      <th>sec_app_open_act_il</th>\n",
              "      <th>sec_app_num_rev_accts</th>\n",
              "      <th>sec_app_chargeoff_within_12_mths</th>\n",
              "      <th>sec_app_collections_12_mths_ex_med</th>\n",
              "      <th>sec_app_mths_since_last_major_derog</th>\n",
              "      <th>hardship_flag</th>\n",
              "      <th>hardship_type</th>\n",
              "      <th>hardship_reason</th>\n",
              "      <th>hardship_status</th>\n",
              "      <th>deferral_term</th>\n",
              "      <th>hardship_amount</th>\n",
              "      <th>hardship_start_date</th>\n",
              "      <th>hardship_end_date</th>\n",
              "      <th>payment_plan_start_date</th>\n",
              "      <th>hardship_length</th>\n",
              "      <th>hardship_dpd</th>\n",
              "      <th>hardship_loan_status</th>\n",
              "      <th>orig_projected_additional_accrued_interest</th>\n",
              "      <th>hardship_payoff_balance_amount</th>\n",
              "      <th>hardship_last_payment_amount</th>\n",
              "      <th>disbursement_method</th>\n",
              "      <th>debt_settlement_flag</th>\n",
              "      <th>debt_settlement_flag_date</th>\n",
              "      <th>settlement_status</th>\n",
              "      <th>settlement_date</th>\n",
              "      <th>settlement_amount</th>\n",
              "      <th>settlement_percentage</th>\n",
              "      <th>settlement_term</th>\n",
              "    </tr>\n",
              "  </thead>\n",
              "  <tbody>\n",
              "    <tr>\n",
              "      <th>2260696</th>\n",
              "      <td>88985880</td>\n",
              "      <td>NaN</td>\n",
              "      <td>40000.0</td>\n",
              "      <td>40000.0</td>\n",
              "      <td>40000.0</td>\n",
              "      <td>60 months</td>\n",
              "      <td>10.49</td>\n",
              "      <td>859.56</td>\n",
              "      <td>B</td>\n",
              "      <td>B3</td>\n",
              "      <td>Vice President</td>\n",
              "      <td>9 years</td>\n",
              "      <td>MORTGAGE</td>\n",
              "      <td>227000.0</td>\n",
              "      <td>Verified</td>\n",
              "      <td>Oct-2016</td>\n",
              "      <td>Current</td>\n",
              "      <td>n</td>\n",
              "      <td>https://lendingclub.com/browse/loanDetail.acti...</td>\n",
              "      <td>NaN</td>\n",
              "      <td>debt_consolidation</td>\n",
              "      <td>NaN</td>\n",
              "      <td>907xx</td>\n",
              "      <td>CA</td>\n",
              "      <td>12.75</td>\n",
              "      <td>7.0</td>\n",
              "      <td>Feb-1995</td>\n",
              "      <td>705.0</td>\n",
              "      <td>709.0</td>\n",
              "      <td>1.0</td>\n",
              "      <td>9.0</td>\n",
              "      <td>NaN</td>\n",
              "      <td>5.0</td>\n",
              "      <td>0.0</td>\n",
              "      <td>8633.0</td>\n",
              "      <td>64.9</td>\n",
              "      <td>37.0</td>\n",
              "      <td>f</td>\n",
              "      <td>23252.59</td>\n",
              "      <td>23252.59</td>\n",
              "      <td>...</td>\n",
              "      <td>55970.0</td>\n",
              "      <td>28398.0</td>\n",
              "      <td>12300.0</td>\n",
              "      <td>42670.0</td>\n",
              "      <td>NaN</td>\n",
              "      <td>NaN</td>\n",
              "      <td>NaN</td>\n",
              "      <td>NaN</td>\n",
              "      <td>NaN</td>\n",
              "      <td>NaN</td>\n",
              "      <td>NaN</td>\n",
              "      <td>NaN</td>\n",
              "      <td>NaN</td>\n",
              "      <td>NaN</td>\n",
              "      <td>NaN</td>\n",
              "      <td>NaN</td>\n",
              "      <td>NaN</td>\n",
              "      <td>N</td>\n",
              "      <td>NaN</td>\n",
              "      <td>NaN</td>\n",
              "      <td>NaN</td>\n",
              "      <td>NaN</td>\n",
              "      <td>NaN</td>\n",
              "      <td>NaN</td>\n",
              "      <td>NaN</td>\n",
              "      <td>NaN</td>\n",
              "      <td>NaN</td>\n",
              "      <td>NaN</td>\n",
              "      <td>NaN</td>\n",
              "      <td>NaN</td>\n",
              "      <td>NaN</td>\n",
              "      <td>NaN</td>\n",
              "      <td>Cash</td>\n",
              "      <td>N</td>\n",
              "      <td>NaN</td>\n",
              "      <td>NaN</td>\n",
              "      <td>NaN</td>\n",
              "      <td>NaN</td>\n",
              "      <td>NaN</td>\n",
              "      <td>NaN</td>\n",
              "    </tr>\n",
              "    <tr>\n",
              "      <th>2260697</th>\n",
              "      <td>88224441</td>\n",
              "      <td>NaN</td>\n",
              "      <td>24000.0</td>\n",
              "      <td>24000.0</td>\n",
              "      <td>24000.0</td>\n",
              "      <td>60 months</td>\n",
              "      <td>14.49</td>\n",
              "      <td>564.56</td>\n",
              "      <td>C</td>\n",
              "      <td>C4</td>\n",
              "      <td>Program Manager</td>\n",
              "      <td>6 years</td>\n",
              "      <td>RENT</td>\n",
              "      <td>110000.0</td>\n",
              "      <td>Not Verified</td>\n",
              "      <td>Oct-2016</td>\n",
              "      <td>Charged Off</td>\n",
              "      <td>n</td>\n",
              "      <td>https://lendingclub.com/browse/loanDetail.acti...</td>\n",
              "      <td>NaN</td>\n",
              "      <td>debt_consolidation</td>\n",
              "      <td>Debt consolidation</td>\n",
              "      <td>334xx</td>\n",
              "      <td>FL</td>\n",
              "      <td>18.30</td>\n",
              "      <td>0.0</td>\n",
              "      <td>Jul-1999</td>\n",
              "      <td>660.0</td>\n",
              "      <td>664.0</td>\n",
              "      <td>0.0</td>\n",
              "      <td>67.0</td>\n",
              "      <td>72.0</td>\n",
              "      <td>10.0</td>\n",
              "      <td>1.0</td>\n",
              "      <td>17641.0</td>\n",
              "      <td>68.1</td>\n",
              "      <td>31.0</td>\n",
              "      <td>f</td>\n",
              "      <td>0.00</td>\n",
              "      <td>0.00</td>\n",
              "      <td>...</td>\n",
              "      <td>84664.0</td>\n",
              "      <td>62426.0</td>\n",
              "      <td>20700.0</td>\n",
              "      <td>58764.0</td>\n",
              "      <td>NaN</td>\n",
              "      <td>NaN</td>\n",
              "      <td>NaN</td>\n",
              "      <td>NaN</td>\n",
              "      <td>NaN</td>\n",
              "      <td>NaN</td>\n",
              "      <td>NaN</td>\n",
              "      <td>NaN</td>\n",
              "      <td>NaN</td>\n",
              "      <td>NaN</td>\n",
              "      <td>NaN</td>\n",
              "      <td>NaN</td>\n",
              "      <td>NaN</td>\n",
              "      <td>N</td>\n",
              "      <td>NaN</td>\n",
              "      <td>NaN</td>\n",
              "      <td>NaN</td>\n",
              "      <td>NaN</td>\n",
              "      <td>NaN</td>\n",
              "      <td>NaN</td>\n",
              "      <td>NaN</td>\n",
              "      <td>NaN</td>\n",
              "      <td>NaN</td>\n",
              "      <td>NaN</td>\n",
              "      <td>NaN</td>\n",
              "      <td>NaN</td>\n",
              "      <td>NaN</td>\n",
              "      <td>NaN</td>\n",
              "      <td>Cash</td>\n",
              "      <td>Y</td>\n",
              "      <td>Mar-2019</td>\n",
              "      <td>ACTIVE</td>\n",
              "      <td>Mar-2019</td>\n",
              "      <td>10000.0</td>\n",
              "      <td>44.82</td>\n",
              "      <td>1.0</td>\n",
              "    </tr>\n",
              "    <tr>\n",
              "      <th>2260698</th>\n",
              "      <td>88215728</td>\n",
              "      <td>NaN</td>\n",
              "      <td>14000.0</td>\n",
              "      <td>14000.0</td>\n",
              "      <td>14000.0</td>\n",
              "      <td>60 months</td>\n",
              "      <td>14.49</td>\n",
              "      <td>329.33</td>\n",
              "      <td>C</td>\n",
              "      <td>C4</td>\n",
              "      <td>Customer Service Technician</td>\n",
              "      <td>10+ years</td>\n",
              "      <td>MORTGAGE</td>\n",
              "      <td>95000.0</td>\n",
              "      <td>Verified</td>\n",
              "      <td>Oct-2016</td>\n",
              "      <td>Current</td>\n",
              "      <td>n</td>\n",
              "      <td>https://lendingclub.com/browse/loanDetail.acti...</td>\n",
              "      <td>NaN</td>\n",
              "      <td>debt_consolidation</td>\n",
              "      <td>NaN</td>\n",
              "      <td>770xx</td>\n",
              "      <td>TX</td>\n",
              "      <td>23.36</td>\n",
              "      <td>0.0</td>\n",
              "      <td>Jun-1996</td>\n",
              "      <td>660.0</td>\n",
              "      <td>664.0</td>\n",
              "      <td>1.0</td>\n",
              "      <td>37.0</td>\n",
              "      <td>NaN</td>\n",
              "      <td>8.0</td>\n",
              "      <td>0.0</td>\n",
              "      <td>7662.0</td>\n",
              "      <td>54.0</td>\n",
              "      <td>22.0</td>\n",
              "      <td>w</td>\n",
              "      <td>8456.12</td>\n",
              "      <td>8456.12</td>\n",
              "      <td>...</td>\n",
              "      <td>163804.0</td>\n",
              "      <td>44215.0</td>\n",
              "      <td>9500.0</td>\n",
              "      <td>34169.0</td>\n",
              "      <td>NaN</td>\n",
              "      <td>NaN</td>\n",
              "      <td>NaN</td>\n",
              "      <td>NaN</td>\n",
              "      <td>NaN</td>\n",
              "      <td>NaN</td>\n",
              "      <td>NaN</td>\n",
              "      <td>NaN</td>\n",
              "      <td>NaN</td>\n",
              "      <td>NaN</td>\n",
              "      <td>NaN</td>\n",
              "      <td>NaN</td>\n",
              "      <td>NaN</td>\n",
              "      <td>N</td>\n",
              "      <td>NaN</td>\n",
              "      <td>NaN</td>\n",
              "      <td>NaN</td>\n",
              "      <td>NaN</td>\n",
              "      <td>NaN</td>\n",
              "      <td>NaN</td>\n",
              "      <td>NaN</td>\n",
              "      <td>NaN</td>\n",
              "      <td>NaN</td>\n",
              "      <td>NaN</td>\n",
              "      <td>NaN</td>\n",
              "      <td>NaN</td>\n",
              "      <td>NaN</td>\n",
              "      <td>NaN</td>\n",
              "      <td>Cash</td>\n",
              "      <td>N</td>\n",
              "      <td>NaN</td>\n",
              "      <td>NaN</td>\n",
              "      <td>NaN</td>\n",
              "      <td>NaN</td>\n",
              "      <td>NaN</td>\n",
              "      <td>NaN</td>\n",
              "    </tr>\n",
              "    <tr>\n",
              "      <th>2260699</th>\n",
              "      <td>Total amount funded in policy code 1: 1465324575</td>\n",
              "      <td>NaN</td>\n",
              "      <td>NaN</td>\n",
              "      <td>NaN</td>\n",
              "      <td>NaN</td>\n",
              "      <td>NaN</td>\n",
              "      <td>NaN</td>\n",
              "      <td>NaN</td>\n",
              "      <td>NaN</td>\n",
              "      <td>NaN</td>\n",
              "      <td>NaN</td>\n",
              "      <td>NaN</td>\n",
              "      <td>NaN</td>\n",
              "      <td>NaN</td>\n",
              "      <td>NaN</td>\n",
              "      <td>NaN</td>\n",
              "      <td>NaN</td>\n",
              "      <td>NaN</td>\n",
              "      <td>NaN</td>\n",
              "      <td>NaN</td>\n",
              "      <td>NaN</td>\n",
              "      <td>NaN</td>\n",
              "      <td>NaN</td>\n",
              "      <td>NaN</td>\n",
              "      <td>NaN</td>\n",
              "      <td>NaN</td>\n",
              "      <td>NaN</td>\n",
              "      <td>NaN</td>\n",
              "      <td>NaN</td>\n",
              "      <td>NaN</td>\n",
              "      <td>NaN</td>\n",
              "      <td>NaN</td>\n",
              "      <td>NaN</td>\n",
              "      <td>NaN</td>\n",
              "      <td>NaN</td>\n",
              "      <td>NaN</td>\n",
              "      <td>NaN</td>\n",
              "      <td>NaN</td>\n",
              "      <td>NaN</td>\n",
              "      <td>NaN</td>\n",
              "      <td>...</td>\n",
              "      <td>NaN</td>\n",
              "      <td>NaN</td>\n",
              "      <td>NaN</td>\n",
              "      <td>NaN</td>\n",
              "      <td>NaN</td>\n",
              "      <td>NaN</td>\n",
              "      <td>NaN</td>\n",
              "      <td>NaN</td>\n",
              "      <td>NaN</td>\n",
              "      <td>NaN</td>\n",
              "      <td>NaN</td>\n",
              "      <td>NaN</td>\n",
              "      <td>NaN</td>\n",
              "      <td>NaN</td>\n",
              "      <td>NaN</td>\n",
              "      <td>NaN</td>\n",
              "      <td>NaN</td>\n",
              "      <td>NaN</td>\n",
              "      <td>NaN</td>\n",
              "      <td>NaN</td>\n",
              "      <td>NaN</td>\n",
              "      <td>NaN</td>\n",
              "      <td>NaN</td>\n",
              "      <td>NaN</td>\n",
              "      <td>NaN</td>\n",
              "      <td>NaN</td>\n",
              "      <td>NaN</td>\n",
              "      <td>NaN</td>\n",
              "      <td>NaN</td>\n",
              "      <td>NaN</td>\n",
              "      <td>NaN</td>\n",
              "      <td>NaN</td>\n",
              "      <td>NaN</td>\n",
              "      <td>NaN</td>\n",
              "      <td>NaN</td>\n",
              "      <td>NaN</td>\n",
              "      <td>NaN</td>\n",
              "      <td>NaN</td>\n",
              "      <td>NaN</td>\n",
              "      <td>NaN</td>\n",
              "    </tr>\n",
              "    <tr>\n",
              "      <th>2260700</th>\n",
              "      <td>Total amount funded in policy code 2: 521953170</td>\n",
              "      <td>NaN</td>\n",
              "      <td>NaN</td>\n",
              "      <td>NaN</td>\n",
              "      <td>NaN</td>\n",
              "      <td>NaN</td>\n",
              "      <td>NaN</td>\n",
              "      <td>NaN</td>\n",
              "      <td>NaN</td>\n",
              "      <td>NaN</td>\n",
              "      <td>NaN</td>\n",
              "      <td>NaN</td>\n",
              "      <td>NaN</td>\n",
              "      <td>NaN</td>\n",
              "      <td>NaN</td>\n",
              "      <td>NaN</td>\n",
              "      <td>NaN</td>\n",
              "      <td>NaN</td>\n",
              "      <td>NaN</td>\n",
              "      <td>NaN</td>\n",
              "      <td>NaN</td>\n",
              "      <td>NaN</td>\n",
              "      <td>NaN</td>\n",
              "      <td>NaN</td>\n",
              "      <td>NaN</td>\n",
              "      <td>NaN</td>\n",
              "      <td>NaN</td>\n",
              "      <td>NaN</td>\n",
              "      <td>NaN</td>\n",
              "      <td>NaN</td>\n",
              "      <td>NaN</td>\n",
              "      <td>NaN</td>\n",
              "      <td>NaN</td>\n",
              "      <td>NaN</td>\n",
              "      <td>NaN</td>\n",
              "      <td>NaN</td>\n",
              "      <td>NaN</td>\n",
              "      <td>NaN</td>\n",
              "      <td>NaN</td>\n",
              "      <td>NaN</td>\n",
              "      <td>...</td>\n",
              "      <td>NaN</td>\n",
              "      <td>NaN</td>\n",
              "      <td>NaN</td>\n",
              "      <td>NaN</td>\n",
              "      <td>NaN</td>\n",
              "      <td>NaN</td>\n",
              "      <td>NaN</td>\n",
              "      <td>NaN</td>\n",
              "      <td>NaN</td>\n",
              "      <td>NaN</td>\n",
              "      <td>NaN</td>\n",
              "      <td>NaN</td>\n",
              "      <td>NaN</td>\n",
              "      <td>NaN</td>\n",
              "      <td>NaN</td>\n",
              "      <td>NaN</td>\n",
              "      <td>NaN</td>\n",
              "      <td>NaN</td>\n",
              "      <td>NaN</td>\n",
              "      <td>NaN</td>\n",
              "      <td>NaN</td>\n",
              "      <td>NaN</td>\n",
              "      <td>NaN</td>\n",
              "      <td>NaN</td>\n",
              "      <td>NaN</td>\n",
              "      <td>NaN</td>\n",
              "      <td>NaN</td>\n",
              "      <td>NaN</td>\n",
              "      <td>NaN</td>\n",
              "      <td>NaN</td>\n",
              "      <td>NaN</td>\n",
              "      <td>NaN</td>\n",
              "      <td>NaN</td>\n",
              "      <td>NaN</td>\n",
              "      <td>NaN</td>\n",
              "      <td>NaN</td>\n",
              "      <td>NaN</td>\n",
              "      <td>NaN</td>\n",
              "      <td>NaN</td>\n",
              "      <td>NaN</td>\n",
              "    </tr>\n",
              "  </tbody>\n",
              "</table>\n",
              "<p>5 rows × 151 columns</p>\n",
              "</div>"
            ],
            "text/plain": [
              "                                                       id  ...  settlement_term\n",
              "2260696                                          88985880  ...              NaN\n",
              "2260697                                          88224441  ...              1.0\n",
              "2260698                                          88215728  ...              NaN\n",
              "2260699  Total amount funded in policy code 1: 1465324575  ...              NaN\n",
              "2260700   Total amount funded in policy code 2: 521953170  ...              NaN\n",
              "\n",
              "[5 rows x 151 columns]"
            ]
          },
          "metadata": {
            "tags": []
          },
          "execution_count": 85
        }
      ]
    },
    {
      "cell_type": "code",
      "metadata": {
        "colab": {
          "base_uri": "https://localhost:8080/"
        },
        "id": "4atvzJqbDoka",
        "outputId": "ba6bbe93-a80d-4fc0-c02a-3ffe8f000e6b"
      },
      "source": [
        "df_Accepted.shape"
      ],
      "execution_count": 113,
      "outputs": [
        {
          "output_type": "execute_result",
          "data": {
            "text/plain": [
              "(2260701, 151)"
            ]
          },
          "metadata": {
            "tags": []
          },
          "execution_count": 113
        }
      ]
    },
    {
      "cell_type": "code",
      "metadata": {
        "colab": {
          "base_uri": "https://localhost:8080/"
        },
        "id": "n4VwCYXUDviN",
        "outputId": "cfba99a6-70c1-403b-a160-ebdb0fcda7e3"
      },
      "source": [
        "data.info(verbose=True, null_counts=True)"
      ],
      "execution_count": 87,
      "outputs": [
        {
          "output_type": "stream",
          "text": [
            "<class 'pandas.core.frame.DataFrame'>\n",
            "RangeIndex: 2260701 entries, 0 to 2260700\n",
            "Data columns (total 151 columns):\n",
            " #   Column                                      Non-Null Count    Dtype  \n",
            "---  ------                                      --------------    -----  \n",
            " 0   id                                          2260701 non-null  object \n",
            " 1   member_id                                   0 non-null        float64\n",
            " 2   loan_amnt                                   2260668 non-null  float64\n",
            " 3   funded_amnt                                 2260668 non-null  float64\n",
            " 4   funded_amnt_inv                             2260668 non-null  float64\n",
            " 5   term                                        2260668 non-null  object \n",
            " 6   int_rate                                    2260668 non-null  float64\n",
            " 7   installment                                 2260668 non-null  float64\n",
            " 8   grade                                       2260668 non-null  object \n",
            " 9   sub_grade                                   2260668 non-null  object \n",
            " 10  emp_title                                   2093699 non-null  object \n",
            " 11  emp_length                                  2113761 non-null  object \n",
            " 12  home_ownership                              2260668 non-null  object \n",
            " 13  annual_inc                                  2260664 non-null  float64\n",
            " 14  verification_status                         2260668 non-null  object \n",
            " 15  issue_d                                     2260668 non-null  object \n",
            " 16  loan_status                                 2260668 non-null  object \n",
            " 17  pymnt_plan                                  2260668 non-null  object \n",
            " 18  url                                         2260668 non-null  object \n",
            " 19  desc                                        126067 non-null   object \n",
            " 20  purpose                                     2260668 non-null  object \n",
            " 21  title                                       2237343 non-null  object \n",
            " 22  zip_code                                    2260667 non-null  object \n",
            " 23  addr_state                                  2260668 non-null  object \n",
            " 24  dti                                         2258957 non-null  float64\n",
            " 25  delinq_2yrs                                 2260639 non-null  float64\n",
            " 26  earliest_cr_line                            2260639 non-null  object \n",
            " 27  fico_range_low                              2260668 non-null  float64\n",
            " 28  fico_range_high                             2260668 non-null  float64\n",
            " 29  inq_last_6mths                              2260638 non-null  float64\n",
            " 30  mths_since_last_delinq                      1102166 non-null  float64\n",
            " 31  mths_since_last_record                      359156 non-null   float64\n",
            " 32  open_acc                                    2260639 non-null  float64\n",
            " 33  pub_rec                                     2260639 non-null  float64\n",
            " 34  revol_bal                                   2260668 non-null  float64\n",
            " 35  revol_util                                  2258866 non-null  float64\n",
            " 36  total_acc                                   2260639 non-null  float64\n",
            " 37  initial_list_status                         2260668 non-null  object \n",
            " 38  out_prncp                                   2260668 non-null  float64\n",
            " 39  out_prncp_inv                               2260668 non-null  float64\n",
            " 40  total_pymnt                                 2260668 non-null  float64\n",
            " 41  total_pymnt_inv                             2260668 non-null  float64\n",
            " 42  total_rec_prncp                             2260668 non-null  float64\n",
            " 43  total_rec_int                               2260668 non-null  float64\n",
            " 44  total_rec_late_fee                          2260668 non-null  float64\n",
            " 45  recoveries                                  2260668 non-null  float64\n",
            " 46  collection_recovery_fee                     2260668 non-null  float64\n",
            " 47  last_pymnt_d                                2258241 non-null  object \n",
            " 48  last_pymnt_amnt                             2260668 non-null  float64\n",
            " 49  next_pymnt_d                                915358 non-null   object \n",
            " 50  last_credit_pull_d                          2260596 non-null  object \n",
            " 51  last_fico_range_high                        2260668 non-null  float64\n",
            " 52  last_fico_range_low                         2260668 non-null  float64\n",
            " 53  collections_12_mths_ex_med                  2260523 non-null  float64\n",
            " 54  mths_since_last_major_derog                 580775 non-null   float64\n",
            " 55  policy_code                                 2260668 non-null  float64\n",
            " 56  application_type                            2260668 non-null  object \n",
            " 57  annual_inc_joint                            120710 non-null   float64\n",
            " 58  dti_joint                                   120706 non-null   float64\n",
            " 59  verification_status_joint                   115730 non-null   object \n",
            " 60  acc_now_delinq                              2260639 non-null  float64\n",
            " 61  tot_coll_amt                                2190392 non-null  float64\n",
            " 62  tot_cur_bal                                 2190392 non-null  float64\n",
            " 63  open_acc_6m                                 1394538 non-null  float64\n",
            " 64  open_act_il                                 1394539 non-null  float64\n",
            " 65  open_il_12m                                 1394539 non-null  float64\n",
            " 66  open_il_24m                                 1394539 non-null  float64\n",
            " 67  mths_since_rcnt_il                          1350744 non-null  float64\n",
            " 68  total_bal_il                                1394539 non-null  float64\n",
            " 69  il_util                                     1191818 non-null  float64\n",
            " 70  open_rv_12m                                 1394539 non-null  float64\n",
            " 71  open_rv_24m                                 1394539 non-null  float64\n",
            " 72  max_bal_bc                                  1394539 non-null  float64\n",
            " 73  all_util                                    1394320 non-null  float64\n",
            " 74  total_rev_hi_lim                            2190392 non-null  float64\n",
            " 75  inq_fi                                      1394539 non-null  float64\n",
            " 76  total_cu_tl                                 1394538 non-null  float64\n",
            " 77  inq_last_12m                                1394538 non-null  float64\n",
            " 78  acc_open_past_24mths                        2210638 non-null  float64\n",
            " 79  avg_cur_bal                                 2190322 non-null  float64\n",
            " 80  bc_open_to_buy                              2185733 non-null  float64\n",
            " 81  bc_util                                     2184597 non-null  float64\n",
            " 82  chargeoff_within_12_mths                    2260523 non-null  float64\n",
            " 83  delinq_amnt                                 2260639 non-null  float64\n",
            " 84  mo_sin_old_il_acct                          2121597 non-null  float64\n",
            " 85  mo_sin_old_rev_tl_op                        2190391 non-null  float64\n",
            " 86  mo_sin_rcnt_rev_tl_op                       2190391 non-null  float64\n",
            " 87  mo_sin_rcnt_tl                              2190392 non-null  float64\n",
            " 88  mort_acc                                    2210638 non-null  float64\n",
            " 89  mths_since_recent_bc                        2187256 non-null  float64\n",
            " 90  mths_since_recent_bc_dlq                    519701 non-null   float64\n",
            " 91  mths_since_recent_inq                       1965233 non-null  float64\n",
            " 92  mths_since_recent_revol_delinq              740359 non-null   float64\n",
            " 93  num_accts_ever_120_pd                       2190392 non-null  float64\n",
            " 94  num_actv_bc_tl                              2190392 non-null  float64\n",
            " 95  num_actv_rev_tl                             2190392 non-null  float64\n",
            " 96  num_bc_sats                                 2202078 non-null  float64\n",
            " 97  num_bc_tl                                   2190392 non-null  float64\n",
            " 98  num_il_tl                                   2190392 non-null  float64\n",
            " 99  num_op_rev_tl                               2190392 non-null  float64\n",
            " 100 num_rev_accts                               2190391 non-null  float64\n",
            " 101 num_rev_tl_bal_gt_0                         2190392 non-null  float64\n",
            " 102 num_sats                                    2202078 non-null  float64\n",
            " 103 num_tl_120dpd_2m                            2107011 non-null  float64\n",
            " 104 num_tl_30dpd                                2190392 non-null  float64\n",
            " 105 num_tl_90g_dpd_24m                          2190392 non-null  float64\n",
            " 106 num_tl_op_past_12m                          2190392 non-null  float64\n",
            " 107 pct_tl_nvr_dlq                              2190237 non-null  float64\n",
            " 108 percent_bc_gt_75                            2185289 non-null  float64\n",
            " 109 pub_rec_bankruptcies                        2259303 non-null  float64\n",
            " 110 tax_liens                                   2260563 non-null  float64\n",
            " 111 tot_hi_cred_lim                             2190392 non-null  float64\n",
            " 112 total_bal_ex_mort                           2210638 non-null  float64\n",
            " 113 total_bc_limit                              2210638 non-null  float64\n",
            " 114 total_il_high_credit_limit                  2190392 non-null  float64\n",
            " 115 revol_bal_joint                             108020 non-null   float64\n",
            " 116 sec_app_fico_range_low                      108021 non-null   float64\n",
            " 117 sec_app_fico_range_high                     108021 non-null   float64\n",
            " 118 sec_app_earliest_cr_line                    108021 non-null   object \n",
            " 119 sec_app_inq_last_6mths                      108021 non-null   float64\n",
            " 120 sec_app_mort_acc                            108021 non-null   float64\n",
            " 121 sec_app_open_acc                            108021 non-null   float64\n",
            " 122 sec_app_revol_util                          106184 non-null   float64\n",
            " 123 sec_app_open_act_il                         108021 non-null   float64\n",
            " 124 sec_app_num_rev_accts                       108021 non-null   float64\n",
            " 125 sec_app_chargeoff_within_12_mths            108021 non-null   float64\n",
            " 126 sec_app_collections_12_mths_ex_med          108021 non-null   float64\n",
            " 127 sec_app_mths_since_last_major_derog         35942 non-null    float64\n",
            " 128 hardship_flag                               2260668 non-null  object \n",
            " 129 hardship_type                               10917 non-null    object \n",
            " 130 hardship_reason                             10917 non-null    object \n",
            " 131 hardship_status                             10917 non-null    object \n",
            " 132 deferral_term                               10917 non-null    float64\n",
            " 133 hardship_amount                             10917 non-null    float64\n",
            " 134 hardship_start_date                         10917 non-null    object \n",
            " 135 hardship_end_date                           10917 non-null    object \n",
            " 136 payment_plan_start_date                     10917 non-null    object \n",
            " 137 hardship_length                             10917 non-null    float64\n",
            " 138 hardship_dpd                                10917 non-null    float64\n",
            " 139 hardship_loan_status                        10917 non-null    object \n",
            " 140 orig_projected_additional_accrued_interest  8651 non-null     float64\n",
            " 141 hardship_payoff_balance_amount              10917 non-null    float64\n",
            " 142 hardship_last_payment_amount                10917 non-null    float64\n",
            " 143 disbursement_method                         2260668 non-null  object \n",
            " 144 debt_settlement_flag                        2260668 non-null  object \n",
            " 145 debt_settlement_flag_date                   34246 non-null    object \n",
            " 146 settlement_status                           34246 non-null    object \n",
            " 147 settlement_date                             34246 non-null    object \n",
            " 148 settlement_amount                           34246 non-null    float64\n",
            " 149 settlement_percentage                       34246 non-null    float64\n",
            " 150 settlement_term                             34246 non-null    float64\n",
            "dtypes: float64(113), object(38)\n",
            "memory usage: 2.5+ GB\n"
          ],
          "name": "stdout"
        }
      ]
    },
    {
      "cell_type": "code",
      "metadata": {
        "colab": {
          "base_uri": "https://localhost:8080/",
          "height": 346
        },
        "id": "kN4ook-1Dyaq",
        "outputId": "592fcdd5-44d7-4aa1-e5b4-951089313e99"
      },
      "source": [
        "df_Accepted.describe()"
      ],
      "execution_count": 114,
      "outputs": [
        {
          "output_type": "execute_result",
          "data": {
            "text/html": [
              "<div>\n",
              "<style scoped>\n",
              "    .dataframe tbody tr th:only-of-type {\n",
              "        vertical-align: middle;\n",
              "    }\n",
              "\n",
              "    .dataframe tbody tr th {\n",
              "        vertical-align: top;\n",
              "    }\n",
              "\n",
              "    .dataframe thead th {\n",
              "        text-align: right;\n",
              "    }\n",
              "</style>\n",
              "<table border=\"1\" class=\"dataframe\">\n",
              "  <thead>\n",
              "    <tr style=\"text-align: right;\">\n",
              "      <th></th>\n",
              "      <th>member_id</th>\n",
              "      <th>loan_amnt</th>\n",
              "      <th>funded_amnt</th>\n",
              "      <th>funded_amnt_inv</th>\n",
              "      <th>int_rate</th>\n",
              "      <th>installment</th>\n",
              "      <th>annual_inc</th>\n",
              "      <th>dti</th>\n",
              "      <th>delinq_2yrs</th>\n",
              "      <th>fico_range_low</th>\n",
              "      <th>fico_range_high</th>\n",
              "      <th>inq_last_6mths</th>\n",
              "      <th>mths_since_last_delinq</th>\n",
              "      <th>mths_since_last_record</th>\n",
              "      <th>open_acc</th>\n",
              "      <th>pub_rec</th>\n",
              "      <th>revol_bal</th>\n",
              "      <th>revol_util</th>\n",
              "      <th>total_acc</th>\n",
              "      <th>out_prncp</th>\n",
              "      <th>out_prncp_inv</th>\n",
              "      <th>total_pymnt</th>\n",
              "      <th>total_pymnt_inv</th>\n",
              "      <th>total_rec_prncp</th>\n",
              "      <th>total_rec_int</th>\n",
              "      <th>total_rec_late_fee</th>\n",
              "      <th>recoveries</th>\n",
              "      <th>collection_recovery_fee</th>\n",
              "      <th>last_pymnt_amnt</th>\n",
              "      <th>last_fico_range_high</th>\n",
              "      <th>last_fico_range_low</th>\n",
              "      <th>collections_12_mths_ex_med</th>\n",
              "      <th>mths_since_last_major_derog</th>\n",
              "      <th>policy_code</th>\n",
              "      <th>annual_inc_joint</th>\n",
              "      <th>dti_joint</th>\n",
              "      <th>acc_now_delinq</th>\n",
              "      <th>tot_coll_amt</th>\n",
              "      <th>tot_cur_bal</th>\n",
              "      <th>open_acc_6m</th>\n",
              "      <th>...</th>\n",
              "      <th>num_bc_tl</th>\n",
              "      <th>num_il_tl</th>\n",
              "      <th>num_op_rev_tl</th>\n",
              "      <th>num_rev_accts</th>\n",
              "      <th>num_rev_tl_bal_gt_0</th>\n",
              "      <th>num_sats</th>\n",
              "      <th>num_tl_120dpd_2m</th>\n",
              "      <th>num_tl_30dpd</th>\n",
              "      <th>num_tl_90g_dpd_24m</th>\n",
              "      <th>num_tl_op_past_12m</th>\n",
              "      <th>pct_tl_nvr_dlq</th>\n",
              "      <th>percent_bc_gt_75</th>\n",
              "      <th>pub_rec_bankruptcies</th>\n",
              "      <th>tax_liens</th>\n",
              "      <th>tot_hi_cred_lim</th>\n",
              "      <th>total_bal_ex_mort</th>\n",
              "      <th>total_bc_limit</th>\n",
              "      <th>total_il_high_credit_limit</th>\n",
              "      <th>revol_bal_joint</th>\n",
              "      <th>sec_app_fico_range_low</th>\n",
              "      <th>sec_app_fico_range_high</th>\n",
              "      <th>sec_app_inq_last_6mths</th>\n",
              "      <th>sec_app_mort_acc</th>\n",
              "      <th>sec_app_open_acc</th>\n",
              "      <th>sec_app_revol_util</th>\n",
              "      <th>sec_app_open_act_il</th>\n",
              "      <th>sec_app_num_rev_accts</th>\n",
              "      <th>sec_app_chargeoff_within_12_mths</th>\n",
              "      <th>sec_app_collections_12_mths_ex_med</th>\n",
              "      <th>sec_app_mths_since_last_major_derog</th>\n",
              "      <th>deferral_term</th>\n",
              "      <th>hardship_amount</th>\n",
              "      <th>hardship_length</th>\n",
              "      <th>hardship_dpd</th>\n",
              "      <th>orig_projected_additional_accrued_interest</th>\n",
              "      <th>hardship_payoff_balance_amount</th>\n",
              "      <th>hardship_last_payment_amount</th>\n",
              "      <th>settlement_amount</th>\n",
              "      <th>settlement_percentage</th>\n",
              "      <th>settlement_term</th>\n",
              "    </tr>\n",
              "  </thead>\n",
              "  <tbody>\n",
              "    <tr>\n",
              "      <th>count</th>\n",
              "      <td>0.0</td>\n",
              "      <td>2.260668e+06</td>\n",
              "      <td>2.260668e+06</td>\n",
              "      <td>2.260668e+06</td>\n",
              "      <td>2.260668e+06</td>\n",
              "      <td>2.260668e+06</td>\n",
              "      <td>2.260664e+06</td>\n",
              "      <td>2.258957e+06</td>\n",
              "      <td>2.260639e+06</td>\n",
              "      <td>2.260668e+06</td>\n",
              "      <td>2.260668e+06</td>\n",
              "      <td>2.260638e+06</td>\n",
              "      <td>1.102166e+06</td>\n",
              "      <td>359156.000000</td>\n",
              "      <td>2.260639e+06</td>\n",
              "      <td>2.260639e+06</td>\n",
              "      <td>2.260668e+06</td>\n",
              "      <td>2.258866e+06</td>\n",
              "      <td>2.260639e+06</td>\n",
              "      <td>2.260668e+06</td>\n",
              "      <td>2.260668e+06</td>\n",
              "      <td>2.260668e+06</td>\n",
              "      <td>2.260668e+06</td>\n",
              "      <td>2.260668e+06</td>\n",
              "      <td>2.260668e+06</td>\n",
              "      <td>2.260668e+06</td>\n",
              "      <td>2.260668e+06</td>\n",
              "      <td>2.260668e+06</td>\n",
              "      <td>2.260668e+06</td>\n",
              "      <td>2.260668e+06</td>\n",
              "      <td>2.260668e+06</td>\n",
              "      <td>2.260523e+06</td>\n",
              "      <td>580775.000000</td>\n",
              "      <td>2260668.0</td>\n",
              "      <td>1.207100e+05</td>\n",
              "      <td>120706.000000</td>\n",
              "      <td>2.260639e+06</td>\n",
              "      <td>2.190392e+06</td>\n",
              "      <td>2.190392e+06</td>\n",
              "      <td>1.394538e+06</td>\n",
              "      <td>...</td>\n",
              "      <td>2.190392e+06</td>\n",
              "      <td>2.190392e+06</td>\n",
              "      <td>2.190392e+06</td>\n",
              "      <td>2.190391e+06</td>\n",
              "      <td>2.190392e+06</td>\n",
              "      <td>2.202078e+06</td>\n",
              "      <td>2.107011e+06</td>\n",
              "      <td>2.190392e+06</td>\n",
              "      <td>2.190392e+06</td>\n",
              "      <td>2.190392e+06</td>\n",
              "      <td>2.190237e+06</td>\n",
              "      <td>2.185289e+06</td>\n",
              "      <td>2.259303e+06</td>\n",
              "      <td>2.260563e+06</td>\n",
              "      <td>2.190392e+06</td>\n",
              "      <td>2.210638e+06</td>\n",
              "      <td>2.210638e+06</td>\n",
              "      <td>2.190392e+06</td>\n",
              "      <td>1.080200e+05</td>\n",
              "      <td>108021.000000</td>\n",
              "      <td>108021.000000</td>\n",
              "      <td>108021.000000</td>\n",
              "      <td>108021.000000</td>\n",
              "      <td>108021.000000</td>\n",
              "      <td>106184.000000</td>\n",
              "      <td>108021.000000</td>\n",
              "      <td>108021.000000</td>\n",
              "      <td>108021.000000</td>\n",
              "      <td>108021.000000</td>\n",
              "      <td>35942.000000</td>\n",
              "      <td>10917.0</td>\n",
              "      <td>10917.000000</td>\n",
              "      <td>10917.0</td>\n",
              "      <td>10917.000000</td>\n",
              "      <td>8651.000000</td>\n",
              "      <td>10917.000000</td>\n",
              "      <td>10917.000000</td>\n",
              "      <td>34246.000000</td>\n",
              "      <td>34246.000000</td>\n",
              "      <td>34246.000000</td>\n",
              "    </tr>\n",
              "    <tr>\n",
              "      <th>mean</th>\n",
              "      <td>NaN</td>\n",
              "      <td>1.504693e+04</td>\n",
              "      <td>1.504166e+04</td>\n",
              "      <td>1.502344e+04</td>\n",
              "      <td>1.309283e+01</td>\n",
              "      <td>4.458068e+02</td>\n",
              "      <td>7.799243e+04</td>\n",
              "      <td>1.882420e+01</td>\n",
              "      <td>3.068792e-01</td>\n",
              "      <td>6.985882e+02</td>\n",
              "      <td>7.025884e+02</td>\n",
              "      <td>5.768354e-01</td>\n",
              "      <td>3.454092e+01</td>\n",
              "      <td>72.312842</td>\n",
              "      <td>1.161240e+01</td>\n",
              "      <td>1.975278e-01</td>\n",
              "      <td>1.665846e+04</td>\n",
              "      <td>5.033770e+01</td>\n",
              "      <td>2.416255e+01</td>\n",
              "      <td>4.206891e+03</td>\n",
              "      <td>4.205965e+03</td>\n",
              "      <td>1.208256e+04</td>\n",
              "      <td>1.206439e+04</td>\n",
              "      <td>9.505772e+03</td>\n",
              "      <td>2.431388e+03</td>\n",
              "      <td>1.518453e+00</td>\n",
              "      <td>1.438791e+02</td>\n",
              "      <td>2.398257e+01</td>\n",
              "      <td>3.429346e+03</td>\n",
              "      <td>6.876610e+02</td>\n",
              "      <td>6.755397e+02</td>\n",
              "      <td>1.814580e-02</td>\n",
              "      <td>44.164220</td>\n",
              "      <td>1.0</td>\n",
              "      <td>1.236246e+05</td>\n",
              "      <td>19.251817</td>\n",
              "      <td>4.147942e-03</td>\n",
              "      <td>2.327317e+02</td>\n",
              "      <td>1.424922e+05</td>\n",
              "      <td>9.344199e-01</td>\n",
              "      <td>...</td>\n",
              "      <td>7.726402e+00</td>\n",
              "      <td>8.413439e+00</td>\n",
              "      <td>8.246523e+00</td>\n",
              "      <td>1.400463e+01</td>\n",
              "      <td>5.577951e+00</td>\n",
              "      <td>1.162813e+01</td>\n",
              "      <td>6.373958e-04</td>\n",
              "      <td>2.813652e-03</td>\n",
              "      <td>8.293767e-02</td>\n",
              "      <td>2.076755e+00</td>\n",
              "      <td>9.411458e+01</td>\n",
              "      <td>4.243513e+01</td>\n",
              "      <td>1.281935e-01</td>\n",
              "      <td>4.677109e-02</td>\n",
              "      <td>1.782428e+05</td>\n",
              "      <td>5.102294e+04</td>\n",
              "      <td>2.319377e+04</td>\n",
              "      <td>4.373201e+04</td>\n",
              "      <td>3.361728e+04</td>\n",
              "      <td>669.755603</td>\n",
              "      <td>673.755631</td>\n",
              "      <td>0.633256</td>\n",
              "      <td>1.538997</td>\n",
              "      <td>11.469455</td>\n",
              "      <td>58.169101</td>\n",
              "      <td>3.010554</td>\n",
              "      <td>12.533072</td>\n",
              "      <td>0.046352</td>\n",
              "      <td>0.077568</td>\n",
              "      <td>36.937928</td>\n",
              "      <td>3.0</td>\n",
              "      <td>155.045981</td>\n",
              "      <td>3.0</td>\n",
              "      <td>13.743886</td>\n",
              "      <td>454.798089</td>\n",
              "      <td>11636.883942</td>\n",
              "      <td>193.994321</td>\n",
              "      <td>5010.664267</td>\n",
              "      <td>47.780365</td>\n",
              "      <td>13.191322</td>\n",
              "    </tr>\n",
              "    <tr>\n",
              "      <th>std</th>\n",
              "      <td>NaN</td>\n",
              "      <td>9.190245e+03</td>\n",
              "      <td>9.188413e+03</td>\n",
              "      <td>9.192332e+03</td>\n",
              "      <td>4.832138e+00</td>\n",
              "      <td>2.671735e+02</td>\n",
              "      <td>1.126962e+05</td>\n",
              "      <td>1.418333e+01</td>\n",
              "      <td>8.672303e-01</td>\n",
              "      <td>3.301038e+01</td>\n",
              "      <td>3.301124e+01</td>\n",
              "      <td>8.859632e-01</td>\n",
              "      <td>2.190047e+01</td>\n",
              "      <td>26.464094</td>\n",
              "      <td>5.640861e+00</td>\n",
              "      <td>5.705150e-01</td>\n",
              "      <td>2.294831e+04</td>\n",
              "      <td>2.471307e+01</td>\n",
              "      <td>1.198753e+01</td>\n",
              "      <td>7.343239e+03</td>\n",
              "      <td>7.342333e+03</td>\n",
              "      <td>9.901383e+03</td>\n",
              "      <td>9.896992e+03</td>\n",
              "      <td>8.321852e+03</td>\n",
              "      <td>2.679738e+03</td>\n",
              "      <td>1.184159e+01</td>\n",
              "      <td>7.481640e+02</td>\n",
              "      <td>1.312256e+02</td>\n",
              "      <td>6.018248e+03</td>\n",
              "      <td>7.297044e+01</td>\n",
              "      <td>1.110976e+02</td>\n",
              "      <td>1.508131e-01</td>\n",
              "      <td>21.533121</td>\n",
              "      <td>0.0</td>\n",
              "      <td>7.416135e+04</td>\n",
              "      <td>7.822086</td>\n",
              "      <td>6.961656e-02</td>\n",
              "      <td>8.518462e+03</td>\n",
              "      <td>1.606926e+05</td>\n",
              "      <td>1.140700e+00</td>\n",
              "      <td>...</td>\n",
              "      <td>4.701430e+00</td>\n",
              "      <td>7.359114e+00</td>\n",
              "      <td>4.683928e+00</td>\n",
              "      <td>8.038868e+00</td>\n",
              "      <td>3.293434e+00</td>\n",
              "      <td>5.644027e+00</td>\n",
              "      <td>2.710643e-02</td>\n",
              "      <td>5.616522e-02</td>\n",
              "      <td>4.935732e-01</td>\n",
              "      <td>1.830711e+00</td>\n",
              "      <td>9.036140e+00</td>\n",
              "      <td>3.621616e+01</td>\n",
              "      <td>3.646130e-01</td>\n",
              "      <td>3.775338e-01</td>\n",
              "      <td>1.815748e+05</td>\n",
              "      <td>4.991124e+04</td>\n",
              "      <td>2.300656e+04</td>\n",
              "      <td>4.507298e+04</td>\n",
              "      <td>2.815387e+04</td>\n",
              "      <td>44.729163</td>\n",
              "      <td>44.729272</td>\n",
              "      <td>0.993401</td>\n",
              "      <td>1.760569</td>\n",
              "      <td>6.627271</td>\n",
              "      <td>25.548212</td>\n",
              "      <td>3.275893</td>\n",
              "      <td>8.150964</td>\n",
              "      <td>0.411496</td>\n",
              "      <td>0.407996</td>\n",
              "      <td>23.924584</td>\n",
              "      <td>0.0</td>\n",
              "      <td>129.040594</td>\n",
              "      <td>0.0</td>\n",
              "      <td>9.671178</td>\n",
              "      <td>375.385500</td>\n",
              "      <td>7625.988281</td>\n",
              "      <td>198.629496</td>\n",
              "      <td>3693.122590</td>\n",
              "      <td>7.311822</td>\n",
              "      <td>8.159980</td>\n",
              "    </tr>\n",
              "    <tr>\n",
              "      <th>min</th>\n",
              "      <td>NaN</td>\n",
              "      <td>5.000000e+02</td>\n",
              "      <td>5.000000e+02</td>\n",
              "      <td>0.000000e+00</td>\n",
              "      <td>5.310000e+00</td>\n",
              "      <td>4.930000e+00</td>\n",
              "      <td>0.000000e+00</td>\n",
              "      <td>-1.000000e+00</td>\n",
              "      <td>0.000000e+00</td>\n",
              "      <td>6.100000e+02</td>\n",
              "      <td>6.140000e+02</td>\n",
              "      <td>0.000000e+00</td>\n",
              "      <td>0.000000e+00</td>\n",
              "      <td>0.000000</td>\n",
              "      <td>0.000000e+00</td>\n",
              "      <td>0.000000e+00</td>\n",
              "      <td>0.000000e+00</td>\n",
              "      <td>0.000000e+00</td>\n",
              "      <td>1.000000e+00</td>\n",
              "      <td>0.000000e+00</td>\n",
              "      <td>0.000000e+00</td>\n",
              "      <td>0.000000e+00</td>\n",
              "      <td>0.000000e+00</td>\n",
              "      <td>0.000000e+00</td>\n",
              "      <td>0.000000e+00</td>\n",
              "      <td>-9.500000e-09</td>\n",
              "      <td>0.000000e+00</td>\n",
              "      <td>0.000000e+00</td>\n",
              "      <td>0.000000e+00</td>\n",
              "      <td>0.000000e+00</td>\n",
              "      <td>0.000000e+00</td>\n",
              "      <td>0.000000e+00</td>\n",
              "      <td>0.000000</td>\n",
              "      <td>1.0</td>\n",
              "      <td>5.693510e+03</td>\n",
              "      <td>0.000000</td>\n",
              "      <td>0.000000e+00</td>\n",
              "      <td>0.000000e+00</td>\n",
              "      <td>0.000000e+00</td>\n",
              "      <td>0.000000e+00</td>\n",
              "      <td>...</td>\n",
              "      <td>0.000000e+00</td>\n",
              "      <td>0.000000e+00</td>\n",
              "      <td>0.000000e+00</td>\n",
              "      <td>0.000000e+00</td>\n",
              "      <td>0.000000e+00</td>\n",
              "      <td>0.000000e+00</td>\n",
              "      <td>0.000000e+00</td>\n",
              "      <td>0.000000e+00</td>\n",
              "      <td>0.000000e+00</td>\n",
              "      <td>0.000000e+00</td>\n",
              "      <td>0.000000e+00</td>\n",
              "      <td>0.000000e+00</td>\n",
              "      <td>0.000000e+00</td>\n",
              "      <td>0.000000e+00</td>\n",
              "      <td>0.000000e+00</td>\n",
              "      <td>0.000000e+00</td>\n",
              "      <td>0.000000e+00</td>\n",
              "      <td>0.000000e+00</td>\n",
              "      <td>0.000000e+00</td>\n",
              "      <td>540.000000</td>\n",
              "      <td>544.000000</td>\n",
              "      <td>0.000000</td>\n",
              "      <td>0.000000</td>\n",
              "      <td>0.000000</td>\n",
              "      <td>0.000000</td>\n",
              "      <td>0.000000</td>\n",
              "      <td>0.000000</td>\n",
              "      <td>0.000000</td>\n",
              "      <td>0.000000</td>\n",
              "      <td>0.000000</td>\n",
              "      <td>3.0</td>\n",
              "      <td>0.640000</td>\n",
              "      <td>3.0</td>\n",
              "      <td>0.000000</td>\n",
              "      <td>1.920000</td>\n",
              "      <td>55.730000</td>\n",
              "      <td>0.010000</td>\n",
              "      <td>44.210000</td>\n",
              "      <td>0.200000</td>\n",
              "      <td>0.000000</td>\n",
              "    </tr>\n",
              "    <tr>\n",
              "      <th>25%</th>\n",
              "      <td>NaN</td>\n",
              "      <td>8.000000e+03</td>\n",
              "      <td>8.000000e+03</td>\n",
              "      <td>8.000000e+03</td>\n",
              "      <td>9.490000e+00</td>\n",
              "      <td>2.516500e+02</td>\n",
              "      <td>4.600000e+04</td>\n",
              "      <td>1.189000e+01</td>\n",
              "      <td>0.000000e+00</td>\n",
              "      <td>6.750000e+02</td>\n",
              "      <td>6.790000e+02</td>\n",
              "      <td>0.000000e+00</td>\n",
              "      <td>1.600000e+01</td>\n",
              "      <td>55.000000</td>\n",
              "      <td>8.000000e+00</td>\n",
              "      <td>0.000000e+00</td>\n",
              "      <td>5.950000e+03</td>\n",
              "      <td>3.150000e+01</td>\n",
              "      <td>1.500000e+01</td>\n",
              "      <td>0.000000e+00</td>\n",
              "      <td>0.000000e+00</td>\n",
              "      <td>4.546458e+03</td>\n",
              "      <td>4.531800e+03</td>\n",
              "      <td>3.000000e+03</td>\n",
              "      <td>7.281875e+02</td>\n",
              "      <td>0.000000e+00</td>\n",
              "      <td>0.000000e+00</td>\n",
              "      <td>0.000000e+00</td>\n",
              "      <td>3.103300e+02</td>\n",
              "      <td>6.540000e+02</td>\n",
              "      <td>6.500000e+02</td>\n",
              "      <td>0.000000e+00</td>\n",
              "      <td>27.000000</td>\n",
              "      <td>1.0</td>\n",
              "      <td>8.340000e+04</td>\n",
              "      <td>13.530000</td>\n",
              "      <td>0.000000e+00</td>\n",
              "      <td>0.000000e+00</td>\n",
              "      <td>2.909200e+04</td>\n",
              "      <td>0.000000e+00</td>\n",
              "      <td>...</td>\n",
              "      <td>4.000000e+00</td>\n",
              "      <td>3.000000e+00</td>\n",
              "      <td>5.000000e+00</td>\n",
              "      <td>8.000000e+00</td>\n",
              "      <td>3.000000e+00</td>\n",
              "      <td>8.000000e+00</td>\n",
              "      <td>0.000000e+00</td>\n",
              "      <td>0.000000e+00</td>\n",
              "      <td>0.000000e+00</td>\n",
              "      <td>1.000000e+00</td>\n",
              "      <td>9.130000e+01</td>\n",
              "      <td>0.000000e+00</td>\n",
              "      <td>0.000000e+00</td>\n",
              "      <td>0.000000e+00</td>\n",
              "      <td>5.073100e+04</td>\n",
              "      <td>2.089200e+04</td>\n",
              "      <td>8.300000e+03</td>\n",
              "      <td>1.500000e+04</td>\n",
              "      <td>1.510675e+04</td>\n",
              "      <td>645.000000</td>\n",
              "      <td>649.000000</td>\n",
              "      <td>0.000000</td>\n",
              "      <td>0.000000</td>\n",
              "      <td>7.000000</td>\n",
              "      <td>39.800000</td>\n",
              "      <td>1.000000</td>\n",
              "      <td>7.000000</td>\n",
              "      <td>0.000000</td>\n",
              "      <td>0.000000</td>\n",
              "      <td>16.000000</td>\n",
              "      <td>3.0</td>\n",
              "      <td>59.440000</td>\n",
              "      <td>3.0</td>\n",
              "      <td>5.000000</td>\n",
              "      <td>175.230000</td>\n",
              "      <td>5627.000000</td>\n",
              "      <td>44.440000</td>\n",
              "      <td>2208.000000</td>\n",
              "      <td>45.000000</td>\n",
              "      <td>6.000000</td>\n",
              "    </tr>\n",
              "    <tr>\n",
              "      <th>50%</th>\n",
              "      <td>NaN</td>\n",
              "      <td>1.290000e+04</td>\n",
              "      <td>1.287500e+04</td>\n",
              "      <td>1.280000e+04</td>\n",
              "      <td>1.262000e+01</td>\n",
              "      <td>3.779900e+02</td>\n",
              "      <td>6.500000e+04</td>\n",
              "      <td>1.784000e+01</td>\n",
              "      <td>0.000000e+00</td>\n",
              "      <td>6.900000e+02</td>\n",
              "      <td>6.940000e+02</td>\n",
              "      <td>0.000000e+00</td>\n",
              "      <td>3.100000e+01</td>\n",
              "      <td>74.000000</td>\n",
              "      <td>1.100000e+01</td>\n",
              "      <td>0.000000e+00</td>\n",
              "      <td>1.132400e+04</td>\n",
              "      <td>5.030000e+01</td>\n",
              "      <td>2.200000e+01</td>\n",
              "      <td>0.000000e+00</td>\n",
              "      <td>0.000000e+00</td>\n",
              "      <td>9.329720e+03</td>\n",
              "      <td>9.309675e+03</td>\n",
              "      <td>7.000000e+03</td>\n",
              "      <td>1.525940e+03</td>\n",
              "      <td>0.000000e+00</td>\n",
              "      <td>0.000000e+00</td>\n",
              "      <td>0.000000e+00</td>\n",
              "      <td>6.005700e+02</td>\n",
              "      <td>6.990000e+02</td>\n",
              "      <td>6.950000e+02</td>\n",
              "      <td>0.000000e+00</td>\n",
              "      <td>44.000000</td>\n",
              "      <td>1.0</td>\n",
              "      <td>1.100000e+05</td>\n",
              "      <td>18.840000</td>\n",
              "      <td>0.000000e+00</td>\n",
              "      <td>0.000000e+00</td>\n",
              "      <td>7.924000e+04</td>\n",
              "      <td>1.000000e+00</td>\n",
              "      <td>...</td>\n",
              "      <td>7.000000e+00</td>\n",
              "      <td>6.000000e+00</td>\n",
              "      <td>7.000000e+00</td>\n",
              "      <td>1.200000e+01</td>\n",
              "      <td>5.000000e+00</td>\n",
              "      <td>1.100000e+01</td>\n",
              "      <td>0.000000e+00</td>\n",
              "      <td>0.000000e+00</td>\n",
              "      <td>0.000000e+00</td>\n",
              "      <td>2.000000e+00</td>\n",
              "      <td>1.000000e+02</td>\n",
              "      <td>3.750000e+01</td>\n",
              "      <td>0.000000e+00</td>\n",
              "      <td>0.000000e+00</td>\n",
              "      <td>1.142985e+05</td>\n",
              "      <td>3.786400e+04</td>\n",
              "      <td>1.630000e+04</td>\n",
              "      <td>3.269600e+04</td>\n",
              "      <td>2.651650e+04</td>\n",
              "      <td>670.000000</td>\n",
              "      <td>674.000000</td>\n",
              "      <td>0.000000</td>\n",
              "      <td>1.000000</td>\n",
              "      <td>10.000000</td>\n",
              "      <td>60.200000</td>\n",
              "      <td>2.000000</td>\n",
              "      <td>11.000000</td>\n",
              "      <td>0.000000</td>\n",
              "      <td>0.000000</td>\n",
              "      <td>36.000000</td>\n",
              "      <td>3.0</td>\n",
              "      <td>119.140000</td>\n",
              "      <td>3.0</td>\n",
              "      <td>15.000000</td>\n",
              "      <td>352.770000</td>\n",
              "      <td>10028.390000</td>\n",
              "      <td>133.160000</td>\n",
              "      <td>4146.110000</td>\n",
              "      <td>45.000000</td>\n",
              "      <td>14.000000</td>\n",
              "    </tr>\n",
              "    <tr>\n",
              "      <th>75%</th>\n",
              "      <td>NaN</td>\n",
              "      <td>2.000000e+04</td>\n",
              "      <td>2.000000e+04</td>\n",
              "      <td>2.000000e+04</td>\n",
              "      <td>1.599000e+01</td>\n",
              "      <td>5.933200e+02</td>\n",
              "      <td>9.300000e+04</td>\n",
              "      <td>2.449000e+01</td>\n",
              "      <td>0.000000e+00</td>\n",
              "      <td>7.150000e+02</td>\n",
              "      <td>7.190000e+02</td>\n",
              "      <td>1.000000e+00</td>\n",
              "      <td>5.000000e+01</td>\n",
              "      <td>92.000000</td>\n",
              "      <td>1.400000e+01</td>\n",
              "      <td>0.000000e+00</td>\n",
              "      <td>2.024600e+04</td>\n",
              "      <td>6.940000e+01</td>\n",
              "      <td>3.100000e+01</td>\n",
              "      <td>6.149940e+03</td>\n",
              "      <td>6.146310e+03</td>\n",
              "      <td>1.694087e+04</td>\n",
              "      <td>1.691671e+04</td>\n",
              "      <td>1.389910e+04</td>\n",
              "      <td>3.108062e+03</td>\n",
              "      <td>0.000000e+00</td>\n",
              "      <td>0.000000e+00</td>\n",
              "      <td>0.000000e+00</td>\n",
              "      <td>3.743750e+03</td>\n",
              "      <td>7.340000e+02</td>\n",
              "      <td>7.300000e+02</td>\n",
              "      <td>0.000000e+00</td>\n",
              "      <td>62.000000</td>\n",
              "      <td>1.0</td>\n",
              "      <td>1.479950e+05</td>\n",
              "      <td>24.620000</td>\n",
              "      <td>0.000000e+00</td>\n",
              "      <td>0.000000e+00</td>\n",
              "      <td>2.132040e+05</td>\n",
              "      <td>1.000000e+00</td>\n",
              "      <td>...</td>\n",
              "      <td>1.000000e+01</td>\n",
              "      <td>1.100000e+01</td>\n",
              "      <td>1.000000e+01</td>\n",
              "      <td>1.800000e+01</td>\n",
              "      <td>7.000000e+00</td>\n",
              "      <td>1.400000e+01</td>\n",
              "      <td>0.000000e+00</td>\n",
              "      <td>0.000000e+00</td>\n",
              "      <td>0.000000e+00</td>\n",
              "      <td>3.000000e+00</td>\n",
              "      <td>1.000000e+02</td>\n",
              "      <td>7.140000e+01</td>\n",
              "      <td>0.000000e+00</td>\n",
              "      <td>0.000000e+00</td>\n",
              "      <td>2.577550e+05</td>\n",
              "      <td>6.435000e+04</td>\n",
              "      <td>3.030000e+04</td>\n",
              "      <td>5.880425e+04</td>\n",
              "      <td>4.376900e+04</td>\n",
              "      <td>695.000000</td>\n",
              "      <td>699.000000</td>\n",
              "      <td>1.000000</td>\n",
              "      <td>2.000000</td>\n",
              "      <td>15.000000</td>\n",
              "      <td>78.600000</td>\n",
              "      <td>4.000000</td>\n",
              "      <td>17.000000</td>\n",
              "      <td>0.000000</td>\n",
              "      <td>0.000000</td>\n",
              "      <td>56.000000</td>\n",
              "      <td>3.0</td>\n",
              "      <td>213.260000</td>\n",
              "      <td>3.0</td>\n",
              "      <td>22.000000</td>\n",
              "      <td>620.175000</td>\n",
              "      <td>16151.890000</td>\n",
              "      <td>284.190000</td>\n",
              "      <td>6850.172500</td>\n",
              "      <td>50.000000</td>\n",
              "      <td>18.000000</td>\n",
              "    </tr>\n",
              "    <tr>\n",
              "      <th>max</th>\n",
              "      <td>NaN</td>\n",
              "      <td>4.000000e+04</td>\n",
              "      <td>4.000000e+04</td>\n",
              "      <td>4.000000e+04</td>\n",
              "      <td>3.099000e+01</td>\n",
              "      <td>1.719830e+03</td>\n",
              "      <td>1.100000e+08</td>\n",
              "      <td>9.990000e+02</td>\n",
              "      <td>5.800000e+01</td>\n",
              "      <td>8.450000e+02</td>\n",
              "      <td>8.500000e+02</td>\n",
              "      <td>3.300000e+01</td>\n",
              "      <td>2.260000e+02</td>\n",
              "      <td>129.000000</td>\n",
              "      <td>1.010000e+02</td>\n",
              "      <td>8.600000e+01</td>\n",
              "      <td>2.904836e+06</td>\n",
              "      <td>8.923000e+02</td>\n",
              "      <td>1.760000e+02</td>\n",
              "      <td>4.000000e+04</td>\n",
              "      <td>4.000000e+04</td>\n",
              "      <td>6.329688e+04</td>\n",
              "      <td>6.329688e+04</td>\n",
              "      <td>4.000000e+04</td>\n",
              "      <td>2.819250e+04</td>\n",
              "      <td>1.484340e+03</td>\n",
              "      <td>3.985955e+04</td>\n",
              "      <td>7.174719e+03</td>\n",
              "      <td>4.219205e+04</td>\n",
              "      <td>8.500000e+02</td>\n",
              "      <td>8.450000e+02</td>\n",
              "      <td>2.000000e+01</td>\n",
              "      <td>226.000000</td>\n",
              "      <td>1.0</td>\n",
              "      <td>7.874821e+06</td>\n",
              "      <td>69.490000</td>\n",
              "      <td>1.400000e+01</td>\n",
              "      <td>9.152545e+06</td>\n",
              "      <td>9.971659e+06</td>\n",
              "      <td>1.800000e+01</td>\n",
              "      <td>...</td>\n",
              "      <td>8.600000e+01</td>\n",
              "      <td>1.590000e+02</td>\n",
              "      <td>9.100000e+01</td>\n",
              "      <td>1.510000e+02</td>\n",
              "      <td>6.500000e+01</td>\n",
              "      <td>1.010000e+02</td>\n",
              "      <td>7.000000e+00</td>\n",
              "      <td>4.000000e+00</td>\n",
              "      <td>5.800000e+01</td>\n",
              "      <td>3.200000e+01</td>\n",
              "      <td>1.000000e+02</td>\n",
              "      <td>1.000000e+02</td>\n",
              "      <td>1.200000e+01</td>\n",
              "      <td>8.500000e+01</td>\n",
              "      <td>9.999999e+06</td>\n",
              "      <td>3.408095e+06</td>\n",
              "      <td>1.569000e+06</td>\n",
              "      <td>2.118996e+06</td>\n",
              "      <td>1.110019e+06</td>\n",
              "      <td>845.000000</td>\n",
              "      <td>850.000000</td>\n",
              "      <td>6.000000</td>\n",
              "      <td>27.000000</td>\n",
              "      <td>82.000000</td>\n",
              "      <td>434.300000</td>\n",
              "      <td>43.000000</td>\n",
              "      <td>106.000000</td>\n",
              "      <td>21.000000</td>\n",
              "      <td>23.000000</td>\n",
              "      <td>185.000000</td>\n",
              "      <td>3.0</td>\n",
              "      <td>943.940000</td>\n",
              "      <td>3.0</td>\n",
              "      <td>37.000000</td>\n",
              "      <td>2680.890000</td>\n",
              "      <td>40306.410000</td>\n",
              "      <td>1407.860000</td>\n",
              "      <td>33601.000000</td>\n",
              "      <td>521.350000</td>\n",
              "      <td>181.000000</td>\n",
              "    </tr>\n",
              "  </tbody>\n",
              "</table>\n",
              "<p>8 rows × 113 columns</p>\n",
              "</div>"
            ],
            "text/plain": [
              "       member_id     loan_amnt  ...  settlement_percentage  settlement_term\n",
              "count        0.0  2.260668e+06  ...           34246.000000     34246.000000\n",
              "mean         NaN  1.504693e+04  ...              47.780365        13.191322\n",
              "std          NaN  9.190245e+03  ...               7.311822         8.159980\n",
              "min          NaN  5.000000e+02  ...               0.200000         0.000000\n",
              "25%          NaN  8.000000e+03  ...              45.000000         6.000000\n",
              "50%          NaN  1.290000e+04  ...              45.000000        14.000000\n",
              "75%          NaN  2.000000e+04  ...              50.000000        18.000000\n",
              "max          NaN  4.000000e+04  ...             521.350000       181.000000\n",
              "\n",
              "[8 rows x 113 columns]"
            ]
          },
          "metadata": {
            "tags": []
          },
          "execution_count": 114
        }
      ]
    },
    {
      "cell_type": "code",
      "metadata": {
        "colab": {
          "base_uri": "https://localhost:8080/"
        },
        "id": "KQbqltrsD3n5",
        "outputId": "34de6a24-038c-406f-860d-f25771960684"
      },
      "source": [
        "df_Accepted.columns"
      ],
      "execution_count": 115,
      "outputs": [
        {
          "output_type": "execute_result",
          "data": {
            "text/plain": [
              "Index(['id', 'member_id', 'loan_amnt', 'funded_amnt', 'funded_amnt_inv',\n",
              "       'term', 'int_rate', 'installment', 'grade', 'sub_grade',\n",
              "       ...\n",
              "       'hardship_payoff_balance_amount', 'hardship_last_payment_amount',\n",
              "       'disbursement_method', 'debt_settlement_flag',\n",
              "       'debt_settlement_flag_date', 'settlement_status', 'settlement_date',\n",
              "       'settlement_amount', 'settlement_percentage', 'settlement_term'],\n",
              "      dtype='object', length=151)"
            ]
          },
          "metadata": {
            "tags": []
          },
          "execution_count": 115
        }
      ]
    },
    {
      "cell_type": "code",
      "metadata": {
        "id": "qeZAKnJdxpUv",
        "outputId": "5a0cce46-ee00-4a0b-cad3-6e86e25ce344",
        "colab": {
          "base_uri": "https://localhost:8080/"
        }
      },
      "source": [
        "df_Accepted.isnull().sum().sort_values(ascending=False).head(60)"
      ],
      "execution_count": 116,
      "outputs": [
        {
          "output_type": "execute_result",
          "data": {
            "text/plain": [
              "member_id                                     2260701\n",
              "orig_projected_additional_accrued_interest    2252050\n",
              "hardship_loan_status                          2249784\n",
              "hardship_dpd                                  2249784\n",
              "hardship_reason                               2249784\n",
              "hardship_status                               2249784\n",
              "deferral_term                                 2249784\n",
              "hardship_amount                               2249784\n",
              "hardship_start_date                           2249784\n",
              "hardship_end_date                             2249784\n",
              "payment_plan_start_date                       2249784\n",
              "hardship_length                               2249784\n",
              "hardship_type                                 2249784\n",
              "hardship_payoff_balance_amount                2249784\n",
              "hardship_last_payment_amount                  2249784\n",
              "settlement_percentage                         2226455\n",
              "debt_settlement_flag_date                     2226455\n",
              "settlement_status                             2226455\n",
              "settlement_date                               2226455\n",
              "settlement_amount                             2226455\n",
              "settlement_term                               2226455\n",
              "sec_app_mths_since_last_major_derog           2224759\n",
              "sec_app_revol_util                            2154517\n",
              "revol_bal_joint                               2152681\n",
              "sec_app_chargeoff_within_12_mths              2152680\n",
              "sec_app_num_rev_accts                         2152680\n",
              "sec_app_open_act_il                           2152680\n",
              "sec_app_open_acc                              2152680\n",
              "sec_app_mort_acc                              2152680\n",
              "sec_app_inq_last_6mths                        2152680\n",
              "sec_app_earliest_cr_line                      2152680\n",
              "sec_app_fico_range_high                       2152680\n",
              "sec_app_fico_range_low                        2152680\n",
              "sec_app_collections_12_mths_ex_med            2152680\n",
              "verification_status_joint                     2144971\n",
              "dti_joint                                     2139995\n",
              "annual_inc_joint                              2139991\n",
              "desc                                          2134634\n",
              "mths_since_last_record                        1901545\n",
              "mths_since_recent_bc_dlq                      1741000\n",
              "mths_since_last_major_derog                   1679926\n",
              "mths_since_recent_revol_delinq                1520342\n",
              "next_pymnt_d                                  1345343\n",
              "mths_since_last_delinq                        1158535\n",
              "il_util                                       1068883\n",
              "mths_since_rcnt_il                             909957\n",
              "all_util                                       866381\n",
              "open_acc_6m                                    866163\n",
              "total_cu_tl                                    866163\n",
              "inq_last_12m                                   866163\n",
              "open_il_12m                                    866162\n",
              "open_il_24m                                    866162\n",
              "total_bal_il                                   866162\n",
              "open_act_il                                    866162\n",
              "open_rv_12m                                    866162\n",
              "open_rv_24m                                    866162\n",
              "max_bal_bc                                     866162\n",
              "inq_fi                                         866162\n",
              "mths_since_recent_inq                          295468\n",
              "emp_title                                      167002\n",
              "dtype: int64"
            ]
          },
          "metadata": {
            "tags": []
          },
          "execution_count": 116
        }
      ]
    },
    {
      "cell_type": "code",
      "metadata": {
        "colab": {
          "base_uri": "https://localhost:8080/"
        },
        "id": "WynM71isD8VW",
        "outputId": "7ca23edc-a803-4084-f194-b51563c44bb3"
      },
      "source": [
        "missing_data = df_Accepted.isnull().mean().sort_values(ascending=False)*100\n",
        "missing_data"
      ],
      "execution_count": 117,
      "outputs": [
        {
          "output_type": "execute_result",
          "data": {
            "text/plain": [
              "member_id                                     100.000000\n",
              "orig_projected_additional_accrued_interest     99.617331\n",
              "hardship_loan_status                           99.517097\n",
              "hardship_dpd                                   99.517097\n",
              "hardship_reason                                99.517097\n",
              "                                                 ...    \n",
              "initial_list_status                             0.001460\n",
              "revol_bal                                       0.001460\n",
              "hardship_flag                                   0.001460\n",
              "fico_range_high                                 0.001460\n",
              "id                                              0.000000\n",
              "Length: 151, dtype: float64"
            ]
          },
          "metadata": {
            "tags": []
          },
          "execution_count": 117
        }
      ]
    },
    {
      "cell_type": "code",
      "metadata": {
        "colab": {
          "base_uri": "https://localhost:8080/",
          "height": 332
        },
        "id": "IuVQwoMfD-yi",
        "outputId": "cf68c004-02e2-4f92-e3d7-8c77df4cea6b"
      },
      "source": [
        "%matplotlib inline\n",
        "plt.figure(figsize=(12,4))\n",
        "plt.title('Histogram of missing data\\n', fontsize=16)\n",
        "plt.xlabel('Percentage of missing data (%)')\n",
        "plt.ylabel('Count')\n",
        "\n",
        "# Setting the figure up:\n",
        "missing_data.plot.hist(bins=20)"
      ],
      "execution_count": 118,
      "outputs": [
        {
          "output_type": "execute_result",
          "data": {
            "text/plain": [
              "<matplotlib.axes._subplots.AxesSubplot at 0x7f526b512150>"
            ]
          },
          "metadata": {
            "tags": []
          },
          "execution_count": 118
        },
        {
          "output_type": "display_data",
          "data": {
            "image/png": "[encoded data removed]",
            "text/plain": [
              "<Figure size 864x288 with 1 Axes>"
            ]
          },
          "metadata": {
            "tags": [],
            "needs_background": "light"
          }
        }
      ]
    },
    {
      "cell_type": "code",
      "metadata": {
        "id": "UoVsKIHiEDLn"
      },
      "source": [
        "drop_columns = sorted(list(missing_data[missing_data > 25].index))"
      ],
      "execution_count": 119,
      "outputs": []
    },
    {
      "cell_type": "code",
      "metadata": {
        "colab": {
          "base_uri": "https://localhost:8080/"
        },
        "id": "g2SHzuZsEN0I",
        "outputId": "157921c9-6d49-4921-8f09-d8af9dcb0083"
      },
      "source": [
        "drop_columns\n",
        "print(len(drop_columns))"
      ],
      "execution_count": 120,
      "outputs": [
        {
          "output_type": "stream",
          "text": [
            "58\n"
          ],
          "name": "stdout"
        }
      ]
    },
    {
      "cell_type": "code",
      "metadata": {
        "id": "ej9L-Jb1EQaY"
      },
      "source": [
        "df_Accepted.drop(labels=drop_columns, axis=1, inplace=True)"
      ],
      "execution_count": 121,
      "outputs": []
    },
    {
      "cell_type": "code",
      "metadata": {
        "colab": {
          "base_uri": "https://localhost:8080/"
        },
        "id": "0rVKssbcETj8",
        "outputId": "8a9a1f2f-e73c-47a5-8f5f-c5b1f3116534"
      },
      "source": [
        "df_Accepted.shape"
      ],
      "execution_count": 122,
      "outputs": [
        {
          "output_type": "execute_result",
          "data": {
            "text/plain": [
              "(2260701, 93)"
            ]
          },
          "metadata": {
            "tags": []
          },
          "execution_count": 122
        }
      ]
    },
    {
      "cell_type": "code",
      "metadata": {
        "id": "4nB_v98RyNPb",
        "outputId": "1ff9786e-d788-401a-d1c5-9753909fda61",
        "colab": {
          "base_uri": "https://localhost:8080/"
        }
      },
      "source": [
        "Col_present = list(df_Accepted.columns)\n",
        "Col_present"
      ],
      "execution_count": 123,
      "outputs": [
        {
          "output_type": "execute_result",
          "data": {
            "text/plain": [
              "['id',\n",
              " 'loan_amnt',\n",
              " 'funded_amnt',\n",
              " 'funded_amnt_inv',\n",
              " 'term',\n",
              " 'int_rate',\n",
              " 'installment',\n",
              " 'grade',\n",
              " 'sub_grade',\n",
              " 'emp_title',\n",
              " 'emp_length',\n",
              " 'home_ownership',\n",
              " 'annual_inc',\n",
              " 'verification_status',\n",
              " 'issue_d',\n",
              " 'loan_status',\n",
              " 'pymnt_plan',\n",
              " 'url',\n",
              " 'purpose',\n",
              " 'title',\n",
              " 'zip_code',\n",
              " 'addr_state',\n",
              " 'dti',\n",
              " 'delinq_2yrs',\n",
              " 'earliest_cr_line',\n",
              " 'fico_range_low',\n",
              " 'fico_range_high',\n",
              " 'inq_last_6mths',\n",
              " 'open_acc',\n",
              " 'pub_rec',\n",
              " 'revol_bal',\n",
              " 'revol_util',\n",
              " 'total_acc',\n",
              " 'initial_list_status',\n",
              " 'out_prncp',\n",
              " 'out_prncp_inv',\n",
              " 'total_pymnt',\n",
              " 'total_pymnt_inv',\n",
              " 'total_rec_prncp',\n",
              " 'total_rec_int',\n",
              " 'total_rec_late_fee',\n",
              " 'recoveries',\n",
              " 'collection_recovery_fee',\n",
              " 'last_pymnt_d',\n",
              " 'last_pymnt_amnt',\n",
              " 'last_credit_pull_d',\n",
              " 'last_fico_range_high',\n",
              " 'last_fico_range_low',\n",
              " 'collections_12_mths_ex_med',\n",
              " 'policy_code',\n",
              " 'application_type',\n",
              " 'acc_now_delinq',\n",
              " 'tot_coll_amt',\n",
              " 'tot_cur_bal',\n",
              " 'total_rev_hi_lim',\n",
              " 'acc_open_past_24mths',\n",
              " 'avg_cur_bal',\n",
              " 'bc_open_to_buy',\n",
              " 'bc_util',\n",
              " 'chargeoff_within_12_mths',\n",
              " 'delinq_amnt',\n",
              " 'mo_sin_old_il_acct',\n",
              " 'mo_sin_old_rev_tl_op',\n",
              " 'mo_sin_rcnt_rev_tl_op',\n",
              " 'mo_sin_rcnt_tl',\n",
              " 'mort_acc',\n",
              " 'mths_since_recent_bc',\n",
              " 'mths_since_recent_inq',\n",
              " 'num_accts_ever_120_pd',\n",
              " 'num_actv_bc_tl',\n",
              " 'num_actv_rev_tl',\n",
              " 'num_bc_sats',\n",
              " 'num_bc_tl',\n",
              " 'num_il_tl',\n",
              " 'num_op_rev_tl',\n",
              " 'num_rev_accts',\n",
              " 'num_rev_tl_bal_gt_0',\n",
              " 'num_sats',\n",
              " 'num_tl_120dpd_2m',\n",
              " 'num_tl_30dpd',\n",
              " 'num_tl_90g_dpd_24m',\n",
              " 'num_tl_op_past_12m',\n",
              " 'pct_tl_nvr_dlq',\n",
              " 'percent_bc_gt_75',\n",
              " 'pub_rec_bankruptcies',\n",
              " 'tax_liens',\n",
              " 'tot_hi_cred_lim',\n",
              " 'total_bal_ex_mort',\n",
              " 'total_bc_limit',\n",
              " 'total_il_high_credit_limit',\n",
              " 'hardship_flag',\n",
              " 'disbursement_method',\n",
              " 'debt_settlement_flag']"
            ]
          },
          "metadata": {
            "tags": []
          },
          "execution_count": 123
        }
      ]
    },
    {
      "cell_type": "code",
      "metadata": {
        "id": "QWEUkBBtyivj",
        "outputId": "1f6938cb-3686-4cc6-c46d-fa61cbe92b7c",
        "colab": {
          "base_uri": "https://localhost:8080/"
        }
      },
      "source": [
        "Important_Features = [\"loan_amnt\", \"term\",\"int_rate\",\"installment\",\"grade\",\"sub_grade\",\"emp_title\",\"emp_length\",\"home_ownership\",\"annual_inc\",\n",
        "                      \"loan_status\",\"purpose\",\"dti\", \"zip_code\", \"addr_state\",\"fico_range_low\",\"fico_range_high\",\"pub_rec\",\"application_type\"]\n",
        "\n",
        "Features_Need_to_be_Dropped = []\n",
        "for i in Col_present:\n",
        "  if i in Important_Features:\n",
        "    pass\n",
        "  else:\n",
        "    Features_Need_to_be_Dropped.append(i)\n",
        "\n",
        "\n",
        "print(Features_Need_to_be_Dropped)"
      ],
      "execution_count": 124,
      "outputs": [
        {
          "output_type": "stream",
          "text": [
            "['id', 'funded_amnt', 'funded_amnt_inv', 'verification_status', 'issue_d', 'pymnt_plan', 'url', 'title', 'delinq_2yrs', 'earliest_cr_line', 'inq_last_6mths', 'open_acc', 'revol_bal', 'revol_util', 'total_acc', 'initial_list_status', 'out_prncp', 'out_prncp_inv', 'total_pymnt', 'total_pymnt_inv', 'total_rec_prncp', 'total_rec_int', 'total_rec_late_fee', 'recoveries', 'collection_recovery_fee', 'last_pymnt_d', 'last_pymnt_amnt', 'last_credit_pull_d', 'last_fico_range_high', 'last_fico_range_low', 'collections_12_mths_ex_med', 'policy_code', 'acc_now_delinq', 'tot_coll_amt', 'tot_cur_bal', 'total_rev_hi_lim', 'acc_open_past_24mths', 'avg_cur_bal', 'bc_open_to_buy', 'bc_util', 'chargeoff_within_12_mths', 'delinq_amnt', 'mo_sin_old_il_acct', 'mo_sin_old_rev_tl_op', 'mo_sin_rcnt_rev_tl_op', 'mo_sin_rcnt_tl', 'mort_acc', 'mths_since_recent_bc', 'mths_since_recent_inq', 'num_accts_ever_120_pd', 'num_actv_bc_tl', 'num_actv_rev_tl', 'num_bc_sats', 'num_bc_tl', 'num_il_tl', 'num_op_rev_tl', 'num_rev_accts', 'num_rev_tl_bal_gt_0', 'num_sats', 'num_tl_120dpd_2m', 'num_tl_30dpd', 'num_tl_90g_dpd_24m', 'num_tl_op_past_12m', 'pct_tl_nvr_dlq', 'percent_bc_gt_75', 'pub_rec_bankruptcies', 'tax_liens', 'tot_hi_cred_lim', 'total_bal_ex_mort', 'total_bc_limit', 'total_il_high_credit_limit', 'hardship_flag', 'disbursement_method', 'debt_settlement_flag']\n"
          ],
          "name": "stdout"
        }
      ]
    },
    {
      "cell_type": "code",
      "metadata": {
        "id": "Fdcja_91ysb5"
      },
      "source": [
        "Important_Features = [\"loan_amnt\", \"term\",\"int_rate\",\"installment\",\"grade\",\"sub_grade\",\"emp_title\",\"emp_length\",\"home_ownership\",\"annual_inc\",\"loan_status\",\"purpose\",\"dti\", \"zip_code\", \"addr_state\",\"fico_range_low\",\"fico_range_high\",\"pub_rec\",\"application_type\"]\n",
        "\n",
        "Features_Need_to_be_Dropped = ['id', 'funded_amnt', 'funded_amnt_inv', 'verification_status', 'issue_d', 'pymnt_plan', 'url', 'title', 'delinq_2yrs', 'earliest_cr_line', 'inq_last_6mths', 'open_acc', 'revol_bal', 'revol_util', 'total_acc', 'initial_list_status', 'out_prncp', 'out_prncp_inv', 'total_pymnt', 'total_pymnt_inv', 'total_rec_prncp', 'total_rec_int', 'total_rec_late_fee', 'recoveries', 'collection_recovery_fee', 'last_pymnt_d', 'last_pymnt_amnt', 'last_credit_pull_d', 'last_fico_range_high', 'last_fico_range_low', 'collections_12_mths_ex_med', 'policy_code', 'acc_now_delinq', 'tot_coll_amt', 'tot_cur_bal', 'total_rev_hi_lim', 'acc_open_past_24mths', 'avg_cur_bal', 'bc_open_to_buy', 'bc_util', 'chargeoff_within_12_mths', 'delinq_amnt', 'mo_sin_old_il_acct', 'mo_sin_old_rev_tl_op', 'mo_sin_rcnt_rev_tl_op', 'mo_sin_rcnt_tl', 'mort_acc', 'mths_since_recent_bc', 'mths_since_recent_inq', 'num_accts_ever_120_pd', 'num_actv_bc_tl', 'num_actv_rev_tl', 'num_bc_sats', 'num_bc_tl', 'num_il_tl', 'num_op_rev_tl', 'num_rev_accts', 'num_rev_tl_bal_gt_0', 'num_sats', 'num_tl_120dpd_2m', 'num_tl_30dpd', 'num_tl_90g_dpd_24m', 'num_tl_op_past_12m', 'pct_tl_nvr_dlq', 'percent_bc_gt_75', 'pub_rec_bankruptcies', 'tax_liens', 'tot_hi_cred_lim', 'total_bal_ex_mort', 'total_bc_limit', 'total_il_high_credit_limit', 'hardship_flag', 'disbursement_method', 'debt_settlement_flag']"
      ],
      "execution_count": 125,
      "outputs": []
    },
    {
      "cell_type": "code",
      "metadata": {
        "id": "Gw45tXkwyybe"
      },
      "source": [
        "df_Accepted.drop(labels=Features_Need_to_be_Dropped, axis=1, inplace=True)"
      ],
      "execution_count": 126,
      "outputs": []
    },
    {
      "cell_type": "code",
      "metadata": {
        "id": "t4w-JRx4y5zA",
        "outputId": "39c6f94e-1538-4bb4-c701-98f0c42e914d",
        "colab": {
          "base_uri": "https://localhost:8080/"
        }
      },
      "source": [
        "df_Accepted.shape"
      ],
      "execution_count": 128,
      "outputs": [
        {
          "output_type": "execute_result",
          "data": {
            "text/plain": [
              "(2260701, 19)"
            ]
          },
          "metadata": {
            "tags": []
          },
          "execution_count": 128
        }
      ]
    },
    {
      "cell_type": "code",
      "metadata": {
        "colab": {
          "base_uri": "https://localhost:8080/"
        },
        "id": "ZyqzbS5SEezg",
        "outputId": "8c1554b7-00da-426e-911b-84bef89c2d8a"
      },
      "source": [
        "df_Accepted[\"loan_status\"].value_counts()"
      ],
      "execution_count": 129,
      "outputs": [
        {
          "output_type": "execute_result",
          "data": {
            "text/plain": [
              "Fully Paid                                             1076751\n",
              "Current                                                 878317\n",
              "Charged Off                                             268559\n",
              "Late (31-120 days)                                       21467\n",
              "In Grace Period                                           8436\n",
              "Late (16-30 days)                                         4349\n",
              "Does not meet the credit policy. Status:Fully Paid        1988\n",
              "Does not meet the credit policy. Status:Charged Off        761\n",
              "Default                                                     40\n",
              "Name: loan_status, dtype: int64"
            ]
          },
          "metadata": {
            "tags": []
          },
          "execution_count": 129
        }
      ]
    },
    {
      "cell_type": "code",
      "metadata": {
        "id": "Xv9Fs4PF1oL9",
        "outputId": "a93f461a-faeb-4c04-cf6d-4bcc6b5996a1",
        "colab": {
          "base_uri": "https://localhost:8080/",
          "height": 626
        }
      },
      "source": [
        "df_Accepted = df_Accepted.loc[df_Accepted[\"loan_status\"].isin([\"Fully Paid\",\"Charged Off\"])]\n",
        "df_Accepted"
      ],
      "execution_count": 130,
      "outputs": [
        {
          "output_type": "execute_result",
          "data": {
            "text/html": [
              "<div>\n",
              "<style scoped>\n",
              "    .dataframe tbody tr th:only-of-type {\n",
              "        vertical-align: middle;\n",
              "    }\n",
              "\n",
              "    .dataframe tbody tr th {\n",
              "        vertical-align: top;\n",
              "    }\n",
              "\n",
              "    .dataframe thead th {\n",
              "        text-align: right;\n",
              "    }\n",
              "</style>\n",
              "<table border=\"1\" class=\"dataframe\">\n",
              "  <thead>\n",
              "    <tr style=\"text-align: right;\">\n",
              "      <th></th>\n",
              "      <th>loan_amnt</th>\n",
              "      <th>term</th>\n",
              "      <th>int_rate</th>\n",
              "      <th>installment</th>\n",
              "      <th>grade</th>\n",
              "      <th>sub_grade</th>\n",
              "      <th>emp_title</th>\n",
              "      <th>emp_length</th>\n",
              "      <th>home_ownership</th>\n",
              "      <th>annual_inc</th>\n",
              "      <th>loan_status</th>\n",
              "      <th>purpose</th>\n",
              "      <th>zip_code</th>\n",
              "      <th>addr_state</th>\n",
              "      <th>dti</th>\n",
              "      <th>fico_range_low</th>\n",
              "      <th>fico_range_high</th>\n",
              "      <th>pub_rec</th>\n",
              "      <th>application_type</th>\n",
              "    </tr>\n",
              "  </thead>\n",
              "  <tbody>\n",
              "    <tr>\n",
              "      <th>0</th>\n",
              "      <td>3600.0</td>\n",
              "      <td>36 months</td>\n",
              "      <td>13.99</td>\n",
              "      <td>123.03</td>\n",
              "      <td>C</td>\n",
              "      <td>C4</td>\n",
              "      <td>leadman</td>\n",
              "      <td>10+ years</td>\n",
              "      <td>MORTGAGE</td>\n",
              "      <td>55000.0</td>\n",
              "      <td>Fully Paid</td>\n",
              "      <td>debt_consolidation</td>\n",
              "      <td>190xx</td>\n",
              "      <td>PA</td>\n",
              "      <td>5.91</td>\n",
              "      <td>675.0</td>\n",
              "      <td>679.0</td>\n",
              "      <td>0.0</td>\n",
              "      <td>Individual</td>\n",
              "    </tr>\n",
              "    <tr>\n",
              "      <th>1</th>\n",
              "      <td>24700.0</td>\n",
              "      <td>36 months</td>\n",
              "      <td>11.99</td>\n",
              "      <td>820.28</td>\n",
              "      <td>C</td>\n",
              "      <td>C1</td>\n",
              "      <td>Engineer</td>\n",
              "      <td>10+ years</td>\n",
              "      <td>MORTGAGE</td>\n",
              "      <td>65000.0</td>\n",
              "      <td>Fully Paid</td>\n",
              "      <td>small_business</td>\n",
              "      <td>577xx</td>\n",
              "      <td>SD</td>\n",
              "      <td>16.06</td>\n",
              "      <td>715.0</td>\n",
              "      <td>719.0</td>\n",
              "      <td>0.0</td>\n",
              "      <td>Individual</td>\n",
              "    </tr>\n",
              "    <tr>\n",
              "      <th>2</th>\n",
              "      <td>20000.0</td>\n",
              "      <td>60 months</td>\n",
              "      <td>10.78</td>\n",
              "      <td>432.66</td>\n",
              "      <td>B</td>\n",
              "      <td>B4</td>\n",
              "      <td>truck driver</td>\n",
              "      <td>10+ years</td>\n",
              "      <td>MORTGAGE</td>\n",
              "      <td>63000.0</td>\n",
              "      <td>Fully Paid</td>\n",
              "      <td>home_improvement</td>\n",
              "      <td>605xx</td>\n",
              "      <td>IL</td>\n",
              "      <td>10.78</td>\n",
              "      <td>695.0</td>\n",
              "      <td>699.0</td>\n",
              "      <td>0.0</td>\n",
              "      <td>Joint App</td>\n",
              "    </tr>\n",
              "    <tr>\n",
              "      <th>4</th>\n",
              "      <td>10400.0</td>\n",
              "      <td>60 months</td>\n",
              "      <td>22.45</td>\n",
              "      <td>289.91</td>\n",
              "      <td>F</td>\n",
              "      <td>F1</td>\n",
              "      <td>Contract Specialist</td>\n",
              "      <td>3 years</td>\n",
              "      <td>MORTGAGE</td>\n",
              "      <td>104433.0</td>\n",
              "      <td>Fully Paid</td>\n",
              "      <td>major_purchase</td>\n",
              "      <td>174xx</td>\n",
              "      <td>PA</td>\n",
              "      <td>25.37</td>\n",
              "      <td>695.0</td>\n",
              "      <td>699.0</td>\n",
              "      <td>0.0</td>\n",
              "      <td>Individual</td>\n",
              "    </tr>\n",
              "    <tr>\n",
              "      <th>5</th>\n",
              "      <td>11950.0</td>\n",
              "      <td>36 months</td>\n",
              "      <td>13.44</td>\n",
              "      <td>405.18</td>\n",
              "      <td>C</td>\n",
              "      <td>C3</td>\n",
              "      <td>Veterinary Tecnician</td>\n",
              "      <td>4 years</td>\n",
              "      <td>RENT</td>\n",
              "      <td>34000.0</td>\n",
              "      <td>Fully Paid</td>\n",
              "      <td>debt_consolidation</td>\n",
              "      <td>300xx</td>\n",
              "      <td>GA</td>\n",
              "      <td>10.20</td>\n",
              "      <td>690.0</td>\n",
              "      <td>694.0</td>\n",
              "      <td>0.0</td>\n",
              "      <td>Individual</td>\n",
              "    </tr>\n",
              "    <tr>\n",
              "      <th>...</th>\n",
              "      <td>...</td>\n",
              "      <td>...</td>\n",
              "      <td>...</td>\n",
              "      <td>...</td>\n",
              "      <td>...</td>\n",
              "      <td>...</td>\n",
              "      <td>...</td>\n",
              "      <td>...</td>\n",
              "      <td>...</td>\n",
              "      <td>...</td>\n",
              "      <td>...</td>\n",
              "      <td>...</td>\n",
              "      <td>...</td>\n",
              "      <td>...</td>\n",
              "      <td>...</td>\n",
              "      <td>...</td>\n",
              "      <td>...</td>\n",
              "      <td>...</td>\n",
              "      <td>...</td>\n",
              "    </tr>\n",
              "    <tr>\n",
              "      <th>2260688</th>\n",
              "      <td>18000.0</td>\n",
              "      <td>60 months</td>\n",
              "      <td>9.49</td>\n",
              "      <td>377.95</td>\n",
              "      <td>B</td>\n",
              "      <td>B2</td>\n",
              "      <td>NaN</td>\n",
              "      <td>5 years</td>\n",
              "      <td>OWN</td>\n",
              "      <td>130000.0</td>\n",
              "      <td>Fully Paid</td>\n",
              "      <td>home_improvement</td>\n",
              "      <td>775xx</td>\n",
              "      <td>TX</td>\n",
              "      <td>20.59</td>\n",
              "      <td>735.0</td>\n",
              "      <td>739.0</td>\n",
              "      <td>0.0</td>\n",
              "      <td>Individual</td>\n",
              "    </tr>\n",
              "    <tr>\n",
              "      <th>2260690</th>\n",
              "      <td>29400.0</td>\n",
              "      <td>60 months</td>\n",
              "      <td>13.99</td>\n",
              "      <td>683.94</td>\n",
              "      <td>C</td>\n",
              "      <td>C3</td>\n",
              "      <td>Chief Operating Officer</td>\n",
              "      <td>9 years</td>\n",
              "      <td>MORTGAGE</td>\n",
              "      <td>180792.0</td>\n",
              "      <td>Fully Paid</td>\n",
              "      <td>debt_consolidation</td>\n",
              "      <td>900xx</td>\n",
              "      <td>CA</td>\n",
              "      <td>22.03</td>\n",
              "      <td>705.0</td>\n",
              "      <td>709.0</td>\n",
              "      <td>0.0</td>\n",
              "      <td>Individual</td>\n",
              "    </tr>\n",
              "    <tr>\n",
              "      <th>2260691</th>\n",
              "      <td>32000.0</td>\n",
              "      <td>60 months</td>\n",
              "      <td>14.49</td>\n",
              "      <td>752.74</td>\n",
              "      <td>C</td>\n",
              "      <td>C4</td>\n",
              "      <td>Sales Manager</td>\n",
              "      <td>3 years</td>\n",
              "      <td>MORTGAGE</td>\n",
              "      <td>157000.0</td>\n",
              "      <td>Charged Off</td>\n",
              "      <td>home_improvement</td>\n",
              "      <td>863xx</td>\n",
              "      <td>AZ</td>\n",
              "      <td>10.34</td>\n",
              "      <td>735.0</td>\n",
              "      <td>739.0</td>\n",
              "      <td>0.0</td>\n",
              "      <td>Individual</td>\n",
              "    </tr>\n",
              "    <tr>\n",
              "      <th>2260692</th>\n",
              "      <td>16000.0</td>\n",
              "      <td>60 months</td>\n",
              "      <td>12.79</td>\n",
              "      <td>362.34</td>\n",
              "      <td>C</td>\n",
              "      <td>C1</td>\n",
              "      <td>Manager</td>\n",
              "      <td>10+ years</td>\n",
              "      <td>RENT</td>\n",
              "      <td>150000.0</td>\n",
              "      <td>Fully Paid</td>\n",
              "      <td>medical</td>\n",
              "      <td>284xx</td>\n",
              "      <td>NC</td>\n",
              "      <td>12.25</td>\n",
              "      <td>665.0</td>\n",
              "      <td>669.0</td>\n",
              "      <td>4.0</td>\n",
              "      <td>Individual</td>\n",
              "    </tr>\n",
              "    <tr>\n",
              "      <th>2260697</th>\n",
              "      <td>24000.0</td>\n",
              "      <td>60 months</td>\n",
              "      <td>14.49</td>\n",
              "      <td>564.56</td>\n",
              "      <td>C</td>\n",
              "      <td>C4</td>\n",
              "      <td>Program Manager</td>\n",
              "      <td>6 years</td>\n",
              "      <td>RENT</td>\n",
              "      <td>110000.0</td>\n",
              "      <td>Charged Off</td>\n",
              "      <td>debt_consolidation</td>\n",
              "      <td>334xx</td>\n",
              "      <td>FL</td>\n",
              "      <td>18.30</td>\n",
              "      <td>660.0</td>\n",
              "      <td>664.0</td>\n",
              "      <td>1.0</td>\n",
              "      <td>Individual</td>\n",
              "    </tr>\n",
              "  </tbody>\n",
              "</table>\n",
              "<p>1345310 rows × 19 columns</p>\n",
              "</div>"
            ],
            "text/plain": [
              "         loan_amnt        term  ...  pub_rec  application_type\n",
              "0           3600.0   36 months  ...      0.0        Individual\n",
              "1          24700.0   36 months  ...      0.0        Individual\n",
              "2          20000.0   60 months  ...      0.0         Joint App\n",
              "4          10400.0   60 months  ...      0.0        Individual\n",
              "5          11950.0   36 months  ...      0.0        Individual\n",
              "...            ...         ...  ...      ...               ...\n",
              "2260688    18000.0   60 months  ...      0.0        Individual\n",
              "2260690    29400.0   60 months  ...      0.0        Individual\n",
              "2260691    32000.0   60 months  ...      0.0        Individual\n",
              "2260692    16000.0   60 months  ...      4.0        Individual\n",
              "2260697    24000.0   60 months  ...      1.0        Individual\n",
              "\n",
              "[1345310 rows x 19 columns]"
            ]
          },
          "metadata": {
            "tags": []
          },
          "execution_count": 130
        }
      ]
    },
    {
      "cell_type": "code",
      "metadata": {
        "colab": {
          "base_uri": "https://localhost:8080/"
        },
        "id": "sN-c9lk1Eo5-",
        "outputId": "70fa5af7-2401-43be-e016-61d0d4e3f72e"
      },
      "source": [
        "df_Accepted.shape"
      ],
      "execution_count": 132,
      "outputs": [
        {
          "output_type": "execute_result",
          "data": {
            "text/plain": [
              "(1345310, 19)"
            ]
          },
          "metadata": {
            "tags": []
          },
          "execution_count": 132
        }
      ]
    },
    {
      "cell_type": "code",
      "metadata": {
        "colab": {
          "base_uri": "https://localhost:8080/"
        },
        "id": "h8t36MqIEsvA",
        "outputId": "06d52da7-427b-4922-a207-c0cb4a2efd13"
      },
      "source": [
        "df_Accepted.nunique()"
      ],
      "execution_count": 135,
      "outputs": [
        {
          "output_type": "execute_result",
          "data": {
            "text/plain": [
              "loan_amnt             1556\n",
              "term                     2\n",
              "int_rate               654\n",
              "installment          83307\n",
              "grade                    7\n",
              "sub_grade               35\n",
              "emp_title           378353\n",
              "emp_length              11\n",
              "home_ownership           6\n",
              "annual_inc           64362\n",
              "loan_status              2\n",
              "purpose                 14\n",
              "zip_code               943\n",
              "addr_state              51\n",
              "dti                   7067\n",
              "fico_range_low          40\n",
              "fico_range_high         40\n",
              "pub_rec                 37\n",
              "application_type         2\n",
              "dtype: int64"
            ]
          },
          "metadata": {
            "tags": []
          },
          "execution_count": 135
        }
      ]
    },
    {
      "cell_type": "code",
      "metadata": {
        "id": "N1IFYf1G36V3",
        "outputId": "95689cd1-5ffa-4d74-bcdd-472d36f59699",
        "colab": {
          "base_uri": "https://localhost:8080/"
        }
      },
      "source": [
        "df_Accepted.isnull().sum()"
      ],
      "execution_count": 136,
      "outputs": [
        {
          "output_type": "execute_result",
          "data": {
            "text/plain": [
              "loan_amnt               0\n",
              "term                    0\n",
              "int_rate                0\n",
              "installment             0\n",
              "grade                   0\n",
              "sub_grade               0\n",
              "emp_title           85785\n",
              "emp_length          78511\n",
              "home_ownership          0\n",
              "annual_inc              0\n",
              "loan_status             0\n",
              "purpose                 0\n",
              "zip_code                1\n",
              "addr_state              0\n",
              "dti                   374\n",
              "fico_range_low          0\n",
              "fico_range_high         0\n",
              "pub_rec                 0\n",
              "application_type        0\n",
              "dtype: int64"
            ]
          },
          "metadata": {
            "tags": []
          },
          "execution_count": 136
        }
      ]
    },
    {
      "cell_type": "markdown",
      "metadata": {
        "id": "eMU9yQmD4H7s"
      },
      "source": [
        "**loan amount**"
      ]
    },
    {
      "cell_type": "code",
      "metadata": {
        "id": "7apZyevE3_Mn",
        "outputId": "0ef15e3f-a846-484f-c194-97e729a836bf",
        "colab": {
          "base_uri": "https://localhost:8080/"
        }
      },
      "source": [
        "df_Accepted[\"loan_amnt\"].describe()"
      ],
      "execution_count": 137,
      "outputs": [
        {
          "output_type": "execute_result",
          "data": {
            "text/plain": [
              "count    1.345310e+06\n",
              "mean     1.441997e+04\n",
              "std      8.717051e+03\n",
              "min      5.000000e+02\n",
              "25%      8.000000e+03\n",
              "50%      1.200000e+04\n",
              "75%      2.000000e+04\n",
              "max      4.000000e+04\n",
              "Name: loan_amnt, dtype: float64"
            ]
          },
          "metadata": {
            "tags": []
          },
          "execution_count": 137
        }
      ]
    },
    {
      "cell_type": "code",
      "metadata": {
        "id": "BtqX85Bq3_VT",
        "outputId": "cea4df6c-81bc-4efb-cd46-fdd90fb52cbc",
        "colab": {
          "base_uri": "https://localhost:8080/",
          "height": 297
        }
      },
      "source": [
        "\n",
        "df_Accepted.describe()"
      ],
      "execution_count": 138,
      "outputs": [
        {
          "output_type": "execute_result",
          "data": {
            "text/html": [
              "<div>\n",
              "<style scoped>\n",
              "    .dataframe tbody tr th:only-of-type {\n",
              "        vertical-align: middle;\n",
              "    }\n",
              "\n",
              "    .dataframe tbody tr th {\n",
              "        vertical-align: top;\n",
              "    }\n",
              "\n",
              "    .dataframe thead th {\n",
              "        text-align: right;\n",
              "    }\n",
              "</style>\n",
              "<table border=\"1\" class=\"dataframe\">\n",
              "  <thead>\n",
              "    <tr style=\"text-align: right;\">\n",
              "      <th></th>\n",
              "      <th>loan_amnt</th>\n",
              "      <th>int_rate</th>\n",
              "      <th>installment</th>\n",
              "      <th>annual_inc</th>\n",
              "      <th>dti</th>\n",
              "      <th>fico_range_low</th>\n",
              "      <th>fico_range_high</th>\n",
              "      <th>pub_rec</th>\n",
              "    </tr>\n",
              "  </thead>\n",
              "  <tbody>\n",
              "    <tr>\n",
              "      <th>count</th>\n",
              "      <td>1.345310e+06</td>\n",
              "      <td>1.345310e+06</td>\n",
              "      <td>1.345310e+06</td>\n",
              "      <td>1.345310e+06</td>\n",
              "      <td>1.344936e+06</td>\n",
              "      <td>1.345310e+06</td>\n",
              "      <td>1.345310e+06</td>\n",
              "      <td>1.345310e+06</td>\n",
              "    </tr>\n",
              "    <tr>\n",
              "      <th>mean</th>\n",
              "      <td>1.441997e+04</td>\n",
              "      <td>1.323962e+01</td>\n",
              "      <td>4.380755e+02</td>\n",
              "      <td>7.624764e+04</td>\n",
              "      <td>1.828267e+01</td>\n",
              "      <td>6.961850e+02</td>\n",
              "      <td>7.001852e+02</td>\n",
              "      <td>2.152760e-01</td>\n",
              "    </tr>\n",
              "    <tr>\n",
              "      <th>std</th>\n",
              "      <td>8.717051e+03</td>\n",
              "      <td>4.768716e+00</td>\n",
              "      <td>2.615126e+02</td>\n",
              "      <td>6.992510e+04</td>\n",
              "      <td>1.116045e+01</td>\n",
              "      <td>3.185251e+01</td>\n",
              "      <td>3.185316e+01</td>\n",
              "      <td>6.018647e-01</td>\n",
              "    </tr>\n",
              "    <tr>\n",
              "      <th>min</th>\n",
              "      <td>5.000000e+02</td>\n",
              "      <td>5.310000e+00</td>\n",
              "      <td>4.930000e+00</td>\n",
              "      <td>0.000000e+00</td>\n",
              "      <td>-1.000000e+00</td>\n",
              "      <td>6.250000e+02</td>\n",
              "      <td>6.290000e+02</td>\n",
              "      <td>0.000000e+00</td>\n",
              "    </tr>\n",
              "    <tr>\n",
              "      <th>25%</th>\n",
              "      <td>8.000000e+03</td>\n",
              "      <td>9.750000e+00</td>\n",
              "      <td>2.484800e+02</td>\n",
              "      <td>4.578000e+04</td>\n",
              "      <td>1.179000e+01</td>\n",
              "      <td>6.700000e+02</td>\n",
              "      <td>6.740000e+02</td>\n",
              "      <td>0.000000e+00</td>\n",
              "    </tr>\n",
              "    <tr>\n",
              "      <th>50%</th>\n",
              "      <td>1.200000e+04</td>\n",
              "      <td>1.274000e+01</td>\n",
              "      <td>3.754300e+02</td>\n",
              "      <td>6.500000e+04</td>\n",
              "      <td>1.761000e+01</td>\n",
              "      <td>6.900000e+02</td>\n",
              "      <td>6.940000e+02</td>\n",
              "      <td>0.000000e+00</td>\n",
              "    </tr>\n",
              "    <tr>\n",
              "      <th>75%</th>\n",
              "      <td>2.000000e+04</td>\n",
              "      <td>1.599000e+01</td>\n",
              "      <td>5.807300e+02</td>\n",
              "      <td>9.000000e+04</td>\n",
              "      <td>2.406000e+01</td>\n",
              "      <td>7.100000e+02</td>\n",
              "      <td>7.140000e+02</td>\n",
              "      <td>0.000000e+00</td>\n",
              "    </tr>\n",
              "    <tr>\n",
              "      <th>max</th>\n",
              "      <td>4.000000e+04</td>\n",
              "      <td>3.099000e+01</td>\n",
              "      <td>1.719830e+03</td>\n",
              "      <td>1.099920e+07</td>\n",
              "      <td>9.990000e+02</td>\n",
              "      <td>8.450000e+02</td>\n",
              "      <td>8.500000e+02</td>\n",
              "      <td>8.600000e+01</td>\n",
              "    </tr>\n",
              "  </tbody>\n",
              "</table>\n",
              "</div>"
            ],
            "text/plain": [
              "          loan_amnt      int_rate  ...  fico_range_high       pub_rec\n",
              "count  1.345310e+06  1.345310e+06  ...     1.345310e+06  1.345310e+06\n",
              "mean   1.441997e+04  1.323962e+01  ...     7.001852e+02  2.152760e-01\n",
              "std    8.717051e+03  4.768716e+00  ...     3.185316e+01  6.018647e-01\n",
              "min    5.000000e+02  5.310000e+00  ...     6.290000e+02  0.000000e+00\n",
              "25%    8.000000e+03  9.750000e+00  ...     6.740000e+02  0.000000e+00\n",
              "50%    1.200000e+04  1.274000e+01  ...     6.940000e+02  0.000000e+00\n",
              "75%    2.000000e+04  1.599000e+01  ...     7.140000e+02  0.000000e+00\n",
              "max    4.000000e+04  3.099000e+01  ...     8.500000e+02  8.600000e+01\n",
              "\n",
              "[8 rows x 8 columns]"
            ]
          },
          "metadata": {
            "tags": []
          },
          "execution_count": 138
        }
      ]
    },
    {
      "cell_type": "markdown",
      "metadata": {
        "id": "B-fbyNLH4SEr"
      },
      "source": [
        "**Interest Rate**"
      ]
    },
    {
      "cell_type": "code",
      "metadata": {
        "id": "6wTivgYU3_dU",
        "outputId": "2395b65a-cbf2-4da0-9e29-5478b4567b8a",
        "colab": {
          "base_uri": "https://localhost:8080/"
        }
      },
      "source": [
        "\n",
        "df_Accepted[\"int_rate\"].describe()"
      ],
      "execution_count": 139,
      "outputs": [
        {
          "output_type": "execute_result",
          "data": {
            "text/plain": [
              "count    1.345310e+06\n",
              "mean     1.323962e+01\n",
              "std      4.768716e+00\n",
              "min      5.310000e+00\n",
              "25%      9.750000e+00\n",
              "50%      1.274000e+01\n",
              "75%      1.599000e+01\n",
              "max      3.099000e+01\n",
              "Name: int_rate, dtype: float64"
            ]
          },
          "metadata": {
            "tags": []
          },
          "execution_count": 139
        }
      ]
    },
    {
      "cell_type": "markdown",
      "metadata": {
        "id": "Dr8ddoG64eik"
      },
      "source": [
        "OUTLIER DETECTION USING INTER QURTILE RANGE:"
      ]
    },
    {
      "cell_type": "code",
      "metadata": {
        "id": "eWU3mGEz3_hU",
        "outputId": "2b15afc2-e59c-4da8-f30b-312f2749c839",
        "colab": {
          "base_uri": "https://localhost:8080/"
        }
      },
      "source": [
        "Q1 = np.quantile(df_Accepted[\"int_rate\"],0.25)\n",
        "Q3 = np.quantile(df_Accepted[\"int_rate\"],0.75)\n",
        "IQR = Q3 - Q1\n",
        "\n",
        "Low_outliers = Q1-1.5*IQR\n",
        "High_outliers = Q3+1.5*IQR\n",
        "\n",
        "print(\"Low_outliers :\", round(Low_outliers,4))\n",
        "print(\"High_outliers :\", round(High_outliers,4))\n",
        "\n",
        "print(\"Q1 :\",Q1)\n",
        "print(\"Q3 :\", Q3)\n",
        "print(\"IQR :\", IQR)"
      ],
      "execution_count": 141,
      "outputs": [
        {
          "output_type": "stream",
          "text": [
            "Low_outliers : 0.39\n",
            "High_outliers : 25.35\n",
            "Q1 : 9.75\n",
            "Q3 : 15.99\n",
            "IQR : 6.24\n"
          ],
          "name": "stdout"
        }
      ]
    },
    {
      "cell_type": "markdown",
      "metadata": {
        "id": "UgJ-yhiQ5S1h"
      },
      "source": [
        "OUTLIER DETECTION USING Z-SCORE TECHNIQUE:\n",
        "\n",
        "Z score = (x -mean) / std. deviation "
      ]
    },
    {
      "cell_type": "code",
      "metadata": {
        "id": "DsBvWize5SGb",
        "outputId": "3d69079e-7f38-4453-c690-de912ab8ad0a",
        "colab": {
          "base_uri": "https://localhost:8080/"
        }
      },
      "source": [
        "data = df_Accepted[\"int_rate\"] \n",
        "mean = round(np.mean(data) , 4)\n",
        "std = round(np.std(data),4)\n",
        "print('mean of the dataset is', mean) \n",
        "print('std. deviation is', std)\n",
        "\n",
        "\n",
        "threshold = 3\n",
        "outlier = [] \n",
        "for i in data: \n",
        "    z = (i-mean)/std \n",
        "    if z > threshold: \n",
        "        outlier.append(i)\n",
        "\n",
        "print('outlier in dataset is', outlier)"
      ],
      "execution_count": 142,
      "outputs": [
        {
          "output_type": "stream",
          "text": [
            "mean of the dataset is 13.2396\n",
            "std. deviation is 4.7687\n",
            "outlier in dataset is [27.99, 28.49, 28.99, 28.99, 28.49, 27.99, 28.99, 27.99, 27.99, 27.88, 28.99, 28.49, 28.49, 27.88, 27.88, 27.88, 28.49, 28.99, 27.88, 28.99, 28.49, 28.99, 27.88, 27.88, 28.49, 27.88, 27.88, 28.49, 28.49, 28.49, 27.88, 28.49, 27.88, 27.88, 28.49, 28.49, 27.88, 27.88, 27.88, 28.99, 28.49, 28.49, 28.99, 27.88, 28.49, 28.49, 27.88, 27.88, 28.99, 28.49, 27.88, 28.49, 28.99, 27.88, 27.88, 27.88, 27.88, 27.88, 27.88, 27.88, 28.49, 28.49, 27.88, 27.88, 28.49, 28.99, 27.88, 28.49, 28.99, 27.88, 28.99, 27.88, 28.49, 28.49, 27.88, 27.88, 27.88, 27.88, 27.88, 28.49, 27.88, 27.88, 27.88, 27.88, 28.99, 28.49, 27.88, 27.88, 28.99, 27.88, 27.88, 27.88, 28.99, 27.88, 27.88, 28.49, 28.99, 28.49, 28.49, 28.49, 28.49, 28.49, 27.88, 28.99, 28.49, 27.88, 28.49, 28.99, 27.88, 28.99, 28.99, 27.88, 27.88, 28.99, 27.88, 28.49, 27.88, 27.88, 28.49, 28.99, 27.88, 27.88, 28.99, 27.88, 27.88, 28.99, 27.88, 27.88, 27.88, 28.49, 27.88, 28.49, 28.49, 28.99, 28.49, 27.88, 27.88, 27.88, 27.88, 28.49, 28.99, 27.88, 27.88, 28.49, 28.99, 27.88, 28.49, 28.49, 27.88, 27.88, 27.88, 27.88, 28.49, 27.88, 28.99, 27.88, 27.88, 28.99, 27.88, 28.49, 27.88, 28.49, 27.88, 27.88, 27.88, 27.88, 28.49, 28.49, 28.99, 27.88, 28.49, 27.88, 28.99, 28.99, 28.49, 27.88, 28.99, 27.88, 28.99, 27.88, 28.49, 28.49, 28.99, 28.99, 28.49, 28.49, 28.49, 28.49, 27.88, 28.49, 27.88, 28.49, 28.49, 28.99, 28.49, 28.49, 27.88, 28.49, 28.99, 28.99, 28.99, 27.88, 27.88, 28.49, 28.99, 27.88, 27.88, 27.88, 27.88, 27.88, 27.88, 28.49, 28.49, 28.99, 27.88, 28.49, 28.49, 28.99, 27.88, 28.99, 27.88, 27.88, 28.99, 27.88, 27.88, 28.49, 28.49, 28.99, 28.49, 28.49, 28.99, 28.49, 27.88, 28.99, 28.99, 28.49, 28.99, 28.99, 28.49, 27.88, 28.49, 27.88, 27.88, 28.99, 28.49, 27.88, 27.88, 28.49, 27.88, 28.99, 27.88, 27.88, 27.88, 27.88, 28.49, 28.49, 27.88, 27.88, 28.99, 28.49, 28.49, 28.99, 27.88, 28.99, 27.88, 28.99, 28.99, 28.99, 27.88, 27.88, 27.88, 28.99, 28.99, 27.88, 27.88, 27.88, 27.88, 27.88, 28.49, 28.99, 28.49, 28.49, 27.88, 27.88, 28.99, 27.88, 27.88, 27.88, 28.49, 27.88, 27.88, 28.99, 27.88, 28.99, 28.49, 27.88, 27.88, 28.99, 27.88, 28.49, 28.49, 27.88, 27.88, 27.88, 27.88, 28.49, 28.99, 28.49, 28.49, 27.88, 28.99, 28.49, 27.88, 27.88, 28.49, 28.99, 27.88, 28.49, 28.99, 27.88, 28.49, 28.49, 28.49, 28.49, 28.99, 27.88, 28.49, 28.49, 27.88, 28.99, 28.99, 28.49, 28.49, 27.88, 28.49, 27.88, 28.99, 28.99, 27.88, 27.88, 28.49, 27.88, 28.99, 27.88, 28.99, 28.99, 27.88, 28.49, 27.88, 27.88, 28.99, 28.99, 28.99, 28.49, 28.99, 28.49, 28.49, 27.88, 28.49, 28.99, 27.88, 27.88, 27.88, 27.88, 27.88, 28.99, 28.49, 27.88, 28.49, 27.88, 27.88, 27.88, 28.99, 28.49, 27.88, 27.88, 28.99, 28.49, 27.88, 27.88, 28.99, 27.88, 28.49, 27.88, 27.88, 28.49, 28.99, 27.88, 27.88, 27.88, 27.88, 27.88, 27.88, 27.88, 28.99, 28.49, 28.49, 27.88, 28.99, 28.99, 27.88, 27.88, 27.88, 27.88, 27.88, 28.49, 28.99, 28.49, 27.88, 28.49, 27.88, 27.88, 28.49, 27.88, 28.49, 28.49, 27.88, 30.65, 28.72, 30.75, 30.79, 29.69, 30.65, 30.94, 29.69, 28.72, 30.65, 30.79, 30.65, 30.17, 28.72, 30.17, 28.72, 28.72, 30.17, 28.72, 29.69, 28.72, 30.65, 29.69, 30.75, 28.72, 30.79, 28.72, 28.72, 29.69, 28.72, 29.69, 30.79, 28.72, 30.79, 28.72, 30.75, 30.75, 28.72, 28.72, 28.72, 30.65, 28.72, 29.69, 28.72, 28.72, 29.69, 28.72, 28.72, 30.75, 30.79, 30.65, 30.75, 28.72, 30.75, 30.17, 29.69, 28.72, 28.72, 28.72, 28.72, 30.79, 28.72, 29.69, 28.72, 29.69, 28.72, 28.72, 28.72, 28.72, 30.79, 30.65, 28.72, 28.72, 28.72, 28.72, 28.72, 30.17, 30.65, 30.79, 28.72, 28.72, 29.69, 30.79, 30.75, 30.79, 28.72, 28.72, 30.79, 28.72, 30.17, 28.72, 28.72, 28.72, 30.65, 30.79, 28.72, 30.75, 28.72, 28.72, 28.72, 28.72, 30.75, 29.69, 30.65, 28.72, 28.72, 28.72, 28.72, 30.65, 30.89, 28.72, 28.72, 30.65, 30.17, 28.72, 29.69, 28.72, 28.72, 30.17, 28.72, 30.17, 30.75, 29.69, 29.69, 30.17, 28.72, 28.72, 30.75, 28.72, 28.72, 30.17, 30.94, 28.72, 28.72, 30.17, 28.72, 28.72, 30.79, 30.65, 30.17, 28.72, 28.72, 29.69, 28.72, 30.79, 28.72, 28.72, 29.69, 30.17, 30.17, 30.17, 28.72, 28.72, 28.72, 28.72, 30.75, 29.69, 28.72, 28.72, 30.75, 28.72, 29.69, 28.72, 28.72, 30.65, 30.17, 28.72, 28.72, 30.79, 30.79, 30.17, 28.72, 28.72, 30.79, 28.72, 30.75, 29.69, 28.72, 28.72, 28.72, 28.72, 28.72, 30.79, 28.72, 28.72, 30.65, 28.72, 30.79, 30.17, 30.75, 28.72, 28.72, 28.72, 28.72, 30.17, 28.72, 28.72, 30.79, 28.72, 28.72, 30.75, 30.79, 29.69, 30.79, 30.79, 28.72, 30.79, 30.65, 28.72, 28.72, 30.79, 28.72, 28.72, 28.72, 30.17, 30.79, 28.72, 29.69, 28.72, 30.79, 30.65, 28.72, 28.72, 29.69, 30.65, 29.69, 28.72, 28.72, 28.72, 28.72, 30.65, 28.72, 28.72, 28.72, 29.69, 28.72, 28.72, 28.72, 30.65, 28.72, 28.72, 28.72, 28.72, 28.72, 30.75, 30.75, 30.65, 28.72, 28.72, 30.17, 28.72, 28.72, 30.79, 28.72, 30.17, 30.79, 28.72, 30.75, 30.75, 28.72, 28.72, 29.69, 30.65, 28.72, 28.72, 28.72, 30.79, 30.75, 28.72, 28.72, 28.72, 28.72, 28.72, 30.65, 28.72, 30.79, 30.17, 28.72, 29.69, 30.75, 30.65, 28.72, 28.72, 28.72, 28.72, 28.72, 28.72, 29.69, 28.72, 28.72, 28.72, 30.84, 30.89, 29.69, 28.72, 30.84, 30.17, 30.94, 30.99, 30.65, 30.65, 30.75, 30.17, 30.75, 30.17, 30.89, 30.94, 29.69, 28.72, 28.72, 30.75, 30.65, 30.65, 30.75, 30.89, 30.17, 30.17, 30.79, 30.65, 28.72, 30.75, 30.75, 30.79, 30.99, 30.79, 28.72, 30.94, 28.72, 30.65, 30.99, 28.72, 30.17, 30.17, 29.69, 30.75, 30.75, 28.72, 28.72, 30.79, 30.84, 30.84, 30.79, 30.79, 30.99, 30.99, 28.72, 30.94, 30.75, 30.65, 29.69, 28.72, 30.79, 30.17, 30.94, 30.79, 30.75, 30.75, 30.17, 30.75, 30.79, 30.79, 30.89, 30.99, 30.84, 30.84, 30.79, 30.84, 30.99, 28.72, 30.79, 30.94, 30.75, 30.94, 30.79, 29.69, 30.75, 30.75, 30.75, 29.69, 30.94, 30.65, 30.99, 28.72, 28.72, 28.72, 30.94, 30.65, 30.17, 30.99, 30.75, 30.99, 30.17, 28.72, 30.75, 30.79, 30.94, 28.72, 30.84, 30.65, 30.79, 29.69, 30.65, 30.65, 30.94, 28.72, 30.65, 28.72, 29.69, 30.94, 30.79, 30.99, 30.94, 28.72, 30.89, 30.17, 30.84, 30.99, 30.65, 30.79, 30.94, 30.75, 28.72, 28.72, 30.94, 28.72, 28.72, 30.99, 30.89, 30.84, 30.65, 30.79, 30.84, 30.65, 30.84, 30.94, 30.99, 30.79, 30.17, 30.94, 30.75, 29.69, 28.72, 30.79, 29.69, 30.94, 30.75, 29.69, 30.79, 30.84, 30.75, 30.79, 30.79, 29.69, 30.84, 30.89, 30.75, 28.72, 29.69, 28.72, 30.89, 30.17, 30.94, 30.89, 30.84, 30.79, 30.65, 30.79, 28.72, 30.17, 30.79, 30.65, 30.94, 28.72, 30.17, 30.94, 30.79, 30.79, 30.75, 30.84, 30.65, 30.79, 30.65, 30.75, 30.17, 30.89, 30.79, 30.79, 30.79, 30.79, 28.72, 30.99, 30.99, 30.94, 30.17, 30.89, 30.89, 30.17, 28.72, 30.79, 30.94, 30.79, 30.75, 30.89, 30.99, 30.65, 30.75, 30.65, 28.72, 30.99, 30.75, 30.94, 28.72, 30.75, 30.84, 30.17, 30.75, 28.72, 30.99, 30.65, 30.99, 30.17, 30.17, 30.79, 30.79, 30.99, 30.99, 29.69, 28.72, 28.72, 30.75, 29.69, 29.69, 28.72, 30.99, 30.65, 30.17, 30.17, 30.75, 30.75, 30.75, 30.94, 30.84, 30.84, 30.84, 28.72, 30.65, 30.99, 30.17, 28.72, 30.89, 30.94, 30.75, 30.84, 30.75, 30.94, 30.84, 30.17, 30.94, 30.79, 28.72, 29.69, 30.65, 28.72, 30.89, 30.75, 30.17, 30.75, 28.72, 30.84, 30.79, 30.79, 30.79, 29.69, 30.65, 30.94, 30.94, 30.65, 30.99, 30.65, 30.75, 30.17, 29.69, 30.84, 28.72, 30.99, 29.69, 30.65, 30.17, 30.79, 30.75, 30.17, 30.75, 30.79, 30.17, 30.65, 28.72, 30.65, 30.75, 30.99, 30.79, 30.84, 30.79, 30.89, 30.79, 30.79, 29.69, 30.75, 28.72, 30.75, 30.94, 30.89, 30.84, 30.65, 30.75, 30.84, 30.79, 30.75, 30.17, 30.79, 30.89, 30.17, 30.75, 29.69, 30.75, 30.79, 30.99, 30.79, 30.79, 30.94, 29.69, 28.72, 30.75, 30.79, 30.65, 30.65, 29.69, 30.99, 30.89, 30.65, 28.72, 30.99, 30.17, 30.79, 30.65, 30.94, 30.65, 30.75, 30.65, 30.75, 30.99, 30.99, 30.65, 30.99, 30.65, 30.17, 29.69, 30.94, 29.69, 30.89, 30.17, 30.75, 30.65, 30.84, 30.17, 30.99, 30.75, 30.89, 30.17, 30.17, 30.65, 30.94, 30.75, 30.17, 30.94, 30.89, 30.99, 30.99, 30.79, 30.79, 30.84, 30.65, 30.17, 30.99, 30.75, 30.17, 30.94, 30.94, 30.75, 30.75, 30.65, 30.94, 30.99, 30.75, 30.84, 30.75, 30.89, 30.75, 30.79, 30.99, 30.17, 30.65, 30.89, 30.79, 30.75, 30.79, 30.99, 30.17, 30.75, 30.17, 30.79, 30.65, 30.65, 30.89, 30.94, 30.94, 30.17, 30.94, 30.99, 30.99, 30.89, 30.94, 30.99, 29.69, 30.65, 30.79, 30.94, 30.17, 30.89, 30.65, 30.94, 30.89, 30.84, 30.89, 30.79, 30.65, 30.94, 30.89, 29.69, 30.89, 30.17, 30.89, 30.89, 30.94, 30.17, 30.17, 30.65, 30.79, 30.79, 30.75, 30.65, 30.99, 30.99, 30.99, 30.99, 30.65, 30.99, 30.89, 30.75, 30.99, 30.89, 30.94, 30.89, 30.17, 30.65, 30.84, 30.17, 30.99, 29.69, 29.69, 30.79, 30.79, 30.99, 30.99, 30.65, 30.17, 30.94, 30.17, 30.99, 30.65, 30.79, 30.17, 30.65, 30.17, 30.99, 30.94, 29.69, 30.99, 30.79, 30.75, 30.99, 29.69, 30.65, 30.17, 30.84, 30.99, 30.65, 30.89, 30.79, 30.17, 30.17, 30.99, 30.75, 30.99, 30.94, 30.99, 30.65, 30.94, 29.69, 30.94, 30.75, 30.84, 30.84, 30.79, 30.94, 30.89, 30.84, 30.65, 30.79, 30.79, 30.84, 30.94, 30.99, 30.75, 30.99, 30.17, 29.69, 30.99, 30.17, 29.69, 30.99, 29.69, 30.65, 30.99, 30.99, 30.99, 30.99, 30.17, 30.94, 30.89, 30.17, 30.84, 30.99, 30.99, 30.89, 30.99, 30.17, 30.17, 30.65, 30.89, 30.84, 30.65, 30.17, 30.89, 30.94, 30.94, 30.99, 30.84, 30.89, 30.17, 30.17, 29.69, 29.69, 30.99, 30.89, 30.79, 30.17, 30.65, 30.99, 30.17, 29.69, 30.94, 30.79, 30.94, 30.17, 30.65, 30.65, 30.94, 30.89, 30.75, 30.17, 30.94, 30.65, 30.65, 30.99, 30.84, 30.17, 29.69, 30.79, 30.65, 30.94, 30.17, 30.17, 30.99, 30.75, 30.75, 30.75, 30.94, 30.65, 30.84, 30.94, 29.69, 30.94, 30.84, 30.89, 30.79, 30.94, 30.99, 30.99, 30.79, 29.69, 29.69, 30.99, 30.94, 30.89, 30.65, 30.84, 30.75, 30.79, 30.75, 30.17, 30.84, 30.75, 30.99, 30.99, 30.65, 29.69, 30.94, 30.99, 30.89, 30.94, 30.17, 30.65, 30.79, 30.94, 30.65, 30.99, 30.94, 30.84, 30.99, 30.17, 30.99, 30.99, 30.75, 30.94, 30.75, 30.89, 30.79, 30.75, 29.69, 30.99, 30.65, 30.89, 28.72, 30.94, 30.89, 30.65, 30.75, 30.94, 30.94, 30.17, 30.65, 29.69, 30.65, 30.89, 30.17, 30.65, 30.89, 30.65, 30.89, 30.94, 30.94, 30.75, 30.89, 30.75, 30.75, 30.89, 30.94, 29.69, 30.75, 30.79, 30.89, 30.84, 30.94, 30.89, 30.99, 30.75, 30.17, 30.65, 30.94, 30.17, 30.79, 30.75, 30.75, 30.75, 30.99, 30.84, 30.65, 29.69, 30.75, 30.75, 30.17, 30.99, 30.94, 30.84, 30.65, 30.94, 30.75, 29.69, 30.17, 30.94, 29.69, 30.84, 30.79, 30.99, 30.65, 30.17, 30.17, 30.75, 30.75, 30.75, 30.65, 30.75, 30.65, 30.94, 30.99, 30.75, 30.65, 30.89, 30.65, 30.94, 30.65, 30.89, 30.94, 30.94, 30.84, 30.84, 30.75, 30.17, 30.65, 30.89, 30.94, 30.65, 30.84, 30.99, 29.69, 30.94, 30.75, 30.75, 29.69, 30.65, 30.94, 30.75, 30.17, 30.94, 30.65, 30.94, 30.65, 30.99, 29.69, 30.94, 30.75, 30.99, 30.84, 29.69, 30.17, 30.94, 30.99, 30.75, 30.65, 30.65, 30.99, 30.65, 30.65, 30.89, 30.84, 30.84, 30.89, 30.17, 30.99, 30.65, 30.17, 30.89, 30.79, 30.17, 30.79, 30.99, 30.94, 30.89, 30.17, 30.65, 29.69, 30.79, 30.65, 30.17, 29.69, 30.79, 30.94, 30.75, 30.84, 30.89, 30.84, 30.17, 30.79, 30.94, 30.17, 30.94, 30.89, 30.89, 30.17, 30.75, 30.75, 30.17, 30.84, 30.99, 30.94, 30.79, 30.17, 29.69, 29.69, 30.89, 30.89, 30.84, 30.94, 30.94, 30.17, 29.69, 29.69, 30.75, 30.75, 30.89, 29.69, 30.75, 30.17, 30.65, 30.94, 30.84, 30.94, 30.65, 29.69, 30.94, 30.75, 30.75, 30.65, 30.84, 29.69, 30.17, 30.75, 30.75, 30.79, 30.75, 30.79, 30.65, 30.17, 30.89, 30.99, 30.94, 30.94, 30.99, 30.79, 30.79, 30.75, 30.79, 30.65, 30.79, 30.94, 30.99, 30.84, 30.65, 30.79, 30.89, 29.69, 29.69, 30.17, 30.84, 30.75, 30.17, 29.69, 30.17, 30.99, 30.75, 30.17, 30.75, 29.69, 30.84, 30.84, 30.79, 30.75, 30.89, 30.17, 30.79, 30.99, 30.75, 30.17, 29.69, 30.99, 30.84, 30.17, 30.17, 30.94, 30.79, 30.75, 30.99, 30.99, 30.65, 30.79, 30.99, 30.65, 30.65, 30.84, 30.99, 30.99, 30.94, 30.79, 30.94, 30.99, 30.75, 30.94, 30.65, 30.79, 30.94, 30.75, 30.89, 30.89, 30.75, 30.89, 30.79, 30.89, 30.84, 30.75, 30.65, 30.99, 30.89, 30.89, 30.84, 30.99, 30.79, 30.99, 30.17, 30.79, 30.94, 30.75, 29.69, 29.69, 30.79, 30.79, 29.69, 30.89, 30.79, 30.99, 30.94, 30.17, 30.94, 30.75, 30.94, 30.17, 30.65, 30.17, 30.17, 30.17, 30.89, 30.75, 30.94, 30.94, 30.99, 30.75, 30.79, 30.17, 30.65, 30.65, 30.94, 30.84, 30.75, 30.79, 30.94, 30.94, 30.89, 30.94, 30.75, 30.89, 30.79, 30.65, 30.75, 30.89, 30.89, 30.89, 30.65, 30.94, 30.94, 30.99, 30.89, 30.99, 30.17, 30.75, 29.69, 30.94, 30.99, 30.99, 30.79, 30.84, 30.99, 30.65, 29.69, 30.75, 30.89, 30.99, 30.84, 30.99, 30.75, 30.79, 30.84, 30.84, 30.84, 30.75, 30.79, 29.69, 30.65, 30.94, 30.17, 30.17, 30.17, 30.75, 30.17, 30.65, 30.99, 30.17, 30.75, 30.79, 30.84, 30.84, 30.94, 30.99, 30.79, 29.69, 30.75, 30.75, 30.99, 29.69, 30.99, 30.99, 30.17, 30.99, 30.75, 30.84, 30.65, 30.99, 30.94, 30.84, 30.75, 30.17, 30.65, 30.99, 30.79, 30.94, 29.69, 30.75, 30.17, 30.75, 30.94, 30.17, 30.94, 30.99, 29.69, 30.99, 30.99, 30.94, 30.75, 30.75, 30.75, 30.75, 30.65, 30.79, 30.17, 30.89, 30.75, 30.75, 30.94, 30.84, 30.65, 30.89, 30.65, 30.17, 30.17, 30.84, 30.75, 30.84, 30.94, 29.69, 30.79, 30.17, 30.79, 30.17, 30.99, 29.69, 30.84, 30.65, 30.17, 30.17, 30.79, 30.75, 30.89, 30.17, 30.84, 30.79, 30.84, 30.99, 30.79, 30.99, 30.75, 30.17, 30.99, 30.84, 30.99, 30.89, 30.84, 30.75, 30.94, 30.89, 30.99, 30.65, 29.69, 30.94, 30.65, 30.84, 30.65, 30.75, 30.84, 30.75, 30.99, 30.89, 30.65, 28.72, 30.89, 30.75, 30.75, 30.84, 30.65, 30.17, 30.65, 30.65, 29.69, 30.99, 30.79, 30.75, 30.17, 30.17, 30.99, 30.89, 30.89, 30.84, 30.79, 30.94, 30.99, 29.69, 30.75, 30.89, 30.17, 30.17, 30.84, 29.69, 30.94, 30.79, 30.99, 30.75, 30.89, 29.69, 30.65, 30.79, 30.94, 30.79, 30.65, 30.89, 29.69, 30.79, 30.84, 30.89, 30.17, 30.99, 30.17, 30.79, 30.89, 30.89, 30.17, 30.89, 30.94, 30.94, 30.94, 30.65, 30.75, 30.89, 30.99, 30.65, 30.94, 30.65, 30.79, 30.94, 30.75, 30.89, 30.94, 30.84, 30.65, 30.75, 30.75, 30.84, 30.17, 30.79, 30.84, 29.69, 30.79, 30.99, 30.79, 30.65, 30.17, 30.89, 30.94, 29.69, 30.17, 30.17, 30.99, 30.99, 30.89, 30.79, 30.94, 30.79, 30.89, 30.75, 30.79, 30.89, 30.89, 30.17, 30.84, 30.84, 30.99, 30.65, 30.79, 30.99, 30.89, 30.17, 30.79, 29.69, 30.75, 30.94, 30.79, 30.84, 30.17, 29.69, 30.99, 30.75, 30.89, 30.99, 30.99, 30.89, 30.99, 30.79, 30.89, 30.79, 30.94, 30.17, 30.65, 30.75, 30.17, 30.65, 30.17, 30.17, 30.94, 30.65, 30.84, 30.94, 30.65, 30.17, 30.79, 29.69, 30.99, 30.79, 30.17, 30.65, 30.84, 30.99, 29.69, 30.89, 30.79, 30.17, 30.65, 30.75, 30.65, 30.84, 30.17, 30.89, 30.17, 29.69, 30.75, 30.17, 30.94, 30.75, 30.17, 30.99, 30.99, 30.89, 30.99, 30.75, 30.99, 30.79, 30.99, 30.79, 30.75, 29.69, 30.75, 30.94, 30.75, 30.84, 30.75, 30.17, 29.69, 30.17, 30.99, 30.94, 30.94, 30.17, 30.99, 30.17, 30.99, 30.17, 30.17, 30.89, 30.84, 30.94, 30.17, 30.94, 30.94, 30.79, 30.89, 30.79, 30.79, 30.89, 30.65, 30.75, 30.94, 30.65, 30.79, 30.89, 30.89, 30.84, 30.17, 30.89, 30.84, 30.99, 30.79, 29.69, 30.99, 30.79, 30.17, 30.94, 30.84, 30.79, 30.17, 29.69, 30.94, 30.94, 30.75, 30.79, 30.99, 29.69, 30.99, 30.99, 30.99, 30.17, 30.75, 30.89, 30.99, 30.99, 30.89, 30.84, 30.94, 30.65, 30.17, 30.99, 30.94, 30.99, 30.17, 30.89, 30.99, 30.94, 30.17, 30.89, 30.65, 30.94, 29.69, 30.94, 30.99, 30.17, 30.79, 30.17, 30.99, 30.65, 30.94, 30.65, 30.94, 30.79, 30.99, 30.89, 30.89, 30.84, 30.94, 30.79, 30.84, 29.69, 30.75, 30.99, 30.94, 30.79, 30.89, 30.75, 30.75, 30.65, 30.17, 30.79, 30.75, 30.17, 30.17, 30.99, 30.84, 30.65, 30.79, 29.69, 30.17, 30.17, 30.79, 29.69, 30.65, 30.79, 30.99, 30.17, 30.89, 30.89, 29.69, 30.99, 30.65, 30.65, 29.69, 30.79, 30.94, 30.84, 30.89, 30.65, 30.89, 29.69, 30.94, 30.94, 30.94, 30.75, 30.75, 30.17, 30.94, 30.75, 30.94, 30.79, 30.65, 30.99, 30.89, 30.65, 30.94, 30.94, 30.84, 30.94, 30.84, 29.69, 30.99, 30.99, 30.99, 29.69, 30.99, 30.99, 30.79, 30.84, 29.69, 30.79, 30.75, 28.72, 29.69, 30.17, 30.99, 30.17, 29.69, 30.89, 30.94, 30.89, 30.65, 30.99, 30.99, 30.94, 30.79, 30.89, 30.65, 29.69, 30.89, 30.17, 30.17, 29.69, 30.75, 30.99, 30.17, 29.69, 30.89, 30.75, 30.17, 30.75, 30.79, 30.94, 30.79, 30.84, 30.17, 30.94, 30.94, 30.94, 30.94, 30.99, 30.17, 30.99, 30.79, 30.65, 30.94, 30.99, 30.65, 30.75, 30.75, 30.94, 30.99, 30.94, 30.17, 30.99, 30.89, 30.17, 30.99, 30.89, 30.79, 30.99, 29.69, 30.65, 30.75, 30.17, 30.17, 30.65, 30.65, 30.89, 30.94, 30.17, 30.89, 30.84, 30.84, 30.75, 30.99, 30.94, 30.89, 30.79, 29.69, 30.75, 30.89, 30.99, 30.75, 30.79, 30.79, 30.65, 30.17, 30.99, 30.17, 30.75, 30.17, 30.79, 30.79, 30.75, 30.94, 30.89, 30.94, 30.17, 30.94, 30.99, 30.99, 30.89, 30.84, 30.17, 30.75, 30.99, 29.69, 30.94, 30.65, 30.75, 29.69, 30.17, 30.89, 29.69, 30.94, 30.79, 30.65, 30.65, 30.79, 30.65, 29.69, 30.17, 30.75, 30.99, 30.94, 30.17, 30.99, 29.69, 30.17, 30.94, 30.75, 30.75, 30.65, 30.99, 30.75, 30.94, 30.75, 28.72, 30.89, 30.99, 30.79, 30.17, 30.89, 30.99, 30.94, 30.65, 30.84, 30.94, 30.75, 30.65, 30.89, 30.89, 30.79, 29.69, 30.94, 30.94, 30.17, 30.99, 30.17, 30.84, 28.72, 30.65, 30.84, 30.84, 30.75, 30.17, 30.84, 30.17, 30.17, 30.65, 30.94, 28.72, 30.17, 29.69, 30.65, 29.69, 30.17, 29.69, 30.17, 30.17, 30.89, 30.75, 29.69, 30.75, 30.84, 29.69, 30.79, 30.75, 30.94, 30.89, 30.65, 30.84, 30.94, 30.94, 30.75, 30.17, 30.75, 30.99, 30.94, 30.17, 30.89, 30.75, 30.89, 30.99, 30.75, 30.94, 30.79, 30.65, 30.79, 30.89, 30.89, 30.94, 30.89, 30.75, 30.99, 30.84, 30.84, 30.94, 30.65, 30.75, 30.84, 30.94, 30.99, 30.79, 30.99, 30.65, 30.99, 30.79, 28.72, 30.84, 30.84, 30.89, 30.79, 30.65, 30.99, 30.79, 30.17, 30.89, 30.79, 30.99, 30.79, 30.99, 30.89, 30.79, 30.89, 30.99, 30.99, 30.65, 30.79, 30.79, 30.89, 30.99, 30.75, 30.75, 30.65, 30.89, 29.69, 30.75, 29.69, 30.65, 30.65, 30.94, 30.84, 30.17, 30.65, 30.89, 30.75, 30.94, 28.72, 30.99, 30.79, 30.75, 30.89, 30.89, 30.94, 30.65, 30.84, 30.94, 30.75, 30.94, 30.84, 30.94, 30.94, 30.79, 30.94, 30.94, 30.79, 30.84, 30.84, 28.72, 30.94, 30.94, 30.17, 30.17, 30.99, 30.17, 30.17, 30.75, 30.79, 30.94, 28.72, 30.94, 30.89, 28.72, 30.75, 30.65, 30.89, 29.69, 30.79, 30.99, 30.94, 29.69, 30.94, 30.84, 30.65, 29.69, 29.69, 30.75, 30.94, 30.94, 30.17, 30.99, 30.17, 29.69, 30.79, 30.89, 30.65, 30.94, 30.84, 30.89, 30.99, 30.17, 30.89, 30.17, 30.75, 30.17, 28.72, 30.84, 30.84, 30.84, 30.79, 30.84, 28.72, 30.75, 30.65, 30.84, 30.79, 29.69, 30.89, 30.75, 30.94, 30.89, 30.89, 28.72, 30.84, 29.69, 28.72, 30.65, 30.17, 28.72, 30.65, 30.65, 30.79, 30.65, 30.79, 30.94, 30.79, 30.99, 30.17, 30.89, 30.65, 28.88, 28.18, 27.79, 29.96, 27.79, 28.18, 28.88, 27.79, 28.18, 28.18, 27.79, 28.18, 28.88, 27.79, 28.18, 27.79, 28.88, 28.18, 29.67, 29.67, 29.67, 29.96, 27.79, 27.79, 29.96, 27.79, 27.79, 28.18, 27.79, 29.96, 28.18, 27.79, 28.88, 30.99, 27.79, 29.67, 30.99, 29.96, 29.67, 29.67, 27.79, 27.79, 27.79, 28.18, 27.79, 28.18, 28.18, 28.18, 28.18, 28.88, 28.88, 27.79, 28.88, 28.18, 29.96, 27.79, 28.88, 29.67, 27.79, 27.79, 29.67, 28.18, 28.18, 28.88, 28.18, 28.18, 28.88, 29.67, 28.18, 28.18, 28.18, 30.99, 28.18, 29.67, 28.88, 29.96, 29.96, 28.18, 28.18, 28.18, 30.99, 28.88, 28.88, 29.67, 29.96, 28.88, 28.18, 28.88, 29.96, 30.99, 28.18, 28.18, 30.99, 28.18, 29.67, 28.18, 30.99, 29.67, 28.88, 29.67, 28.88, 28.18, 29.67, 28.18, 28.18, 29.67, 29.96, 28.88, 28.88, 29.96, 30.99, 29.67, 28.18, 29.67, 28.18, 28.88, 29.67, 29.67, 28.18, 29.67, 28.18, 29.96, 28.88, 28.18, 29.96, 28.88, 28.88, 29.96, 28.88, 30.99, 30.99, 29.67, 29.67, 29.96, 30.99, 29.96, 28.88, 28.18, 29.96, 29.67, 29.96, 28.18, 28.18, 28.88, 28.88, 28.18, 28.88, 29.96, 29.67, 28.88, 28.18, 28.88, 30.99, 29.67, 29.67, 28.18, 28.88, 29.96, 28.88, 30.99, 28.18, 29.67, 28.88, 28.18, 28.18, 28.18, 28.88, 30.99, 28.88, 29.67, 30.99, 28.18, 28.18, 28.88, 28.88, 28.18, 29.67, 28.18, 29.67, 29.96, 28.88, 29.96, 28.88, 28.18, 30.99, 28.18, 30.99, 28.88, 28.88, 28.18, 29.96, 28.18, 28.88, 28.18, 29.67, 28.88, 28.88, 28.88, 28.18, 28.88, 28.18, 28.18, 28.18, 28.88, 29.67, 28.18, 28.88, 28.88, 28.18, 28.18, 28.18, 29.67, 29.96, 29.96, 29.67, 29.96, 28.88, 29.96, 28.18, 28.18, 28.18, 29.96, 29.96, 28.88, 30.99, 28.18, 28.88, 28.88, 29.67, 28.18, 28.67, 28.99, 28.88, 28.88, 28.18, 29.67, 28.34, 28.67, 28.34, 28.18, 28.99, 28.67, 28.34, 30.99, 29.67, 28.18, 29.96, 29.67, 30.99, 28.99, 28.99, 29.67, 28.14, 29.96, 28.18, 28.34, 28.14, 30.99, 28.18, 28.88, 28.34, 29.67, 28.14, 28.14, 28.18, 29.96, 28.14, 28.14, 28.18, 28.14, 28.67, 28.34, 28.34, 28.88, 28.14, 28.88, 29.96, 28.88, 28.14, 28.14, 28.34, 29.67, 28.67, 29.67, 28.14, 28.99, 28.34, 28.99, 28.67, 29.96, 28.34, 28.14, 28.34, 28.67, 28.99, 28.67, 28.14, 28.34, 28.34, 28.14, 28.67, 28.67, 28.14, 28.99, 28.34, 28.14, 28.99, 28.34, 28.34, 28.14, 28.14, 28.99, 28.14, 28.99, 28.99, 28.14, 28.34, 28.14, 28.14, 28.99, 28.14, 28.99, 28.14, 28.34, 28.34, 28.34, 28.99, 28.67, 28.99, 28.34, 28.67, 28.34, 28.34, 28.34, 28.14, 28.67, 28.34, 28.99, 28.14, 28.34, 28.34, 28.14, 28.14, 28.99, 28.34, 28.67, 28.34, 28.14, 28.99, 28.99, 28.99, 28.99, 28.99, 28.14, 28.99, 28.67, 28.67, 28.14, 28.14, 28.99, 28.34, 28.14, 28.99, 28.34, 28.34, 28.34, 28.99, 28.14, 28.99, 28.34, 28.14, 28.34, 28.67, 28.99, 28.34, 28.34, 28.34, 28.34, 28.14, 28.14, 28.34, 28.34, 28.67, 28.67, 28.34, 28.99, 28.14, 28.67, 28.67, 28.67, 28.34, 28.14, 28.67, 28.99, 28.34, 28.14, 28.67, 28.67, 28.14, 28.14, 28.67, 28.34, 28.67, 28.14, 28.99, 28.14, 28.34, 28.67, 28.67, 28.99, 28.34, 28.67, 28.67, 28.99, 28.99, 28.34, 28.67, 28.99, 28.67, 28.99, 28.14, 28.67, 28.14, 28.99, 28.34, 28.34, 28.67, 28.67, 28.99, 28.34, 28.34, 28.99, 28.14, 28.14, 28.67, 28.34, 28.14, 28.14, 28.14, 28.14, 28.99, 28.99, 28.34, 28.99, 28.99, 28.14, 28.67, 28.99, 28.34, 28.67, 30.99, 30.17, 30.65, 28.72, 29.69, 30.75, 30.79, 30.84, 29.69, 30.89, 29.69, 29.69, 30.17, 28.72, 28.72, 30.17, 28.72, 28.72, 29.69, 28.72, 30.79, 28.72, 28.72, 28.72, 29.69, 30.99, 28.72, 30.75, 30.17, 28.72, 29.69, 30.79, 30.75, 28.72, 28.72, 29.69, 30.65, 30.65, 30.65, 30.17, 30.89, 30.75, 29.69, 29.69, 30.17, 29.69, 29.69, 30.75, 29.69, 30.89, 28.72, 28.72, 28.72, 28.72, 29.69, 30.79, 30.79, 30.17, 30.79, 30.65, 28.72, 30.17, 28.72, 28.72, 29.69, 30.17, 28.72, 30.17, 29.69, 30.89, 28.72, 30.65, 28.72, 29.69, 29.69, 30.65, 30.84, 30.94, 30.79, 28.72, 30.65, 30.17, 28.72, 30.79, 30.65, 28.72, 28.72, 28.72, 29.69, 30.65, 29.69, 30.65, 28.72, 30.89, 28.72, 30.17, 30.75, 30.65, 30.65, 30.79, 29.69, 30.75, 28.72, 30.17, 29.69, 28.72, 30.17, 28.72, 30.75, 30.75, 30.79, 30.17, 30.65, 29.69, 28.72, 30.79, 29.69, 28.72, 30.79, 30.79, 29.69, 28.72, 28.72, 29.69, 30.17, 30.79, 30.79, 28.72, 29.69, 30.75, 30.84, 29.69, 28.72, 30.79, 28.72, 28.72, 28.72, 30.75, 29.69, 29.69, 30.79, 30.79, 28.72, 29.69, 30.75, 28.72, 30.75, 30.84, 30.17, 30.79, 30.17, 30.17, 28.72, 29.69, 28.72, 28.72, 29.69, 30.17, 30.79, 30.17, 29.69, 30.17, 30.79, 30.79, 28.72, 28.72, 29.69, 28.72, 29.69, 28.72, 30.79, 30.17, 28.72, 30.17, 30.17, 28.72, 28.72, 30.65, 30.79, 28.72, 30.17, 30.65, 30.75, 30.94, 30.65, 28.72, 30.79, 29.69, 30.79, 30.75, 28.72, 30.79, 30.17, 30.79, 28.72, 29.69, 30.17, 30.89, 30.79, 28.72, 30.75, 30.79, 30.65, 30.17, 30.79, 30.75, 29.69, 28.72, 30.75, 30.79, 30.79, 30.65, 29.69, 30.89, 29.69, 30.17, 30.75, 30.17, 30.75, 30.17, 29.69, 30.84, 29.69, 30.75, 30.17, 29.69, 29.69, 30.94, 30.17, 29.69, 28.72, 30.79, 30.75, 30.65, 30.94, 30.65, 30.79, 30.94, 30.79, 30.94, 29.69, 29.69, 30.79, 30.17, 30.94, 30.17, 29.69, 29.69, 30.75, 30.99, 30.65, 30.65, 30.79, 30.65, 30.65, 30.84, 29.69, 30.17, 30.17, 29.69, 30.17, 30.94, 30.84, 30.17, 30.65, 30.84, 30.84, 30.84, 30.89, 29.69, 30.75, 30.84, 29.69, 30.17, 30.17, 30.79, 30.75, 30.17, 30.65, 30.99, 30.89, 30.89, 30.17, 30.17, 30.75, 29.69, 29.69, 30.79, 30.79, 30.99, 30.17, 30.79, 30.17, 29.69, 29.69, 30.17, 30.65, 30.84, 30.84, 30.75, 30.17, 29.69, 30.84, 30.84, 30.89, 30.17, 30.75, 30.75, 30.17, 30.75, 30.17, 29.69, 30.17, 30.79, 30.94, 30.89, 30.75, 30.75, 30.99, 29.69, 30.89, 30.79, 29.69, 30.17, 29.69, 30.94, 30.75, 29.69, 30.65, 28.72, 30.17, 29.69, 29.69, 30.99, 30.65, 30.75, 30.75, 30.99, 30.75, 30.65, 30.65, 30.84, 30.17, 30.75, 30.84, 30.84, 30.99, 30.75, 28.72, 29.69, 30.17, 29.69, 30.75, 29.69, 28.72, 30.94, 30.65, 28.72, 28.72, 30.79, 30.17, 29.69, 30.17, 30.94, 30.94, 30.94, 30.84, 29.69, 30.89, 30.99, 30.79, 30.99, 30.79, 30.84, 30.94, 30.79, 30.79, 30.79, 29.69, 29.69, 30.79, 30.17, 30.94, 30.17, 30.17, 28.72, 28.72, 30.89, 29.69, 29.69, 30.65, 30.79, 30.65, 28.72, 30.65, 30.79, 30.17, 29.69, 28.72, 30.17, 30.84, 30.79, 30.84, 30.99, 30.17, 30.84, 30.75, 30.17, 28.72, 30.94, 28.72, 29.69, 29.69, 30.17, 30.65, 30.79, 30.65, 30.75, 30.75, 30.17, 30.75, 30.17, 30.75, 30.79, 30.99, 29.69, 30.89, 29.69, 30.84, 30.99, 30.65, 30.84, 30.89, 30.94, 30.94, 30.75, 29.69, 30.75, 30.89, 30.84, 30.94, 28.72, 30.99, 30.89, 30.84, 30.79, 30.99, 30.84, 30.84, 30.89, 30.79, 30.65, 30.84, 29.69, 30.99, 30.17, 30.89, 30.84, 28.72, 29.69, 30.17, 30.84, 28.72, 28.72, 30.79, 28.72, 29.69, 30.89, 30.89, 30.89, 29.69, 30.99, 30.79, 28.72, 30.84, 30.17, 28.72, 29.69, 29.69, 30.65, 29.69, 30.89, 30.65, 30.89, 30.89, 30.99, 30.65, 30.94, 28.72, 28.72, 30.65, 30.17, 29.69, 29.69, 29.69, 29.69, 29.69, 30.65, 30.65, 30.84, 30.94, 30.89, 28.72, 30.17, 30.17, 30.79, 30.99, 29.69, 30.94, 30.17, 30.75, 30.65, 30.75, 30.84, 30.89, 30.17, 30.17, 30.17, 30.84, 30.94, 29.69, 29.69, 28.72, 30.65, 30.75, 30.75, 30.65, 30.84, 30.17, 29.69, 29.69, 30.94, 28.72, 30.79, 30.79, 30.99, 28.72, 30.65, 28.72, 30.79, 29.69, 30.99, 29.69, 30.79, 30.17, 30.75, 30.79, 28.72, 28.72, 30.89, 30.65, 30.84, 30.65, 30.65, 30.89, 30.65, 30.17, 29.69, 30.89, 30.75, 30.84, 30.75, 29.69, 30.75, 30.79, 28.72, 30.99, 30.94, 30.89, 29.69, 28.72, 30.99, 30.79, 28.72, 28.72, 30.89, 30.84, 28.72, 30.79, 30.94, 30.84, 28.72, 30.17, 30.17, 29.69, 29.69, 30.79, 30.99, 30.89, 28.72, 30.84, 29.69, 30.89, 30.94, 28.72, 30.75, 30.75, 30.75, 30.65, 30.79, 29.69, 30.75, 30.99, 30.17, 30.75, 30.79, 29.69, 30.79, 30.94, 30.84, 30.65, 30.84, 30.94, 30.17, 29.69, 30.79, 30.89, 30.65, 30.79, 30.89, 30.79, 30.75, 30.99, 30.84, 30.75, 28.72, 30.84, 28.72, 30.84, 30.65, 30.17, 30.79, 30.65, 30.84, 30.89, 30.89, 28.72, 29.69, 30.94, 30.84, 30.17, 30.75, 30.99, 29.69, 28.72, 30.65, 29.69, 30.75, 28.72, 30.17, 28.72, 30.89, 30.79, 28.72, 30.99, 30.65, 30.84, 30.17, 28.72, 30.65, 28.72, 28.72, 30.89, 30.79, 28.72, 30.99, 28.72, 30.94, 30.65, 30.65, 30.79, 30.17, 30.99, 29.69, 28.72, 29.69, 30.94, 28.72, 30.99, 30.75, 30.89, 30.17, 29.69, 30.84, 30.75, 28.72, 30.89, 30.17, 30.89, 29.69, 30.65, 30.94, 30.94, 30.84, 29.69, 30.75, 30.99, 30.99, 28.72, 28.72, 30.94, 30.17, 30.17, 30.79, 30.99, 30.79, 28.72, 30.79, 30.99, 30.99, 30.99, 29.69, 30.17, 30.65, 30.94, 30.94, 30.65, 30.99, 30.17, 30.79, 30.94, 30.79, 30.17, 28.72, 30.84, 29.69, 30.17, 28.72, 30.75, 30.75, 30.75, 28.72, 30.65, 30.17, 30.94, 29.69, 30.79, 29.69, 29.69, 30.94, 30.99, 30.79, 30.75, 29.49, 28.72, 30.89, 29.69, 29.69, 30.75, 30.79, 30.65, 30.99, 30.89, 29.69, 29.69, 30.17, 28.72, 29.69, 30.84, 29.69, 30.75, 30.84, 30.84, 30.17, 28.72, 30.17, 28.72, 30.79, 30.99, 30.75, 30.75, 29.69, 30.94, 30.65, 29.69, 30.17, 28.69, 30.17, 29.69, 29.69, 30.17, 30.84, 30.99, 30.17, 30.99, 30.65, 30.84, 30.79, 30.75, 30.65, 30.84, 28.72, 30.99, 30.84, 28.72, 30.99, 30.89, 29.69, 30.75, 29.69, 30.65, 30.99, 28.72, 30.99, 30.17, 29.99, 29.99, 30.17, 30.79, 30.65, 30.65, 30.65, 30.84, 30.65, 29.69, 29.69, 30.94, 28.72, 30.17, 30.75, 30.65, 30.17, 30.65, 30.75, 28.72, 30.89, 30.99, 29.69, 30.84, 30.79, 29.69, 30.89, 28.72, 28.72, 30.75, 30.17, 30.89, 30.17, 30.65, 28.69, 29.69, 30.17, 29.69, 30.17, 30.17, 28.72, 30.79, 30.17, 30.89, 28.72, 30.17, 30.99, 28.72, 28.72, 30.17, 30.89, 30.65, 30.94, 30.65, 30.94, 28.72, 29.69, 29.69, 30.17, 30.89, 30.79, 30.79, 30.65, 29.69, 30.79, 30.79, 30.94, 30.84, 28.72, 30.84, 30.84, 30.79, 30.94, 30.17, 30.89, 30.75, 28.69, 30.84, 29.69, 30.89, 30.75, 30.65, 30.79, 30.17, 30.94, 30.94, 30.94, 29.69, 30.17, 28.72, 30.99, 30.65, 30.65, 29.69, 28.72, 30.99, 29.69, 30.84, 28.72, 30.17, 29.69, 28.69, 30.94, 30.89, 30.84, 30.17, 30.17, 30.84, 29.69, 30.79, 29.69, 30.94, 29.69, 28.72, 29.69, 30.79, 29.69, 30.17, 28.69, 30.65, 30.79, 28.72, 28.72, 30.17, 30.99, 29.69, 28.69, 29.69, 29.69, 30.17, 30.65, 30.99, 30.65, 29.69, 28.72, 28.72, 30.17, 30.17, 30.89, 30.65, 30.17, 30.75, 30.75, 30.65, 30.65, 30.79, 30.79, 28.72, 29.49, 30.17, 29.69, 29.69, 29.99, 30.17, 30.17, 30.84, 30.99, 29.69, 30.79, 30.79, 30.79, 30.99, 29.69, 30.99, 29.49, 28.72, 28.72, 30.75, 29.69, 30.84, 30.75, 30.17, 30.17, 30.89, 30.65, 30.65, 30.74, 30.84, 30.49, 28.69, 30.74, 30.84, 30.75, 29.99, 30.49, 30.84, 28.72, 30.17, 30.79, 28.69, 29.99, 30.49, 30.79, 29.49, 28.72, 30.99, 30.89, 30.79, 28.69, 30.17, 30.79, 30.79, 30.49, 30.75, 28.69, 30.94, 29.49, 28.69, 28.69, 30.84, 28.69, 28.69, 30.17, 28.69, 29.49, 30.17, 30.74, 29.99, 30.65, 30.65, 30.65, 28.69, 30.65, 30.17, 30.17, 28.72, 29.99, 30.17, 30.17, 30.89, 30.17, 28.69, 28.69, 29.69, 30.84, 28.69, 30.49, 30.74, 30.99, 30.79, 30.74, 30.79, 29.49, 30.99, 29.49, 30.89, 30.79, 29.49, 28.69, 28.69, 30.49, 30.74, 30.74, 30.84, 29.69, 28.69, 30.65, 30.65, 30.17, 30.84, 28.69, 29.69, 29.99, 29.99, 29.49, 30.17, 30.49, 30.99, 30.79, 30.79, 30.89, 29.99, 29.49, 29.99, 28.72, 28.69, 30.17, 29.49, 30.94, 30.84, 30.65, 30.49, 30.94, 28.72, 28.69, 28.69, 30.84, 30.79, 30.99, 30.79, 28.72, 30.79, 29.49, 28.69, 29.99, 29.99, 30.49, 30.89, 30.99, 28.69, 30.75, 30.84, 29.49, 30.89, 30.79, 30.84, 29.49, 29.49, 29.99, 28.69, 30.79, 28.69, 28.69, 28.69, 30.89, 30.99, 28.69, 30.84, 30.74, 28.69, 30.94, 30.74, 28.69, 29.99, 28.69, 29.49, 28.69, 29.49, 30.79, 30.94, 30.49, 28.69, 29.99, 28.69, 29.49, 30.74, 30.49, 28.69, 30.74, 30.84, 29.99, 30.49, 30.84, 28.69, 30.49, 28.69, 30.79, 30.99, 30.84, 29.99, 30.79, 29.49, 29.99, 28.69, 28.69, 30.84, 30.99, 30.79, 30.79, 29.99, 30.74, 29.99, 29.99, 28.69, 30.79, 28.69, 29.49, 29.49, 30.84, 30.49, 29.49, 28.69, 30.49, 28.69, 30.74, 28.69, 30.89, 28.69, 30.94, 30.49, 28.69, 30.94, 29.49, 30.74, 30.79, 30.84, 29.49, 28.69, 30.89, 29.49, 30.49, 30.94, 28.69, 30.89, 29.99, 28.69, 28.69, 30.74, 29.49, 28.69, 28.69, 29.49, 28.69, 29.99, 29.49, 30.79, 30.49, 30.49, 29.49, 28.69, 28.69, 29.49, 30.99, 29.49, 28.69, 30.84, 30.49, 29.49, 30.84, 30.89, 30.94, 30.94, 29.49, 28.69, 28.69, 28.69, 30.99, 30.49, 30.84, 28.69, 28.69, 28.69, 29.99, 28.69, 30.49, 28.69, 30.79, 29.99, 29.49, 28.69, 29.49, 28.69, 29.99, 30.79, 30.94, 28.69, 29.99, 28.69, 28.69, 28.69, 30.99, 29.49, 28.69, 30.74, 30.49, 30.49, 30.94, 29.49, 30.84, 30.84, 28.69, 28.69, 30.99, 28.69, 30.49, 29.99, 30.84, 30.74, 30.94, 28.69, 28.69, 28.69, 30.79, 28.69, 30.49, 29.99, 29.99, 29.49, 30.99, 29.99, 30.84, 28.69, 28.69, 28.69, 29.49, 30.49, 30.99, 30.94, 30.99, 28.69, 30.49, 29.99, 29.99, 29.49, 30.74, 30.49, 29.49, 29.99, 30.74, 30.79, 30.94, 28.69, 28.69, 29.49, 30.84, 30.74, 29.49, 29.49, 30.84, 28.69, 30.79, 30.74, 28.69, 29.99, 30.74, 28.69, 28.69, 29.49, 28.69, 29.99, 29.49, 30.49, 30.74, 30.79, 30.84, 30.79, 28.69, 28.69, 30.49, 29.99, 29.99, 30.79, 30.79, 30.94, 28.69, 28.69, 30.84, 30.84, 29.99, 30.79, 29.49, 28.69, 30.79, 29.99, 30.49, 29.99, 30.94, 28.69, 30.79, 30.49, 30.99, 30.84, 30.99, 30.49, 30.94, 28.69, 30.89, 30.74, 28.69, 28.69, 30.49, 28.69, 29.99, 30.79, 30.99, 30.49, 29.99, 30.94, 30.94, 30.74, 28.69, 28.69, 28.69, 30.89, 30.99, 28.69, 30.49, 30.49, 29.99, 29.49, 30.94, 29.99, 29.99, 28.69, 29.99, 30.99, 29.99, 29.49, 30.84, 30.84, 30.49, 28.69, 30.79, 30.49, 29.49, 29.99, 30.99, 29.49, 30.84, 28.69, 30.74, 30.99, 30.74, 30.94, 29.49, 29.99, 28.69, 28.69, 30.49, 28.69, 30.84, 29.49, 30.49, 30.79, 29.49, 30.74, 28.69, 30.49, 30.94, 30.74, 29.49, 28.69, 29.99, 30.79, 30.84, 30.94, 29.49, 30.89, 30.94, 29.99, 29.49, 30.89, 28.69, 28.69, 29.99, 29.49, 30.84, 28.69, 30.94, 30.99, 28.69, 30.99, 28.69, 30.79, 30.49, 29.99, 28.69, 28.69, 28.69, 29.49, 30.74, 28.69, 29.49, 29.99, 30.79, 30.79, 30.99, 30.74, 30.94, 30.74, 29.99, 28.69, 30.49, 28.69, 30.74, 29.99, 28.69, 28.69, 29.99, 30.49, 30.74, 28.69, 30.74, 29.49, 28.69, 29.49, 28.69, 28.69, 28.69, 30.49, 30.74, 29.49, 28.69, 30.49, 30.74, 29.99, 28.69, 29.99, 30.49, 30.49, 28.69, 30.89, 30.94, 28.69, 30.49, 30.74, 28.69, 28.69, 28.69, 29.99, 29.49, 30.94, 29.99, 28.69, 30.94, 28.69, 30.74, 28.69, 28.69, 28.69, 30.49, 30.74, 28.69, 28.69, 28.69, 29.99, 29.99, 29.99, 28.69, 28.69, 28.69, 29.49, 29.49, 28.69, 30.74, 28.69, 30.49, 29.99, 28.69, 29.99, 29.99, 29.99, 30.99, 30.84, 30.74, 28.69, 30.49, 30.49, 28.69, 30.89, 28.69, 30.99, 28.69, 29.99, 30.99, 30.89, 29.99, 30.84, 28.69, 29.99, 28.69, 28.69, 30.74, 29.99, 30.49, 28.69, 28.69, 29.99, 28.69, 30.74, 29.99, 30.99, 29.49, 30.74, 28.69, 30.84, 29.49, 30.74, 30.94, 29.99, 30.99, 30.79, 29.99, 28.69, 28.69, 29.49, 28.69, 30.84, 28.69, 28.69, 29.49, 30.49, 30.74, 30.74, 30.74, 30.49, 28.69, 28.69, 30.74, 28.69, 29.99, 29.49, 29.99, 30.74, 29.99, 30.49, 28.69, 29.99, 28.69, 28.69, 28.69, 30.49, 29.99, 30.89, 28.69, 30.49, 30.94, 29.99, 30.79, 29.49, 28.69, 28.69, 30.79, 30.84, 29.99, 30.89, 29.49, 29.99, 28.69, 29.99, 28.69, 29.99, 29.49, 28.69, 30.74, 29.49, 29.49, 28.69, 30.94, 30.94, 30.74, 30.49, 30.99, 29.49, 30.49, 30.49, 30.84, 28.69, 29.49, 29.49, 30.74, 28.69, 30.84, 30.49, 30.84, 28.69, 28.69, 28.69, 30.74, 29.99, 28.69, 30.49, 28.69, 28.69, 30.74, 30.74, 28.69, 28.69, 29.99, 30.99, 28.69, 28.69, 30.79, 28.69, 30.49, 29.49, 29.49, 30.79, 30.89, 30.49, 28.69, 30.84, 28.69, 28.69, 30.99, 30.79, 30.89, 29.99, 30.49, 30.84, 28.69, 30.74, 30.84, 28.69, 28.69, 29.99, 29.99, 30.74, 30.89, 29.49, 30.49, 28.69, 28.69, 30.99, 30.99, 28.69, 29.49, 30.94, 29.49, 29.49, 30.99, 29.49, 29.99, 28.69, 28.69, 28.69, 30.74, 28.69, 30.84, 30.74, 29.99, 29.49, 30.89, 30.49, 30.89, 28.69, 28.69, 30.79, 29.99, 29.49, 28.69, 28.69, 30.79, 29.49, 28.69, 30.84, 30.49, 30.49, 30.79, 29.99, 28.69, 29.49, 28.69, 28.69, 29.49, 30.79, 28.69, 30.49, 30.74, 28.69, 30.89, 29.49, 30.74, 30.49, 30.94, 28.69, 30.99, 30.74, 29.49, 28.69, 28.69, 30.89, 30.89, 29.99, 29.49, 30.99, 30.84, 29.49, 30.79, 29.49, 30.79, 30.49, 30.49, 28.69, 30.79, 30.74, 30.79, 30.79, 29.99, 29.49, 28.69, 30.99, 28.69, 28.69, 28.69, 29.49, 30.99, 29.49, 30.49, 30.94, 30.49, 28.69, 28.69, 28.34, 28.99, 28.14, 28.34, 28.14, 28.34, 28.34, 28.34, 28.99, 28.34, 28.67, 28.99, 28.67, 28.99, 28.67, 28.14, 28.34, 28.67, 28.14, 28.99, 28.99, 28.14, 28.34, 28.14, 28.99, 28.67, 28.99, 28.14, 28.14, 28.34, 28.14, 28.99, 28.14, 28.99, 28.99, 28.34, 28.34, 28.67, 28.34, 28.34, 28.99, 28.34, 28.34, 28.67, 28.14, 28.14, 28.34, 28.67, 28.67, 28.34, 28.67, 28.34, 28.67, 28.67, 28.34, 28.34, 28.99, 28.99, 28.34, 28.14, 28.67, 28.99, 28.34, 28.14, 28.99, 28.67, 28.14, 28.34, 28.99, 28.34, 28.14, 28.34, 28.14, 28.14, 28.67, 28.34, 28.34, 28.99, 28.34, 28.14, 28.99, 28.67, 28.14, 28.99, 28.99, 28.99, 28.67, 28.14, 28.99, 28.67, 28.67, 28.67, 28.14, 28.34, 28.99, 28.14, 28.67, 28.34, 28.14, 28.99, 28.99, 28.34, 28.67, 28.14, 28.99, 28.99, 28.99, 28.67, 28.14, 28.99, 28.34, 28.34, 28.67, 28.99, 28.34, 28.34, 28.14, 28.99, 28.99, 28.14, 28.34, 28.14, 28.67, 28.14, 28.14, 28.99, 28.99, 28.14, 28.34, 28.14, 28.34, 28.99, 28.67, 28.14, 28.99, 28.34, 28.34, 28.99, 28.34, 28.99, 28.67, 28.99, 28.14, 28.14, 28.99, 28.14, 28.99, 28.67, 28.99, 28.34, 28.67, 28.67, 28.99, 28.14, 28.67, 28.67, 28.67, 28.14, 28.67, 28.34, 28.67, 28.99, 28.99, 28.34, 28.67, 28.34, 28.34, 28.34, 28.14, 28.14, 28.99, 28.14, 28.99, 28.67, 28.34, 28.14, 28.67, 28.34, 28.14, 28.34, 28.34, 28.14, 28.14, 28.99, 28.67, 28.34, 28.14, 28.34, 28.14, 28.67, 28.34, 28.14, 28.99, 28.34, 28.14, 28.67, 28.34, 28.14, 28.67, 28.99, 28.14, 28.99, 28.34, 28.34, 28.99, 28.14, 28.34, 28.14, 28.67, 28.14, 28.14, 28.14, 28.34, 28.34, 28.67, 28.99, 28.14, 28.14, 28.14, 28.67, 28.34, 28.67, 28.34, 28.14, 28.14, 28.14, 28.99, 28.34, 28.99, 28.34, 28.14, 28.14, 28.99, 28.14, 28.14, 28.67, 28.67, 28.14, 28.34, 28.14, 28.34, 28.67, 28.34, 28.34, 28.67, 28.34, 28.14, 28.34, 28.67, 28.14, 28.99, 28.67, 28.67, 28.14, 28.14, 28.67, 28.67, 28.67, 28.14, 28.67, 28.14, 28.99, 28.14, 28.67, 28.34, 28.14, 28.14, 28.34, 28.14, 28.67, 28.14, 28.14, 28.14, 28.14, 28.99, 28.67, 28.14, 28.67, 28.34, 28.99, 28.14, 28.99, 28.67, 28.99, 28.14, 28.67, 28.34, 28.99, 28.14, 28.14, 28.99, 28.67, 28.34, 28.34, 28.99, 28.99, 28.34, 28.34, 28.14, 28.34, 28.67, 28.67, 28.14, 28.14, 28.34, 28.67, 28.14, 28.14, 28.34, 28.34, 28.14, 28.99, 28.99, 28.67, 28.34, 28.14, 28.99, 28.67, 28.34, 28.67, 28.34, 28.34, 28.14, 28.34, 28.14, 28.14, 28.99, 28.67, 28.99, 28.14, 28.99, 28.34, 28.34, 28.14, 28.14, 28.14, 28.67, 28.14, 28.34, 28.67, 28.14, 28.99, 28.34, 28.99, 28.14, 28.14, 28.34, 28.14, 28.67, 28.99, 28.14, 28.34, 28.14, 28.67, 28.14, 28.14, 28.14, 28.99, 28.14, 28.14, 28.34, 28.67, 28.14, 28.14, 28.67, 28.67, 28.34, 28.34, 28.34, 28.99, 28.67, 28.34, 28.34, 28.34, 28.99, 28.34, 28.34, 28.14, 28.67, 28.34, 28.14, 28.34, 28.67, 28.34, 28.14, 28.49, 28.49, 28.99, 28.99, 28.99, 28.99, 28.49, 27.99, 27.99, 28.99, 28.99, 28.99, 28.99, 27.99, 27.99, 28.99, 28.49, 28.99, 28.99, 28.99, 28.99, 28.49, 28.49, 28.99, 27.99, 27.99, 28.49, 28.99, 27.99, 27.99, 28.49, 28.49, 28.99, 27.99, 27.99, 28.49, 28.99, 27.99, 27.99, 27.99, 28.99, 27.99, 28.49, 28.99, 28.49, 28.49, 28.49, 27.99, 27.99, 28.99, 28.99, 28.49, 27.99, 27.99, 27.99, 28.49, 27.99, 28.49, 28.49, 28.99, 27.99, 27.99, 27.99, 28.49, 28.99, 27.99, 27.99, 27.99, 28.49, 27.99, 27.99, 27.99, 27.99, 30.79, 30.84, 30.84, 28.72, 28.72, 28.72, 28.72, 30.94, 29.69, 28.72, 29.69, 28.72, 30.84, 28.72, 30.79, 28.72, 30.65, 30.94, 28.72, 30.17, 28.72, 30.84, 30.84, 28.72, 28.72, 28.72, 29.69, 29.69, 29.69, 30.17, 28.72, 28.72, 28.72, 29.69, 30.75, 30.17, 30.84, 30.75, 30.65, 30.79, 30.65, 29.69, 28.72, 30.79, 28.72, 30.65, 29.69, 30.75, 30.17, 28.72, 30.75, 30.75, 30.17, 29.69, 30.75, 30.65, 30.17, 28.72, 30.79, 30.79, 28.72, 30.79, 28.72, 28.72, 30.75, 29.69, 29.69, 28.72, 29.69, 30.65, 28.72, 30.75, 30.65, 28.72, 28.72, 28.72, 30.79, 30.79, 30.75, 28.72, 30.17, 29.69, 28.72, 30.79, 30.75, 29.69, 30.17, 30.75, 30.17, 28.72, 28.72, 30.65, 29.69, 30.65, 30.17, 28.72, 28.72, 30.79, 28.72, 29.69, 30.65, 28.72, 30.17, 28.72, 30.17, 30.65, 30.79, 30.79, 29.69, 28.72, 30.79, 28.72, 29.69, 28.72, 28.72, 30.65, 28.72, 30.17, 28.72, 28.72, 30.17, 30.65, 28.72, 30.79, 28.72, 29.69, 30.79, 30.79, 30.79, 30.75, 30.75, 28.72, 30.65, 28.72, 30.79, 28.72, 28.72, 30.75, 29.69, 28.72, 30.65, 28.72, 29.69, 30.65, 30.65, 30.79, 30.17, 28.72, 28.72, 30.79, 30.79, 30.65, 29.69, 28.72, 30.17, 30.79, 28.72, 30.65, 30.89, 30.17, 28.72, 30.75, 30.89, 28.72, 30.79, 28.72, 30.79, 29.69, 30.79, 30.75, 28.72, 30.79, 30.79, 30.79, 30.65, 28.72, 28.72, 28.72, 28.72, 30.89, 30.75, 30.65, 28.72, 30.17, 28.72, 29.69, 28.72, 30.75, 29.69, 28.72, 30.17, 30.75, 28.72, 28.72, 28.72, 30.17, 30.79, 28.72, 30.17, 30.79, 28.72, 30.75, 29.69, 28.72, 30.75, 28.72, 28.72, 28.72, 28.72, 28.72, 30.79, 30.79, 30.65, 30.79, 28.72, 28.72, 28.72, 28.72, 30.79, 28.72, 28.72, 30.79, 30.17, 30.79, 28.72, 30.75, 30.79, 30.17, 29.69, 28.72, 28.72, 30.84, 28.72, 28.72, 28.72, 30.17, 30.65, 28.72, 28.72, 30.75, 28.72, 30.79, 28.72, 28.72, 29.69, 28.72, 28.72, 28.72, 30.65, 30.17, 30.79, 28.72, 28.72, 28.72, 30.79, 28.72, 28.72, 30.65, 30.17, 30.79, 30.79, 28.72, 30.79, 29.69, 30.79, 30.75, 28.72, 30.17, 28.72, 30.79, 28.72, 28.72, 28.72, 28.72, 28.72, 28.72, 30.75, 29.69, 28.72, 30.17, 30.79, 30.75, 28.72, 28.72, 30.79, 28.72, 30.17, 30.17, 30.65, 30.17, 30.17, 28.72, 28.72, 30.17, 28.72, 30.17, 30.79, 30.79, 30.65, 29.69, 28.72, 30.75, 29.99, 28.69, 28.69, 29.99, 29.99, 30.89, 30.49, 29.49, 28.69, 30.79, 28.69, 28.69, 29.49, 29.49, 28.69, 28.69, 28.69, 29.49, 30.94, 29.49, 30.79, 28.69, 28.69, 29.49, 28.69, 28.69, 28.69, 28.69, 28.69, 28.69, 28.69, 28.69, 28.69, 30.79, 28.69, 30.99, 29.99, 28.69, 30.74, 29.99, 28.69, 29.49, 30.74, 28.69, 30.49, 30.49, 30.49, 30.49, 30.74, 28.69, 30.79, 30.49, 28.69, 29.99, 29.49, 30.94, 30.49, 30.79, 30.79, 30.74, 30.84, 30.79, 28.69, 29.99, 30.49, 30.94, 30.49, 30.84, 29.49, 30.74, 30.49, 28.69, 30.74, 28.69, 30.99, 28.69, 29.49, 28.69, 28.69, 30.99, 29.99, 30.79, 30.74, 28.69, 28.69, 28.69, 28.69, 30.99, 28.69, 28.69, 28.69, 28.69, 30.49, 30.79, 30.74, 30.49, 29.99, 30.89, 28.69, 30.49, 28.69, 28.69, 29.99, 28.69, 30.89, 30.74, 28.69, 30.99, 28.69, 29.49, 30.79, 30.74, 30.99, 28.69, 28.69, 29.99, 29.49, 30.49, 30.49, 30.74, 30.49, 30.49, 28.69, 30.49, 30.49, 28.69, 30.84, 30.74, 28.69, 29.99, 29.49, 28.69, 29.49, 30.79, 30.84, 28.69, 30.94, 28.69, 29.49, 29.99, 30.74, 30.74, 30.84, 29.99, 30.49, 30.89, 28.69, 30.49, 29.49, 30.49, 29.49, 28.69, 29.99, 30.74, 30.79, 30.79, 30.49, 28.69, 29.49, 30.79, 29.99, 28.69, 28.69, 28.69, 30.49, 28.69, 30.99, 29.49, 28.69, 28.69, 30.74, 30.99, 30.79, 28.69, 28.69, 29.99, 29.99, 30.84, 30.99, 29.49, 30.84, 29.49, 28.69, 29.99, 29.49, 30.74, 30.99, 30.49, 29.99, 29.99, 30.49, 30.79, 28.69, 30.79, 28.69, 29.49, 29.99, 30.49, 30.84, 29.49, 30.99, 30.49, 29.99, 28.69, 28.69, 29.49, 29.49, 28.69, 30.99, 30.74, 30.84, 29.49, 29.49, 30.99, 28.69, 30.74, 30.89, 28.69, 30.74, 28.69, 29.99, 28.69, 29.49, 28.69, 30.84, 30.49, 30.79, 29.49, 28.69, 28.69, 29.49, 30.99, 30.89, 28.69, 28.69, 30.79, 29.49, 29.49, 29.99, 29.49, 28.69, 30.99, 30.99, 29.49, 30.74, 30.84, 28.69, 28.69, 28.69, 28.69, 30.49, 30.79, 29.49, 30.79, 28.69, 29.49, 30.84, 30.79, 28.69, 30.99, 30.94, 29.49, 30.49, 28.69, 28.69, 29.49, 28.69, 28.69, 30.89, 30.79, 30.99, 28.69, 30.79, 28.69, 30.84, 28.69, 29.99, 30.99, 28.69, 28.69, 30.49, 30.74, 28.69, 28.69, 28.69, 30.79, 29.49, 28.69, 28.69, 30.74, 28.69, 28.69, 30.79, 30.49, 29.99, 30.49, 28.69, 30.74, 28.69, 30.79, 30.49, 28.69, 28.69, 30.74, 30.84, 29.99, 30.74, 29.49, 30.84, 28.69, 28.69, 30.94, 28.69, 28.69, 28.69, 30.99, 29.49, 29.49, 29.99, 30.49, 28.69, 30.74, 28.69, 29.49, 30.74, 30.49, 30.94, 30.49, 29.49, 30.49, 30.49, 29.99, 30.84, 28.69, 29.49, 30.49, 28.69, 28.69, 28.69, 28.69, 30.89, 28.69, 28.69, 30.84, 29.49, 29.49, 30.74, 30.84, 29.99, 29.99, 28.69, 30.79, 28.69, 30.79, 30.49, 28.69, 29.99, 28.69, 29.99, 30.74, 30.49, 29.49, 28.69, 29.49, 30.79, 28.69, 30.99, 30.89, 29.99, 29.49, 28.69, 28.69, 29.49, 28.69, 29.99, 30.74, 30.84, 29.49, 28.69, 30.74, 29.49, 30.74, 29.49, 29.99, 30.89, 28.69, 28.69, 29.49, 30.79, 30.74, 28.69, 29.99, 28.69, 30.49, 29.99, 28.69, 29.99, 29.49, 28.69, 29.49, 29.99, 28.69, 28.69, 30.99, 30.99, 29.49, 28.69, 29.49, 28.69, 28.69, 30.74, 28.69, 28.69, 30.74, 28.69, 29.49, 30.94, 28.69, 28.69, 30.79, 30.94, 29.99, 30.74, 28.69, 28.69, 30.89, 28.69, 28.69, 29.49, 28.69, 30.84, 30.79, 30.49, 29.99, 30.79, 30.84, 28.69, 30.74, 28.69, 30.84, 29.99, 30.74, 28.69, 30.74, 29.99, 30.84, 30.89, 28.69, 30.74, 30.49, 28.69, 30.74, 28.69, 30.94, 29.49, 28.69, 30.49, 30.99, 28.69, 30.49, 28.69, 28.69, 30.89, 30.49, 28.69, 29.49, 29.99, 28.69, 29.49, 28.69, 28.69, 28.69, 28.69, 28.69, 30.99, 30.74, 30.84, 30.79, 30.99, 29.49, 28.69, 29.99, 28.69, 29.49, 29.49, 30.84, 30.94, 29.99, 28.69, 28.69, 30.89, 29.99, 30.74, 28.69, 28.69, 28.69, 28.69, 28.69, 30.49, 28.69, 29.99, 30.89, 28.69, 29.99, 28.69, 29.99, 29.49, 30.49, 30.74, 28.69, 30.94, 29.49, 28.69, 28.69, 30.49, 28.69, 30.89, 30.89, 30.49, 30.89, 29.49, 29.49, 28.69, 30.49, 29.99, 30.99, 29.99, 30.49, 28.69, 29.49, 30.79, 29.99, 30.99, 29.99, 28.69, 28.69, 29.99, 30.49, 30.84, 30.94, 28.69, 30.84, 30.94, 29.49, 29.49, 28.69, 30.49, 29.99, 29.99, 30.84, 30.94, 30.94, 28.69, 30.79, 28.69, 30.49, 29.49, 28.69, 28.69, 29.49, 28.69, 30.79, 30.79, 30.49, 29.99, 29.49, 30.74, 29.99, 30.84, 30.74, 30.49, 28.69, 28.69, 28.69, 28.69, 30.74, 28.69, 30.84, 28.69, 28.69, 29.99, 28.69, 28.69, 30.84, 30.49, 28.69, 28.69, 29.49, 30.99, 29.99, 29.99, 30.84, 28.69, 28.69, 30.79, 30.89, 30.89, 28.69, 30.49, 30.84, 28.69, 29.49, 29.99, 30.99, 29.49, 30.84, 30.74, 29.49, 29.49, 28.69, 30.79, 30.49, 30.89, 30.84, 30.79, 29.49, 30.89, 28.69, 28.69, 29.99, 28.69, 29.99, 30.49, 30.49, 28.69, 28.69, 30.79, 29.49, 28.69, 30.49, 28.69, 30.49, 30.84, 30.79, 30.49, 30.79, 30.94, 29.49, 28.69, 29.99, 29.49, 30.74, 28.69, 29.49, 29.49, 30.49, 30.49, 28.69, 30.49, 29.49, 28.69, 28.69, 29.99, 29.99, 28.69, 30.89, 30.79, 29.99, 30.74, 28.69, 28.69, 28.69, 30.79, 28.69, 28.69, 30.79, 28.69, 29.99, 28.69, 30.89, 28.69, 29.49, 30.74, 28.69, 28.69, 29.99, 29.49, 29.99, 30.84, 30.74, 29.49, 29.99, 30.84, 28.69, 30.49, 30.94, 29.49, 30.99, 28.69, 30.74, 30.89, 30.74, 30.74, 29.49, 30.74, 28.69, 29.49, 29.99, 28.69, 29.99, 28.69, 30.49, 28.69, 30.84, 30.49, 30.49, 29.49, 28.69, 30.49, 30.74, 28.69, 28.69, 28.69, 28.69, 28.69, 28.69, 28.69, 28.69, 30.79, 28.69, 29.99, 29.49, 28.69, 29.49, 28.69, 30.94, 30.79, 29.49, 28.69, 28.69, 30.49, 30.49, 30.89, 30.89, 30.74, 30.49, 28.69, 29.99, 29.99, 29.99, 30.74, 28.69, 30.94, 30.79, 30.74, 30.74, 28.69, 28.69, 29.49, 29.49, 29.49, 29.99, 30.74, 28.69, 29.99, 28.69, 28.69, 30.49, 30.49, 30.49, 30.49, 29.99, 30.49, 29.99, 30.49, 30.84, 29.99, 28.69, 30.49, 28.69, 29.49, 29.49, 30.79, 29.49, 30.74, 30.49, 30.74, 30.49, 30.49, 28.69, 28.69, 30.94, 30.49, 28.69, 28.69, 28.69, 30.89, 29.49, 28.69, 29.49, 28.69, 28.69, 28.69, 30.74, 30.79, 29.49, 28.69, 30.99, 29.99, 28.69, 28.69, 30.89, 29.99, 30.79, 30.99, 30.49, 28.69, 30.89, 30.79, 30.74, 30.49, 28.69, 28.69, 29.99, 28.69, 30.79, 30.49, 30.49, 29.49, 28.69, 28.69, 28.69, 30.49, 30.84, 29.99, 29.99, 28.69, 28.69, 28.69, 30.49, 29.99, 30.79, 30.74, 30.79, 29.99, 29.49, 30.49, 30.49, 30.74, 29.49, 30.74, 29.49, 29.99, 28.69, 28.69, 30.94, 30.79, 28.69, 30.49, 30.79, 29.49, 28.69, 28.69, 28.69, 30.94, 28.69, 28.69, 30.89, 30.89, 30.49, 30.79, 30.49, 30.49, 29.99, 30.79, 29.49, 29.99, 28.69, 28.69, 29.49, 28.69, 28.69, 30.79, 30.49, 30.99, 29.99, 30.94, 29.99, 30.49, 30.49, 30.99, 30.89, 29.99, 30.79, 29.99, 30.49, 30.79, 29.49, 28.69, 30.94, 29.99, 30.84, 28.69, 30.84, 29.99, 30.49, 28.69, 30.74, 28.69, 28.69, 30.79, 28.69, 30.74, 29.49, 30.89, 30.84, 30.49, 30.74, 28.69, 30.74, 30.74, 28.69, 28.69, 29.99, 30.89, 30.79, 28.69, 28.69, 30.94, 30.99, 29.49, 30.79, 28.69, 30.84, 30.49, 28.69, 28.69, 30.99, 28.69, 29.49, 30.84, 29.99, 28.69, 30.84, 29.99, 28.69, 28.69, 29.99, 29.49, 29.99, 30.89, 30.84, 30.89, 30.94, 29.49, 30.84, 28.69, 28.69, 28.69, 28.69, 29.99, 30.89, 30.49, 29.49, 30.74, 28.69, 29.99, 30.99, 29.99, 28.69, 30.79, 29.49, 29.49, 28.69, 30.99, 30.89, 28.69, 28.69, 30.49, 30.94, 29.99, 29.99, 30.49, 28.69, 30.49, 28.69, 29.99, 30.89, 30.74, 28.69, 28.69, 30.79, 28.69, 29.99, 29.99, 30.89, 30.74, 28.69, 29.49, 29.49, 30.49, 30.79, 30.49, 29.49, 29.99, 28.69, 30.79, 30.84, 29.99, 29.49, 28.69, 30.84, 30.84, 29.49, 28.69, 30.74, 30.49, 29.99, 30.49, 28.69, 28.69, 30.79, 28.69, 28.69, 30.49, 29.49, 30.94, 28.69, 28.69, 30.74, 30.74, 30.74, 29.49, 30.84, 30.49, 30.94, 30.84, 30.84, 30.84, 28.69, 29.99, 30.89, 30.74, 28.69, 30.74, 30.94, 28.69, 28.69, 30.74, 28.69, 30.74, 29.99, 29.99, 30.79, 29.99, 30.79, 28.69, 28.69, 28.69, 30.84, 28.69, 29.99, 29.99, 28.69, 28.69, 30.49, 30.94, 30.49, 30.79, 28.69, 28.69, 28.69, 30.49, 30.84, 30.84, 29.99, 29.49, 30.84, 30.94, 30.79, 28.69, 30.89, 30.99, 29.99, 28.69, 28.69, 30.79, 30.94, 28.69, 28.69, 28.69, 30.74, 29.49, 29.49, 30.49, 29.99, 29.49, 30.74, 30.74, 30.49, 28.69, 28.69, 28.69, 30.49, 28.69, 30.84, 28.69, 30.49, 30.74, 28.69, 30.49, 30.89, 30.74, 30.89, 29.49, 28.69, 29.99, 30.74, 29.49, 29.99, 30.74, 29.49, 29.49, 29.49, 30.49, 30.49, 28.69, 29.49, 28.69, 30.49, 29.99, 30.79, 30.49, 29.99, 30.84, 30.99, 28.69, 28.69, 30.89, 30.74, 30.49, 28.69, 29.99, 30.79, 28.69, 30.84, 29.49, 30.49, 29.49, 28.69, 29.49, 28.69, 30.89, 29.49, 30.99, 30.74, 29.49, 30.84, 29.49, 30.49, 28.69, 29.99, 28.69, 28.69, 28.69, 28.69, 29.49, 29.99, 30.74, 29.49, 30.74, 30.79, 30.49, 29.99, 29.99, 29.49, 29.49, 29.99, 30.99, 28.69, 30.74, 29.99, 29.99, 28.69, 28.69, 30.74, 28.69, 29.99, 30.89, 30.74, 30.94, 28.69, 28.69, 30.49, 30.99, 30.79, 29.49, 29.49, 30.94, 30.89, 28.69, 28.69, 29.49, 30.99, 28.69, 30.79, 28.69, 28.69, 28.69, 28.69, 30.74, 29.99, 30.74, 29.99, 30.84, 30.49, 30.49, 30.84, 30.84, 28.69, 29.49, 30.79, 30.74, 28.69, 29.99, 30.49, 30.89, 30.74, 28.69, 28.69, 29.99, 28.69, 30.89, 28.69, 29.49, 30.84, 29.99, 28.69, 30.74, 28.69, 30.99, 28.69, 30.94, 29.49, 29.99, 30.84, 30.94, 30.74, 28.69, 29.99, 29.99, 30.49, 30.89, 29.49, 30.84, 30.49, 28.69, 30.74, 29.99, 30.74, 28.69, 29.99, 30.79, 30.84, 28.69, 28.69, 29.99, 29.49, 29.49, 28.69, 30.94, 29.49, 29.49, 29.99, 30.49, 30.94, 28.69, 28.69, 30.89, 29.49, 28.69, 30.74, 30.84, 28.69, 30.79, 28.69, 30.49, 30.49, 29.99, 28.69, 30.49, 28.69, 30.79, 29.99, 30.79, 29.99, 29.49, 30.79, 30.49, 29.49, 28.69, 29.99, 29.49, 29.99, 28.69, 28.69, 28.69, 28.69, 28.69, 30.89, 30.79, 28.69, 29.49, 30.49, 30.94, 29.99, 30.89, 28.69, 29.49, 29.49, 30.84, 30.84, 29.49, 28.69, 30.49, 29.49, 30.79, 29.49, 29.49, 30.74, 28.69, 30.49, 28.69, 29.49, 30.99, 29.49, 30.79, 29.99, 29.49, 29.49, 29.49, 29.49, 30.84, 30.99, 29.49, 28.69, 30.49, 29.99, 29.49, 30.84, 30.84, 29.49, 30.49, 30.49, 30.94, 29.49, 29.99, 28.69, 30.79, 29.49, 30.49, 30.49, 30.94, 29.49, 30.79, 30.74, 30.84, 28.69, 28.69, 28.69, 30.89, 29.99, 28.69, 29.99, 30.84, 30.79, 29.49, 30.84, 28.69, 29.99, 29.49, 28.69, 29.49, 30.79, 28.69, 28.69, 29.49, 30.74, 28.69, 30.89, 30.49, 28.69, 29.49, 30.79, 30.84, 30.74, 28.69, 30.49, 30.84, 30.99, 30.74, 29.49, 30.84, 28.69, 28.69, 28.69, 30.74, 29.99, 29.49, 30.79, 30.79, 30.49, 28.69, 29.49, 29.49, 30.84, 30.49, 29.49, 28.69, 28.69, 30.79, 29.99, 29.99, 28.69, 30.94, 30.84, 28.69, 29.99, 30.84, 30.84, 29.49, 30.84, 30.74, 29.49, 30.79, 30.79, 28.69, 29.49, 30.89, 29.99, 28.69, 30.49, 28.69, 30.74, 30.84, 28.69, 30.49, 30.74, 30.89, 28.69, 29.99, 29.99, 29.49, 28.69, 28.69, 29.99, 29.49, 29.99, 29.49, 29.49, 29.49, 28.69, 30.79, 30.84, 30.79, 30.74, 30.89, 30.74, 30.94, 30.79, 28.69, 28.69, 30.84, 29.49, 30.79, 29.99, 30.74, 30.49, 28.69, 30.79, 28.69, 29.49, 30.79, 30.89, 28.69, 28.69, 30.49, 28.69, 30.74, 28.69, 28.69, 28.69, 30.99, 29.49, 30.74, 30.89, 30.84, 28.69, 30.89, 30.84, 28.69, 29.99, 30.84, 28.69, 30.94, 29.49, 29.99, 30.79, 28.69, 30.49, 28.69, 28.69, 29.49, 30.49, 30.89, 28.69, 28.69, 28.69, 29.49, 30.79, 30.49, 30.74, 28.69, 29.49, 30.84, 28.69, 28.69, 30.99, 28.69, 30.79, 30.49, 29.49, 30.74, 30.94, 28.69, 28.69, 29.67, 29.96, 29.67, 28.88, 27.79, 28.88, 28.88, 30.99, 29.67, 28.18, 29.67, 27.79, 28.88, 27.79, 29.67, 28.18, 27.79, 28.18, 28.18, 27.79, 27.79, 29.67, 29.67, 27.79, 30.99, 28.88, 27.79, 27.79, 27.79, 27.79, 27.79, 27.79, 27.79, 27.79, 27.79, 27.79, 28.18, 27.79, 27.79, 29.67, 28.18, 27.79, 28.18, 27.79, 29.67, 28.18, 28.18, 28.18, 29.96, 29.96, 27.79, 28.18, 29.67, 30.99, 28.88, 27.79, 29.96, 29.67, 28.88, 28.88, 28.88, 27.79, 28.18, 28.88, 28.88, 29.96, 28.88, 28.18, 28.88, 28.18, 28.88, 28.88, 29.96, 28.18, 27.79, 28.18, 28.18, 27.79, 28.18, 27.79, 29.96, 30.99, 28.88, 28.88, 27.79, 28.18, 27.79, 28.18, 28.18, 29.67, 27.79, 30.99, 27.79, 28.88, 28.88, 28.18, 28.88, 30.99, 28.18, 28.18, 28.88, 28.18, 27.79, 27.79, 28.18, 28.88, 27.79, 29.96, 28.88, 28.18, 27.79, 28.18, 28.18, 28.88, 29.96, 28.88, 27.79, 28.18, 29.96, 28.88, 27.79, 28.18, 29.96, 28.18, 29.67, 28.18, 28.88, 28.88, 28.88, 29.67, 28.88, 28.18, 28.18, 30.99, 28.18, 29.96, 28.18, 29.67, 27.79, 28.88, 28.18, 27.79, 28.18, 27.79, 27.79, 27.79, 27.79, 27.79, 28.88, 27.79, 30.99, 27.79, 27.79, 28.18, 27.79, 29.67, 29.96, 28.18, 27.79, 28.18, 27.79, 29.96, 28.88, 27.79, 27.79, 28.18, 28.18, 29.96, 27.79, 29.96, 28.18, 27.79, 29.67, 28.88, 27.79, 27.79, 28.88, 28.88, 27.79, 28.18, 28.18, 28.18, 27.79, 27.79, 28.18, 28.88, 30.99, 28.88, 28.18, 27.79, 27.79, 29.96, 27.79, 28.18, 27.79, 28.88, 29.96, 28.88, 27.79, 28.18, 28.88, 27.79, 29.96, 28.18, 27.79, 29.67, 29.96, 29.96, 28.88, 28.88, 29.96, 27.79, 29.67, 28.88, 29.96, 28.18, 28.88, 29.67, 28.88, 28.88, 27.79, 28.18, 29.96, 28.88, 29.67, 29.67, 28.18, 29.96, 27.79, 29.67, 30.99, 28.88, 28.88, 29.96, 27.79, 28.18, 28.18, 28.18, 27.79, 27.79, 28.18, 29.96, 27.79, 28.88, 28.88, 27.79, 28.88, 29.96, 28.88, 27.79, 29.67, 28.18, 28.88, 27.79, 27.79, 27.79, 27.79, 28.18, 29.96, 28.18, 28.18, 28.88, 27.79, 29.67, 29.67, 27.79, 27.79, 29.67, 29.67, 27.79, 27.79, 27.79, 29.96, 29.67, 28.88, 28.18, 27.79, 28.88, 30.99, 28.18, 27.79, 29.96, 27.79, 28.18, 28.18, 28.88, 29.67, 29.67, 28.18, 30.99, 28.18, 28.18, 27.79, 29.67, 27.79, 27.79, 28.88, 28.18, 28.18, 28.18, 27.79, 29.67, 29.96, 27.79, 29.67, 27.79, 29.96, 27.79, 29.96, 28.18, 27.79, 29.96, 28.18, 27.79, 27.79, 30.99, 27.79, 27.79, 29.67, 27.79, 27.79, 30.99, 27.79, 29.67, 30.99, 29.96, 28.18, 28.18, 28.18, 27.79, 27.79, 27.79, 28.18, 27.79, 28.88, 29.67, 28.88, 30.99, 27.79, 27.79, 27.79, 27.79, 27.79, 27.79, 29.67, 28.88, 29.96, 28.18, 29.67, 29.67, 28.18, 28.18, 27.79, 28.18, 29.96, 27.79, 28.88, 29.67, 29.96, 27.79, 29.96, 28.88, 29.67, 28.18, 29.96, 28.88, 28.18, 28.18, 29.67, 28.18, 29.96, 28.18, 27.79, 27.79, 27.79, 29.67, 29.67, 28.88, 28.18, 27.79, 27.79, 27.79, 27.79, 27.79, 27.79, 29.67, 27.79, 28.18, 27.79, 27.79, 29.67, 29.96, 27.79, 27.79, 28.18, 29.96, 28.88, 27.79, 27.79, 27.79, 28.18, 28.88, 27.79, 27.79, 27.79, 28.18, 28.18, 27.79, 28.88, 30.99, 29.67, 30.99, 27.79, 28.18, 29.96, 28.88, 28.88, 28.88, 28.88, 28.88, 29.96, 27.79, 27.79, 27.79, 27.79, 27.79, 29.67, 29.67, 30.99, 27.79, 28.88, 27.79, 27.79, 29.96, 27.79, 27.79, 27.79, 29.67, 29.96, 28.88, 28.88, 27.79, 28.18, 29.67, 29.96, 28.18, 27.79, 28.88, 27.79, 29.67, 28.18, 27.79, 27.79, 29.67, 29.96, 29.67, 27.79, 29.67, 28.18, 30.99, 28.18, 29.67, 28.18, 27.79, 27.79, 27.79, 27.79, 27.79, 28.88, 27.79, 27.79, 27.79, 28.18, 28.18, 27.79, 28.18, 27.79, 29.96, 29.67, 28.88, 27.79, 28.88, 29.96, 28.18, 28.18, 27.79, 29.67, 28.88, 27.79, 30.99, 30.99, 29.96, 29.67, 27.79, 30.99, 28.88, 29.67, 29.96, 27.79, 29.96, 29.67, 29.67, 27.79, 28.18, 27.79, 28.88, 27.79, 29.67, 27.79, 29.96, 28.18, 30.99, 28.18, 28.18, 27.79, 29.67, 27.79, 28.88, 28.88, 28.18, 27.79, 28.18, 28.18, 27.79, 29.96, 30.99, 29.67, 27.79, 29.96, 27.79, 27.79, 27.79, 27.79, 28.88, 28.88, 28.88, 27.79, 28.18, 27.79, 29.67, 28.18, 28.18, 28.88, 29.67, 28.18, 27.79, 28.88, 28.18, 28.88, 28.18, 27.79, 28.88, 27.79, 28.18, 27.79, 29.67, 28.88, 27.79, 28.88, 29.96, 27.79, 29.96, 28.18, 27.79, 27.79, 27.79, 27.79, 29.67, 29.96, 29.96, 27.79, 29.67, 28.88, 29.67, 29.67, 28.88, 29.96, 29.67, 27.79, 29.96, 29.67, 28.88, 27.79, 29.67, 27.79, 28.88, 28.18, 27.79, 29.96, 29.96, 27.79, 28.88, 28.88, 28.88, 28.18, 28.88, 28.88, 30.99, 27.79, 28.88, 28.88, 28.88, 28.18, 30.99, 27.79, 28.18, 28.18, 27.79, 29.96, 28.18, 28.88, 27.79, 28.88, 28.88, 27.79, 27.79, 28.88, 28.18, 28.88, 29.96, 28.88, 27.79, 28.18, 27.79, 28.18, 28.18, 30.99, 27.79, 28.18, 27.79, 28.88, 28.18, 28.88, 28.18, 28.18, 27.79, 27.79, 28.18, 30.99, 27.79, 27.79, 27.79, 27.79, 29.67, 28.18, 29.96, 29.67, 27.79, 30.99, 30.99, 29.67, 28.18, 28.18, 29.67, 28.18, 28.88, 28.88, 28.72, 30.17, 30.65, 28.72, 28.72, 30.79, 28.72, 30.17, 28.72, 30.65, 30.17, 28.72, 28.72, 28.72, 28.72, 28.72, 28.72, 30.75, 28.72, 28.72, 28.72, 28.72, 28.72, 29.69, 30.65, 28.72, 28.72, 28.72, 30.94, 28.72, 30.79, 30.79, 29.69, 28.72, 30.79, 28.72, 30.79, 28.72, 29.69, 30.17, 28.72, 28.72, 30.84, 28.72, 29.69, 29.69, 30.65, 30.79, 30.75, 30.17, 28.72, 30.79, 30.75, 29.69, 28.72, 30.79, 28.72, 30.17, 28.72, 29.69, 28.72, 30.79, 30.79, 28.72, 30.65, 30.17, 28.72, 28.72, 30.75, 30.79, 30.65, 30.17, 28.72, 30.65, 29.69, 28.72, 28.72, 30.17, 29.69, 30.79, 28.72, 30.17, 30.84, 30.79, 28.72, 30.79, 30.79, 28.72, 30.79, 30.65, 30.65, 29.69, 28.72, 28.72, 30.75, 28.72, 28.72, 28.72, 29.69, 28.72, 30.79, 30.79, 28.72, 28.72, 28.72, 29.69, 28.72, 29.69, 30.17, 29.69, 29.69, 30.79, 28.72, 28.72, 28.72, 30.17, 28.72, 28.72, 30.17, 30.79, 29.69, 28.72, 30.65, 30.75, 30.65, 28.72, 30.79, 28.72, 30.75, 30.65, 29.69, 28.72, 28.72, 28.72, 28.72, 30.17, 30.17, 30.79, 30.17, 30.17, 30.79, 30.17, 30.79, 30.94, 30.17, 28.72, 29.69, 28.72, 30.84, 28.72, 28.72, 28.72, 28.72, 30.65, 29.69, 30.17, 30.94, 28.72, 30.17, 30.79, 30.79, 28.72, 30.75, 29.69, 28.72, 30.79, 28.72, 29.69, 30.65, 30.79, 28.72, 30.75, 28.72, 28.72, 30.79, 28.72, 30.89, 30.84, 28.72, 29.69, 30.65, 29.69, 30.84, 30.65, 30.94, 30.17, 28.72, 30.65, 30.79, 30.17, 28.72, 30.75, 28.72, 28.72, 30.17, 28.72, 28.72, 29.69, 30.65, 30.17, 28.72, 30.75, 28.72, 28.72, 30.75, 30.65, 29.69, 28.72, 30.75, 30.17, 30.79, 28.72, 29.69, 30.17, 28.72, 30.75, 30.79, 28.72, 30.65, 29.69, 28.72, 28.72, 28.72, 28.72, 30.17, 28.72, 28.72, 28.72, 30.79, 30.79, 28.72, 30.75, 30.65, 28.72, 30.79, 28.72, 30.65, 30.79, 30.65, 29.69, 28.72, 30.17, 30.17, 28.72, 28.72, 28.72, 30.75, 28.72, 28.72, 29.69, 30.79, 30.94, 28.72, 30.75, 28.72, 28.72, 30.75, 30.79, 28.72, 28.72, 28.72, 30.79, 28.72, 28.72, 30.65, 30.79, 30.17, 30.79, 30.75, 30.79, 30.79, 28.72, 30.79, 30.75, 30.94, 30.75, 29.69, 28.72, 30.17, 30.65, 30.89, 28.72, 30.17, 29.69, 30.79, 30.79, 30.75, 30.17, 30.17, 30.79, 29.69, 28.72, 28.72, 30.75, 30.79, 28.72, 29.69, 30.17, 29.69, 30.79, 30.94, 30.79, 29.69, 30.79, 30.17, 30.75, 30.75, 28.72, 28.72, 30.84, 30.65, 28.72, 29.69, 30.75, 30.17, 30.17, 30.75, 28.72, 30.17, 30.79, 30.75, 29.69, 30.75, 30.79, 30.75, 30.65, 30.89, 28.72, 30.79, 29.69, 29.69, 30.17, 28.72, 30.79, 28.72, 30.17, 30.94, 30.99, 28.72, 28.72, 30.84, 30.65, 28.72, 30.17, 30.75, 30.79, 30.79, 30.75, 30.65, 30.65, 29.69, 30.99, 30.79, 30.79, 30.65, 30.65, 28.72, 29.69, 30.75, 30.65, 29.69, 28.72, 30.79, 28.72, 28.72, 29.69, 28.72, 28.72, 30.79, 30.65, 30.75, 30.75, 28.72, 29.69, 30.94, 30.99, 30.65, 30.65, 30.75, 30.75, 28.72, 29.69, 30.79, 30.75, 30.84, 30.79, 30.99, 30.94, 30.79, 30.75, 29.69, 28.72, 30.79, 30.79, 30.79, 28.72, 29.69, 30.99, 30.75, 30.17, 28.72, 30.65, 30.79, 30.89, 30.99, 29.69, 30.79, 30.65, 30.75, 30.17, 30.17, 30.99, 30.79, 30.79, 30.75, 28.72, 30.17, 28.72, 30.89, 30.17, 30.75, 30.99, 30.17, 30.79, 29.69, 30.17, 30.89, 30.65, 30.75, 30.17, 28.72, 30.65, 30.75, 29.69, 30.79, 29.69, 28.72, 28.72, 30.75, 28.72, 30.79, 28.72, 30.94, 30.79, 30.79, 28.72, 30.79, 30.79, 30.79, 30.79, 30.65, 29.69, 28.72, 30.17, 28.72, 30.75, 28.72, 30.79, 30.79, 30.94, 29.69, 30.17, 29.69, 30.65, 30.84, 30.79, 30.79, 30.17, 28.72, 30.17, 30.65, 30.17, 30.75, 28.72, 30.84, 30.75, 28.72, 30.94, 30.75, 30.75, 29.69, 30.17, 30.75, 30.75, 29.69, 30.79, 30.99, 30.84, 30.17, 30.79, 30.94, 28.72, 30.17, 29.69, 28.72, 30.94, 30.17, 28.72, 28.72, 30.65, 30.79, 30.65, 28.72, 30.79, 30.17, 28.72, 30.75, 30.79, 28.72, 29.69, 28.72, 30.79, 28.72, 30.79, 30.75, 29.69, 29.69, 30.65, 29.69, 28.72, 28.72, 30.65, 30.79, 30.79, 30.94, 30.65, 30.84, 30.75, 30.75, 30.65, 29.69, 30.17, 28.72, 30.79, 30.17, 30.79, 30.75, 29.69, 30.89, 29.69, 30.89, 28.72, 30.65, 28.72, 30.84, 30.65, 30.75, 30.75, 30.75, 28.72, 30.65, 30.84, 30.84, 30.65, 30.94, 28.72, 29.69, 30.79, 30.79, 30.79, 30.84, 30.99, 30.99, 30.94, 30.17, 28.72, 30.65, 30.99, 30.79, 28.72, 28.72, 30.79, 29.69, 30.75, 30.65, 29.69, 29.69, 28.72, 30.75, 30.79, 30.99, 30.17, 28.72, 30.75, 29.69, 29.69, 30.75, 30.89, 30.84, 29.69, 30.75, 30.94, 28.72, 30.89, 30.89, 30.79, 30.84, 30.79, 28.72, 28.72, 30.75, 30.75, 30.75, 29.69, 30.79, 30.89, 29.69, 30.99, 28.72, 28.72, 30.17, 30.79, 30.89, 30.75, 30.79, 28.72, 30.65, 30.89, 30.79, 30.79, 30.89, 29.69, 30.79, 30.79, 30.79, 29.69, 30.17, 28.72, 30.17, 30.94, 30.94, 30.17, 30.89, 30.94, 30.79, 30.65, 30.75, 30.75, 28.72, 30.65, 30.79, 30.79, 30.75, 28.72, 30.65, 30.65, 30.17, 29.69, 29.69, 30.89, 30.65, 28.72, 30.79, 30.89, 30.94, 30.17, 30.65, 30.79, 29.69, 30.94, 30.17, 30.17, 30.75, 30.79, 30.17, 28.72, 29.69, 30.79, 29.69, 29.69, 30.89, 30.65, 30.65, 28.72, 30.17, 28.72, 30.79, 29.69, 30.89, 30.75, 29.69, 29.69, 30.75, 28.72, 30.79, 29.69, 30.75, 29.69, 30.65, 30.75, 30.79, 30.17, 30.84, 30.79, 29.69, 29.69, 30.94, 28.72, 30.79, 30.17, 30.75, 30.79, 30.79, 30.17, 29.69, 28.72, 30.99, 28.72, 30.99, 30.17, 30.94, 30.79, 30.75, 29.69, 30.84, 30.89, 30.94, 30.79, 30.84, 29.69, 30.94, 30.79, 30.17, 28.72, 30.75, 28.72, 30.75, 28.72, 30.94, 30.65, 30.75, 30.79, 30.99, 30.75, 30.99, 30.17, 29.69, 28.72, 30.99, 30.89, 28.72, 28.72, 30.79, 30.65, 30.94, 30.17, 30.75, 30.94, 30.84, 30.75, 29.69, 30.79, 29.69, 30.65, 30.17, 30.17, 30.65, 29.69, 29.69, 30.75, 30.75, 30.89, 28.72, 30.79, 30.94, 30.99, 30.79, 30.79, 30.65, 30.94, 30.99, 30.75, 30.94, 30.94, 30.65, 30.94, 30.17, 29.69, 30.99, 30.99, 30.17, 28.72, 30.89, 30.75, 30.89, 30.17, 28.72, 30.79, 30.84, 30.94, 30.99, 30.17, 30.79, 30.94, 30.94, 30.79, 30.84, 30.75, 30.89, 30.75, 30.75, 30.65, 30.75, 30.65, 30.75, 30.75, 30.65, 30.75, 30.65, 30.17, 30.75, 30.65, 28.72, 30.17, 30.65, 28.69, 29.99, 28.69, 28.69, 30.89, 30.99, 28.69, 28.69, 29.49, 28.69, 30.84, 29.99, 29.49, 29.99, 28.69, 29.49, 30.79, 29.49, 28.69, 29.99, 29.99, 29.49, 30.99, 28.69, 30.74, 29.99, 28.69, 30.84, 29.49, 28.69, 30.49, 29.49, 30.79, 29.49, 30.74, 28.69, 28.69, 29.49, 29.49, 30.79, 30.84, 30.49, 29.49, 28.69, 30.94, 29.49, 30.49, 30.74, 30.79, 30.89, 30.49, 29.99, 30.84, 29.49, 29.49, 30.84, 29.49, 30.94, 29.99, 29.99, 30.74, 30.74, 29.49, 29.99, 28.69, 30.49, 29.49, 29.99, 28.69, 29.49, 30.79, 30.79, 30.79, 29.99, 30.74, 30.99, 30.49, 29.49, 30.84, 28.69, 30.94, 30.84, 30.84, 29.99, 30.79, 30.49, 30.99, 30.89, 30.49, 30.74, 30.49, 30.74, 30.49, 30.74, 28.69, 30.99, 28.69, 29.99, 29.49, 30.49, 29.49, 30.49, 30.49, 29.49, 29.49, 30.74, 29.99, 28.69, 30.74, 30.49, 28.69, 29.49, 30.99, 29.49, 29.49, 30.79, 30.74, 30.79, 28.69, 29.99, 29.49, 30.89, 30.99, 30.49, 30.49, 29.99, 28.69, 29.49, 30.74, 28.69, 30.79, 30.49, 30.89, 29.49, 28.69, 29.99, 30.79, 30.84, 28.69, 30.49, 28.69, 29.99, 29.99, 29.49, 28.69, 28.69, 30.79, 29.49, 30.74, 30.49, 30.74, 29.49, 30.74, 30.49, 28.69, 29.99, 30.49, 29.99, 30.74, 30.74, 30.79, 29.99, 30.79, 30.99, 30.49, 28.69, 28.69, 28.69, 30.94, 29.99, 29.99, 29.99, 28.69, 30.89, 30.49, 28.69, 30.74, 30.49, 30.94, 30.84, 30.79, 28.69, 29.49, 28.69, 29.99, 30.89, 29.49, 29.99, 30.84, 30.74, 30.99, 28.69, 30.74, 30.74, 30.79, 30.94, 30.74, 29.49, 28.69, 30.89, 28.69, 29.49, 30.79, 30.49, 29.99, 30.84, 29.99, 28.69, 30.79, 30.89, 30.74, 30.74, 30.99, 30.84, 28.69, 29.49, 30.89, 28.69, 30.74, 30.94, 29.99, 30.94, 30.79, 29.49, 30.79, 28.69, 29.99, 28.69, 30.74, 28.69, 29.49, 30.79, 30.74, 30.74, 28.69, 28.69, 29.49, 30.74, 29.49, 30.74, 30.84, 29.49, 28.69, 30.49, 30.99, 28.69, 30.84, 29.99, 30.84, 29.49, 30.49, 30.74, 30.79, 28.69, 30.74, 29.49, 30.99, 30.94, 28.69, 30.49, 30.94, 30.74, 29.49, 28.69, 30.49, 30.79, 30.79, 30.74, 28.69, 29.49, 28.69, 28.69, 29.49, 28.69, 29.99, 30.49, 30.74, 29.99, 30.49, 30.84, 30.49, 29.99, 29.49, 29.99, 30.94, 28.69, 30.99, 30.49, 29.49, 29.49, 30.49, 29.49, 28.69, 30.99, 30.74, 28.69, 30.79, 28.69, 28.69, 30.49, 29.49, 29.99, 28.69, 30.99, 30.94, 30.94, 29.49, 28.69, 29.99, 29.99, 28.69, 30.79, 30.49, 29.49, 29.49, 30.49, 30.79, 30.79, 28.69, 30.94, 29.99, 28.69, 29.49, 30.49, 29.49, 29.99, 29.49, 29.99, 29.99, 28.69, 28.69, 30.84, 29.49, 30.49, 29.49, 30.49, 30.79, 30.74, 30.49, 29.49, 29.49, 29.49, 30.49, 30.84, 30.74, 28.69, 30.79, 30.89, 28.69, 29.49, 30.74, 30.84, 30.49, 29.49, 29.99, 29.49, 30.89, 29.49, 29.49, 30.84, 29.99, 28.69, 29.99, 30.84, 30.74, 30.49, 29.99, 28.69, 30.89, 29.49, 28.69, 30.79, 29.99, 29.99, 28.69, 29.49, 30.79, 29.99, 29.49, 30.79, 30.79, 30.84, 28.69, 28.69, 28.69, 30.84, 30.74, 30.84, 30.89, 29.49, 29.49, 28.69, 29.49, 30.74, 28.69, 30.89, 30.49, 30.99, 29.99, 28.69, 29.49, 29.49, 28.69, 29.99, 30.99, 28.69, 30.49, 28.69, 29.99, 28.69, 28.69, 28.69, 29.49, 28.69, 29.49, 29.99, 29.99, 30.94, 28.69, 30.84, 30.49, 29.99, 30.74, 29.49, 29.49, 29.49, 30.79, 29.49, 28.69, 30.94, 29.49, 30.49, 29.49, 28.69, 30.74, 30.49, 29.99, 28.69, 30.74, 28.69, 29.99, 30.79, 28.69, 30.49, 29.99, 28.69, 28.69, 30.74, 30.49, 29.99, 28.69, 30.84, 30.49, 29.49, 29.49, 30.94, 28.69, 30.79, 30.94, 29.99, 30.79, 29.99, 30.74, 30.89, 28.69, 29.49, 29.99, 30.74, 29.49, 28.69, 28.69, 30.89, 29.99, 28.69, 30.89, 29.99, 28.69, 30.74, 30.89, 29.99, 28.69, 30.49, 29.99, 28.69, 29.99, 30.89, 28.69, 28.69, 30.49, 30.84, 29.49, 30.89, 29.49, 29.49, 28.69, 29.49, 30.89, 29.49, 30.74, 30.49, 28.69, 28.69, 29.49, 30.49, 29.99, 28.69, 29.99, 29.49, 29.49, 29.49, 30.94, 30.89, 30.79, 30.49, 30.74, 29.99, 29.49, 30.89, 30.74, 28.69, 30.89, 29.49, 30.74, 29.49, 30.79, 29.99, 30.84, 28.69, 30.74, 28.69, 30.49, 30.84, 30.94, 29.99, 29.49, 29.49, 30.74, 30.94, 30.79, 28.69, 29.99, 29.49, 30.79, 28.69, 29.99, 30.79, 28.69, 29.49, 29.49, 29.99, 28.69, 30.89, 28.69, 29.99, 30.79, 28.69, 28.69, 30.99, 29.49, 30.74, 30.94, 29.99, 29.99, 28.69, 28.69, 28.69, 29.49, 30.49, 29.99, 30.49, 29.99, 29.99, 29.49, 29.99, 28.69, 30.74, 30.49, 30.49, 30.89, 30.99, 30.49, 29.49, 30.49, 29.99, 29.49, 30.74, 30.79, 29.49, 28.69, 30.79, 30.49, 29.49, 29.99, 30.74, 29.99, 29.99, 29.49, 30.74, 30.49, 30.94, 28.69, 30.89, 28.69, 30.74, 28.69, 30.74, 30.49, 29.49, 29.49, 29.49, 30.79, 30.79, 28.69, 30.79, 30.79, 30.74, 30.84, 29.49, 28.69, 28.69, 30.89, 29.99, 29.49, 28.69, 30.74, 30.49, 28.69, 30.99, 30.94, 30.49, 30.94, 28.69, 29.99, 30.99, 28.69, 30.84, 30.74, 30.79, 29.49, 29.99, 30.49, 29.49, 30.79, 30.94, 28.69, 30.94, 29.49, 29.99, 30.74, 30.99, 30.49, 30.74, 28.69, 30.74, 30.74, 30.79, 30.84, 30.49, 30.84, 28.69, 28.69, 28.69, 30.84, 30.49, 28.69, 28.69, 29.49, 30.49, 29.49, 28.69, 30.74, 29.49, 28.69, 28.69, 28.69, 30.74, 29.49, 30.79, 29.49, 30.49, 28.69, 30.49, 30.99, 30.84, 30.74, 30.89, 29.49, 29.49, 29.49, 29.49, 30.89, 28.69, 29.49, 29.49, 30.49, 28.69, 30.84, 30.84, 30.49, 29.99, 30.49, 30.89, 29.49, 30.89, 29.49, 28.69, 29.49, 30.74, 28.69, 29.49, 30.74, 29.99, 29.49, 30.74, 29.99, 30.79, 29.49, 30.74, 28.69, 30.49, 28.69, 30.74, 29.99, 29.49, 30.74, 29.99, 30.89, 28.69, 30.84, 30.74, 28.69, 30.49, 30.84, 28.69, 30.79, 29.49, 28.69, 29.99, 30.49, 30.84, 29.49, 28.69, 28.69, 30.89, 30.49, 28.69, 30.89, 30.84, 30.74, 29.99, 29.49, 30.99, 29.49, 30.89, 30.99, 30.89, 30.74, 30.89, 29.49, 29.49, 30.79, 28.69, 30.79, 29.99, 28.69, 30.74, 28.69, 28.69, 28.69, 30.74, 29.49, 29.49, 29.99, 29.99, 30.99, 30.84, 29.49, 29.49, 29.99, 30.94, 30.89, 28.69, 28.69, 30.74, 29.99, 29.99, 28.69, 30.49, 30.49, 30.79, 29.49, 28.69, 29.49, 30.84, 29.99, 30.49, 29.49, 30.74, 30.74, 30.74, 29.49, 28.69, 30.49, 29.49, 28.69, 30.49, 28.69, 28.69, 29.49, 30.89, 29.99, 30.79, 29.49, 29.99, 29.49, 30.99, 30.84, 29.49, 28.69, 29.49, 29.49, 29.49, 28.69, 28.18, 29.99, 30.74, 30.49, 30.74, 30.89, 30.49, 29.49, 28.69, 30.49, 30.99, 28.69, 30.99, 29.49, 30.94, 29.49, 28.69, 30.49, 30.74, 29.99, 28.69, 30.49, 30.84, 29.49, 29.49, 30.49, 28.69, 29.49, 28.69, 29.49, 29.49, 30.89, 30.74, 29.99, 28.69, 29.99, 28.69, 30.49, 28.69, 30.49, 29.99, 29.99, 29.99, 30.49, 30.84, 30.74, 30.49, 30.49, 30.84, 30.49, 30.49, 30.74, 30.49, 30.84, 30.74, 30.99, 30.49, 28.69, 30.79, 30.74, 29.49, 29.96, 30.89, 29.99, 30.74, 29.49, 28.69, 28.69, 29.99, 28.69, 29.49, 29.99, 30.74, 29.99, 30.49, 30.74, 30.74, 29.49, 29.99, 30.49, 29.99, 29.49, 30.89, 30.79, 28.69, 28.69, 30.89, 29.49, 28.69, 30.49, 30.79, 30.74, 29.49, 30.79, 29.49, 30.49, 29.49, 29.49, 30.94, 30.49, 29.99, 29.99, 29.99, 29.49, 30.79, 29.49, 30.89, 30.94, 28.69, 28.69, 29.49, 29.49, 30.94, 28.69, 29.99, 28.69, 30.49, 28.69, 29.49, 30.79, 30.74, 30.74, 28.69, 28.69, 30.99, 30.49, 30.84, 30.79, 28.69, 30.74, 30.84, 30.79, 29.49, 30.79, 30.79, 30.79, 29.99, 30.79, 30.94, 29.99, 28.69, 29.49, 30.84, 27.79, 29.49, 30.79, 30.74, 30.74, 30.94, 30.49, 30.79, 30.99, 30.49, 29.49, 28.69, 30.74, 30.49, 29.99, 28.69, 30.49, 30.49, 30.49, 29.99, 30.74, 30.99, 30.84, 30.74, 30.49, 30.84, 30.74, 28.69, 28.69, 29.99, 30.84, 30.49, 28.69, 29.49, 30.49, 30.74, 30.94, 28.69, 29.49, 30.89, 30.89, 30.79, 30.79, 30.84, 30.79, 30.89, 30.84, 30.74, 28.69, 29.49, 29.49, 28.69, 29.49, 27.79, 29.99, 30.49, 30.94, 30.89, 30.49, 27.79, 30.79, 30.79, 28.69, 29.49, 28.18, 30.74, 28.88, 29.67, 29.49, 29.49, 30.49, 30.74, 29.99, 28.18, 29.49, 28.69, 28.69, 30.74, 28.69, 29.99, 30.49, 28.69, 30.74, 28.69, 29.49, 29.67, 30.49, 29.96, 29.99, 27.79, 29.49, 30.74, 30.79, 28.69, 29.49, 30.74, 29.99, 27.79, 28.88, 29.49, 29.99, 29.49, 29.49, 28.69, 28.69, 30.49, 30.49, 27.79, 29.49, 30.49, 30.79, 30.79, 29.99, 28.69, 30.99, 28.69, 29.67, 29.49, 28.69, 29.99, 30.84, 28.18, 28.69, 28.69, 30.49, 30.74, 29.49, 29.99, 30.84, 28.69, 29.99, 29.99, 28.18, 30.49, 29.99, 30.49, 27.79, 27.79, 30.74, 30.79, 29.99, 29.96, 28.18, 29.67, 27.79, 28.88, 29.96, 28.88, 29.96, 29.96, 28.18, 29.96, 28.18, 28.88, 30.99, 28.18, 27.79, 28.88, 30.99, 28.18, 27.79, 30.99, 29.67, 27.79, 28.18, 27.79, 28.88, 28.18, 27.79, 27.79, 29.67, 28.88, 27.79, 30.99, 28.18, 28.88, 29.67, 27.79, 27.79, 28.88, 29.67, 27.79, 27.79, 28.18, 29.96, 30.99, 27.79, 28.18, 28.18, 27.79, 27.79, 28.18, 27.79, 27.79, 29.96, 28.88, 29.96, 27.79, 28.18, 28.18, 28.88, 27.79, 27.79, 28.88, 28.18, 28.18, 28.18, 29.67, 29.96, 27.79, 27.79, 29.96, 27.79, 27.79, 28.88, 27.79, 29.96, 27.79, 30.99, 29.67, 27.79, 28.18, 29.67, 28.18, 29.96, 27.79, 28.18, 28.88, 27.79, 28.88, 27.79, 27.79, 27.79, 28.88, 29.96, 27.79, 27.79, 27.79, 27.79]\n"
          ],
          "name": "stdout"
        }
      ]
    },
    {
      "cell_type": "code",
      "metadata": {
        "id": "ndxnEpd559cH",
        "outputId": "b9545dcb-4069-45ab-902e-d09155619c0f",
        "colab": {
          "base_uri": "https://localhost:8080/"
        }
      },
      "source": [
        "min(outlier)"
      ],
      "execution_count": 143,
      "outputs": [
        {
          "output_type": "execute_result",
          "data": {
            "text/plain": [
              "27.79"
            ]
          },
          "metadata": {
            "tags": []
          },
          "execution_count": 143
        }
      ]
    },
    {
      "cell_type": "code",
      "metadata": {
        "id": "MZHUB45y59fp",
        "outputId": "9316dc99-cdcc-47bc-aba6-bed65a264af6",
        "colab": {
          "base_uri": "https://localhost:8080/"
        }
      },
      "source": [
        "df_Accepted[\"loan_status\"][df_Accepted[\"int_rate\"]>=27.79].value_counts()"
      ],
      "execution_count": 144,
      "outputs": [
        {
          "output_type": "execute_result",
          "data": {
            "text/plain": [
              "Charged Off    4916\n",
              "Fully Paid     4848\n",
              "Name: loan_status, dtype: int64"
            ]
          },
          "metadata": {
            "tags": []
          },
          "execution_count": 144
        }
      ]
    },
    {
      "cell_type": "code",
      "metadata": {
        "id": "KAU424kr59il"
      },
      "source": [
        "\n",
        "outlier_interest_rate = df_Accepted[df_Accepted[\"int_rate\"]>=27.79].index"
      ],
      "execution_count": 145,
      "outputs": []
    },
    {
      "cell_type": "code",
      "metadata": {
        "id": "-haB49VG59l5",
        "outputId": "6b846ca4-b397-4b4d-ca11-d96119a28400",
        "colab": {
          "base_uri": "https://localhost:8080/"
        }
      },
      "source": [
        "outlier_interest_rate_Remove = []\n",
        "for i in outlier_interest_rate:\n",
        "  outlier_interest_rate_Remove.append(i)\n",
        "\n",
        "print(outlier_interest_rate_Remove)\n",
        "print(len(outlier_interest_rate_Remove))"
      ],
      "execution_count": 146,
      "outputs": [
        {
          "output_type": "stream",
          "text": [
            "[809, 878, 2668, 2746, 4029, 4807, 5747, 6680, 6961, 7090, 7975, 9879, 11111, 11804, 13348, 14532, 15004, 15046, 15371, 15374, 16493, 16634, 16862, 18050, 19480, 21144, 21170, 21495, 22271, 23121, 24063, 25548, 25629, 25949, 26276, 27260, 27810, 28096, 28224, 28635, 30254, 31425, 31627, 32405, 32460, 33589, 34356, 34411, 35228, 35256, 35731, 36350, 36598, 36674, 36871, 37395, 38881, 39271, 39871, 40645, 41075, 41290, 41739, 41920, 42027, 44216, 44630, 45620, 45977, 46433, 46531, 47530, 47740, 47829, 47986, 49499, 49735, 50667, 51036, 51427, 53269, 55114, 55651, 56560, 56876, 57138, 58383, 58640, 58649, 59103, 59832, 60264, 60330, 60340, 61092, 61434, 62497, 64171, 65195, 65937, 66223, 67498, 68191, 69893, 69903, 73448, 74255, 74320, 75901, 78064, 78954, 83832, 84256, 84851, 86145, 86589, 87792, 89833, 90824, 91955, 92648, 95035, 95171, 97708, 97963, 99449, 99954, 100679, 100863, 101010, 102780, 103030, 103190, 103363, 105017, 105178, 105779, 106222, 108315, 108703, 109618, 110593, 110820, 111356, 112231, 112338, 114569, 115004, 116187, 116351, 116427, 116837, 116939, 118331, 119269, 120248, 121097, 121569, 123245, 126280, 127278, 127345, 127837, 129301, 129682, 130169, 130966, 131166, 131586, 132050, 132641, 133120, 133780, 134599, 134748, 135080, 135334, 135828, 139310, 139368, 139489, 140502, 141224, 141379, 141582, 142736, 143396, 144188, 144523, 145758, 146887, 147501, 148316, 149382, 149888, 150097, 150611, 150777, 151274, 152024, 152537, 153501, 153617, 154433, 155296, 155453, 155688, 155754, 157801, 158298, 158844, 159664, 160110, 160637, 160927, 162069, 162170, 162592, 162832, 163286, 163291, 164351, 164563, 164640, 164761, 164942, 166368, 166839, 167275, 167551, 168698, 169560, 169993, 170103, 171362, 171499, 171618, 173315, 173496, 173683, 178018, 178765, 179438, 180289, 180320, 181943, 182206, 182754, 182778, 183550, 183770, 184067, 184832, 185425, 185475, 185954, 186137, 187249, 187344, 188109, 189429, 190623, 190688, 191620, 192387, 193323, 193331, 195256, 195791, 195862, 195950, 195981, 196120, 196805, 196843, 198390, 198607, 198841, 199398, 200220, 200811, 201537, 202389, 204404, 204608, 205274, 205672, 206152, 208193, 208266, 208732, 208767, 209446, 210064, 210517, 210917, 211147, 211859, 213535, 214090, 214217, 216409, 216635, 217183, 218539, 218989, 219712, 220330, 223091, 225721, 226835, 227002, 227004, 227043, 227434, 227991, 228274, 228662, 228965, 229845, 230122, 230144, 230234, 231067, 231772, 232113, 232958, 233052, 233114, 233335, 233394, 233482, 233629, 233632, 234787, 235162, 235445, 236588, 237581, 238134, 238253, 238535, 238667, 238795, 238798, 239548, 240608, 241135, 241167, 242649, 243274, 243340, 243460, 243758, 244910, 245679, 245783, 245994, 246308, 246446, 247256, 247920, 248571, 248616, 248670, 249034, 249608, 249802, 249981, 250353, 251424, 253361, 254246, 254856, 256228, 256719, 256885, 257172, 257318, 257470, 257827, 259191, 259197, 259525, 260125, 260643, 261624, 263018, 263427, 263526, 263877, 264365, 265609, 267002, 267263, 267719, 269501, 269793, 270186, 273465, 274273, 274428, 274798, 275034, 276364, 277344, 277454, 277678, 278027, 278070, 278105, 278734, 280227, 280741, 281510, 281805, 282247, 421291, 422507, 422879, 422967, 422987, 423941, 424354, 424603, 425405, 425433, 425577, 425643, 426017, 426387, 426682, 427183, 427839, 428129, 429121, 429936, 429949, 431262, 431364, 432091, 432246, 432289, 432389, 432772, 433240, 433735, 434060, 434744, 434925, 435006, 435151, 435272, 435804, 435998, 436377, 436573, 437745, 438157, 439019, 439132, 439389, 440933, 441001, 441217, 441595, 442920, 443297, 443393, 443815, 443920, 444486, 445489, 445559, 445631, 446272, 446374, 446883, 446995, 447147, 447237, 448290, 448994, 449823, 450238, 450296, 450535, 451263, 453166, 453412, 453453, 455703, 456030, 456237, 456274, 456524, 456922, 457082, 458485, 458839, 459376, 459893, 461010, 461061, 461190, 462306, 462360, 462374, 462521, 462546, 462759, 462807, 463004, 463692, 463842, 464216, 464443, 465302, 465456, 465680, 465696, 466361, 466536, 467413, 469162, 469998, 470388, 470652, 471103, 471136, 471310, 471444, 471447, 471457, 471765, 472398, 472461, 472954, 474265, 474382, 474564, 474924, 474968, 474976, 475004, 475780, 475810, 475848, 475932, 475977, 476114, 476184, 476330, 476347, 477018, 477173, 477376, 477815, 477979, 477995, 478010, 478181, 478515, 478677, 478739, 478814, 478859, 478950, 479370, 479560, 481335, 481416, 481510, 482106, 482504, 482510, 482643, 483138, 484008, 484099, 484402, 484652, 485313, 485625, 486438, 486669, 486920, 487002, 487070, 487122, 487251, 487375, 487704, 487883, 488243, 488309, 489000, 489117, 489201, 490943, 491214, 491306, 491838, 491927, 491945, 492155, 493119, 493529, 494115, 494625, 494749, 495149, 495435, 496353, 496578, 496658, 497051, 497128, 497300, 497554, 497877, 497959, 498009, 498435, 499328, 499467, 499662, 499716, 500611, 500701, 500818, 500906, 500951, 500981, 501972, 502662, 502769, 503155, 503570, 504077, 504731, 504892, 505207, 505727, 505764, 505828, 506307, 507286, 508909, 509441, 509492, 509503, 510062, 510342, 510576, 510670, 511003, 511158, 511280, 511436, 511990, 512715, 512889, 513021, 513172, 513518, 513852, 513944, 514477, 514504, 514782, 515422, 515455, 515791, 516137, 516521, 516860, 516934, 517123, 517158, 517632, 518136, 518258, 518346, 518881, 518992, 519570, 519653, 520075, 521035, 521051, 522299, 522379, 522396, 522574, 523121, 523183, 523501, 524028, 524507, 524857, 525104, 525256, 526834, 527052, 527096, 528185, 528996, 529004, 529065, 529068, 529100, 529129, 529131, 529168, 529178, 529187, 529299, 529464, 529474, 529544, 529689, 529725, 529847, 529917, 530019, 530057, 530241, 530258, 530519, 530704, 530860, 530989, 531059, 531063, 531080, 531139, 531303, 531313, 531366, 531528, 531532, 531575, 531675, 532110, 532173, 532174, 532192, 532287, 532332, 532350, 532579, 532621, 532680, 532718, 532973, 532978, 533020, 533039, 533204, 533228, 533265, 533293, 533321, 533324, 533400, 533462, 533634, 533806, 533812, 533998, 534078, 534090, 534189, 534285, 534294, 534300, 534445, 534540, 534556, 534659, 534673, 534723, 534909, 534947, 534967, 534970, 535009, 535025, 535125, 535220, 535270, 535293, 535303, 535314, 535410, 535604, 535696, 535797, 536283, 536311, 536435, 536444, 536751, 536785, 536864, 536966, 537068, 537180, 537181, 537204, 537218, 537350, 537389, 537519, 537657, 537804, 537939, 537949, 537982, 538146, 538248, 538334, 538449, 538486, 538581, 538618, 538693, 538710, 538800, 538853, 538861, 538874, 539105, 539298, 539306, 539349, 539456, 539522, 539553, 539565, 539609, 539620, 539664, 539751, 539772, 539846, 539965, 539998, 540008, 540156, 540201, 540243, 540249, 540336, 540428, 540501, 540539, 540635, 540651, 540672, 540712, 540965, 540981, 541050, 541127, 541157, 541218, 541236, 541268, 541372, 541393, 541448, 541514, 541536, 541592, 541679, 541767, 541781, 541883, 541914, 541923, 541933, 541988, 541992, 542038, 542039, 542058, 542117, 542130, 542135, 542149, 542206, 542219, 542337, 542368, 542420, 542455, 542465, 542473, 542711, 542771, 542790, 542827, 543084, 543100, 543253, 543300, 543332, 543589, 543945, 544047, 544288, 544729, 544732, 544779, 544924, 545001, 545007, 545043, 545063, 545072, 545102, 545136, 545198, 545200, 545307, 545382, 545407, 545451, 545523, 545566, 545632, 545800, 545910, 545914, 545968, 546175, 546334, 546337, 546352, 546400, 546445, 546472, 546608, 546622, 546694, 546758, 546922, 546983, 547117, 547154, 547273, 547285, 547320, 547353, 547453, 547511, 547531, 547702, 547707, 547793, 547937, 548021, 548081, 548167, 548174, 548201, 548291, 548461, 548462, 548502, 548520, 548538, 548663, 548665, 548705, 548805, 548968, 548990, 549032, 549073, 549088, 549112, 549143, 549182, 549212, 549221, 549301, 549411, 549419, 549716, 549721, 550008, 550115, 550120, 550214, 550261, 550387, 550450, 550506, 550513, 550612, 550634, 550706, 550730, 550812, 550880, 550935, 550940, 550995, 551006, 551100, 551178, 551350, 551382, 551425, 551615, 551621, 551651, 551734, 551781, 551874, 552132, 552143, 552252, 552315, 552451, 552593, 552831, 552854, 552863, 552901, 552972, 552993, 553018, 553024, 553101, 553129, 553207, 553245, 553274, 553282, 553485, 553540, 553548, 553752, 553842, 553849, 553919, 553978, 554025, 554068, 554089, 554127, 554128, 554156, 554170, 554192, 554369, 554573, 554591, 554717, 554733, 554822, 554958, 554988, 555040, 555098, 555124, 555205, 555218, 555220, 555373, 555528, 555808, 555868, 556010, 556013, 556112, 556180, 556212, 556343, 556415, 556492, 556515, 556555, 556644, 556678, 556689, 556814, 556871, 556910, 556963, 557069, 557194, 557370, 557471, 557553, 557583, 557656, 557767, 557823, 557871, 558015, 558147, 558156, 558264, 558280, 558324, 558354, 558543, 558713, 558714, 558781, 558965, 559022, 559059, 559071, 559253, 559614, 559789, 559890, 559972, 559997, 560071, 560272, 560389, 560436, 560589, 560777, 560798, 561201, 561352, 561360, 561401, 561452, 561480, 561493, 561551, 561629, 561634, 561677, 561688, 561689, 561724, 561823, 561896, 561900, 562153, 562176, 562263, 562307, 562345, 562410, 562462, 562493, 562571, 562576, 562827, 562927, 562967, 562971, 563036, 563326, 563485, 563562, 563742, 563765, 563779, 563898, 563910, 563938, 564026, 564145, 564309, 564315, 564355, 564430, 564434, 564473, 564484, 564502, 564506, 564533, 564686, 564736, 564913, 564928, 564947, 565037, 565042, 565214, 565336, 565484, 565666, 565771, 565794, 565922, 565965, 565996, 566007, 566100, 566128, 566142, 566182, 566395, 566521, 566586, 566596, 566692, 566723, 566748, 566771, 566784, 566829, 566912, 566994, 567069, 567256, 567271, 567453, 567520, 567595, 567658, 567667, 567684, 567757, 567790, 567900, 567924, 567953, 568110, 568125, 568153, 568236, 568242, 568288, 568297, 568359, 568439, 568447, 568457, 568553, 568632, 568665, 568692, 568712, 568858, 568861, 568955, 569059, 569069, 569094, 569192, 569209, 569423, 569437, 569445, 569535, 569711, 569727, 569762, 569935, 570033, 570085, 570099, 570132, 570193, 570376, 570442, 570463, 570505, 570529, 570658, 570707, 570715, 570729, 570850, 570934, 570974, 571019, 571074, 571105, 571225, 571295, 571436, 571441, 571458, 571532, 571579, 571658, 571678, 571757, 571764, 571889, 571938, 572087, 572149, 572195, 572218, 572241, 572434, 572549, 572550, 572566, 572571, 572634, 572733, 573258, 573456, 573474, 573500, 573528, 573631, 573664, 573667, 573788, 573879, 573934, 573956, 574006, 574181, 574254, 574309, 574323, 574499, 574524, 574558, 574581, 574649, 574726, 574731, 574825, 574891, 574988, 575032, 575057, 575095, 575124, 575244, 575361, 575628, 575630, 575809, 575822, 575905, 576002, 576094, 576114, 576158, 576394, 576447, 576477, 576486, 576487, 576743, 576788, 576878, 576892, 576947, 576949, 576989, 577117, 577130, 577214, 577222, 577299, 577301, 577385, 577459, 577540, 577564, 577606, 577692, 577729, 577761, 577763, 577836, 577893, 578004, 578057, 578069, 578128, 578162, 578188, 578213, 578385, 578394, 578436, 578438, 578442, 578455, 578550, 578580, 578674, 578898, 578913, 578929, 578959, 578977, 578989, 579166, 579184, 579249, 579253, 579279, 579341, 579451, 579466, 579472, 579625, 579719, 579739, 579759, 579767, 579789, 579790, 580230, 580252, 580294, 580315, 580408, 580494, 580573, 580729, 581046, 581106, 581175, 581199, 581323, 581360, 581427, 581543, 581549, 581579, 581632, 581669, 581682, 581689, 581774, 581783, 581787, 581867, 581983, 581993, 582000, 582088, 582138, 582183, 582277, 582349, 582381, 582393, 582422, 582553, 582570, 582588, 582676, 582688, 582718, 582869, 582896, 582983, 583015, 583203, 583211, 583281, 583377, 583396, 583398, 583501, 583502, 583526, 583629, 583648, 583754, 583843, 584092, 584144, 584172, 584417, 584503, 584548, 584589, 584805, 584864, 585248, 585262, 585380, 585416, 585476, 585589, 585650, 585674, 585813, 585984, 585987, 586093, 586111, 586141, 586154, 586240, 586258, 586263, 586289, 586360, 586431, 586541, 586543, 586545, 586600, 586760, 586810, 587133, 587203, 587264, 587390, 587455, 587723, 587742, 587878, 588340, 588643, 588709, 588737, 588776, 588782, 588843, 589011, 589015, 589087, 589167, 589354, 589366, 589407, 589470, 589518, 589542, 589556, 589805, 590088, 590091, 590144, 590147, 590216, 590226, 590294, 590295, 590329, 590372, 590387, 590425, 590576, 590687, 590710, 590748, 590868, 590872, 590934, 590945, 590990, 591221, 591232, 591276, 591281, 591303, 591433, 591446, 591558, 591627, 591757, 591776, 591881, 591894, 591953, 591956, 592029, 592481, 592504, 592509, 592515, 592570, 592603, 592607, 592702, 592728, 592906, 593041, 593052, 593340, 593361, 593485, 593495, 593532, 593540, 593594, 593617, 593628, 593795, 593807, 593843, 593903, 593907, 593927, 593985, 594024, 594051, 594092, 594102, 594161, 594192, 594215, 594268, 594487, 594580, 594808, 594814, 595144, 595175, 595262, 595285, 595303, 595353, 595360, 595402, 595603, 595619, 595625, 595672, 595926, 596001, 596069, 596092, 596181, 596244, 596269, 596392, 596446, 596484, 596555, 596623, 596769, 596898, 596902, 597049, 597050, 597169, 597345, 597430, 597473, 597482, 597497, 597718, 597744, 597758, 597834, 597874, 597940, 598002, 598061, 598106, 598142, 598206, 598211, 598215, 598279, 598378, 598399, 598559, 598702, 598731, 598824, 598865, 598884, 598919, 599037, 599263, 599435, 599610, 599765, 599792, 599879, 599903, 600156, 600239, 600250, 600264, 600349, 600380, 600412, 600435, 600463, 600502, 600529, 600603, 600647, 600662, 600723, 600796, 600847, 600922, 600967, 601017, 601086, 601102, 601199, 601234, 601641, 601718, 601793, 601848, 601881, 601957, 602167, 602258, 602285, 602415, 602551, 602556, 602566, 602716, 602756, 602805, 602807, 602928, 602995, 603032, 603151, 603290, 603299, 603304, 603367, 603371, 603466, 603491, 603561, 603608, 603625, 603643, 603708, 603783, 603793, 603873, 603879, 603921, 604040, 604078, 604095, 604297, 604372, 604461, 604483, 604514, 604556, 604696, 604739, 605013, 605019, 605055, 605194, 605225, 605380, 605424, 605906, 605945, 605994, 606104, 606166, 606327, 606371, 606481, 606537, 606609, 606645, 606684, 607185, 607357, 607443, 607494, 607539, 607660, 607674, 607748, 607833, 607850, 607883, 607957, 607975, 608132, 608133, 608148, 608289, 608330, 608470, 608519, 608737, 608744, 608825, 608876, 608924, 609032, 609102, 609196, 609273, 609312, 609321, 609355, 609441, 609442, 609522, 609537, 609565, 609607, 609608, 609619, 609674, 609679, 609710, 609734, 609755, 610070, 610143, 610183, 610377, 610426, 610564, 610637, 610651, 610989, 611009, 611140, 611200, 611270, 611310, 611311, 611329, 611341, 611403, 611414, 611529, 611803, 612107, 612194, 612261, 612353, 612454, 612482, 612511, 612534, 612557, 612574, 612576, 612603, 612691, 612772, 612862, 612902, 612972, 613077, 613154, 613173, 613257, 613295, 613449, 613469, 613604, 613608, 613684, 613806, 613863, 613879, 613889, 613961, 613980, 614002, 614018, 614075, 614084, 614190, 614239, 614243, 614323, 614342, 614361, 614411, 614452, 614480, 614723, 614740, 614817, 614866, 614868, 614873, 614920, 614987, 615135, 615158, 615196, 615198, 615274, 615315, 615403, 615428, 615504, 615516, 615604, 615738, 615752, 615866, 615899, 615922, 615975, 616090, 616124, 616174, 616238, 616631, 616688, 616790, 616911, 616989, 617031, 617113, 617183, 617275, 617299, 617309, 617440, 617455, 617562, 617691, 617694, 617741, 617775, 618041, 618097, 618186, 618304, 618465, 618671, 618697, 618860, 618956, 618976, 619086, 619182, 619183, 619185, 619208, 619370, 619382, 619442, 619543, 619620, 619681, 619755, 619775, 619797, 619811, 619833, 619894, 620078, 620140, 620482, 620502, 620542, 620732, 620775, 620816, 620870, 620872, 621157, 621297, 621454, 621505, 621519, 621781, 621782, 621798, 621858, 621905, 621964, 622040, 622176, 622195, 622228, 622281, 622284, 622461, 622496, 622563, 622646, 622678, 622727, 622732, 622785, 622988, 623004, 623126, 623194, 623232, 623361, 623435, 623543, 623686, 623725, 624055, 624183, 624225, 624274, 624315, 624351, 624406, 624425, 624437, 624539, 624568, 624603, 624688, 624714, 624733, 624761, 624839, 624844, 624976, 625558, 625560, 625599, 625713, 625782, 625799, 625816, 625892, 626107, 626133, 626151, 626171, 626387, 626390, 626591, 626619, 626699, 626708, 626720, 626864, 626955, 627105, 627109, 627124, 627145, 627147, 627183, 627430, 627477, 627827, 627933, 628223, 628322, 628358, 628362, 628415, 628453, 628605, 628628, 628673, 628844, 628888, 628906, 628923, 628981, 629001, 629071, 629091, 629194, 629199, 629224, 629358, 629393, 629409, 629424, 629874, 629902, 630099, 630144, 630167, 630217, 630222, 630232, 630255, 630277, 630283, 630321, 630349, 630401, 630564, 630701, 630801, 630861, 630933, 630958, 630980, 631160, 631196, 631380, 631456, 631470, 631472, 631659, 631690, 631792, 631878, 631920, 632032, 632126, 632294, 632314, 632378, 632409, 632443, 632493, 632515, 632537, 632566, 632654, 632797, 632841, 632857, 632862, 633049, 633064, 633068, 633205, 633212, 633296, 633347, 633451, 633476, 633514, 633522, 633610, 633727, 633864, 633889, 633953, 633966, 633982, 634026, 634092, 634154, 634404, 634416, 634584, 634654, 634706, 634897, 634899, 634900, 634912, 635077, 635078, 635100, 635170, 635186, 635205, 635244, 635323, 635424, 635683, 635726, 635790, 635803, 635887, 635947, 635980, 636057, 636204, 636231, 636262, 636543, 636611, 636698, 636759, 636789, 636853, 636939, 636995, 637020, 637080, 637099, 637167, 637168, 637180, 637209, 637241, 637309, 637367, 637428, 637433, 637442, 637554, 637594, 637610, 637723, 637910, 637930, 637941, 637945, 637973, 637997, 638070, 638103, 638134, 638258, 638268, 638336, 638402, 638466, 638468, 638474, 638476, 638586, 638664, 638677, 638765, 638778, 638785, 638786, 638888, 638980, 639001, 639162, 639207, 639220, 639319, 639338, 639491, 639548, 639742, 639808, 639810, 639861, 639911, 640078, 640116, 640206, 640208, 640350, 640468, 640501, 640584, 640640, 640682, 640683, 640692, 640772, 640790, 640798, 640814, 640844, 640848, 640910, 640949, 641111, 641137, 641233, 641243, 641250, 641267, 641307, 641357, 641383, 641533, 641630, 641633, 641662, 641694, 641757, 641774, 641779, 641827, 641841, 642087, 642200, 642209, 642329, 642386, 642391, 642396, 642428, 642429, 642430, 642494, 642716, 642805, 642809, 642823, 642885, 643018, 643028, 643032, 643086, 643216, 643225, 643260, 643284, 643299, 643342, 643696, 643729, 643751, 643779, 643787, 644099, 644152, 644256, 644349, 644462, 644514, 644529, 644537, 644664, 644755, 644813, 644950, 645055, 645270, 645316, 645375, 645398, 645433, 645494, 645584, 645670, 645862, 645912, 645945, 646090, 646123, 646134, 646144, 646329, 646353, 646364, 646392, 646425, 646445, 646452, 646459, 646485, 646574, 646598, 646601, 646608, 646681, 646699, 646749, 646766, 646821, 646826, 646871, 646874, 646999, 647204, 647224, 647395, 647428, 647452, 647486, 647542, 647659, 647846, 647944, 647992, 648254, 648274, 648334, 648339, 648528, 648776, 648804, 648921, 649067, 649069, 649082, 649100, 649165, 649167, 649262, 649310, 649417, 649652, 649716, 649831, 649847, 649868, 649881, 649901, 649910, 649920, 649937, 649939, 649944, 649955, 649959, 649964, 649974, 649977, 649979, 649985, 650001, 650029, 650031, 650056, 650095, 650103, 650114, 650137, 650138, 650140, 650145, 650205, 650217, 650233, 650247, 650275, 650294, 650303, 650315, 650326, 650350, 650367, 650386, 650400, 650430, 650442, 650449, 650453, 650456, 650465, 650466, 650473, 650492, 650495, 650511, 650545, 650547, 650565, 650569, 650586, 650612, 650616, 650623, 650626, 650634, 650639, 650665, 650679, 650726, 650755, 650775, 650788, 650792, 650818, 650834, 650840, 650841, 650849, 650855, 650876, 650878, 650894, 650895, 650901, 650923, 650945, 650946, 650949, 650963, 650981, 650985, 650995, 651003, 651032, 651039, 651054, 651078, 651090, 651094, 651106, 651113, 651122, 651124, 651129, 651136, 651140, 651141, 651144, 651172, 651187, 651192, 651218, 651238, 651239, 651248, 651267, 651278, 651285, 651286, 651307, 651308, 651310, 651321, 651324, 651333, 651341, 651342, 651343, 651350, 651353, 651363, 651365, 651366, 651369, 651373, 651376, 651386, 651390, 651394, 651400, 651427, 651431, 651442, 651444, 651448, 651454, 651457, 651465, 651470, 651477, 651501, 651505, 651518, 651532, 651550, 651556, 651565, 651566, 651569, 651571, 651574, 651581, 651588, 651594, 651600, 651608, 651631, 651646, 651647, 651656, 651658, 651661, 651662, 651830, 651838, 651931, 652218, 652254, 652374, 652500, 652578, 652679, 652974, 653880, 654134, 654227, 654425, 654579, 654692, 654900, 654907, 654975, 655218, 655319, 655383, 655476, 655539, 655900, 655960, 655981, 656051, 656118, 656462, 656521, 656542, 656565, 656655, 656724, 656885, 657009, 657160, 657255, 657412, 657543, 657571, 657596, 657640, 657665, 657796, 657842, 659164, 659263, 659318, 660242, 660558, 660957, 661596, 661893, 662176, 662749, 663732, 663792, 664838, 665040, 666549, 666601, 667095, 667131, 667167, 667453, 667465, 667486, 667570, 667662, 667687, 667730, 668050, 668099, 668122, 668139, 668194, 668227, 668286, 668446, 668517, 668829, 668949, 668981, 668999, 669048, 669113, 669168, 669255, 669375, 669681, 669797, 669967, 670052, 670707, 671762, 672792, 673175, 673492, 674124, 676927, 677250, 677385, 677943, 678120, 678352, 678628, 678827, 678947, 679286, 679525, 679700, 680171, 680198, 680281, 680390, 680493, 680749, 681163, 681564, 681936, 682064, 682215, 682496, 682539, 682593, 682682, 682752, 682868, 683075, 683139, 683317, 683440, 683483, 683500, 683527, 683531, 683534, 683558, 683584, 683708, 683795, 683848, 683930, 683985, 684034, 684136, 684152, 684348, 684366, 684400, 684405, 684477, 684584, 684741, 684775, 684844, 684915, 684941, 684988, 685100, 685126, 685160, 685216, 685239, 685299, 685326, 685403, 685440, 685536, 685607, 685636, 685796, 685813, 685874, 685909, 685915, 686003, 686026, 686085, 686137, 686214, 686437, 686502, 686568, 686666, 686701, 686752, 686807, 686948, 687015, 687110, 687169, 687254, 687391, 687471, 687542, 687604, 687707, 687715, 687765, 687879, 687886, 688029, 688183, 688290, 688318, 688607, 688628, 688873, 689150, 689325, 689576, 689692, 690012, 690070, 690242, 690368, 690482, 690630, 690872, 691441, 692243, 692298, 692733, 692858, 693114, 693245, 693601, 693738, 694084, 699443, 699985, 700255, 700420, 700890, 701437, 702174, 702917, 703490, 703813, 704077, 704619, 704981, 705186, 705391, 706077, 706621, 706943, 707022, 707185, 707369, 707678, 707930, 707990, 708039, 708371, 708421, 708947, 708971, 709120, 709166, 709194, 709243, 709477, 710246, 710486, 710489, 710999, 711822, 712177, 712431, 712485, 712534, 713674, 713745, 713870, 714003, 714596, 714601, 714925, 714946, 714983, 715192, 715442, 715984, 716631, 716888, 717321, 717974, 718264, 718446, 718948, 718998, 719252, 719345, 719750, 719768, 720297, 720552, 721429, 721462, 721490, 721529, 721960, 722151, 722308, 722445, 722990, 723051, 723080, 723145, 723168, 723184, 723258, 723288, 723344, 723359, 723377, 723416, 723447, 723655, 723763, 724215, 724307, 724641, 725337, 725610, 725693, 725924, 726089, 726224, 726226, 726251, 726264, 726269, 726309, 726340, 726386, 726397, 726400, 726424, 726553, 726655, 726665, 726735, 726764, 726777, 726792, 726875, 729097, 729130, 730897, 731114, 731355, 734920, 735742, 736227, 736356, 736454, 736755, 736757, 737164, 737627, 737946, 738274, 738926, 739926, 739953, 740170, 740257, 740306, 740380, 740500, 740567, 740587, 740607, 740911, 740979, 741010, 741072, 741299, 741313, 741484, 741570, 741831, 742184, 742432, 742588, 743465, 743549, 744060, 744121, 744205, 744341, 744467, 744614, 744711, 745577, 745791, 746136, 746269, 746538, 746632, 746645, 746900, 746999, 748002, 748216, 748364, 748399, 748413, 748458, 748490, 748604, 748613, 748633, 748683, 748774, 748843, 748877, 748942, 748951, 748977, 748991, 749047, 749069, 749075, 749108, 749131, 749147, 749154, 749167, 749173, 749174, 749188, 749276, 749296, 749297, 749309, 749311, 749317, 749332, 749333, 749334, 749344, 749350, 749360, 749511, 750959, 751478, 751769, 752195, 752835, 753432, 754587, 754901, 755469, 759321, 759496, 761031, 761240, 761328, 761454, 761845, 763396, 763481, 763568, 763627, 766064, 766219, 767711, 768026, 768658, 769346, 769613, 769849, 770951, 770996, 772125, 772328, 772786, 773074, 773352, 775333, 776106, 776116, 776316, 776798, 779965, 780428, 781112, 783253, 784072, 784096, 784371, 784845, 785748, 785953, 788069, 788279, 788417, 788842, 790054, 790399, 790715, 791043, 791497, 792780, 794105, 794260, 794292, 794344, 794647, 795463, 797007, 797812, 798423, 799521, 800160, 800364, 800500, 800955, 802099, 802733, 803201, 803448, 803633, 803855, 805857, 806624, 807597, 808008, 808609, 808760, 810201, 810255, 810513, 810516, 810760, 811711, 811902, 812620, 813608, 813795, 813991, 814025, 814299, 814594, 815694, 815848, 816146, 816822, 817215, 817315, 817615, 818778, 819477, 819532, 819563, 820454, 820977, 821283, 822559, 822955, 823107, 823446, 823925, 824303, 827995, 828880, 829667, 829787, 830399, 832138, 832982, 833443, 834159, 834231, 835331, 835848, 836645, 837488, 838609, 838919, 839737, 839821, 841235, 841880, 842934, 843757, 843886, 843977, 844585, 844868, 844937, 846672, 846741, 846783, 847835, 848500, 849222, 849270, 850056, 850576, 850829, 851162, 851387, 852266, 852732, 853814, 855053, 855241, 855297, 856793, 856913, 857449, 857549, 857667, 858610, 859152, 860509, 860570, 861125, 861368, 861391, 861877, 862812, 863737, 864874, 865047, 865380, 865857, 865932, 866593, 866835, 866956, 867673, 867911, 868002, 868966, 869075, 869289, 869983, 870886, 871471, 871512, 871561, 871632, 872329, 872666, 873182, 873667, 874394, 874657, 876387, 876489, 876953, 877094, 877797, 877841, 878229, 878299, 878338, 878480, 878719, 878793, 878938, 879018, 879038, 879387, 879407, 879480, 879499, 879788, 880095, 880114, 880172, 880261, 880283, 880291, 880298, 880415, 880703, 880786, 880840, 880936, 881051, 881265, 881336, 881430, 881551, 881597, 881810, 881992, 882170, 882176, 882189, 882365, 882465, 882842, 883045, 883145, 883204, 883295, 883371, 883481, 883668, 883758, 883775, 883809, 883818, 884004, 884123, 884137, 884191, 884387, 884393, 884409, 884410, 884576, 884678, 884685, 884781, 884956, 884989, 885174, 885303, 885444, 885505, 885769, 885851, 886046, 886059, 886118, 886486, 886549, 886735, 886767, 886817, 886978, 887053, 887198, 887305, 887383, 887409, 887426, 887610, 887675, 887690, 887804, 887905, 888052, 888059, 888292, 888398, 888441, 888593, 888770, 888884, 889405, 889406, 889658, 889693, 889817, 889856, 889921, 890019, 890160, 890728, 890770, 890771, 891083, 891088, 891237, 891390, 891392, 891520, 891625, 891787, 891868, 892088, 892277, 892688, 892828, 892836, 892860, 892885, 892942, 892996, 893045, 893282, 893285, 893372, 893393, 893511, 893553, 893779, 893815, 893933, 894064, 894215, 894606, 894637, 894676, 894764, 894803, 895019, 895141, 895202, 895311, 895318, 895336, 895406, 895445, 895477, 895496, 895565, 895567, 895598, 895618, 895649, 895656, 895667, 895706, 895720, 895743, 895838, 895861, 895935, 895959, 896188, 896196, 896231, 896305, 896381, 896385, 896401, 896420, 896450, 896503, 896517, 896649, 896650, 896661, 896872, 896889, 896913, 896937, 897002, 897072, 897183, 897277, 897415, 897435, 897633, 897702, 897797, 897811, 897909, 897956, 898024, 898284, 898316, 898426, 898470, 898471, 898631, 898645, 898757, 898826, 898972, 898976, 898991, 899024, 899105, 899236, 899258, 899298, 899468, 899617, 899631, 899680, 899743, 899762, 899800, 899954, 899989, 900022, 900068, 900104, 900300, 900348, 900469, 900471, 900535, 900553, 900560, 900580, 900727, 900749, 900756, 900790, 901075, 901077, 901220, 901246, 901314, 901393, 901399, 901404, 901477, 901490, 901523, 901547, 901567, 901608, 901656, 901676, 901708, 901710, 901730, 901745, 901790, 901803, 901811, 901976, 902044, 902091, 902104, 902138, 902170, 902205, 902278, 902466, 902578, 902609, 902662, 902709, 902741, 902758, 902787, 902817, 902881, 902985, 903030, 903110, 903127, 903153, 903157, 903326, 903331, 903424, 903559, 903568, 903643, 903673, 903791, 903874, 904021, 904034, 904065, 904104, 904107, 904280, 904303, 904315, 904531, 904597, 904648, 904656, 904742, 904782, 904797, 904830, 904884, 905015, 905047, 905079, 905121, 905158, 905192, 905247, 905329, 905445, 905486, 905535, 905595, 905599, 905611, 905744, 905826, 905880, 905894, 906058, 906061, 906125, 906212, 906220, 906291, 906387, 906563, 906564, 906568, 906601, 906623, 906626, 906648, 906680, 906713, 906862, 907049, 907054, 907126, 907129, 907220, 907463, 907586, 907782, 907861, 907881, 907885, 907887, 907947, 907966, 908125, 908181, 908291, 908336, 908431, 908494, 908615, 908624, 908656, 908710, 908737, 908772, 908871, 908942, 908946, 908954, 908990, 909060, 909066, 909074, 909077, 909196, 909281, 909310, 909337, 909438, 909476, 909488, 909518, 909840, 910171, 910354, 910438, 910460, 910503, 910530, 910540, 910613, 910734, 910753, 910807, 910844, 910890, 911013, 911116, 911401, 911443, 911664, 911668, 911676, 911686, 911696, 911738, 911769, 911793, 911845, 911863, 911985, 912067, 912089, 912098, 912153, 912164, 912174, 912276, 912304, 912338, 912351, 912394, 912426, 912484, 912494, 912724, 912874, 912911, 913024, 913113, 913229, 913286, 913358, 913405, 913489, 913524, 913564, 913578, 913592, 913671, 913722, 913829, 913860, 914064, 914276, 914407, 914595, 914597, 914703, 914752, 914794, 914802, 914851, 914856, 915023, 915120, 915246, 915356, 915426, 915509, 915545, 915661, 915677, 915872, 915918, 916133, 916452, 916632, 916673, 916844, 916880, 916992, 917024, 917049, 917196, 917223, 917248, 917352, 917357, 917547, 917574, 917612, 917637, 917712, 917750, 917796, 917843, 917923, 917984, 918032, 918034, 918053, 918082, 918113, 918117, 918134, 918138, 918226, 918251, 918277, 918306, 918427, 918484, 918494, 918543, 918611, 918666, 918699, 918710, 918711, 918745, 918789, 918817, 918841, 918863, 918943, 918955, 918975, 918979, 919053, 919135, 919178, 919292, 919348, 919356, 919413, 919461, 919484, 919578, 919654, 919710, 919812, 919835, 919849, 919891, 919977, 919982, 919993, 920014, 920030, 920056, 920070, 920084, 920118, 920157, 920213, 920239, 920303, 920384, 920401, 920483, 920628, 920663, 920696, 920703, 920712, 920739, 920815, 920835, 920864, 920867, 920908, 920930, 921320, 921368, 921452, 921462, 921483, 921598, 921669, 921691, 921854, 921979, 921995, 922070, 922095, 922121, 922161, 922206, 922272, 922463, 922657, 922733, 922756, 922864, 922901, 923117, 923143, 923554, 923702, 923754, 923765, 923799, 923878, 923914, 923916, 923936, 923951, 923977, 924164, 924225, 924263, 924284, 924317, 924327, 924355, 924468, 924500, 924536, 924603, 924606, 924650, 924735, 924737, 924748, 924769, 924804, 924867, 925147, 925265, 925330, 925332, 925405, 925467, 925475, 925483, 925670, 925718, 925773, 925911, 925920, 926006, 926200, 926498, 926524, 926538, 926608, 926686, 927052, 927138, 927208, 927222, 927245, 927273, 927334, 927410, 927433, 927450, 927528, 927547, 927579, 927642, 927659, 927678, 927841, 927948, 928058, 928233, 928328, 928396, 928473, 928502, 928512, 928543, 928587, 928619, 928668, 928713, 928743, 928744, 928785, 928798, 928837, 928840, 928911, 929080, 929122, 929146, 929195, 929210, 929269, 929305, 929401, 929412, 929413, 929419, 929427, 929544, 929589, 929598, 929608, 929629, 930068, 930093, 930111, 930145, 930156, 930172, 930259, 930334, 930345, 930433, 930649, 930664, 930681, 930917, 931014, 931046, 931057, 931105, 931162, 931201, 931211, 931347, 931367, 931638, 931696, 931711, 931769, 931871, 931935, 932107, 932124, 932200, 932266, 932393, 932471, 932563, 932590, 932591, 932631, 932785, 932799, 932878, 932935, 932960, 933021, 933106, 933169, 933288, 933360, 933380, 933691, 933767, 933768, 933782, 933783, 933861, 933901, 933986, 934013, 934244, 934315, 934727, 934776, 934930, 935064, 935198, 935435, 935547, 935769, 935831, 935855, 935985, 936043, 936071, 936101, 936127, 936241, 936286, 936336, 936340, 936421, 936474, 936514, 936530, 936645, 936701, 936800, 936871, 936907, 937024, 937098, 937199, 937227, 937249, 937257, 937333, 937458, 937481, 937485, 937514, 937668, 937702, 937779, 937916, 937919, 937944, 937970, 938052, 938172, 938251, 938287, 938313, 938318, 938348, 938377, 938433, 938458, 938531, 938744, 938751, 938759, 938839, 938959, 938993, 939066, 939076, 939126, 939192, 939255, 939268, 939342, 939382, 939397, 939430, 939486, 939541, 939560, 939595, 939609, 939617, 939678, 939729, 939875, 939883, 939904, 940024, 940154, 940195, 940204, 940206, 940332, 940344, 940523, 940552, 940633, 940751, 940757, 940859, 940910, 941009, 941239, 941401, 941409, 941566, 941628, 941665, 941705, 941725, 941813, 941818, 942098, 942136, 942204, 942520, 942688, 942696, 942713, 942758, 942803, 942817, 942890, 942973, 943103, 943148, 943151, 943234, 943359, 943455, 943590, 943699, 943754, 943788, 943834, 943880, 943884, 944226, 944246, 944267, 944313, 944373, 944388, 944416, 944495, 944537, 944580, 944596, 944604, 944619, 944753, 944912, 945097, 945132, 945328, 945506, 945507, 945625, 945634, 945707, 945761, 945784, 945815, 945862, 945905, 945966, 946014, 946065, 946098, 946133, 946181, 946229, 946300, 946313, 946332, 946375, 946386, 946428, 946439, 946440, 946442, 946547, 946574, 946690, 946710, 946814, 946829, 946924, 946967, 946972, 947024, 947028, 947108, 947109, 947127, 947168, 947274, 947337, 947378, 947413, 947457, 947494, 947525, 947632, 947669, 947881, 947888, 948022, 948050, 948058, 948128, 948131, 948140, 948165, 948214, 948224, 948250, 948294, 948324, 948380, 948473, 948540, 948586, 948596, 948718, 948727, 948874, 948926, 948927, 948982, 949103, 949110, 949238, 949278, 949312, 949425, 949439, 949612, 949666, 949769, 949772, 949781, 949839, 949974, 949975, 949986, 950196, 950214, 950261, 950313, 950453, 950464, 950703, 950772, 951022, 951044, 951097, 951109, 951138, 951178, 951200, 951327, 951755, 951768, 951770, 951775, 951818, 951933, 951964, 951967, 952006, 952094, 952128, 952198, 952246, 952303, 952319, 952364, 952425, 952486, 952599, 952682, 952774, 952782, 952794, 953092, 953171, 953306, 953391, 953405, 953475, 953481, 953573, 953719, 953739, 953773, 953776, 953840, 953874, 953945, 953979, 954241, 954335, 954339, 954346, 954406, 954650, 954711, 954717, 954870, 954941, 954965, 955038, 955069, 955117, 955125, 955163, 955190, 955234, 955291, 955361, 955410, 955450, 955476, 955482, 955572, 955577, 955677, 955713, 955851, 955961, 955974, 956105, 956110, 956130, 956331, 956369, 956473, 956508, 956557, 956725, 956762, 956781, 956785, 956878, 956979, 957097, 957240, 957252, 957265, 957289, 957319, 957345, 957395, 957531, 957575, 957583, 957611, 957612, 957686, 957738, 957744, 957893, 957907, 957995, 958033, 958202, 958322, 958354, 958394, 958399, 958411, 958453, 958763, 958828, 958837, 958903, 958944, 959036, 959089, 959094, 959095, 959136, 959143, 959174, 959183, 959211, 959215, 959314, 959318, 959335, 959377, 959474, 959578, 959661, 959665, 959682, 959858, 959913, 959944, 959946, 959989, 959997, 960072, 960086, 960209, 960278, 960307, 960309, 960319, 960423, 960435, 960530, 960623, 960683, 960691, 960736, 960754, 960755, 960886, 960887, 961005, 961057, 961159, 961190, 961191, 961201, 961353, 961395, 961597, 961704, 961714, 961784, 961827, 961854, 962035, 962124, 962128, 962191, 962206, 962297, 962305, 962341, 962403, 962463, 962501, 962573, 962666, 962851, 962929, 962935, 962963, 962987, 963072, 963286, 963337, 963456, 963475, 963509, 963519, 963540, 963549, 963594, 963619, 963631, 963706, 963920, 963949, 964120, 964306, 964311, 964490, 964501, 964559, 964644, 964658, 964662, 964763, 964845, 964861, 965001, 965053, 965197, 965327, 965349, 965398, 965498, 965580, 965610, 965684, 965949, 965957, 966012, 966042, 966088, 966168, 966233, 966283, 966302, 966434, 966476, 966513, 966525, 966637, 966661, 966951, 967116, 967177, 967260, 967279, 967393, 967414, 967607, 967719, 967800, 967839, 967917, 968087, 968091, 968101, 968146, 968170, 968204, 968244, 968277, 968418, 968422, 968529, 968540, 968557, 968659, 968668, 968679, 968697, 968735, 968755, 968822, 968838, 968842, 968871, 968964, 969004, 969064, 969088, 969092, 969113, 969240, 969292, 969362, 969392, 969418, 969440, 969463, 969475, 969604, 969616, 969690, 969693, 969897, 969941, 969954, 970030, 970045, 970046, 970063, 970071, 970201, 970242, 970258, 970265, 970363, 970409, 970424, 970430, 970513, 970615, 970695, 970923, 971007, 971022, 971025, 971100, 971128, 971334, 971339, 971418, 971583, 971618, 971635, 971793, 971890, 971900, 971903, 971976, 971990, 972028, 972061, 972106, 972119, 972148, 972210, 972340, 972358, 972507, 972788, 972812, 972932, 972963, 972971, 972993, 973113, 973138, 973264, 973308, 973346, 973355, 973514, 973639, 973662, 973741, 973853, 973867, 973902, 974000, 974011, 974072, 974126, 974158, 974191, 974262, 974292, 974347, 974365, 974414, 974449, 974466, 974519, 974608, 974680, 974697, 974822, 974873, 974896, 974914, 974915, 975195, 975335, 975340, 975384, 975425, 975475, 975505, 975535, 975623, 975731, 975830, 975965, 976163, 976193, 976227, 976242, 976298, 976329, 976348, 976361, 976433, 976457, 976660, 976701, 976747, 976812, 976867, 976911, 976981, 977110, 977126, 977135, 977224, 977309, 977470, 977474, 977567, 977592, 977663, 977726, 977745, 977748, 978112, 978115, 978122, 978192, 978209, 978268, 978344, 978348, 978359, 978372, 978381, 978520, 978545, 978585, 978803, 978866, 978896, 978960, 978962, 978988, 979007, 979022, 979094, 979211, 979241, 979242, 979284, 979564, 979792, 979906, 979920, 979960, 980080, 980218, 980244, 980385, 980400, 980478, 980500, 980506, 980562, 980581, 980582, 980626, 980710, 980765, 980852, 980909, 981020, 981138, 981360, 981369, 981374, 981439, 981537, 981577, 981606, 981703, 981767, 981943, 982044, 982131, 982161, 982177, 982297, 982309, 982386, 982426, 982437, 982452, 982465, 982477, 982512, 982570, 982580, 982599, 982635, 982659, 982666, 982691, 982719, 982722, 982753, 982764, 982783, 982802, 982810, 982862, 982867, 982872, 982885, 982889, 982897, 982914, 982924, 982928, 982931, 982932, 982945, 982951, 982968, 982972, 982989, 982990, 982991, 982993, 983003, 983007, 983032, 983039, 983041, 983046, 983047, 983053, 983066, 983079, 983081, 983082, 983084, 983091, 983100, 983101, 983105, 983110, 983119, 983122, 983147, 983162, 983815, 984003, 984227, 984429, 984559, 984774, 984854, 985031, 985088, 985140, 985202, 985439, 985471, 985602, 986145, 986526, 986945, 986991, 987122, 987336, 987351, 987559, 987565, 987740, 987994, 988439, 989202, 989222, 989254, 989272, 989289, 989312, 989317, 989327, 989342, 989351, 989383, 989386, 989408, 989427, 989451, 989502, 989567, 989578, 989604, 989614, 989615, 989672, 989719, 989745, 989765, 989767, 989824, 989837, 989844, 989847, 989865, 989932, 989962, 989968, 990023, 990034, 990053, 990062, 990129, 990137, 990143, 990145, 990174, 990201, 990212, 990233, 990254, 990255, 990278, 990280, 990342, 990410, 990412, 990417, 990455, 990478, 990501, 990543, 990598, 990627, 990687, 991641, 992041, 992220, 992402, 992830, 992856, 993212, 993282, 993800, 994330, 994465, 994838, 994977, 995128, 995690, 996495, 996809, 997626, 997850, 998460, 999162, 999347, 999501, 999548, 1000993, 1001800, 1003225, 1003586, 1003837, 1004186, 1006512, 1006785, 1006949, 1006950, 1007187, 1007284, 1007392, 1007533, 1007585, 1007617, 1008266, 1010265, 1010312, 1010499, 1010556, 1010893, 1011175, 1011346, 1011642, 1011711, 1011816, 1012022, 1012081, 1012263, 1012596, 1013326, 1013478, 1013768, 1013877, 1014133, 1014156, 1014415, 1014816, 1014891, 1015233, 1015343, 1015694, 1015966, 1016284, 1016394, 1016735, 1016803, 1018203, 1018288, 1018519, 1018815, 1019042, 1019071, 1019807, 1019839, 1019865, 1020163, 1020370, 1020748, 1021170, 1021386, 1021532, 1021721, 1022218, 1022637, 1022935, 1023251, 1023724, 1024448, 1024771, 1025447, 1025882, 1025967, 1026059, 1026066, 1026530, 1027005, 1027126, 1027493, 1027890, 1027957, 1028036, 1028080, 1028617, 1028681, 1029093, 1029101, 1029195, 1029450, 1029793, 1029805, 1029853, 1030650, 1030668, 1030704, 1030828, 1030875, 1031435, 1031505, 1031798, 1032010, 1032089, 1032601, 1033266, 1033319, 1033735, 1034109, 1034623, 1034845, 1035036, 1035266, 1035465, 1035746, 1035809, 1035965, 1036079, 1036303, 1037169, 1037677, 1038534, 1038605, 1038657, 1038711, 1038963, 1039331, 1039775, 1040391, 1040452, 1040572, 1041236, 1041249, 1041262, 1041558, 1042003, 1044083, 1044480, 1044550, 1044674, 1044734, 1044826, 1044834, 1045574, 1045626, 1045660, 1046253, 1046625, 1046911, 1047503, 1047810, 1047912, 1048090, 1048519, 1049574, 1050030, 1050685, 1050966, 1051287, 1051320, 1051440, 1051458, 1051702, 1051899, 1052145, 1052169, 1052256, 1052319, 1052410, 1052804, 1053054, 1053253, 1053643, 1053914, 1054157, 1054547, 1055624, 1056520, 1056540, 1056655, 1056700, 1057264, 1057364, 1057440, 1057507, 1057794, 1058169, 1059099, 1059312, 1059793, 1060105, 1060796, 1061013, 1061874, 1062320, 1062457, 1062511, 1062709, 1062989, 1063740, 1064177, 1064430, 1065133, 1065257, 1065474, 1065726, 1065825, 1066072, 1066329, 1066354, 1066366, 1066629, 1066940, 1066966, 1067050, 1067267, 1067488, 1067533, 1067665, 1067687, 1067778, 1068137, 1068195, 1068250, 1068625, 1070010, 1070091, 1070126, 1070171, 1070426, 1070475, 1071313, 1071379, 1071444, 1071656, 1072088, 1072324, 1072349, 1072677, 1072742, 1072801, 1072819, 1072940, 1073035, 1073087, 1073134, 1073380, 1073929, 1073996, 1074843, 1075147, 1075225, 1075584, 1075812, 1076299, 1076888, 1078460, 1078621, 1078647, 1078663, 1079001, 1079082, 1079272, 1079465, 1079780, 1079972, 1080061, 1080075, 1080652, 1080895, 1081162, 1081690, 1082340, 1082353, 1082387, 1082664, 1082994, 1083140, 1083352, 1083426, 1083606, 1083683, 1083788, 1083819, 1085709, 1086643, 1086666, 1086764, 1087214, 1087567, 1087943, 1088404, 1089421, 1091557, 1091813, 1092330, 1093207, 1094967, 1095504, 1095630, 1096117, 1096420, 1096477, 1096639, 1096836, 1096892, 1097323, 1097789, 1097808, 1097826, 1097983, 1098466, 1098500, 1098779, 1098831, 1098855, 1099231, 1099363, 1099967, 1099985, 1100230, 1100322, 1100518, 1101939, 1101943, 1102220, 1102249, 1103196, 1103629, 1103726, 1104955, 1105430, 1105713, 1106085, 1106125, 1107046, 1108441, 1109325, 1109680, 1110040, 1110700, 1110868, 1111534, 1111865, 1113146, 1114879, 1115735, 1116351, 1367251, 1371554, 1373355, 1376609, 1404222, 1418351, 1421853, 1422818, 1424720, 1424834, 1427917, 1429932, 1430852, 1432237, 1436348, 1438428, 1442513, 1443045, 1443340, 1445237, 1447700, 1450977, 1452905, 1455019, 1455935, 1457734, 1458694, 1461006, 1461328, 1462169, 1462293, 1463355, 1465083, 1468552, 1469107, 1472152, 1472203, 1474456, 1474469, 1475365, 1476316, 1476401, 1476411, 1476842, 1476940, 1477836, 1478447, 1478901, 1479040, 1479336, 1479994, 1481152, 1481827, 1483024, 1484253, 1485170, 1485359, 1486482, 1487117, 1487444, 1487567, 1488887, 1489568, 1489835, 1489869, 1491413, 1491744, 1491759, 1492521, 1492767, 1492833, 1493011, 1493147, 1493249, 1493508, 1493699, 1493772, 1494374, 1494614, 1495246, 1496230, 1496339, 1496380, 1498923, 1499344, 1500128, 1500420, 1502855, 1503164, 1504577, 1505168, 1506371, 1506878, 1507701, 1508600, 1509403, 1509575, 1510552, 1510800, 1510904, 1510964, 1511250, 1511934, 1512401, 1512530, 1512563, 1512679, 1512701, 1512858, 1513104, 1513586, 1514950, 1515100, 1515199, 1516481, 1516527, 1516844, 1518228, 1518812, 1518977, 1519020, 1519510, 1519559, 1520730, 1521632, 1521793, 1523029, 1523357, 1524891, 1524976, 1525742, 1526073, 1526219, 1529095, 1529251, 1531104, 1531890, 1532024, 1534056, 1534189, 1535054, 1536192, 1536823, 1537828, 1538185, 1538274, 1538436, 1538531, 1538562, 1538786, 1538939, 1540027, 1540073, 1540773, 1542014, 1543886, 1544372, 1544515, 1544597, 1544760, 1544810, 1547275, 1547405, 1547504, 1547981, 1548567, 1548801, 1549375, 1549779, 1550042, 1550413, 1550927, 1552699, 1552932, 1553204, 1554864, 1555274, 1555352, 1555530, 1555584, 1555708, 1555879, 1555924, 1555950, 1556117, 1556695, 1556865, 1557670, 1557910, 1558011, 1558157, 1559207, 1559508, 1559588, 1559818, 1560553, 1561287, 1562800, 1562868, 1563559, 1563843, 1564097, 1564483, 1564558, 1565040, 1565819, 1566210, 1566976, 1567199, 1567941, 1568260, 1568270, 1569214, 1569866, 1570257, 1570423, 1570522, 1570747, 1570880, 1571763, 1572750, 1573405, 1573444, 1573717, 1574738, 1574819, 1576104, 1576309, 1576398, 1576650, 1578539, 1579491, 1581099, 1581155, 1581160, 1581752, 1582229, 1582634, 1582709, 1583058, 1583300, 1583682, 1584394, 1584589, 1585052, 1585343, 1585496, 1587017, 1587358, 1587455, 1587656, 1588171, 1588269, 1588378, 1588781, 1590205, 1590984, 1591084, 1592892, 1592908, 1593468, 1594088, 1594161, 1594701, 1594723, 1595790, 1596405, 1596459, 1596814, 1596836, 1596958, 1598033, 1598429, 1598776, 1598835, 1599456, 1600415, 1600680, 1601866, 1602578, 1603128, 1603181, 1603763, 1603771, 1605187, 1605236, 1605262, 1605802, 1606001, 1606920, 1607520, 1607616, 1607778, 1608651, 1609220, 1609565, 1609893, 1609896, 1610123, 1610400, 1611412, 1611453, 1654591, 1654609, 1654653, 1654732, 1654923, 1654957, 1655356, 1655377, 1655418, 1655480, 1655499, 1655682, 1655716, 1655749, 1655768, 1656015, 1656182, 1656276, 1656280, 1656390, 1656431, 1656435, 1656526, 1656663, 1656682, 1656685, 1656962, 1656988, 1657321, 1657373, 1657445, 1657642, 1657662, 1657734, 1657779, 1657791, 1658010, 1658040, 1658154, 1658197, 1658470, 1658478, 1658654, 1658780, 1658869, 1659140, 1659161, 1659162, 1659726, 1659774, 1659804, 1659990, 1660035, 1660170, 1660288, 1660425, 1660573, 1660620, 1660682, 1660835, 1660860, 1660898, 1661037, 1661106, 1661188, 1661210, 1661249, 1661354, 1661477, 1661481, 1661518, 1661534, 1661573, 1661580, 1661683, 1661691, 1661692, 1661715, 1661755, 1661881, 1661916, 1661953, 1661958, 1661973, 1662039, 1662091, 1662127, 1662371, 1662440, 1662580, 1662603, 1662617, 1662623, 1662700, 1662720, 1662723, 1662911, 1662925, 1662987, 1662992, 1663076, 1663111, 1663195, 1663484, 1663749, 1663754, 1663864, 1664077, 1664135, 1664263, 1664272, 1664356, 1664358, 1664371, 1664418, 1664461, 1664488, 1664491, 1664506, 1664549, 1664572, 1664574, 1664598, 1664636, 1664655, 1664678, 1664783, 1664816, 1664845, 1664954, 1665097, 1665113, 1665134, 1665147, 1665164, 1665266, 1665279, 1665302, 1665334, 1665337, 1665491, 1665531, 1665570, 1665585, 1665696, 1665746, 1665758, 1665783, 1665802, 1665967, 1665978, 1666014, 1666041, 1666109, 1666119, 1666150, 1666215, 1666265, 1666350, 1666400, 1666477, 1666560, 1666835, 1666934, 1667064, 1667070, 1667120, 1667210, 1667266, 1667343, 1667348, 1667398, 1667484, 1667580, 1667656, 1667678, 1667728, 1667965, 1668015, 1668074, 1668132, 1668181, 1668349, 1668432, 1668857, 1668896, 1669040, 1669136, 1669238, 1669298, 1669411, 1669506, 1669616, 1669631, 1669645, 1669835, 1669920, 1669984, 1670010, 1670035, 1670055, 1670076, 1670145, 1670190, 1670210, 1670266, 1670299, 1670321, 1670341, 1670453, 1670619, 1670719, 1670805, 1670895, 1670903, 1671182, 1671189, 1671197, 1671205, 1671252, 1671398, 1671445, 1671458, 1671478, 1671492, 1671550, 1671576, 1671584, 1671585, 1671629, 1671632, 1671650, 1671689, 1671819, 1671895, 1671937, 1672078, 1672118, 1672125, 1672129, 1672153, 1672223, 1672304, 1672320, 1672341, 1672373, 1672426, 1672532, 1672602, 1672659, 1672712, 1672746, 1672833, 1672852, 1673003, 1673021, 1673025, 1673183, 1673264, 1673378, 1673460, 1673482, 1673615, 1673695, 1673705, 1673849, 1673939, 1673997, 1674016, 1674297, 1674300, 1674308, 1674396, 1674470, 1674517, 1674572, 1674709, 1674779, 1674795, 1674898, 1674970, 1674972, 1675060, 1675172, 1675210, 1675234, 1675250, 1675282, 1675332, 1675481, 1675516, 1675608, 1676050, 1676052, 1676116, 1676177, 1676271, 1676497, 1676574, 1676707, 1676739, 1676935, 1677124, 1677183, 1677235, 1677318, 1677340, 1677369, 1677417, 1677442, 1677493, 1677575, 1677708, 1677711, 1677742, 1677840, 1677868, 1677928, 1677960, 1677967, 1677975, 1678109, 1678122, 1678182, 1678298, 1678436, 1678455, 1678492, 1678575, 1678674, 1678696, 1678736, 1678793, 1678802, 1678872, 1678884, 1678960, 1679000, 1679194, 1679245, 1679306, 1679354, 1679366, 1679441, 1679470, 1679520, 1679638, 1679660, 1679682, 1679712, 1679836, 1679838, 1679877, 1679879, 1680071, 1680092, 1680106, 1680293, 1680324, 1680350, 1680431, 1680466, 1680495, 1680562, 1680563, 1680570, 1680597, 1680656, 1680742, 1680776, 1680821, 1680822, 1680864, 1680989, 1681022, 1681056, 1681180, 1681353, 1681498, 1681508, 1681524, 1681557, 1681834, 1681871, 1681938, 1681951, 1682089, 1682124, 1682125, 1682227, 1682239, 1682245, 1682260, 1682265, 1682304, 1682332, 1682404, 1682435, 1682491, 1682501, 1682600, 1682625, 1682644, 1682656, 1682779, 1682908, 1683016, 1683059, 1683233, 1683342, 1683358, 1683421, 1683446, 1683531, 1683559, 1683682, 1683731, 1683741, 1683758, 1683775, 1683890, 1683949, 1684011, 1684215, 1684247, 1684360, 1684436, 1684585, 1684606, 1684650, 1684703, 1684865, 1684991, 1685248, 1685398, 1685536, 1685564, 1685616, 1685633, 1685657, 1685668, 1685776, 1685801, 1685823, 1686103, 1686189, 1686210, 1686280, 1686362, 1686449, 1686481, 1686485, 1686615, 1686653, 1686691, 1686771, 1686821, 1686928, 1686948, 1686999, 1687002, 1687014, 1687059, 1687060, 1687076, 1687094, 1687124, 1687187, 1687223, 1687343, 1687375, 1687406, 1687411, 1687431, 1687550, 1687555, 1687568, 1687586, 1687597, 1687634, 1687670, 1687685, 1687687, 1687806, 1687822, 1688259, 1688260, 1688295, 1688373, 1688382, 1688398, 1688437, 1688446, 1688484, 1688546, 1688555, 1688625, 1688671, 1688754, 1688919, 1688973, 1688993, 1689016, 1689021, 1689046, 1689111, 1689172, 1689210, 1689258, 1689315, 1689378, 1689406, 1689451, 1689467, 1689545, 1689691, 1689729, 1689740, 1689793, 1689813, 1689894, 1689936, 1689955, 1689996, 1690036, 1690075, 1690160, 1690204, 1690255, 1690285, 1690355, 1690382, 1690413, 1690427, 1690484, 1690499, 1690533, 1690584, 1690696, 1690707, 1690750, 1690757, 1690797, 1690820, 1691078, 1691241, 1691259, 1691277, 1691293, 1691296, 1691319, 1691351, 1691362, 1691502, 1691608, 1691771, 1691950, 1691975, 1692028, 1692072, 1692078, 1692083, 1692252, 1692261, 1692290, 1692349, 1692374, 1692462, 1692526, 1692641, 1692672, 1692822, 1692921, 1693075, 1693151, 1693155, 1693252, 1693255, 1693565, 1693573, 1693674, 1693686, 1693739, 1693780, 1693782, 1693931, 1693980, 1694047, 1694203, 1694229, 1694245, 1694391, 1694402, 1694442, 1694453, 1694471, 1694474, 1694478, 1694581, 1694687, 1694753, 1694762, 1694876, 1694881, 1694971, 1695002, 1695006, 1695108, 1695276, 1695305, 1695347, 1695406, 1695452, 1695622, 1695791, 1695961, 1696037, 1696067, 1696247, 1696280, 1696325, 1696333, 1696362, 1696666, 1696869, 1696921, 1697149, 1697158, 1697162, 1697236, 1697259, 1697261, 1697334, 1697349, 1697440, 1697446, 1697515, 1697616, 1697628, 1697673, 1697711, 1697759, 1697872, 1697881, 1697888, 1697980, 1697990, 1698024, 1698088, 1698098, 1698110, 1698126, 1698153, 1698190, 1698283, 1698386, 1698411, 1698460, 1698464, 1698467, 1698468, 1698528, 1698545, 1698617, 1698619, 1698632, 1698715, 1699002, 1699062, 1699067, 1699341, 1699363, 1699513, 1699561, 1699685, 1699743, 1699826, 1699876, 1699881, 1699903, 1699930, 1699999, 1700093, 1700118, 1700152, 1700201, 1700310, 1700373, 1700390, 1700406, 1700426, 1700435, 1700445, 1700677, 1700725, 1700760, 1700762, 1701003, 1701020, 1701057, 1701062, 1701092, 1701191, 1701263, 1701313, 1701416, 1701426, 1701457, 1701463, 1701525, 1701531, 1701535, 1701750, 1701777, 1701815, 1701900, 1702104, 1702187, 1702203, 1702227, 1702435, 1702444, 1702452, 1702570, 1702615, 1702921, 1702959, 1702997, 1703185, 1703210, 1703217, 1703248, 1703463, 1703474, 1703529, 1703801, 1703916, 1704010, 1704141, 1704350, 1704384, 1704436, 1704629, 1704649, 1704674, 1704696, 1704781, 1704813, 1704841, 1704883, 1704899, 1705017, 1705020, 1705037, 1705038, 1705096, 1705214, 1705243, 1705250, 1705254, 1705373, 1705409, 1705434, 1705467, 1705495, 1705527, 1705546, 1705555, 1705658, 1705769, 1705855, 1705865, 1705956, 1706007, 1706132, 1706177, 1706200, 1706278, 1706310, 1706471, 1706625, 1706781, 1706795, 1706835, 1706837, 1706996, 1707030, 1707059, 1707068, 1707092, 1707127, 1707221, 1707239, 1707241, 1707367, 1707368, 1707372, 1707571, 1707576, 1707589, 1707670, 1707676, 1707732, 1707830, 1707884, 1708029, 1708084, 1708087, 1708192, 1708266, 1708310, 1708363, 1708433, 1708440, 1708511, 1708589, 1708623, 1708705, 1708851, 1708852, 1708949, 1708999, 1709048, 1709167, 1709272, 1709373, 1709379, 1709398, 1709460, 1709484, 1709487, 1709562, 1709565, 1709666, 1709740, 1709769, 1709843, 1709913, 1709931, 1709956, 1709991, 1710044, 1710097, 1710195, 1710256, 1710267, 1710287, 1710319, 1710377, 1710454, 1710479, 1710581, 1710628, 1710783, 1710827, 1710940, 1710960, 1710964, 1710973, 1710994, 1711171, 1711327, 1711350, 1711370, 1711406, 1711517, 1711638, 1711660, 1711715, 1711802, 1711811, 1711833, 1711905, 1712027, 1712292, 1712354, 1712452, 1712486, 1712512, 1712513, 1712975, 1713093, 1713103, 1713119, 1713131, 1713167, 1713238, 1713270, 1713374, 1713384, 1713440, 1713500, 1713537, 1713553, 1713583, 1713780, 1713804, 1713823, 1713834, 1713896, 1713947, 1713964, 1714046, 1714079, 1714082, 1714114, 1714316, 1714431, 1714495, 1714508, 1714524, 1714531, 1714538, 1714541, 1714545, 1714869, 1714887, 1714944, 1715179, 1715270, 1715287, 1715368, 1715377, 1715383, 1715428, 1715574, 1715626, 1715634, 1715643, 1715705, 1715733, 1715756, 1715760, 1715994, 1716135, 1716220, 1716257, 1716290, 1716360, 1716390, 1716394, 1716414, 1716420, 1716566, 1716607, 1716684, 1716715, 1716716, 1716743, 1716756, 1716866, 1716871, 1716880, 1716892, 1716942, 1716958, 1717029, 1717202, 1717240, 1717269, 1717289, 1717341, 1717576, 1717594, 1717596, 1717641, 1717672, 1717718, 1717724, 1717751, 1717768, 1717865, 1718021, 1718040, 1718089, 1718122, 1718155, 1718186, 1718197, 1718219, 1718282, 1718284, 1718311, 1718320, 1718369, 1718483, 1718513, 1718523, 1718563, 1718646, 1718663, 1718673, 1718682, 1718686, 1718741, 1718910, 1719013, 1719020, 1719049, 1719058, 1719118, 1719121, 1719237, 1719250, 1719254, 1719424, 1719538, 1719627, 1719802, 1719814, 1719833, 1719839, 1719907, 1719909, 1720099, 1720121, 1720417, 1720457, 1720475, 1720551, 1720626, 1720642, 1720810, 1720953, 1721021, 1721189, 1721367, 1721440, 1721536, 1721560, 1721570, 1721579, 1721587, 1721592, 1721620, 1721630, 1721633, 1721640, 1721680, 1721696, 1721720, 1721788, 1721801, 1721845, 1721852, 1721918, 1721924, 1721998, 1721999, 1722042, 1722088, 1722134, 1722145, 1722172, 1722185, 1722317, 1722324, 1722492, 1722678, 1722681, 1722689, 1722784, 1722936, 1722955, 1723019, 1723065, 1723076, 1723087, 1723099, 1723171, 1723225, 1723321, 1723341, 1723413, 1723456, 1723503, 1723560, 1723646, 1723696, 1723845, 1723877, 1723994, 1724023, 1724091, 1724182, 1724195, 1724213, 1724218, 1724257, 1724266, 1724288, 1724416, 1724435, 1724442, 1724476, 1724515, 1724523, 1724572, 1724616, 1724632, 1724650, 1724662, 1724685, 1724687, 1724706, 1724755, 1724803, 1724830, 1724908, 1724934, 1724989, 1725017, 1725178, 1725307, 1725321, 1725345, 1725403, 1725438, 1725448, 1725464, 1725506, 1725520, 1725662, 1725687, 1725741, 1725772, 1725773, 1725782, 1726010, 1726096, 1726199, 1726381, 1726447, 1726486, 1726528, 1726712, 1726732, 1726795, 1726816, 1726841, 1726889, 1726904, 1726930, 1727055, 1727111, 1727126, 1727272, 1727308, 1727319, 1727420, 1727500, 1727544, 1727609, 1727628, 1727744, 1727838, 1728003, 1728036, 1728085, 1728093, 1728132, 1728164, 1728170, 1728190, 1728226, 1728281, 1728286, 1728321, 1728339, 1728382, 1728429, 1728484, 1728504, 1728730, 1728777, 1728819, 1728841, 1728917, 1728981, 1729033, 1729099, 1729180, 1729284, 1729286, 1729308, 1729392, 1729470, 1729486, 1729507, 1729551, 1729573, 1729587, 1729595, 1729616, 1729704, 1729724, 1729741, 1729789, 1729874, 1729885, 1729935, 1730149, 1730245, 1730252, 1730270, 1730308, 1730507, 1730535, 1730556, 1730664, 1730669, 1730732, 1730740, 1730768, 1730808, 1730824, 1730827, 1730846, 1730870, 1730889, 1730893, 1730905, 1731029, 1731096, 1731115, 1731186, 1731196, 1731259, 1731261, 1731353, 1731371, 1731649, 1731664, 1731698, 1731724, 1731772, 1731905, 1732110, 1732178, 1732191, 1732262, 1732373, 1732378, 1732400, 1732405, 1732436, 1732446, 1732456, 1732464, 1732474, 1732479, 1732484, 1732494, 1732520, 1732540, 1732638, 1732718, 1732727, 1732794, 1732909, 1732911, 1733019, 1733089, 1733099, 1733104, 1733138, 1733203, 1733322, 1733374, 1733527, 1733605, 1733688, 1733876, 1733885, 1733896, 1733944, 1734116, 1734123, 1734126, 1734140, 1734143, 1734217, 1734305, 1734419, 1734436, 1734444, 1734460, 1734570, 1734796, 1734871, 1734881, 1734902, 1734968, 1734982, 1734984, 1734990, 1735084, 1735148, 1735158, 1735164, 1735168, 1735171, 1735263, 1735269, 1735274, 1735351, 1735425, 1735653, 1735784, 1736014, 1736097, 1736129, 1736181, 1736192, 1736223, 1736238, 1736270, 1736310, 1736419, 1736447, 1736500, 1736503, 1736508, 1736536, 1736586, 1736765, 1736808, 1736862, 1736865, 1736881, 1736893, 1736977, 1736993, 1737012, 1737055, 1737092, 1737147, 1737158, 1737193, 1737348, 1737454, 1737527, 1737556, 1737558, 1737657, 1737861, 1738101, 1738110, 1738158, 1738257, 1738272, 1738361, 1738401, 1738689, 1738756, 1738798, 1738801, 1738813, 1739019, 1739068, 1739129, 1739183, 1739207, 1739261, 1739368, 1739451, 1739537, 1739544, 1739625, 1739653, 1739654, 1739688, 1739942, 1740058, 1740069, 1740138, 1740179, 1740199, 1740220, 1740244, 1740263, 1740296, 1740376, 1740442, 1740457, 1740560, 1740802, 1740806, 1740819, 1740959, 1741002, 1741098, 1741102, 1741287, 1741454, 1741557, 1741623, 1741629, 1741888, 1742109, 1742123, 1742165, 1742201, 1742240, 1742418, 1742442, 1742467, 1742480, 1742662, 1742663, 1742677, 1742848, 1743318, 1743416, 1743454, 1743751, 1743787, 1743858, 1743868, 1744009, 1744064, 1744116, 1744174, 1744192, 1744305, 1744315, 1744362, 1744448, 1744455, 1744525, 1744558, 1744567, 1744605, 1744615, 1744621, 1744653, 1744875, 1744938, 1745044, 1745115, 1745552, 1745620, 1745646, 1745784, 1746208, 1746216, 1746305, 1746370, 1746417, 1746474, 1746492, 1746533, 1746690, 1746708, 1746757, 1746787, 1746796, 1746807, 1746848, 1747013, 1747022, 1747103, 1747180, 1747287, 1747350, 1747646, 1747771, 1747798, 1747888, 1747907, 1747929, 1747957, 1747969, 1747973, 1748057, 1748188, 1748264, 1748273, 1748315, 1748370, 1748377, 1748431, 1748451, 1748487, 1748514, 1748554, 1748610, 1748674, 1748737, 1748859, 1748990, 1749121, 1749160, 1749254, 1749474, 1749494, 1749645, 1749823, 1749977, 1749996, 1750056, 1750134, 1750563, 1750579, 1750622, 1750624, 1750670, 1750699, 1750719, 1750733, 1750734, 1750742, 1750766, 1750771, 1750788, 1750796, 1750849, 1750956, 1750957, 1750965, 1750997, 1751001, 1751031, 1751060, 1751144, 1751195, 1939481, 1940101, 1940269, 1940805, 1940976, 1941159, 1941232, 1941237, 1941272, 1941412, 1941795, 1941935, 1942015, 1942122, 1942233, 1942446, 1942614, 1942666, 1942677, 1942770, 1942789, 1942802, 1942969, 1943058, 1943121, 1943400, 1943491, 1943552, 1943661, 1943781, 1943971, 1944106, 1944288, 1944476, 1944604, 1944677, 1944752, 1944814, 1945073, 1945351, 1945938, 1946079, 1946465, 1946497, 1946766, 1946805, 1946834, 1947059, 1947269, 1947318, 1947607, 1947615, 1947678, 1948112, 1948345, 1948428, 1948707, 1948732, 1948768, 1948845, 1948859, 1949202, 1949298, 1949485, 1949778, 1949884, 1949903, 1950024, 1950209, 1950326, 1950494, 1950601, 1950747, 1950939, 1952600, 1952943, 1953302, 1953326, 1953342, 1953356, 1953436, 1953761, 1954077, 1954172, 1954173, 1954179, 1954263, 1954415, 1954534, 1954648, 1954762, 1954974, 1955009, 1955039, 1955187, 1955368, 1955532, 1955856, 1955929, 1956015, 1956178, 1956314, 1956344, 1956372, 1956557, 1956584, 1956707, 1956853, 1956863, 1957043, 1957114, 1957191, 1957269, 1957357, 1957408, 1957422, 1958617, 1958764, 1958981, 1959100, 1959237, 1959243, 1959372, 1959864, 1960071, 1960087, 1960156, 1960227, 1960279, 1960319, 1960435, 1960470, 1960559, 1960730, 1961056, 1961412, 1961556, 1962080, 1962313, 1962328, 1962440, 1962499, 1962500, 1962532, 1962736, 1962903, 1962948, 1963384, 1963426, 1963852, 1963895, 1963899, 1964009, 1964048, 1964969, 1965080, 1965246, 1965462, 1965481, 1965727, 1965792, 1965994, 1966044, 1966308, 1966437, 1966595, 1966721, 1966800, 1966924, 1966959, 1966967, 1967230, 1967288, 1967319, 1967478, 1967566, 1967635, 1967687, 1967703, 1967889, 1967901, 1967973, 1968003, 1968120, 1968166, 1968214, 1968826, 1968899, 1968979, 1969505, 1969656, 1969666, 1969916, 1970068, 1970361, 1970389, 1970489, 1970579, 1970640, 1970755, 1970815, 1970929, 1971005, 1971139, 1971391, 1971395, 1971412, 1971643, 1971701, 1971738, 1972071, 1972435, 1972593, 1972670, 1972760, 1972870, 1972871, 1973177, 1973313, 1973319, 1973343, 1973450, 1973685, 1973810, 1973880, 1973899, 1974190, 1974487, 1974639, 1974685, 1974837, 1974841, 1975190, 1975192, 1975266, 1975287, 1975384, 1975580, 1975614, 1975675, 1975845, 1975911, 1976007, 1976040, 1976472, 1976708, 1976836, 1976936, 1977000, 1977088, 1977263, 1977411, 1977558, 1977788, 1977820, 1977877, 1977924, 1977931, 1978068, 1978099, 1978206, 1978708, 1978730, 1978798, 1978903, 1978914, 1979030, 1979235, 1979484, 1979799, 1979844, 1979883, 1979952, 1979991, 1980022, 1980122, 1980284, 1980513, 1980548, 1980739, 1980785, 1980911, 1980995, 1981007, 1981073, 1981301, 1981342, 1981447, 1981618, 1981768, 1981824, 1981988, 1982258, 1982322, 1982376, 1982444, 1982607, 1983025, 1983100, 1983236, 1983283, 1983392, 1983548, 1983773, 1983792, 1983845, 1983866, 1984124, 1984284, 1984513, 1984712, 1984888, 1985112, 1985350, 1985911, 1986220, 1986433, 1986456, 1986707, 1986772, 1986859, 1986876, 1986937, 1987800, 1987927, 1988161, 1988540, 1988658, 1988950, 1989183, 1989423, 1989453, 1989716, 1989875, 1989906, 1989957, 1990063, 1990120, 1990151, 1990207, 1990215, 1990256, 1990262, 1990296, 1990389, 1990404, 1990460, 1990569, 1990770, 1990784, 1990968, 1991141, 1991153, 1991227, 1991344, 1991372, 1991434, 1991486, 1991880, 1991981, 1992103, 1992411, 1992550, 1992634, 1992642, 1992886, 1993039, 1993201, 1993358, 1993434, 1993613, 1993715, 1993782, 1993933, 1993967, 1994085, 1994476, 1994629, 1994810, 1994838, 1994997, 1995318, 1995339, 1995573, 1995677, 1995744, 1995819, 1995905, 1995925, 1995978, 1996091, 1996287, 1996726, 1996896, 1996910, 1996932, 1997010, 1997140, 1997177, 1997491, 1997765, 1997820, 1998274, 1998901, 1998916, 1999003, 1999077, 1999299, 1999328, 1999351, 1999356, 1999441, 1999482, 1999483, 1999749, 1999905, 2000006, 2000119, 2001123, 2001204, 2001250, 2001772, 2002066, 2002284, 2002645, 2002697, 2002879, 2002963, 2003102, 2003104, 2003246, 2003507, 2003545, 2003588, 2003590, 2003640, 2003731, 2004023, 2004099, 2004541, 2004740, 2004829, 2005184, 2005206, 2005256, 2005335, 2005396, 2005516, 2005684, 2005687, 2005740, 2006333, 2006358, 2006394, 2006409, 2006502, 2006642, 2006750, 2006824, 2006986, 2007293, 2007631, 2007673, 2007739, 2007857, 2008058, 2008141, 2008252, 2008325, 2008336, 2008423, 2008525, 2008674, 2009060, 2009062, 2009406, 2009438, 2009512, 2009582, 2010156, 2010619, 2010625, 2010825, 2010966, 2011118, 2011208, 2011235, 2011647, 2011719, 2011911, 2012165, 2012285, 2012296, 2012466, 2012554, 2012667, 2012768, 2012834, 2012996, 2013176, 2013472, 2013505, 2013559, 2014263, 2014440, 2014485, 2014848, 2014973, 2015113, 2015158, 2015159, 2015172, 2015206, 2015264, 2015304, 2015324, 2015360, 2015420, 2015840, 2015949, 2016064, 2016143, 2016555, 2016670, 2017867, 2018070, 2018353, 2018416, 2018917, 2019084, 2019174, 2019340, 2019390, 2019463, 2019615, 2019744, 2019855, 2019958, 2019993, 2020119, 2020591, 2020897, 2021251, 2021274, 2021876, 2022103, 2022225, 2022322, 2022384, 2022485, 2022800, 2022842, 2023051, 2023147, 2023207, 2023264, 2023418, 2023481, 2023629, 2023811, 2023842, 2024166, 2024179, 2024191, 2024222, 2024275, 2024406, 2024542, 2025125, 2025257, 2025454, 2025889, 2026376, 2026464, 2026923, 2026991, 2027369, 2027488, 2027603, 2027737, 2027944, 2027992, 2028253, 2028434, 2028485, 2028533, 2028704, 2028872, 2029085, 2029220, 2029335, 2029336, 2029455, 2029918, 2030081, 2030170, 2030417, 2030422, 2030463, 2030489, 2030518, 2030554, 2030798, 2030911, 2031140, 2031523, 2031606, 2031633, 2032014, 2032089, 2032160, 2032378, 2032593, 2032902, 2032944, 2033045, 2033322, 2033482, 2033511, 2033708, 2033747, 2033956, 2033967, 2034068, 2034591, 2034709, 2034811, 2035055, 2035064, 2035314, 2035346, 2035443, 2035541, 2035654, 2035769, 2035970, 2036063, 2036091, 2036137, 2036185, 2036225, 2036453, 2036464, 2036988, 2037162, 2037304, 2037382, 2037547, 2037606, 2037622, 2037676, 2037844, 2037990, 2038013, 2038168, 2038290, 2038349, 2038540, 2038550, 2038598, 2038745, 2038817, 2038944, 2039146, 2039393, 2040177, 2040553, 2040774, 2040960, 2041188, 2042481, 2043120, 2043124, 2043751, 2045177, 2046010, 2046027, 2046454, 2047032, 2047035, 2047128, 2047393, 2047431, 2047659, 2047883, 2047942, 2048304, 2048393, 2048443, 2048456, 2048687, 2049300, 2049448, 2049869, 2049905, 2050046, 2050131, 2050300, 2050839, 2051016, 2051797, 2051930, 2051975, 2052984, 2053580, 2053994, 2054086, 2054163, 2054644, 2055056, 2055238, 2055264, 2055416, 2055735, 2055986, 2056188, 2056491, 2056970, 2057311, 2057356, 2057482, 2057736, 2057906, 2058027, 2058180, 2058428, 2058560, 2058636, 2058652, 2058746, 2058821, 2058970, 2059095, 2059896, 2060443, 2060821, 2061302, 2061472, 2061493, 2061682, 2061719, 2061770, 2062856, 2063286, 2063442, 2063887, 2063923, 2064388, 2064838, 2065092, 2065836, 2066554, 2066903, 2067043, 2067633, 2067761, 2068048, 2068435, 2068756, 2068942, 2069012, 2069079, 2069239, 2069505, 2070102, 2070326, 2070541, 2070567, 2070675, 2070818, 2070844, 2071415, 2071705, 2071709, 2072585, 2072969, 2073056, 2073170, 2073206, 2073234, 2073470, 2074003, 2074012, 2074330, 2074405, 2074622, 2074755, 2074952, 2075132, 2075177, 2075275, 2076232, 2076327, 2076366, 2077123, 2077228, 2077251, 2077317, 2077624, 2078250, 2079159, 2079174, 2079382, 2079407, 2079483, 2079760, 2080747, 2080825, 2080904, 2081194, 2081277, 2081852, 2082065, 2082075, 2082896, 2082901, 2083101, 2083184, 2083285, 2083628, 2083668, 2083891, 2084029, 2084171, 2085027, 2085044, 2085253, 2085601, 2085656, 2085771, 2085884, 2085992, 2086006, 2086412, 2086780, 2086824, 2086826, 2086977, 2087142, 2087439, 2087477, 2087638, 2087709, 2087877, 2087895, 2087984, 2088136, 2088223, 2088294, 2088742, 2088829, 2088961, 2088979, 2089529, 2089720, 2089998, 2090095, 2090541, 2090551, 2090620, 2090879, 2091584, 2092073, 2092143, 2092623, 2092642, 2092929, 2093023, 2093063, 2093330, 2093386, 2093651, 2093734, 2094268, 2094472, 2094686, 2095007, 2095097, 2095408, 2096357, 2096423, 2096492, 2096723, 2096971, 2097078, 2097997, 2098156, 2098192, 2098363, 2099235, 2099360, 2099407, 2099650, 2099819, 2099952, 2100128, 2100634, 2100909, 2100960, 2101179, 2101294, 2101327, 2101472, 2101534, 2101543, 2101563, 2102049, 2102085, 2102279, 2102397, 2102418, 2102449, 2102513, 2102616, 2102754, 2102791, 2102969, 2103001, 2103405, 2103787, 2104040, 2104052, 2104517, 2104694, 2104751, 2104826, 2104923, 2105001, 2105322, 2105402, 2105491, 2105569, 2105617, 2105713, 2106194, 2106208, 2106223, 2106254, 2106409, 2106503, 2106537, 2106609, 2106634, 2107086, 2107156, 2107390, 2107567, 2107755, 2107893, 2107949, 2108209, 2108275, 2108402, 2108436, 2108538, 2108584, 2108750, 2108766, 2108806, 2109017, 2109217, 2109301, 2109578, 2109829, 2110160, 2110210, 2110515, 2110583, 2110708, 2110724, 2110816, 2110845, 2110972, 2110996, 2111059, 2111063, 2111370, 2111538, 2111617, 2111682, 2111932, 2112088, 2112267, 2112401, 2112431, 2112902, 2113012, 2113048, 2113286, 2113611, 2113769, 2113847, 2113922, 2114149, 2114277, 2114316, 2114432, 2114445, 2114452, 2114458, 2114550, 2114582, 2114677, 2114751, 2114816, 2114966, 2115144, 2115166, 2115193, 2115356, 2115615, 2115705, 2115713, 2115887, 2116134, 2116231, 2116588, 2116747, 2116832, 2116884, 2116904, 2116913, 2117014, 2117214, 2117304, 2117430, 2117474, 2117495, 2117611, 2117666, 2117698, 2117873, 2117943, 2118059, 2118082, 2118145, 2118356, 2118539, 2118665, 2118780, 2118821, 2118855, 2118887, 2119053, 2119133, 2119155, 2119749, 2119790, 2119823, 2119826, 2119892, 2120048, 2120096, 2120229, 2120239, 2120243, 2120272, 2120771, 2120783, 2121007, 2121075, 2121118, 2121145, 2121257, 2121261, 2121657, 2121891, 2121895, 2121898, 2122188, 2122385, 2122474, 2122518, 2122632, 2122765, 2123019, 2123039, 2123079, 2123083, 2123125, 2123222, 2123261, 2123595, 2123687, 2123714, 2123820, 2123871, 2123929, 2124238, 2124304, 2124333, 2124443, 2124550, 2124554, 2124560, 2124582, 2124639, 2124713, 2125033, 2125058, 2125266, 2125333, 2125365, 2125448, 2125503, 2125728, 2125739, 2125790, 2125805, 2125852, 2125887, 2126021, 2126142, 2126192, 2126259, 2126574, 2126675, 2126692, 2126749, 2127051, 2127167, 2127261, 2127272, 2127331, 2127339, 2127422, 2127439, 2127542, 2127648, 2127669, 2127790, 2127873, 2128011, 2128018, 2128035, 2128358, 2128542, 2128642, 2128670, 2128928, 2129449, 2129560, 2129665, 2129777, 2129804, 2129858, 2130080, 2130180, 2130228, 2130405, 2130423, 2130529, 2130859, 2131067, 2131115, 2131171, 2131227, 2131348, 2131385, 2131416, 2131422, 2131503, 2131559, 2131780, 2131855, 2131964, 2132112, 2132122, 2132131, 2132297, 2132370, 2133553, 2133629, 2133656, 2133722, 2133728, 2133940, 2134078, 2134155, 2134217, 2134260, 2134600, 2134626, 2134761, 2134763, 2134963, 2134998, 2135283, 2135311, 2135345, 2135346, 2135383, 2135448, 2135462, 2135466, 2135505, 2135685, 2135773, 2135894, 2136059, 2136116, 2136134, 2136154, 2136156, 2136159, 2136337, 2136353, 2136398, 2136445, 2136450, 2136526, 2136545, 2136598, 2136743, 2136973, 2137111, 2137124, 2137258, 2137746, 2137795, 2137822, 2137824, 2137857, 2137908, 2138027, 2138059, 2138097, 2138176, 2138501, 2138505, 2138811, 2139171, 2139319, 2139488, 2139561, 2139607, 2139662, 2139907, 2140081, 2140614, 2140636, 2140644, 2140786, 2140822, 2140903, 2140928, 2140990, 2141201, 2141202, 2141312, 2141345, 2141409, 2141466, 2141517, 2141559, 2141568, 2141636, 2141668, 2141724, 2141730, 2141777, 2141825, 2141882, 2142073, 2142098, 2142331, 2142332, 2142337, 2142359, 2142393, 2142530, 2142666, 2142714, 2142828, 2142840, 2142871, 2142873, 2143099, 2143187, 2143199, 2143227, 2143254, 2143406, 2143438, 2143671, 2143749, 2143843, 2143914, 2143940, 2144008, 2144039, 2144092, 2144181, 2144224, 2144457, 2144546, 2144562, 2144629, 2144672, 2144725, 2144763, 2144818, 2145150, 2145151, 2145273, 2145318, 2145399, 2145567, 2145615, 2145697, 2145756, 2145778, 2145788, 2145904, 2145905, 2145956, 2145966, 2146102, 2146205, 2146228, 2146266, 2146366, 2146464, 2146611, 2146645, 2146862, 2146891, 2146935, 2146980, 2147042, 2147095, 2147131, 2147258, 2147278, 2147504, 2147583, 2147772, 2147850, 2147853, 2147903, 2148003, 2148043, 2148143, 2148186, 2148200, 2148290, 2148374, 2148425, 2148446, 2148458, 2148537, 2148592, 2148594, 2148596, 2148647, 2148896, 2148918, 2149283, 2149333, 2149402, 2149406, 2149533, 2149775, 2149831, 2149889, 2149997, 2150024, 2150058, 2150108, 2150192, 2150411, 2150470, 2150530, 2150614, 2150763, 2151134, 2151163, 2151188, 2151249, 2151260, 2151368, 2151418, 2151463, 2151498, 2151520, 2151529, 2151701, 2151969, 2152061, 2152097, 2152244, 2152363, 2152398, 2152435, 2152445, 2152460, 2152499, 2152523, 2152570, 2152636, 2152687, 2152765, 2153035, 2153041, 2153081, 2153083, 2153144, 2153370, 2153411, 2153447, 2153452, 2153560, 2153604, 2153641, 2153649, 2153735, 2153796, 2153885, 2153909, 2153911, 2154153, 2154168, 2154325, 2154335, 2154434, 2154450, 2154476, 2154531, 2154556, 2154666, 2154853, 2154882, 2154916, 2154929, 2154931, 2154932, 2154988, 2154995, 2155086, 2155523, 2155913, 2156021, 2156104, 2156178, 2156244, 2156425, 2156430, 2156503, 2156526, 2156569, 2156643, 2156653, 2156725, 2156764, 2156789, 2156853, 2156885, 2156888, 2156903, 2156904, 2156929, 2157022, 2157063, 2157080, 2157082, 2157101, 2157120, 2157123, 2157133, 2157136, 2157138, 2157140, 2157164, 2157289, 2157361, 2157839, 2157885, 2158015, 2158217, 2158407, 2158579, 2158768, 2158800, 2159123, 2159272, 2159340, 2159399, 2159431, 2159462, 2159504, 2159508, 2159516, 2159608, 2159616, 2159802, 2159856, 2160034, 2160079, 2160236, 2160275, 2160452, 2160672, 2160731, 2160981, 2161031, 2161194, 2161198, 2161279, 2161380, 2161448, 2161464, 2161551, 2161575, 2161660, 2162038, 2162139, 2162158, 2162164, 2162232, 2162293, 2162299, 2162371, 2162399, 2162432, 2162506, 2162607, 2162684, 2162880, 2162902, 2162988, 2162990, 2163055, 2163060, 2163228, 2163303, 2163389, 2163423, 2163594, 2163633, 2163665, 2163797, 2163883, 2163895, 2163924, 2163962, 2164050, 2164131, 2164139, 2164327, 2164329, 2164332, 2164347, 2164354, 2164418, 2164419, 2164478, 2164536, 2164562, 2164671, 2164720, 2164756, 2164795, 2164839, 2164931, 2164980, 2165067, 2165069, 2165128, 2165157, 2165185, 2165307, 2165367, 2165423, 2165472, 2165492, 2165572, 2165641, 2165666, 2165712, 2165799, 2165826, 2165844, 2165857, 2165887, 2165925, 2165957, 2166083, 2166107, 2166210, 2166368, 2166397, 2166480, 2166572, 2166710, 2166824, 2166850, 2166853, 2166929, 2167048, 2167157, 2167201, 2167264, 2167265, 2167289, 2167376, 2167378, 2167393, 2167409, 2167439, 2167449, 2167458, 2167498, 2167577, 2167587, 2167710, 2167768, 2167832, 2167850, 2167878, 2167937, 2167943, 2167960, 2168064, 2168279, 2168291, 2168318, 2168601, 2168901, 2168910, 2168919, 2168949, 2169022, 2169120, 2169133, 2169177, 2169205, 2169421, 2169567, 2169594, 2169675, 2169697, 2169728, 2169729, 2170212, 2170245, 2170354, 2170431, 2170466, 2170665, 2170743, 2170757, 2170852, 2170863, 2170888, 2170913, 2170938, 2170949, 2170967, 2171057, 2171176, 2171201, 2171244, 2171271, 2171490, 2171594, 2171768, 2171813, 2171814, 2171901, 2171926, 2172069, 2172076, 2172253, 2172336, 2172339, 2172416, 2172524, 2172530, 2172552, 2172667, 2172802, 2172875, 2172953, 2173050, 2173058, 2173184, 2173263, 2173344, 2173401, 2173501, 2173565, 2173630, 2173775, 2173780, 2173811, 2173827, 2173859, 2173887, 2173902, 2173915, 2173927, 2173980, 2173996, 2174089, 2174175, 2174225, 2174266, 2174286, 2174396, 2174477, 2174547, 2174604, 2174690, 2174719, 2174732, 2174807, 2174853, 2174951, 2174981, 2175130, 2175136, 2175147, 2175157, 2175257, 2175357, 2175389, 2175493, 2175540, 2175570, 2175598, 2175603, 2175604, 2175662, 2175685, 2175778, 2175796, 2175859, 2175951, 2176051, 2176213, 2176257, 2176289, 2176328, 2176382, 2176436, 2176531, 2176606, 2176826, 2177053, 2177099, 2177127, 2177269, 2177276, 2177306, 2177317, 2177343, 2177385, 2177502, 2177733, 2177744, 2177849, 2177934, 2178025, 2178209, 2178212, 2178231, 2178304, 2178461, 2178469, 2178525, 2178556, 2178622, 2178703, 2178892, 2179030, 2179098, 2179122, 2179204, 2179218, 2179401, 2179510, 2179511, 2179566, 2179634, 2179905, 2180066, 2180153, 2180212, 2180217, 2180220, 2180332, 2180347, 2180378, 2180379, 2180413, 2180440, 2180617, 2180707, 2180826, 2180844, 2180860, 2180952, 2180966, 2181001, 2181131, 2181215, 2181224, 2181374, 2181407, 2181622, 2181742, 2181782, 2181915, 2181936, 2181949, 2182019, 2182033, 2182139, 2182267, 2182303, 2182366, 2182400, 2182658, 2182696, 2182736, 2182785, 2182978, 2183169, 2183236, 2183443, 2183589, 2183663, 2184237, 2184238, 2184319, 2184373, 2184459, 2184483, 2184615, 2184622, 2184638, 2184679, 2184815, 2184897, 2184964, 2185044, 2185061, 2185149, 2185220, 2185246, 2185299, 2185504, 2185542, 2185804, 2185830, 2185849, 2185942, 2186109, 2186114, 2186182, 2186206, 2186215, 2186245, 2186283, 2186641, 2186710, 2186835, 2186952, 2187187, 2187267, 2187299, 2187313, 2187314, 2187340, 2187378, 2187391, 2187518, 2187652, 2187792, 2187969, 2188151, 2188173, 2188268, 2188387, 2188465, 2188543, 2188668, 2188802, 2188837, 2188840, 2188844, 2188886, 2188951, 2189225, 2189260, 2189293, 2189446, 2189770, 2189865, 2189882, 2189892, 2189938, 2189942, 2189961, 2189962, 2189969, 2190145, 2190253, 2190258, 2190267, 2190305, 2190369, 2190419, 2190515, 2190560, 2190630, 2190809, 2190833, 2190915, 2191026, 2191084, 2191131, 2191214, 2191255, 2191349, 2191403, 2191525, 2191609, 2191619, 2191634, 2191677, 2191772, 2191813, 2191867, 2191902, 2192106, 2192127, 2192167, 2192264, 2192268, 2192352, 2192475, 2192579, 2192605, 2192715, 2192805, 2192916, 2192978, 2193004, 2193075, 2193184, 2193223, 2193238, 2193392, 2193422, 2193465, 2193515, 2193643, 2193747, 2193799, 2194024, 2194087, 2194228, 2194245, 2194449, 2194570, 2194595, 2194666, 2194732, 2194764, 2194893, 2194975, 2195155, 2195196, 2195275, 2195312, 2195417, 2195472, 2195576, 2195758, 2195863, 2195989, 2196324, 2196442, 2196475, 2196542, 2196547, 2196574, 2196590, 2196733, 2196783, 2196811, 2196812, 2197213, 2197237, 2197307, 2197406, 2197420, 2197504, 2197508, 2197551, 2197633, 2197769, 2197892, 2197970, 2198063, 2198121, 2198130, 2198132, 2198146, 2198262, 2198312, 2198428, 2198443, 2198447, 2198497, 2198578, 2198604, 2198681, 2198788, 2198859, 2199008, 2199058, 2199063, 2199155, 2199186, 2199206, 2199266, 2199458, 2199614, 2199685, 2199713, 2199819, 2199831, 2199840, 2199905, 2199913, 2199916, 2200046, 2200117, 2200380, 2200398, 2200424, 2200483, 2200526, 2200548, 2200658, 2200659, 2200860, 2200964, 2200990, 2201015, 2201018, 2201072, 2201164, 2201167, 2201169, 2201216, 2201556, 2201625, 2201695, 2201728, 2201819, 2201837, 2201882, 2201940, 2201979, 2202173, 2202222, 2202304, 2202356, 2202383, 2202565, 2202669, 2202688, 2202752, 2202756, 2202792, 2202995, 2203045, 2203094, 2203227, 2203280, 2203305, 2203307, 2203648, 2203675, 2203734, 2203759, 2203871, 2203893, 2203956, 2204030, 2204057, 2204176, 2204243, 2204289, 2204336, 2204526, 2204583, 2204661, 2204807, 2205009, 2205021, 2205097, 2205170, 2205191, 2205251, 2205346, 2205423, 2205543, 2205577, 2205650, 2205687, 2205755, 2205789, 2206073, 2206079, 2206110, 2206136, 2206250, 2206279, 2206344, 2206383, 2206463, 2206544, 2206662, 2206666, 2206720, 2206784, 2206901, 2206912, 2206913, 2206940, 2206952, 2207131, 2207142, 2207374, 2207379, 2207667, 2207721, 2207826, 2207894, 2208297, 2208391, 2208487, 2208508, 2208527, 2208704, 2208847, 2208922, 2208954, 2209008, 2209147, 2209225, 2209241, 2209293, 2209304, 2209328, 2209336, 2209394, 2209452, 2209458, 2209534, 2209620, 2209756, 2209896, 2209901, 2210126, 2210157, 2210212, 2210234, 2210477, 2210499, 2210561, 2210686, 2210895, 2211009, 2211017, 2211068, 2211245, 2211251, 2211385, 2211446, 2211467, 2211620, 2211819, 2211894, 2211976, 2211994, 2212140, 2212290, 2212828, 2212874, 2213031, 2213171, 2213252, 2213281, 2213345, 2213481, 2213545, 2213665, 2213704, 2213705, 2213762, 2213800, 2213970, 2213985, 2214196, 2214207, 2214250, 2214258, 2214277, 2214323, 2214329, 2214345, 2214391, 2214638, 2214725, 2214740, 2214787, 2214857, 2214900, 2214999, 2215058, 2215063, 2215176, 2215290, 2215331, 2215332, 2215424, 2215621, 2215653, 2215757, 2216104, 2216251, 2216361, 2216622, 2216703, 2216763, 2216986, 2217051, 2217082, 2217195, 2217284, 2217368, 2217501, 2217589, 2217646, 2217675, 2217682, 2217699, 2217781, 2218003, 2218101, 2218246, 2218423, 2218599, 2218620, 2218845, 2218894, 2219115, 2219179, 2219188, 2219210, 2219245, 2219282, 2219439, 2219480, 2219481, 2219562, 2219636, 2219764, 2219793, 2219802, 2219824, 2220004, 2220081, 2220118, 2220154, 2220175, 2220213, 2220320, 2220640, 2220697, 2220744, 2220906, 2220968, 2220993, 2221133, 2221211, 2221220, 2221280, 2221405, 2221441, 2221549, 2221715, 2221720, 2221733, 2221753, 2221838, 2221897, 2222053, 2222181, 2222210, 2222212, 2222214, 2222227, 2222295, 2222300, 2222587, 2222643, 2222797, 2222800, 2223040, 2223214, 2223257, 2223364, 2223369, 2223603, 2223825, 2223867, 2223967, 2223989, 2223994, 2224041, 2224097, 2224149, 2224194, 2224263, 2224294, 2224303, 2224530, 2224691, 2224758, 2224882, 2224942, 2224997, 2225048, 2225106, 2225133, 2225317, 2225333, 2225412, 2225419, 2225694, 2225760, 2225848, 2225852, 2225886, 2225891, 2226010, 2226025, 2226090, 2226171, 2226316, 2226349, 2226364, 2226460, 2226493, 2226526, 2226570, 2226640, 2226739, 2226772, 2226896, 2227109, 2227178, 2227522, 2227568, 2227758, 2227805, 2227894, 2227903, 2227996, 2227999, 2228213, 2228240, 2228388, 2228392, 2228506, 2228620, 2228740, 2228777, 2228778, 2228787, 2228789, 2228807, 2228883, 2228987, 2228995, 2229006, 2229100, 2229159, 2229170, 2229199, 2229242, 2229314, 2229338, 2229426, 2229628, 2229699, 2229979, 2230024, 2230042, 2230080, 2230193, 2230294, 2230567, 2230601, 2230627, 2230629, 2230672, 2230754, 2230796, 2230954, 2231038, 2231097, 2231112, 2231119, 2231199, 2231210, 2231287, 2231315, 2231322, 2231350, 2231523, 2231576, 2231578, 2231627, 2231707, 2231744, 2231837, 2231903, 2231925, 2232073, 2232097, 2232165, 2232210, 2232235, 2232368, 2232414, 2232432, 2232595, 2232671, 2232688, 2232697, 2232719, 2232797, 2232807, 2232814, 2232829, 2232884, 2232934, 2233232, 2233359, 2233469, 2233560, 2233646, 2233650, 2233848, 2233970, 2233982, 2234102, 2234199, 2234307, 2234322, 2234442, 2234518, 2234799, 2234901, 2235053, 2235082, 2235088, 2236091, 2236187, 2236274, 2236290, 2236421, 2236510, 2236516, 2236541, 2236543, 2236594, 2236609, 2236654, 2236677, 2236760, 2236811, 2236859, 2236934, 2237049, 2237092, 2237115, 2237177, 2237231, 2237297, 2237335, 2237337, 2237518, 2237521, 2237548, 2237566, 2237880, 2238162, 2238184, 2238299, 2238303, 2238430, 2238448, 2238523, 2238533, 2238543, 2238565, 2239010, 2239067, 2239089, 2239233, 2239253, 2239417, 2239729, 2239764, 2239794, 2239808, 2239838, 2239943, 2240000, 2240007, 2240061, 2240151, 2240185, 2240196, 2240199, 2240238, 2240269, 2240367, 2240463, 2240466, 2240521, 2240544, 2240567, 2240676, 2240773, 2240837, 2240942, 2240959, 2241072, 2241152, 2241506, 2241515, 2241889, 2241946, 2241961, 2242157, 2242186, 2242268, 2242305, 2242315, 2242323, 2242519, 2242567, 2242595, 2242685, 2242688, 2242811, 2242840, 2242859, 2242885, 2242903, 2242925, 2243011, 2243021, 2243128, 2243150, 2243396, 2243512, 2243677, 2243722, 2244135, 2244368, 2244661, 2244786, 2244959, 2245000, 2245062, 2245379, 2245480, 2245503, 2246096, 2246126, 2246141, 2246330, 2246360, 2246528, 2246589, 2246656, 2246979, 2247085, 2247180, 2247263, 2247372, 2247468, 2247622, 2248194, 2248228, 2248509, 2248695, 2248811, 2249194, 2249377, 2249725, 2249796, 2249885, 2249908, 2250049, 2250053, 2250756, 2251179, 2251388, 2251498, 2251719, 2251799, 2251809, 2251921, 2252031, 2252299, 2252311, 2252483, 2252503, 2252683, 2252737, 2252853, 2252863, 2252911, 2252925, 2252944, 2253065, 2253473, 2253617, 2253676, 2253791, 2254019, 2254024, 2254242, 2254338, 2254858, 2255218, 2255604, 2255773, 2255839, 2256183, 2256256, 2256530, 2256565, 2256598, 2256617, 2256717, 2256834, 2256882, 2256995, 2257220, 2257309, 2257701, 2258180, 2258257, 2258373, 2258749, 2259022, 2259361, 2259468, 2259518, 2259700, 2260008, 2260027, 2260106, 2260346, 2260412]\n",
            "9764\n"
          ],
          "name": "stdout"
        }
      ]
    },
    {
      "cell_type": "code",
      "metadata": {
        "id": "9DzNBrBM6SGk"
      },
      "source": [
        "df_Accepted.drop(outlier_interest_rate_Remove, axis=0, inplace=True)"
      ],
      "execution_count": 147,
      "outputs": []
    },
    {
      "cell_type": "code",
      "metadata": {
        "id": "9OZ5ZNd76SKB",
        "outputId": "6614ec50-2c11-46d5-bcf6-7d3139fe94fe",
        "colab": {
          "base_uri": "https://localhost:8080/"
        }
      },
      "source": [
        "\n",
        "df_Accepted.shape"
      ],
      "execution_count": 148,
      "outputs": [
        {
          "output_type": "execute_result",
          "data": {
            "text/plain": [
              "(1335546, 19)"
            ]
          },
          "metadata": {
            "tags": []
          },
          "execution_count": 148
        }
      ]
    },
    {
      "cell_type": "markdown",
      "metadata": {
        "id": "4AW--tQp6dRy"
      },
      "source": [
        "\n",
        "ANNUAL INCOME"
      ]
    },
    {
      "cell_type": "code",
      "metadata": {
        "id": "5fD_yxj16ds3",
        "outputId": "b1cb4cf4-9ef2-42c2-df7c-9ca929113918",
        "colab": {
          "base_uri": "https://localhost:8080/"
        }
      },
      "source": [
        "df_Accepted[\"annual_inc\"].describe()"
      ],
      "execution_count": 149,
      "outputs": [
        {
          "output_type": "execute_result",
          "data": {
            "text/plain": [
              "count    1.335546e+06\n",
              "mean     7.627045e+04\n",
              "std      7.007478e+04\n",
              "min      0.000000e+00\n",
              "25%      4.576000e+04\n",
              "50%      6.500000e+04\n",
              "75%      9.000000e+04\n",
              "max      1.099920e+07\n",
              "Name: annual_inc, dtype: float64"
            ]
          },
          "metadata": {
            "tags": []
          },
          "execution_count": 149
        }
      ]
    },
    {
      "cell_type": "code",
      "metadata": {
        "id": "XWNJyVBg6on6",
        "outputId": "b5734733-c339-4a15-a79b-c1a0371625b7",
        "colab": {
          "base_uri": "https://localhost:8080/"
        }
      },
      "source": [
        "Q1 = np.quantile(df_Accepted[\"annual_inc\"],0.25)\n",
        "Q3 = np.quantile(df_Accepted[\"annual_inc\"],0.75)\n",
        "IQR = Q3 - Q1\n",
        "\n",
        "Low_outliers = Q1-1.5*IQR\n",
        "High_outliers = Q3+1.5*IQR\n",
        "\n",
        "print(\"Q1 :\",Q1)\n",
        "print(\"Q3 :\", Q3)\n",
        "print(\"IQR :\", IQR)\n",
        "print(\"Low_outliers :\", round(Low_outliers,4))\n",
        "print(\"High_outliers :\", round(High_outliers,4))"
      ],
      "execution_count": 150,
      "outputs": [
        {
          "output_type": "stream",
          "text": [
            "Q1 : 45760.0\n",
            "Q3 : 90000.0\n",
            "IQR : 44240.0\n",
            "Low_outliers : -20600.0\n",
            "High_outliers : 156360.0\n"
          ],
          "name": "stdout"
        }
      ]
    },
    {
      "cell_type": "markdown",
      "metadata": {
        "id": "lZsQi9LK6vj3"
      },
      "source": [
        "OUTLIER DETECTION USING Z-SCORE TECHNIQUE:\n",
        "\n",
        "Z score = (x -mean) / std. deviation"
      ]
    },
    {
      "cell_type": "code",
      "metadata": {
        "id": "WQu5CDRx6orY",
        "outputId": "286847ea-b197-4c50-fc24-99b32ae5083a",
        "colab": {
          "base_uri": "https://localhost:8080/"
        }
      },
      "source": [
        "data = df_Accepted[\"annual_inc\"]\n",
        "mean = round(np.mean(data) , 4)\n",
        "std = round(np.std(data),4)\n",
        "print('mean of the dataset is', mean) \n",
        "print('std. deviation is', std)\n",
        "\n",
        "threshold1 = -3\n",
        "threshold2 =  3\n",
        "outlier_annual_income = [] \n",
        "for i in data: \n",
        "    z = (i-mean)/std \n",
        "    if z < threshold1 or z > threshold2: \n",
        "        outlier_annual_income.append(i)\n",
        "\n",
        "print(\"outliers in the dataset :\", outlier_annual_income)"
      ],
      "execution_count": 151,
      "outputs": [
        {
          "output_type": "stream",
          "text": [
            "mean of the dataset is 76270.4529\n",
            "std. deviation is 70074.7519\n",
            "outliers in the dataset : [297000.0, 300000.0, 450000.0, 300000.0, 415000.0, 650000.0, 300000.0, 300000.0, 295000.0, 296000.0, 350000.0, 450000.0, 370000.0, 300000.0, 400000.0, 525000.0, 425000.0, 333600.0, 675000.0, 300000.0, 370000.0, 290000.0, 520000.0, 350000.0, 450000.0, 300000.0, 400000.0, 600000.0, 300000.0, 350000.0, 350000.0, 300000.0, 325000.0, 550000.0, 300000.0, 300000.0, 430000.0, 600000.0, 369000.0, 750000.0, 305000.0, 374000.0, 1400000.0, 400000.0, 300000.0, 424000.0, 3964280.0, 450000.0, 400000.0, 300000.0, 1000000.0, 400000.0, 300000.0, 550000.0, 320000.0, 350000.0, 300000.0, 360000.0, 594000.0, 300000.0, 325000.0, 300000.0, 400000.0, 396000.0, 300000.0, 400000.0, 315000.0, 350000.0, 475000.0, 500000.0, 300000.0, 306000.0, 2300000.0, 300000.0, 385000.0, 450000.0, 400000.0, 400000.0, 300000.0, 550000.0, 305000.0, 425000.0, 400000.0, 400000.0, 370000.0, 350000.0, 399000.0, 320000.0, 300000.0, 305000.0, 300000.0, 375000.0, 300000.0, 650000.0, 365000.0, 500000.0, 550000.0, 295000.0, 350000.0, 600000.0, 572000.0, 350000.0, 300000.0, 375000.0, 442250.0, 289999.0, 350000.0, 345000.0, 475000.0, 500000.0, 300000.0, 300000.0, 700000.0, 300000.0, 329000.0, 315000.0, 650000.0, 400000.0, 325000.0, 300000.0, 675000.0, 315000.0, 300000.0, 480000.0, 794500.0, 455000.0, 530000.0, 304000.0, 300000.0, 312000.0, 325000.0, 390000.0, 385000.0, 425000.0, 300000.0, 350000.0, 290000.0, 1248000.0, 300000.0, 525000.0, 440000.0, 830000.0, 350000.0, 350000.0, 450000.0, 300000.0, 300000.0, 300000.0, 340000.0, 310000.0, 350000.0, 326000.0, 350000.0, 400000.0, 370000.0, 500000.0, 2500000.0, 750000.0, 300000.0, 397270.0, 416700.0, 525000.0, 600000.0, 500000.0, 400000.0, 325000.0, 295000.0, 300000.0, 320000.0, 355000.0, 425000.0, 300000.0, 310000.0, 425000.0, 8700000.0, 290000.0, 434000.0, 300000.0, 425000.0, 391000.0, 300000.0, 300000.0, 475000.0, 300000.0, 900000.0, 400000.0, 325000.0, 300000.0, 300000.0, 485000.0, 300000.0, 400000.0, 300000.0, 400000.0, 300000.0, 350000.0, 385000.0, 290000.0, 850000.0, 400000.0, 450000.0, 360000.0, 300000.0, 550000.0, 350000.0, 300000.0, 350000.0, 425000.0, 300000.0, 440000.0, 455000.0, 290000.0, 975000.0, 1200000.0, 1500000.0, 292675.0, 700000.0, 550000.0, 350000.0, 400000.0, 953000.0, 300000.0, 400000.0, 300000.0, 330000.0, 390000.0, 350000.0, 370000.0, 400000.0, 300000.0, 320000.0, 500000.0, 297000.0, 450000.0, 550000.0, 300000.0, 544282.0, 350000.0, 828400.0, 300000.0, 355000.0, 360000.0, 360000.0, 405000.0, 390000.0, 320000.0, 322000.0, 450000.0, 300000.0, 600000.0, 306000.0, 320000.0, 300000.0, 360000.0, 550000.0, 465000.0, 3000000.0, 300000.0, 300000.0, 410000.0, 292000.0, 300000.0, 290000.0, 440000.0, 400000.0, 400000.0, 1101000.0, 355000.0, 380000.0, 300000.0, 320000.0, 1300000.0, 500000.0, 300000.0, 800000.0, 1800000.0, 290000.0, 380000.0, 360000.0, 336000.0, 325000.0, 405000.0, 300000.0, 360000.0, 1000000.0, 360000.0, 7000000.0, 650000.0, 320000.0, 305000.0, 300000.0, 525000.0, 300000.0, 298000.0, 2300000.0, 325000.0, 319259.0, 400000.0, 9000000.0, 300000.0, 1473000.0, 320000.0, 305000.0, 385000.0, 420000.0, 400000.0, 750000.0, 300000.0, 310000.0, 300000.0, 300000.0, 320000.0, 325000.0, 500000.0, 350000.0, 500000.0, 600000.0, 425000.0, 300000.0, 2250000.0, 700000.0, 300000.0, 315000.0, 400000.0, 300000.0, 450000.0, 600000.0, 4300012.0, 345000.0, 300000.0, 360000.0, 350000.0, 325000.0, 342000.0, 350000.0, 494000.0, 300000.0, 393230.0, 320000.0, 400000.0, 400000.0, 400000.0, 450000.0, 375000.0, 300000.0, 350000.0, 336000.0, 311000.0, 350000.0, 300000.0, 700000.0, 600000.0, 700000.0, 350000.0, 8500021.0, 320000.0, 325000.0, 300000.0, 300000.0, 800000.0, 288000.0, 500000.0, 295100.0, 500000.0, 314000.0, 302000.0, 360000.0, 289600.0, 350000.0, 300000.0, 400000.0, 300000.0, 600000.0, 300000.0, 480000.0, 300000.0, 310000.0, 608000.0, 400000.0, 840000.0, 494000.0, 600000.0, 300000.0, 370000.0, 475000.0, 352000.0, 300000.0, 300000.0, 400000.0, 395000.0, 325000.0, 450000.0, 660000.0, 450000.0, 335000.0, 350000.0, 500000.0, 400000.0, 302000.0, 360000.0, 462500.0, 295000.0, 520000.0, 600000.0, 500000.0, 385000.0, 365000.0, 1096000.0, 450000.0, 300000.0, 380000.0, 300000.0, 310000.0, 350000.0, 350000.0, 350000.0, 300000.0, 450000.0, 325000.0, 400000.0, 325000.0, 360000.0, 455000.0, 850000.0, 300000.0, 305000.0, 300000.0, 350000.0, 350000.0, 410000.0, 300000.0, 580000.0, 290000.0, 600000.0, 320000.0, 325000.0, 500000.0, 350000.0, 325000.0, 629000.0, 360000.0, 395000.0, 610000.0, 300000.0, 400000.0, 300000.0, 300000.0, 898000.0, 300000.0, 300000.0, 400000.0, 370000.0, 875000.0, 290000.0, 400000.0, 750000.0, 700000.0, 400000.0, 470000.0, 300000.0, 540000.0, 325000.0, 380160.0, 400000.0, 350000.0, 475000.0, 500000.0, 600000.0, 600000.0, 450000.0, 290000.0, 800000.0, 380000.0, 1350000.0, 850000.0, 300000.0, 650000.0, 310000.0, 330000.0, 300000.0, 550000.0, 295000.0, 325000.0, 625000.0, 288000.0, 350000.0, 310000.0, 580000.0, 930000.0, 330000.0, 400000.0, 300000.0, 375000.0, 350000.0, 350000.0, 350000.0, 385000.0, 350000.0, 600000.0, 325000.0, 498000.0, 300000.0, 300000.0, 410000.0, 1100000.0, 537000.0, 400000.0, 600000.0, 650000.0, 500000.0, 700000.0, 400000.0, 865000.0, 350000.0, 400000.0, 330000.0, 300000.0, 750000.0, 300000.0, 1500000.0, 300000.0, 712000.0, 600000.0, 300000.0, 550000.0, 400000.0, 450000.0, 400000.0, 325000.0, 4647200.0, 330000.0, 315000.0, 305000.0, 303311.0, 350000.0, 300000.0, 325000.0, 312000.0, 450000.0, 650000.0, 511000.0, 375000.0, 400000.0, 480000.0, 320000.0, 310000.0, 425000.0, 342000.0, 465000.0, 350000.0, 600000.0, 450000.0, 650000.0, 315000.0, 700000.0, 325000.0, 440000.0, 410000.0, 350000.0, 300000.0, 450000.0, 400000.0, 575000.0, 513000.0, 510000.0, 1400006.0, 650000.0, 450000.0, 1100000.0, 5000010.0, 290000.0, 360000.0, 370000.0, 300000.0, 350000.0, 360000.0, 500000.0, 330000.0, 325000.0, 500000.0, 350000.0, 650000.0, 300000.0, 300000.0, 580000.0, 345000.0, 425000.0, 300000.0, 400000.0, 340000.0, 400000.0, 400000.0, 307000.0, 300000.0, 325000.0, 290000.0, 550000.0, 300000.0, 350000.0, 350000.0, 400000.0, 367000.0, 325000.0, 550000.0, 550000.0, 350000.0, 300000.0, 310000.0, 495000.0, 432000.0, 360000.0, 375000.0, 320000.0, 350000.0, 307000.0, 350000.0, 330000.0, 400000.0, 300000.0, 450000.0, 320000.0, 300000.0, 980000.0, 300000.0, 440000.0, 319374.0, 8253000.0, 651000.0, 300000.0, 771697.0, 300000.0, 300000.0, 357000.0, 350000.0, 378000.0, 310000.0, 420509.0, 500000.0, 300000.0, 300000.0, 500000.0, 950000.0, 360000.0, 400000.0, 400000.0, 375000.0, 290000.0, 450000.0, 780000.0, 300000.0, 320000.0, 350000.0, 390000.0, 350000.0, 370000.0, 400000.0, 735000.0, 300000.0, 300000.0, 297500.0, 350000.0, 475000.0, 390000.0, 320000.0, 340000.0, 300000.0, 385000.0, 300000.0, 307000.0, 380000.0, 460000.0, 415000.0, 350000.0, 300000.0, 300000.0, 430000.0, 300000.0, 320000.0, 300000.0, 600000.0, 300000.0, 290000.0, 350000.0, 530000.0, 400000.0, 300000.0, 3000000.0, 629000.0, 400000.0, 400000.0, 325000.0, 629000.0, 450000.0, 500000.0, 350000.0, 400000.0, 425000.0, 300000.0, 338579.0, 300000.0, 350000.0, 500000.0, 340000.0, 300000.0, 350000.0, 300000.0, 350000.0, 600000.0, 375000.0, 450000.0, 300000.0, 406434.0, 480000.0, 760000.0, 350000.0, 540000.0, 450000.0, 550000.0, 370000.0, 625000.0, 500000.0, 350000.0, 300000.0, 360000.0, 296000.0, 300000.0, 301000.0, 300000.0, 525000.0, 320000.0, 300000.0, 600000.0, 320000.0, 1500000.0, 335000.0, 800000.0, 359000.0, 345000.0, 350000.0, 300000.0, 360000.0, 350000.0, 305744.0, 450000.0, 340000.0, 500000.0, 450000.0, 360000.0, 305000.0, 360000.0, 3200000.0, 290000.0, 290000.0, 300000.0, 346000.0, 625000.0, 480000.0, 1100000.0, 390000.0, 600000.0, 300000.0, 295000.0, 624000.0, 465000.0, 485000.0, 450000.0, 433500.0, 4300000.0, 450000.0, 360000.0, 383000.0, 600000.0, 300000.0, 320000.0, 520000.0, 289000.0, 290000.0, 500000.0, 398000.0, 300000.0, 340000.0, 290000.0, 416000.0, 304000.0, 500000.0, 320000.0, 1200000.0, 375000.0, 428000.0, 1200000.0, 950000.0, 400000.0, 325000.0, 290000.0, 300000.0, 430000.0, 350000.0, 541000.0, 400000.0, 400000.0, 300000.0, 458000.0, 400000.0, 794000.0, 425000.0, 300000.0, 360000.0, 310000.0, 300000.0, 310000.0, 320000.0, 400000.0, 320000.0, 400000.0, 400000.0, 500000.0, 420000.0, 450000.0, 500000.0, 365840.0, 330000.0, 2100000.0, 300000.0, 453800.0, 550000.0, 700000.0, 400000.0, 4000095.0, 497000.0, 450000.0, 310000.0, 404000.0, 435000.0, 493000.0, 300000.0, 500000.0, 330000.0, 360000.0, 300000.0, 400000.0, 330000.0, 380000.0, 550000.0, 450000.0, 406000.0, 300000.0, 400000.0, 1000000.0, 425000.0, 315000.0, 318000.0, 525000.0, 300000.0, 330000.0, 300000.0, 320000.0, 340000.0, 350000.0, 300000.0, 516000.0, 350000.0, 300000.0, 305000.0, 380000.0, 400000.0, 300000.0, 400000.0, 345000.0, 375000.0, 300000.0, 325000.0, 500000.0, 700000.0, 300000.0, 370000.0, 500000.0, 330000.0, 300000.0, 800000.0, 290000.0, 300000.0, 550000.0, 550000.0, 330000.0, 3120000.0, 700000.0, 350000.0, 400000.0, 435000.0, 300000.0, 307000.0, 427000.0, 900000.0, 1000000.0, 300000.0, 400000.0, 290000.0, 300000.0, 300000.0, 875000.0, 475000.0, 550000.0, 450000.0, 450002.0, 300000.0, 310000.0, 300000.0, 607843.0, 445000.0, 1250000.0, 300000.0, 312000.0, 292000.0, 310000.0, 302236.0, 375000.0, 800000.0, 350000.0, 380000.0, 420000.0, 339000.0, 600000.0, 1100000.0, 324000.0, 300000.0, 300000.0, 447000.0, 400000.0, 325000.0, 350000.0, 350000.0, 300000.0, 350000.0, 350000.0, 700000.0, 475000.0, 400000.0, 630000.0, 580000.0, 300000.0, 475000.0, 420000.0, 315000.0, 8121180.0, 380000.0, 400000.0, 2000000.0, 305000.0, 389000.0, 325000.0, 400000.0, 322000.0, 300000.0, 300000.0, 350000.0, 350000.0, 334884.88, 350000.0, 390000.0, 1053595.0, 800000.0, 350000.0, 500000.0, 700000.0, 290000.0, 650000.0, 400000.0, 340000.0, 400000.0, 335000.0, 500000.0, 320000.0, 400000.0, 450000.0, 300000.0, 7600000.0, 380000.0, 600000.0, 315000.0, 450000.0, 350000.0, 350000.0, 650000.0, 300000.0, 400000.0, 325000.0, 490000.0, 465000.0, 300000.0, 350000.0, 298000.0, 300000.0, 500000.0, 920000.0, 312000.0, 450000.0, 300000.0, 300000.0, 300000.0, 390000.0, 350000.0, 300000.0, 450000.0, 550000.0, 420000.0, 300000.0, 480000.0, 290000.0, 350000.0, 500000.0, 330000.0, 300000.0, 650000.0, 300000.0, 300000.0, 400000.0, 290000.0, 390000.0, 290000.0, 300000.0, 428000.0, 400000.0, 330000.0, 450000.0, 700000.0, 330000.0, 290000.0, 320000.0, 350000.0, 750000.0, 380000.0, 350000.0, 287000.0, 440000.0, 580000.0, 547000.0, 550000.0, 1000000.0, 787500.0, 316350.67, 324400.0, 340000.0, 700000.0, 380000.0, 500000.0, 300000.0, 400000.0, 420000.0, 360000.0, 300000.0, 600000.0, 290000.0, 475000.0, 300000.0, 300000.0, 500000.0, 300000.0, 323000.0, 1500000.0, 350000.0, 300000.0, 750000.0, 300000.0, 300000.0, 400000.0, 350000.0, 350000.0, 320000.0, 300000.0, 400000.0, 400000.0, 360000.0, 980000.0, 600000.0, 298000.0, 450000.0, 663000.0, 400000.0, 300000.0, 620000.0, 300000.0, 650000.0, 700000.0, 350000.0, 525000.0, 500000.0, 300000.0, 335000.0, 300000.0, 514000.0, 300000.0, 450000.0, 300000.0, 325000.0, 340000.0, 650000.0, 292000.0, 340000.0, 360000.0, 1848400.0, 380000.0, 300000.0, 1130000.0, 750000.0, 520000.0, 400000.0, 350000.0, 495000.0, 300000.0, 300000.0, 500000.0, 800000.0, 500000.0, 340000.0, 350000.0, 550000.0, 525000.0, 293300.0, 400000.0, 346000.0, 350000.0, 300000.0, 330000.0, 300000.0, 700000.0, 310000.0, 300000.0, 296000.0, 950000.0, 350000.0, 350000.0, 450000.0, 400000.0, 360000.0, 400000.0, 350000.0, 500000.0, 330000.0, 365000.0, 300000.0, 300000.0, 300000.0, 300000.0, 308000.0, 500000.0, 490000.0, 403000.0, 325000.0, 300000.0, 400000.0, 320000.0, 400000.0, 300000.0, 450000.0, 298000.0, 350000.0, 780000.0, 365633.0, 360000.0, 650000.0, 450000.0, 300000.0, 300000.0, 300000.0, 350000.0, 750000.0, 345000.0, 750000.0, 362000.0, 325000.0, 300000.0, 288000.0, 550000.0, 300000.0, 562000.0, 366000.0, 355000.0, 422000.0, 600000.0, 375000.0, 500000.0, 300000.0, 300000.0, 400000.0, 350000.0, 295500.0, 337000.0, 360000.0, 330216.0, 394000.0, 400000.0, 350000.0, 500000.0, 370000.0, 1300001.0, 300000.0, 300000.0, 430000.0, 300000.0, 288000.0, 360000.0, 300000.0, 400000.0, 314000.0, 325000.0, 375000.0, 390000.0, 300000.0, 500000.0, 336000.0, 300000.0, 300000.0, 585000.0, 300000.0, 450000.0, 500000.0, 332000.0, 305000.0, 600000.0, 375000.0, 300000.0, 317000.0, 750000.0, 326000.0, 350000.0, 350000.0, 301000.0, 365000.0, 1750000.0, 300000.0, 1000000.0, 350000.0, 350000.0, 295000.0, 300000.0, 300000.0, 310000.0, 290000.0, 500000.0, 345000.0, 385000.0, 600000.0, 600000.0, 320000.0, 800000.0, 400000.0, 330000.0, 330000.0, 498000.0, 350000.0, 375000.0, 310000.0, 525000.0, 600000.0, 300000.0, 450000.0, 400000.0, 500000.0, 326000.0, 500000.0, 400000.0, 300000.0, 1000000.0, 350000.0, 300000.0, 600000.0, 385000.0, 450000.0, 350000.0, 300000.0, 500000.0, 450000.0, 300000.0, 350000.0, 350000.0, 520000.0, 295000.0, 630000.0, 325000.0, 325000.0, 300000.0, 300000.0, 327000.0, 300000.0, 300000.0, 325000.0, 320000.0, 400000.0, 500000.0, 300000.0, 350000.0, 600000.0, 400000.0, 360000.0, 400000.0, 700000.0, 1650000.0, 290000.0, 330000.0, 550000.0, 300000.0, 300000.0, 335000.0, 450000.0, 443646.0, 450000.0, 497000.0, 500000.0, 300000.0, 320000.0, 500000.0, 5000000.0, 325000.0, 300000.0, 1110000.0, 650000.0, 310000.0, 540000.0, 600000.0, 300000.0, 320000.0, 300000.0, 444000.0, 300000.0, 350000.0, 300000.0, 340000.0, 317000.0, 421000.0, 420000.0, 420000.0, 361000.0, 300000.0, 381000.0, 825000.0, 450000.0, 390000.0, 300000.0, 450000.0, 300000.0, 300000.0, 350000.0, 380000.0, 290000.0, 540000.0, 450000.0, 659000.0, 400000.0, 300000.0, 435000.0, 400000.0, 450000.0, 350000.0, 350000.0, 350000.0, 490000.0, 300000.0, 300000.0, 770000.0, 305000.0, 350000.0, 450000.0, 400000.0, 380000.0, 300000.0, 300000.0, 365000.0, 347601.0, 340000.0, 300000.0, 300000.0, 300000.0, 400000.0, 314000.0, 425000.0, 300000.0, 315000.0, 298000.0, 500000.0, 550000.0, 409000.0, 450000.0, 326667.0, 700000.0, 500000.0, 485000.0, 300000.0, 300000.0, 300000.0, 368000.0, 784000.0, 380000.0, 290000.0, 340000.0, 350000.0, 300000.0, 500000.0, 320000.0, 450000.0, 485000.0, 750000.0, 300000.0, 300000.0, 325000.0, 320000.0, 295000.0, 358000.0, 702598.0, 425000.0, 450000.0, 325000.0, 325000.0, 1300000.0, 500000.0, 850000.0, 350000.0, 2548000.0, 334000.0, 500000.0, 375000.0, 1250000.0, 290000.0, 370000.0, 450000.0, 400000.0, 438000.0, 375000.0, 325000.0, 450000.0, 375000.0, 300000.0, 385000.0, 489133.0, 350000.0, 400000.0, 525000.0, 305000.0, 430000.0, 300000.0, 2854800.0, 400000.0, 375000.0, 350000.0, 345000.0, 385000.0, 350000.0, 544271.0, 6000000.0, 300000.0, 335000.0, 360000.0, 355000.0, 450000.0, 307000.0, 400000.0, 320000.0, 300000.0, 300000.0, 310000.0, 288000.0, 320000.0, 375000.0, 475000.0, 500000.0, 350000.0, 300000.0, 500000.0, 350000.0, 301000.0, 700000.0, 6000000.0, 300000.0, 295000.0, 320000.0, 400000.0, 1000000.0, 420000.0, 360000.0, 300000.0, 400000.0, 650000.0, 960000.0, 320000.0, 320000.0, 525000.0, 420000.0, 300000.0, 650000.0, 300000.0, 334000.0, 300000.0, 400000.0, 300000.0, 305000.0, 400000.0, 520000.0, 600000.0, 431000.0, 395000.0, 300000.0, 300000.0, 312000.0, 300000.0, 350000.0, 300000.0, 380000.0, 360000.0, 356000.0, 300000.0, 550000.0, 300000.0, 340000.0, 435000.0, 468000.0, 340000.0, 450000.0, 400000.0, 350000.0, 320000.0, 300000.0, 650000.0, 425000.0, 288000.0, 400000.0, 350000.0, 400000.0, 300000.0, 333000.0, 325000.0, 8900060.0, 425000.0, 980000.0, 425000.0, 400000.0, 525000.0, 350000.0, 344000.0, 602646.0, 365000.0, 1500006.0, 320000.0, 300000.0, 300000.0, 350000.0, 300000.0, 300000.0, 950000.0, 560000.0, 294000.0, 550000.0, 455000.0, 360000.0, 350000.0, 540000.0, 350000.0, 400000.0, 301342.0, 450000.0, 500000.0, 290000.0, 300000.0, 325000.0, 450000.0, 750000.0, 540000.0, 330000.0, 478000.0, 320000.0, 372000.0, 500000.0, 580000.0, 350000.0, 300000.0, 350000.0, 950000.0, 875000.0, 650000.0, 347000.0, 315000.0, 350000.0, 600000.0, 400000.0, 691803.0, 580000.0, 300000.0, 400000.0, 300000.0, 625000.0, 1200000.0, 300000.0, 360000.0, 400000.0, 303000.0, 493433.0, 400000.0, 400000.0, 650000.0, 295000.0, 300000.0, 390000.0, 450000.0, 850000.0, 325000.0, 310000.0, 350000.0, 300000.0, 365000.0, 800006.0, 400000.0, 306970.0, 350000.0, 300000.0, 9500000.0, 350000.0, 425000.0, 307400.0, 287000.0, 300000.0, 350000.0, 350000.0, 630000.0, 650000.0, 500000.0, 325000.0, 300000.0, 750000.0, 450000.0, 325000.0, 290000.0, 294700.0, 700000.0, 300000.0, 390000.0, 400000.0, 622000.0, 500000.0, 447095.0, 315000.0, 336640.0, 500000.0, 300000.0, 550000.0, 425000.0, 350000.0, 300000.0, 303000.0, 350000.0, 500000.0, 300000.0, 369000.0, 395000.0, 322000.0, 540000.0, 442892.0, 306000.0, 380000.0, 425000.0, 450000.0, 500000.0, 800000.0, 350000.0, 300000.0, 350000.0, 455000.0, 300000.0, 350000.0, 500000.0, 490000.0, 350000.0, 310000.0, 300000.0, 300000.0, 330000.0, 300000.0, 300000.0, 535000.0, 300000.0, 350000.0, 400000.0, 350000.0, 800000.0, 309000.0, 300000.0, 390000.0, 581000.0, 540000.0, 300000.0, 400000.0, 400000.0, 330000.0, 312000.0, 310000.0, 300000.0, 415000.0, 651996.0, 330000.0, 450000.0, 325000.0, 511161.0, 384000.0, 312000.0, 350000.0, 440000.0, 680000.0, 350000.0, 300000.0, 495000.0, 760000.0, 400000.0, 295000.0, 292000.0, 480000.0, 350000.0, 295515.0, 300000.0, 320000.0, 308349.0, 360000.0, 405000.0, 950000.0, 360000.0, 397500.0, 388000.0, 310000.0, 2146496.0, 600000.0, 478400.0, 1700000.0, 300000.0, 300000.0, 500000.0, 450000.0, 410000.0, 335000.0, 700000.0, 300000.0, 300000.0, 395000.0, 400000.0, 290000.0, 310000.0, 340000.0, 300000.0, 315000.0, 360000.0, 300000.0, 450000.0, 400000.0, 303202.0, 475000.0, 350000.0, 300000.0, 350000.0, 400000.0, 380000.0, 600000.0, 357000.0, 325000.0, 300000.0, 300000.0, 300000.0, 390000.0, 500000.0, 475000.0, 575000.0, 320000.0, 350000.0, 665000.0, 680000.0, 350000.0, 435000.0, 400000.0, 350000.0, 350000.0, 400000.0, 480000.0, 400000.0, 300000.0, 350000.0, 480000.0, 320000.0, 300000.0, 300000.0, 420000.0, 365851.21, 368000.0, 360000.0, 450000.0, 300000.0, 585000.0, 600000.0, 375000.0, 305000.0, 450000.0, 287154.0, 528000.0, 310000.0, 300000.0, 675000.0, 350000.0, 500000.0, 350000.0, 300000.0, 350000.0, 324000.0, 300000.0, 300000.0, 350000.0, 535000.0, 315000.0, 355000.0, 600000.0, 350000.0, 300000.0, 420000.0, 400000.0, 1000000.0, 530000.0, 319000.0, 400000.0, 325000.0, 330000.0, 400000.0, 1300000.0, 300000.0, 350000.0, 350000.0, 300000.0, 300000.0, 460000.0, 330008.0, 300000.0, 400000.0, 350000.0, 520000.0, 365000.0, 320000.0, 300000.0, 520000.0, 390000.0, 320000.0, 299000.0, 325000.0, 300000.0, 315000.0, 300000.0, 600000.0, 500000.0, 350000.0, 302000.0, 403000.0, 400000.0, 750000.0, 305000.0, 300000.0, 290000.0, 400000.0, 600000.0, 430000.0, 350000.0, 300000.0, 1200000.0, 290000.0, 700000.0, 350000.0, 348000.0, 305000.0, 420000.0, 376000.0, 325000.0, 565000.0, 350000.0, 290000.0, 300000.0, 700000.0, 350000.0, 750000.0, 450000.0, 1000000.0, 500000.0, 300000.0, 300000.0, 750000.0, 320000.0, 400000.0, 300000.0, 304000.0, 318000.0, 300000.0, 317000.0, 350000.0, 625000.0, 375000.0, 335000.0, 308000.0, 300000.0, 475000.0, 386000.0, 400000.0, 340000.0, 300000.0, 750000.0, 350000.0, 307471.0, 866000.0, 360000.0, 300000.0, 450000.0, 350000.0, 388000.0, 300000.0, 325000.0, 307000.0, 332580.0, 450000.0, 360000.0, 300000.0, 343000.0, 400000.0, 300000.0, 415000.0, 460000.0, 315000.0, 500000.0, 300000.0, 375000.0, 350000.0, 400000.0, 435000.0, 425000.0, 400000.0, 385000.0, 349000.0, 335000.0, 330000.0, 298000.0, 360000.0, 315000.0, 514621.0, 300000.0, 400000.0, 510000.0, 400000.0, 347000.0, 950000.0, 401000.0, 375000.0, 800000.0, 325000.0, 310000.0, 450000.0, 425000.0, 375000.0, 550000.0, 540000.0, 350000.0, 425000.0, 400000.0, 300000.0, 300000.0, 700000.0, 400000.0, 300000.0, 500000.0, 300000.0, 300000.0, 310000.0, 300000.0, 850000.0, 390000.0, 400000.0, 350000.0, 300000.0, 350000.0, 300000.0, 350000.0, 300000.0, 300000.0, 350000.0, 600000.0, 325000.0, 370000.0, 400000.0, 460000.0, 365000.0, 300000.0, 295000.0, 500000.0, 720000.0, 305000.0, 400000.0, 350000.0, 325000.0, 475000.0, 310000.0, 500000.0, 289000.0, 1000000.0, 295000.0, 350000.0, 600000.0, 400000.0, 858000.0, 400000.0, 320000.0, 390000.0, 444000.0, 305000.0, 400000.0, 460000.0, 350000.0, 300000.0, 389000.0, 300000.0, 305000.0, 325000.0, 800000.0, 650000.0, 335000.0, 560000.0, 600000.0, 685000.0, 300000.0, 1700000.0, 352000.0, 345000.0, 350000.0, 560000.0, 420000.0, 530000.0, 290000.0, 800000.0, 375000.0, 500000.0, 350000.0, 300000.0, 380000.0, 341000.0, 360000.0, 400000.0, 400000.0, 400000.0, 325000.0, 340000.0, 373000.0, 400000.0, 300000.0, 600000.0, 303529.0, 350000.0, 330000.0, 720000.0, 315000.0, 320000.0, 351000.0, 324000.0, 4800000.0, 290000.0, 400000.0, 300000.0, 750000.0, 980000.0, 365000.0, 300000.0, 300000.0, 320000.0, 420000.0, 300000.0, 300000.0, 325000.0, 700000.0, 290000.0, 295000.0, 300000.0, 350000.0, 550000.0, 342000.0, 460000.0, 441000.0, 290000.0, 300000.0, 308000.0, 1123000.0, 487000.0, 315000.0, 300000.0, 300000.0, 390000.0, 320000.0, 300000.0, 370000.0, 400000.0, 300000.0, 300000.0, 292000.0, 300000.0, 330000.0, 296257.0, 290000.0, 425000.0, 475000.0, 300000.0, 350000.0, 363792.0, 380000.0, 305000.0, 300000.0, 350000.0, 480480.0, 400000.0, 312000.0, 360000.0, 367000.0, 290000.0, 350000.0, 435391.98, 400000.0, 561000.0, 450000.0, 450000.0, 300000.0, 320000.0, 305000.0, 350000.0, 325000.0, 425000.0, 300000.0, 690000.0, 415000.0, 415000.0, 350000.0, 475000.0, 350000.0, 295000.0, 500000.0, 450000.0, 720000.0, 350000.0, 350000.0, 350000.0, 300000.0, 455000.0, 350000.0, 595000.0, 775000.0, 401000.0, 420000.0, 290000.0, 1000000.0, 300000.0, 300000.0, 500000.0, 350000.0, 800000.0, 500000.0, 425000.0, 305000.0, 375000.0, 480000.0, 325000.0, 400000.0, 320000.0, 350000.0, 405000.0, 473000.0, 450000.0, 295000.0, 300000.0, 440000.0, 300000.0, 317000.0, 700000.0, 400000.0, 343737.0, 309000.0, 400000.0, 541992.0, 450000.0, 400000.0, 330000.0, 305000.0, 304000.0, 7000000.0, 500000.0, 300000.0, 300000.0, 300000.0, 350000.0, 295000.0, 350000.0, 750000.0, 300000.0, 300000.0, 406000.0, 480000.0, 380000.0, 300000.0, 400000.0, 390000.0, 330000.0, 515000.0, 1250000.0, 300000.0, 500000.0, 300000.0, 305000.0, 300000.0, 307000.0, 325000.0, 355000.0, 305000.0, 500000.0, 320000.0, 400000.0, 500000.0, 330000.0, 400000.0, 370000.0, 300000.0, 900000.0, 500000.0, 300000.0, 500000.0, 290000.0, 500000.0, 700000.0, 320000.0, 535000.0, 350000.0, 600000.0, 300000.0, 400000.0, 540000.0, 525000.0, 311000.0, 300000.0, 420000.0, 300000.0, 330000.0, 340000.0, 500000.0, 290000.0, 300000.0, 350000.0, 400000.0, 300000.0, 320000.0, 300000.0, 315000.0, 330000.0, 540000.0, 325000.0, 300000.0, 300000.0, 312000.0, 450000.0, 596818.0, 350000.0, 350000.0, 297000.0, 435000.0, 336000.0, 400000.0, 300000.0, 325000.0, 325000.0, 1100000.0, 410000.0, 445000.0, 600000.0, 690000.0, 575000.0, 300000.0, 420998.0, 460000.0, 535000.0, 350000.0, 450000.0, 300000.0, 350000.0, 350000.0, 650000.0, 300000.0, 350000.0, 342000.0, 315000.0, 330000.0, 315000.0, 375000.0, 400000.0, 300000.0, 575000.0, 438000.0, 300000.0, 300000.0, 340000.0, 400000.0, 318000.0, 550000.0, 375000.0, 300000.0, 300000.0, 300000.0, 337000.0, 300000.0, 290000.0, 350000.0, 300000.0, 300000.0, 290000.0, 325000.0, 410000.0, 310000.0, 400000.0, 290000.0, 300000.0, 300000.0, 600000.0, 905000.0, 300000.0, 375000.0, 310000.0, 400000.0, 300000.0, 310000.0, 315000.0, 310000.0, 295000.0, 375000.0, 1000000.0, 305000.0, 400000.0, 515000.0, 450000.0, 320000.0, 300000.0, 350000.0, 460000.0, 1100000.0, 330000.0, 300000.0, 323000.0, 380000.0, 337000.0, 300000.0, 630938.0, 383000.0, 397019.41, 400000.0, 290000.0, 377667.0, 400000.0, 650000.0, 300000.0, 800000.0, 350000.0, 330000.0, 835000.0, 328000.0, 400000.0, 300000.0, 289000.0, 360000.0, 350000.0, 460000.0, 400000.0, 350000.0, 1280000.0, 317000.0, 400000.0, 350000.0, 360000.0, 400000.0, 335000.0, 330000.0, 650000.0, 675000.0, 638000.0, 600000.0, 334000.0, 300000.0, 445000.0, 360000.0, 1900000.0, 375000.0, 333000.0, 318000.0, 400000.0, 350000.0, 1500000.0, 300000.0, 300000.0, 1000000.0, 300000.0, 287985.0, 300000.0, 311000.0, 380000.0, 300000.0, 350000.0, 350000.0, 300000.0, 364000.0, 340000.0, 750000.0, 319000.0, 350000.0, 970000.0, 354000.0, 500000.0, 350000.0, 710000.0, 309000.0, 700000.0, 375000.0, 380000.0, 375000.0, 350000.0, 358000.0, 500000.0, 430000.0, 450000.0, 800000.0, 600000.0, 750000.0, 365000.0, 288000.0, 308000.0, 300000.0, 1250000.0, 360000.0, 350000.0, 500000.0, 300000.0, 290000.0, 520000.0, 297000.0, 415000.0, 500000.0, 410000.0, 360000.0, 700000.0, 450000.0, 350000.0, 300000.0, 350000.0, 305000.0, 400000.0, 600000.0, 321000.0, 360000.0, 525000.0, 4695472.0, 350000.0, 310000.0, 400000.0, 530000.0, 400000.0, 350000.0, 412000.0, 410000.0, 325000.0, 320000.0, 840000.0, 528000.0, 300000.0, 540000.0, 341120.0, 320000.0, 300000.0, 404200.0, 450000.0, 300000.0, 360000.0, 1500000.0, 313000.0, 367000.0, 350000.0, 308000.0, 350000.0, 400000.0, 375000.0, 400000.0, 600000.0, 350000.0, 500000.0, 290000.0, 307000.0, 297000.0, 446000.0, 300000.0, 288000.0, 375000.0, 875000.0, 400000.0, 330000.0, 425000.0, 450000.0, 450000.0, 450000.0, 290000.0, 300000.0, 500000.0, 350000.0, 350000.0, 469428.89, 311000.0, 360000.0, 325000.0, 360000.0, 325000.0, 290000.0, 300000.0, 350000.0, 325000.0, 1200000.0, 380000.0, 325000.0, 319000.0, 390000.0, 375000.0, 300000.0, 297000.0, 310000.0, 300000.0, 490000.0, 475000.0, 300000.0, 500000.0, 293750.0, 650000.0, 440000.0, 489000.0, 400000.0, 450000.0, 312858.36, 300000.0, 440000.0, 300000.0, 360000.0, 300000.0, 425000.0, 300000.0, 400000.0, 450000.0, 1000000.0, 300000.0, 410000.0, 600000.0, 490000.0, 300000.0, 340000.0, 312000.0, 300000.0, 308000.0, 305000.0, 330000.0, 300000.0, 450001.0, 650000.0, 355000.0, 380000.0, 300000.0, 375000.0, 411058.0, 550000.0, 385000.0, 398000.0, 370000.0, 500000.0, 600000.0, 400000.0, 600000.0, 390000.0, 500000.0, 375000.0, 325000.0, 1007787.0, 330000.0, 305000.0, 300000.0, 321000.0, 450000.0, 400000.0, 305000.0, 360000.0, 360000.0, 350000.0, 300000.0, 300000.0, 450000.0, 500000.0, 290000.0, 450000.0, 760000.0, 520000.0, 410000.0, 750000.0, 300000.0, 300000.0, 385000.0, 350000.0, 360000.0, 330000.0, 325000.0, 750000.0, 325000.0, 320000.0, 325000.0, 367000.0, 300000.0, 490000.0, 300000.0, 535000.0, 312000.0, 400000.0, 350000.0, 350000.0, 1379753.0, 425000.0, 360000.0, 440000.0, 324000.0, 380000.0, 315000.0, 295000.0, 340000.0, 335000.0, 330000.0, 300000.0, 325000.0, 400000.0, 300000.0, 325000.0, 388778.0, 299572.0, 300000.0, 350000.0, 417176.0, 600000.0, 350000.0, 312000.0, 430000.0, 325000.0, 369000.0, 520000.0, 350000.0, 320000.0, 450000.0, 400000.0, 340000.0, 330000.0, 303000.0, 450000.0, 315000.0, 287000.0, 300000.0, 300000.0, 900000.0, 550000.0, 315000.0, 325000.0, 350000.0, 400000.0, 360000.0, 550000.0, 400000.0, 350000.0, 300000.0, 300000.0, 306000.0, 370000.0, 448000.0, 390000.0, 340000.0, 300000.0, 600000.0, 423000.0, 320000.0, 600000.0, 735000.0, 1500000.0, 350000.0, 380000.0, 400000.0, 350000.0, 300000.0, 500000.0, 400000.0, 375000.0, 350000.0, 297000.0, 435000.0, 450000.0, 8706582.0, 380000.0, 420000.0, 290000.0, 334000.0, 450000.0, 320000.0, 300000.0, 350000.0, 420000.0, 325000.0, 290000.0, 300000.0, 294000.0, 300000.0, 300000.0, 525000.0, 500000.0, 300000.0, 300000.0, 325000.0, 325000.0, 290000.0, 360000.0, 360000.0, 380000.0, 375000.0, 300000.0, 305000.0, 500000.0, 325000.0, 325000.0, 400000.0, 500000.0, 300000.0, 520000.0, 425000.0, 300000.0, 313000.0, 350000.0, 400000.0, 290000.0, 630000.0, 300000.0, 312000.0, 300000.0, 525000.0, 700000.0, 360000.0, 390000.0, 300000.0, 300000.0, 360000.0, 380000.0, 330000.0, 749810.0, 350000.0, 425000.0, 650000.0, 300000.0, 600000.0, 400000.0, 300000.0, 435000.0, 1300000.0, 350000.0, 350000.0, 310000.0, 400000.0, 300000.0, 300000.0, 295000.0, 725000.0, 325000.0, 315000.0, 435000.0, 550000.0, 435000.0, 317900.0, 360000.0, 360000.0, 435000.0, 325000.0, 370000.0, 310000.0, 500000.0, 402900.0, 300000.0, 290000.0, 350000.0, 480000.0, 403000.0, 350000.0, 420000.0, 425000.0, 300000.0, 300000.0, 415000.0, 326000.0, 290000.0, 350000.0, 310000.0, 755281.0, 340000.0, 450000.0, 350000.0, 310000.0, 500000.0, 300000.0, 300000.0, 519000.0, 350000.0, 425000.0, 350000.0, 288000.0, 750000.0, 375000.0, 1000000.0, 300000.0, 450000.0, 500000.0, 300000.0, 325000.0, 415000.0, 350000.0, 584912.0, 320000.0, 500000.0, 650000.0, 400000.0, 592000.0, 1000000.0, 300000.0, 575000.0, 307200.0, 450000.0, 300000.0, 300000.0, 300000.0, 350000.0, 305000.0, 350000.0, 1800000.0, 350000.0, 400000.0, 300000.0, 500000.0, 310000.0, 340000.0, 324000.0, 700000.0, 450000.0, 345000.0, 315000.0, 300000.0, 400000.0, 684000.0, 300000.0, 300000.0, 310000.0, 650000.0, 300000.0, 320000.0, 320000.0, 500000.0, 351950.0, 389500.0, 739000.0, 295000.0, 425000.0, 300000.0, 300000.0, 300000.0, 350000.0, 300000.0, 300000.0, 498000.0, 450000.0, 500000.0, 288000.0, 620000.0, 400000.0, 450000.0, 700000.0, 400000.0, 300000.0, 530000.0, 400000.0, 289000.0, 740000.0, 960000.0, 356000.0, 840000.0, 360000.0, 350000.0, 1000000.0, 840000.0, 366000.0, 450000.0, 311000.0, 936000.0, 350000.0, 345800.0, 375000.0, 640000.0, 634000.0, 379500.0, 340000.0, 1600001.0, 350000.0, 1100000.0, 500000.0, 300000.0, 460000.0, 300000.0, 400000.0, 350000.0, 600000.0, 400000.0, 575000.0, 310000.0, 380000.0, 630000.0, 415000.0, 300000.0, 400000.0, 400000.0, 388000.0, 350000.0, 300000.0, 300000.0, 298000.0, 425000.0, 300000.0, 350000.0, 400000.0, 320000.0, 339000.0, 420000.0, 500000.0, 390000.0, 563000.0, 345000.0, 290000.0, 400000.0, 299000.0, 340000.0, 420000.0, 400000.0, 300625.0, 380000.0, 499000.0, 375000.0, 287488.0, 300000.0, 310000.0, 330000.0, 400000.0, 400000.0, 315000.0, 359000.0, 300000.0, 320000.0, 400000.0, 300000.0, 300000.0, 307000.0, 310000.0, 345529.0, 324755.84, 1318000.0, 312000.0, 325000.0, 480000.0, 294000.0, 350000.0, 1173900.0, 317000.0, 400000.0, 700000.0, 600000.0, 403000.0, 650000.0, 303000.0, 456000.0, 300000.0, 300000.0, 350000.0, 310000.0, 330000.0, 324000.0, 360000.0, 400000.0, 350000.0, 350000.0, 471000.0, 375000.0, 340000.0, 630000.0, 288400.0, 440000.0, 820000.0, 500000.0, 287000.0, 350000.0, 300000.0, 360000.0, 289979.0, 350000.0, 340000.0, 380000.0, 800000.0, 350000.0, 300000.0, 289483.0, 360000.0, 950000.0, 500000.0, 330000.0, 500000.0, 300000.0, 295000.0, 700000.0, 300000.0, 362000.0, 294000.0, 300000.0, 300000.0, 300000.0, 290000.0, 1000000.0, 290000.0, 289000.0, 450000.0, 350000.0, 1150000.0, 550000.0, 325000.0, 500000.0, 302000.0, 510000.0, 300000.0, 340000.0, 352250.0, 420000.0, 300000.0, 318000.0, 300000.0, 345000.0, 2300000.0, 300000.0, 750000.0, 350000.0, 295000.0, 358000.0, 450000.0, 300000.0, 300000.0, 290000.0, 330000.0, 453000.0, 350000.0, 300000.0, 586240.0, 320000.0, 350000.0, 620000.0, 410000.0, 300000.0, 300000.0, 325000.0, 350000.0, 300000.0, 353000.0, 400000.0, 288000.0, 330000.0, 300000.0, 400000.0, 500000.0, 315000.0, 300000.0, 290000.0, 521010.0, 435000.0, 350000.0, 350000.0, 450000.0, 290000.0, 400000.0, 417000.0, 350000.0, 300000.0, 3760640.0, 540000.0, 600000.0, 390000.0, 600000.0, 1500000.0, 350000.0, 450000.0, 309996.0, 300000.0, 325000.0, 500000.0, 550000.0, 370000.0, 300000.0, 1050000.0, 10999200.0, 900000.0, 325000.0, 320000.0, 357000.0, 294000.0, 305000.0, 350000.0, 300000.0, 350000.0, 305000.0, 300000.0, 350000.0, 410000.0, 520000.0, 1450000.0, 500000.0, 295000.0, 330000.0, 395000.0, 410000.0, 600000.0, 1500000.0, 500000.0, 525000.0, 325000.0, 500000.0, 529000.0, 340000.0, 340000.0, 470000.0, 320000.0, 350000.0, 300000.0, 460000.0, 365000.0, 350000.0, 310000.0, 650000.0, 335000.0, 340000.0, 300000.0, 640000.0, 300000.0, 721000.0, 980000.0, 300000.0, 541000.0, 330000.0, 300000.0, 400000.0, 330000.0, 295000.0, 550000.0, 410000.0, 340000.0, 650000.0, 500000.0, 344000.0, 321526.0, 750000.0, 550000.0, 350000.0, 420000.0, 325000.0, 331200.0, 400000.0, 330000.0, 350000.0, 290000.0, 580000.0, 600000.0, 298000.0, 305000.0, 459375.0, 430000.0, 420000.0, 600000.0, 386250.0, 350000.0, 450000.0, 325000.0, 500000.0, 450000.0, 300000.0, 400000.0, 300000.0, 329000.0, 350000.0, 350000.0, 800000.0, 500000.0, 395000.0, 300000.0, 600000.0, 296000.0, 400000.0, 400000.0, 302000.0, 300000.0, 420000.0, 325000.0, 350000.0, 400000.0, 300000.0, 475000.0, 289000.0, 300000.0, 730000.0, 575000.0, 350000.0, 1251300.0, 300000.0, 325000.0, 300000.0, 425000.0, 325000.0, 300000.0, 300000.0, 325000.0, 375000.0, 310000.0, 400000.0, 450000.0, 320000.0, 650000.0, 575000.0, 320000.0, 360000.0, 308000.0, 420000.0, 400000.0, 350000.0, 500000.0, 300000.0, 495000.0, 390400.0, 300000.0, 300000.0, 300000.0, 380000.0, 315000.0, 320000.0, 350000.0, 415000.0, 300000.0, 875000.0, 350000.0, 3000000.0, 1140000.0, 420000.0, 310000.0, 300000.0, 460000.0, 290000.0, 440000.0, 320000.0, 800000.0, 323000.0, 515000.0, 512000.0, 394000.0, 300000.0, 500000.0, 450000.0, 305000.0, 350000.0, 315000.0, 950000.0, 625000.0, 338600.0, 300000.0, 450000.0, 340000.0, 305000.0, 320000.0, 297000.0, 305000.0, 415000.0, 380000.0, 950000.0, 290000.0, 395000.0, 700000.0, 373000.0, 450000.0, 849109.0, 400000.0, 2700000.0, 350000.0, 400000.0, 430000.0, 850000.0, 290000.0, 400000.0, 300000.0, 500000.0, 495000.0, 312000.0, 350000.0, 300000.0, 1460000.0, 325000.0, 425000.0, 330000.0, 769992.0, 300000.0, 300000.0, 650000.0, 600000.0, 325000.0, 305000.0, 300000.0, 295000.0, 450000.0, 350000.0, 350000.0, 300000.0, 355000.0, 508000.0, 380000.0, 350000.0, 597000.0, 650000.0, 300000.0, 303000.0, 485000.0, 308000.0, 325000.0, 325000.0, 306000.0, 380000.0, 350000.0, 450000.0, 300000.0, 500000.0, 295000.0, 750000.0, 500000.0, 500000.0, 300000.0, 500000.0, 351000.0, 850000.0, 375000.0, 400000.0, 300000.0, 450000.0, 373000.0, 310000.0, 750000.0, 300000.0, 395000.0, 325000.0, 650000.0, 360000.0, 624086.16, 310000.0, 300000.0, 510000.0, 310000.0, 290000.0, 900000.0, 325000.0, 310000.0, 540000.0, 350000.0, 300000.0, 300000.0, 340000.0, 375000.0, 484000.0, 325000.0, 447000.0, 2000000.0, 660000.0, 300000.0, 360000.0, 345000.0, 300000.0, 400000.0, 347000.0, 320000.0, 300000.0, 318558.0, 565000.0, 487000.0, 400000.0, 290000.0, 380000.0, 350000.0, 300000.0, 335000.0, 550000.0, 385000.0, 325000.0, 300000.0, 300000.0, 350000.0, 324000.0, 850000.0, 400000.0, 300000.0, 380098.0, 350000.0, 323000.0, 400000.0, 350000.0, 300000.0, 309600.0, 350000.0, 365000.0, 800000.0, 300000.0, 302000.0, 364000.0, 829800.0, 475000.0, 300000.0, 350000.0, 300000.0, 375000.0, 450000.0, 832000.0, 500000.0, 310000.0, 340000.0, 350000.0, 350000.0, 336000.0, 600000.0, 330000.0, 300000.0, 305000.0, 400166.0, 400000.0, 319999.0, 300000.0, 325000.0, 350000.0, 1100000.0, 380000.0, 450000.0, 300000.0, 300000.0, 750000.0, 350000.0, 383000.0, 333000.0, 296000.0, 300000.0, 375000.0, 350000.0, 333000.0, 450000.0, 344000.0, 400000.0, 305000.0, 900000.0, 300000.0, 840000.0, 360000.0, 294000.0, 375000.0, 290000.0, 380000.0, 400000.0, 300000.0, 415000.0, 300000.0, 300000.0, 354000.0, 450000.0, 650000.0, 300000.0, 290000.0, 325000.0, 300000.0, 300000.0, 301984.0, 510000.0, 300000.0, 350000.0, 420000.0, 300000.0, 333000.0, 1200000.0, 305000.0, 452400.0, 311000.0, 302000.0, 350000.0, 305000.0, 300000.0, 700000.0, 304000.0, 305000.0, 420000.0, 300000.0, 498000.0, 435000.0, 504000.0, 360000.0, 300000.0, 350000.0, 295000.0, 350000.0, 335000.0, 336000.0, 325000.0, 300000.0, 360000.0, 300000.0, 393000.0, 315000.0, 650000.0, 500000.0, 450000.0, 350000.0, 312640.0, 750000.0, 850000.0, 600000.0, 300000.0, 400000.0, 287000.0, 420458.0, 500000.0, 636000.0, 500000.0, 425000.0, 450000.0, 340000.0, 289000.0, 450000.0, 350000.0, 300000.0, 375000.0, 366000.0, 350000.0, 300000.0, 455000.0, 483505.0, 350000.0, 966398.0, 310000.0, 1110000.0, 310000.0, 345000.0, 461000.0, 350000.0, 500000.0, 425000.0, 301571.0, 565000.0, 450000.0, 725000.0, 353000.0, 320000.0, 325000.0, 300000.0, 325000.0, 300000.0, 5400000.0, 300000.0, 300000.0, 300000.0, 450000.0, 360000.0, 436400.0, 480000.0, 654000.0, 340000.0, 398000.0, 480000.0, 500000.0, 295000.0, 360000.0, 570000.0, 750000.0, 300000.0, 450000.0, 297500.0, 290000.0, 325000.0, 295000.0, 335000.0, 500000.0, 300000.0, 300000.0, 315000.0, 300000.0, 300000.0, 416000.0, 310000.0, 326000.0, 350000.0, 320000.0, 380000.0, 850000.0, 300000.0, 350000.0, 492666.0, 655000.0, 800000.0, 510000.0, 400000.0, 500000.0, 300000.0, 507000.0, 350000.0, 600000.0, 465000.0, 300000.0, 360000.0, 350000.0, 300000.0, 312000.0, 1000000.0, 350000.0, 309200.0, 1000000.0, 700000.0, 360000.0, 550000.0, 350000.0, 450000.0, 550000.0, 650000.0, 395000.0, 360000.0, 380000.0, 964434.0, 450000.0, 380000.0, 410000.0, 300000.0, 300000.0, 325000.0, 825000.0, 300000.0, 450000.0, 300000.0, 320000.0, 300000.0, 832000.0, 350000.0, 362082.0, 340000.0, 300000.0, 305000.0, 670000.0, 344500.0, 525000.0, 428000.0, 350000.0, 352000.0, 300000.0, 400000.0, 375000.0, 400000.0, 1500000.0, 600000.0, 300000.0, 290000.0, 350000.0, 449436.0, 400000.0, 325000.0, 299276.0, 352000.0, 300000.0, 550000.0, 750000.0, 340000.0, 300000.0, 300000.0, 750000.0, 300000.0, 295000.0, 400000.0, 300000.0, 290000.0, 4800000.0, 300000.0, 633670.0, 287000.0, 420000.0, 400000.0, 475000.0, 312000.0, 315000.0, 350000.0, 515000.0, 350000.0, 312000.0, 350000.0, 405000.0, 500000.0, 300000.0, 385000.0, 290000.0, 500000.0, 300000.0, 300000.0, 309000.0, 571000.0, 900000.0, 419000.0, 455000.0, 380000.0, 2500000.0, 480000.0, 350000.0, 657848.0, 411000.0, 293340.0, 789000.0, 300000.0, 290000.0, 310000.0, 300000.0, 310000.0, 637485.0, 467000.0, 655000.0, 332000.0, 410000.0, 1700000.0, 1400000.0, 300000.0, 1150000.0, 537000.0, 450000.0, 332000.0, 330000.0, 700000.0, 300000.0, 500000.0, 450000.0, 460000.0, 300000.0, 300000.0, 450000.0, 860000.0, 320000.0, 315000.0, 550000.0, 500000.0, 300000.0, 500000.0, 312000.0, 350000.0, 370000.0, 530000.0, 550000.0, 400000.0, 485000.0, 450000.0, 330000.0, 310000.0, 4462056.0, 745000.0, 350000.0, 420000.0, 326000.0, 300000.0, 360000.0, 850000.0, 500000.0, 300000.0, 300000.0, 400000.0, 450000.0, 290000.0, 320000.0, 300000.0, 390000.0, 350000.0, 300000.0, 400000.0, 300000.0, 525000.0, 300000.0, 300000.0, 475000.0, 400000.0, 375000.0, 300000.0, 1128255.0, 500000.0, 300000.0, 325000.0, 400000.0, 300000.0, 450000.0, 315000.0, 290000.0, 450000.0, 400000.0, 400000.0, 310000.0, 300000.0, 320000.0, 414000.0, 360000.0, 390000.0, 297000.0, 950000.0, 550000.0, 375000.0, 300000.0, 750000.0, 400000.0, 300000.0, 312000.0, 300000.0, 425000.0, 375000.0, 350000.0, 350000.0, 600000.0, 680000.0, 350000.0, 3400015.0, 4266080.0, 410000.0, 335000.0, 324550.0, 300000.0, 300000.0, 310000.0, 350000.0, 500000.0, 454551.0, 326000.0, 300000.0, 500000.0, 400000.0, 310000.0, 312000.0, 375000.0, 350000.0, 300000.0, 450000.0, 300000.0, 320000.0, 468000.0, 9225000.0, 300000.0, 325000.0, 875000.0, 320000.0, 295000.0, 325000.0, 750000.0, 400000.0, 490000.0, 323000.0, 500000.0, 325000.0, 475000.0, 315000.0, 325000.0, 350000.0, 593660.0, 334680.0, 300000.0, 360000.0, 300000.0, 330000.0, 700000.0, 600000.0, 325000.0, 350000.0, 300000.0, 300000.0, 287000.0, 330000.0, 388000.0, 425000.0, 840000.0, 600000.0, 350000.0, 360000.0, 375000.0, 328000.0, 350000.0, 318000.0, 305000.0, 290000.0, 400000.0, 300000.0, 379000.0, 350000.0, 340000.0, 340000.0, 340000.0, 420000.0, 500000.0, 340000.0, 300000.0, 296000.0, 350000.0, 650000.0, 591000.0, 325000.0, 350000.0, 314352.0, 400000.0, 700000.0, 290000.0, 300000.0, 350000.0, 397000.0, 750000.0, 500000.0, 625000.0, 350000.0, 475000.0, 300000.0, 300000.0, 465397.0, 300000.0, 350000.0, 287965.0, 360000.0, 399821.0, 300000.0, 340000.0, 350000.0, 500000.0, 500000.0, 455000.0, 300000.0, 300000.0, 375000.0, 845394.0, 350000.0, 650000.0, 330000.0, 300000.0, 750000.0, 310000.0, 491834.0, 980000.0, 325000.0, 330000.0, 400000.0, 320000.0, 401818.0, 960000.0, 430000.0, 300000.0, 350000.0, 750000.0, 350000.0, 729991.0, 325000.0, 375000.0, 400000.0, 350000.0, 900000.0, 450000.0, 578000.0, 450000.0, 362500.0, 300000.0, 535000.0, 300000.0, 345000.0, 350000.0, 450000.0, 500000.0, 450000.0, 420000.0, 500000.0, 360000.0, 300000.0, 375000.0, 387000.0, 475000.0, 300000.0, 350000.0, 350000.0, 714000.0, 1045000.0, 400000.0, 750000.0, 300000.0, 315000.0, 300000.0, 300000.0, 300000.0, 425000.0, 380000.0, 2500000.0, 393000.0, 400000.0, 340000.0, 336000.0, 300000.0, 385000.0, 315000.0, 350000.0, 350000.0, 300000.0, 393000.0, 450000.0, 320000.0, 300000.0, 384000.0, 347000.0, 564000.0, 300000.0, 396000.0, 500000.0, 425000.0, 292600.0, 350000.0, 538500.0, 300000.0, 700000.0, 480000.0, 298900.0, 300000.0, 320000.0, 300000.0, 330000.0, 350000.0, 450000.0, 400000.0, 487000.0, 350000.0, 350000.0, 440000.0, 300000.0, 480000.0, 312000.0, 300000.0, 320000.0, 450213.0, 400000.0, 300000.0, 360000.0, 325000.0, 400000.0, 580000.0, 298000.0, 549769.0, 500000.0, 475000.0, 375000.0, 405000.0, 375000.0, 400000.0, 290000.0, 312000.0, 325000.0, 625000.0, 310000.0, 300000.0, 375000.0, 290000.0, 325000.0, 1010000.0, 550000.0, 375000.0, 360000.0, 350000.0, 538168.0, 300000.0, 400000.0, 475000.0, 300000.0, 320000.0, 475000.0, 300000.0, 350000.0, 416000.0, 650000.0, 300000.0, 400000.0, 330000.0, 300000.0, 500000.0, 350000.0, 300000.0, 1000000.0, 650000.0, 350000.0, 290000.0, 500000.0, 385000.0, 300000.0, 500000.0, 300000.0, 350000.0, 430000.0, 330000.0, 475000.0, 315000.0, 530000.0, 650000.0, 774000.0, 364000.0, 400000.0, 375000.0, 400000.0, 400000.0, 350000.0, 350000.0, 345000.0, 500000.0, 350000.0, 400000.0, 300000.0, 294000.0, 296000.0, 1000000.0, 350000.0, 410000.0, 575000.0, 900000.0, 562000.0, 400000.0, 321000.0, 655000.0, 485000.0, 420000.0, 975000.0, 325000.0, 360000.0, 350000.0, 350000.0, 745000.0, 480000.0, 498000.0, 300000.0, 850000.0, 2000000.0, 434600.0, 5616890.0, 425000.0, 335246.0, 500000.0, 350000.0, 300000.0, 300000.0, 310000.0, 300000.0, 385000.0, 500000.0, 310000.0, 344000.0, 353000.0, 300000.0, 350000.0, 350000.0, 300000.0, 320000.0, 365000.0, 328000.0, 315000.0, 300000.0, 335000.0, 365000.0, 400000.0, 1300000.0, 496000.0, 660000.0, 300000.0, 450000.0, 334000.0, 325000.0, 340000.0, 303000.0, 490000.0, 500000.0, 350000.0, 500000.0, 375000.0, 450000.0, 625000.0, 330000.0, 350000.0, 540000.0, 360000.0, 300000.0, 500000.0, 500000.0, 300000.0, 590000.0, 330000.0, 500000.0, 300000.0, 700000.0, 300000.0, 325000.0, 378000.0, 400000.0, 500000.0, 288000.0, 630000.0, 600000.0, 750000.0, 300000.0, 298000.0, 350000.0, 425000.0, 382500.0, 522000.0, 425000.0, 385000.0, 400000.0, 360000.0, 395000.0, 900000.0, 330000.0, 385000.0, 390000.0, 455000.0, 450000.0, 300000.0, 330000.0, 750000.0, 300000.0, 350000.0, 300000.0, 300000.0, 350000.0, 400000.0, 403000.0, 306000.0, 300000.0, 400000.0, 350000.0, 300000.0, 425000.0, 370000.0, 382509.0, 785000.0, 404000.0, 300000.0, 300000.0, 295000.0, 740000.0, 600000.0, 360000.0, 450000.0, 411593.0, 425000.0, 430000.0, 300000.0, 400000.0, 350000.0, 525000.0, 300000.0, 475000.0, 325000.0, 295000.0, 300000.0, 411000.0, 407000.0, 330000.0, 375000.0, 420000.0, 365000.0, 325000.0, 300000.0, 300000.0, 430000.0, 405000.0, 545000.0, 560000.0, 300000.0, 300000.0, 550000.0, 650000.0, 300000.0, 320000.0, 300000.0, 351000.0, 500000.0, 340000.0, 490000.0, 450000.0, 400000.0, 300000.0, 350000.0, 491000.0, 392000.0, 300000.0, 450000.0, 700000.0, 600000.0, 320000.0, 308000.0, 300000.0, 305000.0, 345946.0, 400000.0, 350000.0, 925441.0, 360000.0, 317000.0, 385000.0, 295000.0, 300000.0, 320000.0, 315000.0, 341742.0, 425000.0, 350000.0, 424000.0, 340000.0, 312000.0, 600000.0, 450000.0, 400000.0, 380000.0, 350000.0, 315000.0, 345000.0, 375000.0, 290000.0, 402000.0, 330000.0, 300000.0, 425000.0, 347000.0, 350000.0, 412000.0, 400000.0, 300000.0, 300000.0, 360000.0, 677000.0, 300000.0, 305000.0, 350000.0, 300000.0, 450000.0, 342496.0, 480000.0, 400000.0, 350000.0, 350000.0, 400000.0, 450000.0, 330000.0, 700000.0, 365000.0, 300000.0, 402000.0, 330000.0, 325000.0, 385000.0, 300000.0, 750000.0, 353000.0, 364000.0, 400000.0, 300000.0, 420000.0, 550000.0, 442000.0, 495000.0, 354000.0, 380000.0, 435000.0, 563000.0, 410000.0, 590000.0, 360000.0, 300000.0, 350000.0, 350000.0, 300000.0, 450000.0, 460000.0, 360000.0, 500000.0, 4000040.0, 300000.0, 565000.0, 310000.0, 557000.0, 289000.0, 290000.0, 300000.0, 335000.0, 350000.0, 400000.0, 350000.0, 500090.0, 300000.0, 500000.0, 360000.0, 480000.0, 288000.0, 428000.0, 400000.0, 360000.0, 362220.0, 316000.0, 320000.0, 297000.0, 380000.0, 450000.0, 295000.0, 290000.0, 315000.0, 375000.0, 371000.0, 340000.0, 400000.0, 800000.0, 395000.0, 350000.0, 460000.0, 380000.0, 320000.0, 600000.0, 300000.0, 325000.0, 364000.0, 417000.0, 400000.0, 355000.0, 495000.0, 325000.0, 300000.0, 1500000.0, 500000.0, 500000.0, 400000.0, 309000.0, 435000.0, 290000.0, 1370000.0, 315000.0, 480000.0, 312000.0, 306000.0, 516000.0, 600000.0, 290000.0, 350000.0, 300000.0, 400000.0, 677276.0, 475000.0, 400000.0, 525000.0, 300000.0, 750000.0, 300000.0, 298000.0, 384000.0, 350000.0, 330000.0, 500000.0, 1100000.0, 975000.0, 304000.0, 400000.0, 325000.0, 450000.0, 300000.0, 312418.0, 1644000.0, 350000.0, 300000.0, 295000.0, 325000.0, 450000.0, 318000.0, 350000.0, 550000.0, 350000.0, 325000.0, 400000.0, 370000.0, 300000.0, 300000.0, 360000.0, 345000.0, 300000.0, 300000.0, 300000.0, 300000.0, 476000.0, 300000.0, 450000.0, 510000.0, 350000.0, 675000.0, 650000.0, 425000.0, 420000.0, 327000.0, 486169.0, 310000.0, 325100.0, 360000.0, 360000.0, 400000.0, 450000.0, 297000.0, 325000.0, 300000.0, 380000.0, 300000.0, 373000.0, 300000.0, 312000.0, 1100000.0, 324000.0, 300000.0, 363000.0, 298000.0, 310000.0, 425000.0, 420000.0, 320000.0, 450000.0, 325000.0, 310000.0, 480000.0, 290000.0, 3000000.0, 410000.0, 360000.0, 330000.0, 350000.0, 300000.0, 300000.0, 325000.0, 400000.0, 479000.0, 9550000.0, 370000.0, 330000.0, 412698.0, 400000.0, 318909.0, 290000.0, 493236.0, 400000.0, 288000.0, 310000.0, 350000.0, 290000.0, 580000.0, 500000.0, 500000.0, 300000.0, 392000.0, 300000.0, 350000.0, 400000.0, 380000.0, 340000.0, 588700.0, 400000.0, 350000.0, 339000.0, 930000.0, 395000.0, 350000.0, 309000.0, 305000.0, 300000.0, 311000.0, 355000.0, 500000.0, 340000.0, 300000.0, 315000.0, 300000.0, 320000.0, 380000.0, 408000.0, 310000.0, 384000.0, 406450.0, 400000.0, 568000.0, 459000.0, 325000.0, 310000.0, 371000.0, 500000.0, 350000.0, 318000.0, 755425.86, 295000.0, 300000.0, 500000.0, 400000.0, 326000.0, 350000.0, 500000.0, 382000.0, 300000.0, 380000.0, 600000.0, 300000.0, 562000.0, 300000.0, 385000.0, 315000.0, 765000.0, 1097541.0, 310000.0, 650000.0, 450000.0, 350000.0, 300000.0, 290000.0, 370000.0, 300000.0, 345000.0, 6000000.0, 350000.0, 370000.0, 320000.0, 600000.0, 350000.0, 320000.0, 500000.0, 750000.0, 338000.0, 400000.0, 365000.0, 305452.0, 300000.0, 300000.0, 400000.0, 290000.0, 350000.0, 309000.0, 350000.0, 308000.0, 300000.0, 300000.0, 380000.0, 300000.0, 300000.0, 600000.0, 350000.0, 375000.0, 415000.0, 307500.0, 300000.0, 460000.0, 345000.0, 500000.0, 300000.0, 400000.0, 350000.0, 950000.0, 300000.0, 544600.0, 540000.0, 300000.0, 290000.0, 320000.0, 596215.0, 700000.0, 352000.0, 430000.0, 300000.0, 350000.0, 300000.0, 450000.0, 500000.0, 570000.0, 500000.0, 300000.0, 525000.0, 350000.0, 300000.0, 350000.0, 325000.0, 550000.0, 450000.0, 300000.0, 350000.0, 500000.0, 290000.0, 350000.0, 300000.0, 350000.0, 300000.0, 1500000.0, 300000.0, 575000.0, 450000.0, 301000.0, 301000.0, 348000.0, 325000.0, 385000.0, 322000.0, 670000.0, 400000.0, 300000.0, 1000000.0, 6500000.0, 363090.0, 960000.0, 300000.0, 300000.0, 400000.0, 350000.0, 290000.0, 350000.0, 400000.0, 405000.0, 382000.0, 300000.0, 300000.0, 420000.0, 1000000.0, 375000.0, 290000.0, 300000.0, 980000.0, 299202.0, 400000.0, 300000.0, 350000.0, 400000.0, 500000.0, 650000.0, 312000.0, 300000.0, 330000.0, 768000.0, 349903.0, 290000.0, 305000.0, 440000.0, 435000.0, 614496.0, 345000.0, 825000.0, 300000.0, 300000.0, 450000.0, 300000.0, 1100000.0, 710000.0, 340000.0, 300000.0, 420000.0, 350000.0, 350000.0, 300000.0, 440000.0, 450000.0, 335000.0, 300000.0, 990000.0, 450000.0, 320000.0, 400000.0, 317000.0, 370000.0, 400000.0, 400000.0, 330000.0, 300000.0, 675000.0, 405000.0, 400000.0, 400000.0, 300000.0, 350000.0, 350000.0, 700000.0, 360000.0, 300000.0, 350000.0, 320000.0, 345000.0, 350000.0, 500000.0, 303000.0, 390000.0, 435000.0, 445000.0, 600000.0, 300000.0, 400500.0, 380000.0, 900000.0, 667074.0, 500000.0, 416422.0, 695000.0, 560000.0, 300000.0, 340000.0, 300000.0, 1500000.0, 400000.0, 300000.0, 325000.0, 457000.0, 400000.0, 300000.0, 400000.0, 300000.0, 440000.0, 350000.0, 500000.0, 345000.0, 420000.0, 811000.0, 325000.0, 490000.0, 300000.0, 365000.0, 500000.0, 350000.0, 400000.0, 610000.0, 380000.0, 300000.0, 450000.0, 1140000.0, 300000.0, 740000.0, 312000.0, 450000.0, 300000.0, 410000.0, 450000.0, 1950000.0, 400000.0, 325000.0, 525000.0, 300000.0, 300000.0, 300000.0, 300000.0, 474000.0, 550000.0, 400000.0, 415000.0, 306000.0, 1500000.0, 750000.0, 500000.0, 325000.0, 300000.0, 365000.0, 535000.0, 305000.0, 306000.0, 300000.0, 350000.0, 300000.0, 330000.0, 425000.0, 300000.0, 450000.0, 340000.0, 350000.0, 400000.0, 290000.0, 295000.0, 300000.0, 318000.0, 300000.0, 423000.0, 325000.0, 380000.0, 440000.0, 306000.0, 300000.0, 290000.0, 300000.0, 750000.0, 309000.0, 300000.0, 306000.0, 500000.0, 325000.0, 657000.0, 475000.0, 3200000.0, 428258.0, 400000.0, 300000.0, 329844.0, 475000.0, 300000.0, 350000.0, 350000.0, 300000.0, 900000.0, 330000.0, 300000.0, 300000.0, 425000.0, 450000.0, 400000.0, 304000.0, 319000.0, 300000.0, 318000.0, 350000.0, 295000.0, 400000.0, 325000.0, 300000.0, 340000.0, 302000.0, 300000.0, 350000.0, 1000000.0, 380000.0, 290000.0, 324000.0, 350000.0, 304200.0, 1115380.0, 400000.0, 300000.0, 406000.0, 850000.0, 320000.0, 313000.0, 290000.0, 1000000.0, 295000.0, 300000.0, 309000.0, 323000.0, 730000.0, 300000.0, 390000.0, 331000.0, 425000.0, 350000.0, 500000.0, 400000.0, 300000.0, 300000.0, 300000.0, 305000.0, 560323.0, 400000.0, 310000.0, 340000.0, 3300000.0, 400000.0, 350000.0, 390000.0, 357000.0, 290000.0, 450000.0, 500000.0, 390000.0, 350000.0, 325000.0, 360000.0, 552000.0, 400000.0, 400000.0, 400000.0, 340000.0, 660000.0, 400000.0, 335000.0, 355000.0, 561500.0, 360000.0, 320000.0, 865863.96, 294000.0, 340000.0, 500000.0, 401136.0, 350000.0, 290000.0, 305000.0, 420000.0, 661235.0, 611500.0, 450000.0, 420000.0, 400000.0, 475000.0, 312000.0, 395000.0, 300000.0, 300000.0, 600000.0, 600000.0, 475000.0, 310000.0, 400000.0, 750000.0, 350000.0, 340000.0, 550000.0, 375000.0, 425000.0, 300000.0, 425000.0, 400000.0, 324000.0, 317000.0, 495500.0, 295000.0, 350000.0, 337000.0, 467000.0, 325000.0, 560000.0, 300000.0, 310000.0, 300000.0, 365000.0, 380000.0, 295000.0, 400000.0, 300000.0, 460000.0, 400000.0, 440000.0, 450000.0, 604000.0, 375000.0, 300000.0, 400000.0, 426000.0, 324300.0, 300000.0, 535000.0, 300000.0, 400000.0, 500000.0, 350000.0, 300000.0, 465154.0, 300000.0, 300000.0, 340000.0, 450000.0, 400000.0, 365000.0, 375000.0, 360000.0, 400000.0, 650000.0, 550000.0, 300000.0, 375000.0, 700000.0, 400000.0, 470000.0, 350000.0, 450000.0, 330000.0, 350000.0, 340000.0, 520000.0, 6702150.0, 360000.0, 360000.0, 650000.0, 450000.0, 400000.0, 551000.0, 400000.0, 750001.0, 440000.0, 310000.0, 300000.0, 300000.0, 400000.0, 575000.0, 300000.0, 304846.0, 450000.0, 325000.0, 300000.0, 300000.0, 500000.0, 350000.0, 450000.0, 375000.0, 384000.0, 300000.0, 320245.38, 320000.0, 400000.0, 325000.0, 312331.0, 900000.0, 367500.0, 500000.0, 500000.0, 350000.0, 298343.0, 500000.0, 325000.0, 310000.0, 290000.0, 450000.0, 1200000.0, 355000.0, 310000.0, 480000.0, 600000.0, 300000.0, 383360.0, 392593.94, 350000.0, 400000.0, 400000.0, 350000.0, 310000.0, 300000.0, 300500.0, 300000.0, 300000.0, 320000.0, 330000.0, 375000.0, 360000.0, 370000.0, 332435.0, 490000.0, 305000.0, 300000.0, 310000.0, 1100000.0, 345000.0, 300000.0, 350000.0, 710000.0, 300000.0, 800000.0, 325000.0, 565000.0, 340000.0, 463000.0, 510000.0, 1200000.0, 350000.0, 390000.0, 300000.0, 320000.0, 290000.0, 475000.0, 385000.0, 3000000.0, 365000.0, 300000.0, 300000.0, 420000.0, 1500000.0, 374000.0, 367250.0, 375000.0, 298800.0, 304200.0, 325000.0, 450000.0, 320000.0, 300000.0, 400000.0, 410000.0, 800000.0, 375000.0, 400000.0, 1200000.0, 422550.0, 300000.0, 300000.0, 390000.0, 310000.0, 575000.0, 500000.0, 350000.0, 301959.0, 300000.0, 294956.0, 296000.0, 335000.0, 400000.0, 300000.0, 320000.0, 325000.0, 295000.0, 360000.0, 325000.0, 300000.0, 380000.0, 350000.0, 312000.0, 390000.0, 384186.74, 400000.0, 6998721.0, 385000.0, 1250000.0, 360000.0, 400000.0, 390000.0, 340000.0, 288916.91, 300000.0, 650000.0, 317000.0, 298000.0, 350000.0, 300000.0, 420000.0, 375000.0, 389500.0, 295000.0, 300000.0, 350000.0, 350000.0, 350000.0, 450000.0, 435000.0, 330000.0, 1400000.0, 484000.0, 300000.0, 298000.0, 350000.0, 320000.0, 300000.0, 485000.0, 550000.0, 455593.0, 425000.0, 900000.0, 330000.0, 951000.0, 400000.0, 420000.0, 320000.0, 450000.0, 350000.0, 400000.0, 300000.0, 450000.0, 550000.0, 300000.0, 480000.0, 500000.0, 360000.0, 300000.0, 300683.0, 300000.0, 295556.8, 300000.0, 300000.0, 300000.0, 375000.0, 985000.0, 310000.0, 350000.0, 600000.0, 450000.0, 320000.0, 300000.0, 800000.0, 325000.0, 300000.0, 300000.0, 325000.0, 400000.0, 380000.0, 320000.0, 480000.0, 522000.0, 293000.0, 450000.0, 750000.0, 475000.0, 295000.0, 404000.0, 360000.0, 350000.0, 300000.0, 520000.0, 300000.0, 485000.0, 320000.0, 500000.0, 350000.0, 486441.0, 325000.0, 289000.0, 295000.0, 450000.0, 304000.0, 320000.0, 295000.0, 370000.0, 300000.0, 350000.0, 480000.0, 331000.0, 675000.0, 400000.0, 340000.0, 348300.0, 350000.0, 580000.0, 300000.0, 415000.0, 350000.0, 300000.0, 667000.0, 300000.0, 300000.0, 310000.0, 750000.0, 500000.0, 420000.0, 350000.0, 300000.0, 300000.0, 550000.0, 295000.0, 750000.0, 5604824.0, 550000.0, 700000.0, 480000.0, 300000.0, 325000.0, 300000.0, 300000.0, 500000.0, 350000.0, 1488000.0, 400000.0, 300000.0, 370000.0, 650000.0, 450000.0, 400000.0, 392607.0, 320000.0, 350000.0, 482916.0, 300000.0, 290000.0, 475000.0, 300000.0, 450000.0, 450000.0, 400000.0, 469000.0, 321316.0, 360000.0, 380000.0, 300000.0, 345000.0, 300000.0, 440000.0, 385000.0, 298000.0, 300000.0, 360000.0, 300000.0, 300000.0, 300000.0, 289000.0, 310000.0, 296000.0, 650000.0, 480000.0, 300000.0, 300000.0, 290000.0, 400000.0, 350000.0, 375000.0, 300000.0, 1000000.0, 360000.0, 450000.0, 340000.0, 343738.0, 350000.0, 950000.0, 290000.0, 1000000.0, 425000.0, 4860012.0, 302000.0, 300000.0, 360000.0, 685000.0, 400000.0, 600000.0, 303000.0, 400000.0, 475000.0, 340000.0, 300000.0, 310000.0, 498565.0, 500000.0, 1000000.0, 360000.0, 300000.0, 450000.0, 500000.0, 350000.0, 650000.0, 300000.0, 375000.0, 600000.0, 700000.0, 340000.0, 500000.0, 311000.0, 900000.0, 1000000.0, 318000.0, 350000.0, 300000.0, 300000.0, 350000.0, 300000.0, 400000.0, 300000.0, 385000.0, 580000.0, 450000.0, 310000.0, 300000.0, 550000.0, 335000.0, 450000.0, 300000.0, 350000.0, 300000.0, 300000.0, 300000.0, 300300.0, 500000.0, 350000.0, 330000.0, 357000.0, 425000.0, 300000.0, 375000.0, 340000.0, 900000.0, 300000.0, 475000.0, 300000.0, 350000.0, 700000.0, 400000.0, 600000.0, 356000.0, 300000.0, 550000.0, 300000.0, 500000.0, 350000.0, 300000.0, 300000.0, 385000.0, 1100000.0, 300000.0, 400000.0, 350000.0, 325000.0, 350000.0, 300000.0, 480000.0, 310000.0, 430000.0, 359564.0, 320000.0, 350000.0, 300000.0, 350000.0, 450000.0, 300000.0, 350000.0, 500000.0, 350000.0, 338300.0, 310000.0, 400000.0, 450000.0, 400000.0, 305000.0, 510000.0, 450000.0, 800000.0, 340000.0, 300000.0, 300000.0, 290000.0, 850000.0, 350000.0, 550000.0, 289900.0, 350000.0, 380000.0, 600000.0, 900000.0, 330000.0, 352000.0, 450000.0, 300000.0, 350000.0, 288000.0, 500000.0, 350000.0, 450000.0, 350000.0, 300000.0, 450000.0, 390000.0, 300000.0, 300000.0, 350000.0, 350000.0, 450000.0, 380000.0, 530000.0, 500000.0, 900000.0, 350000.0, 350000.0, 298000.0, 300000.0, 300000.0, 300000.0, 350000.0, 400000.0, 300000.0, 350000.0, 330000.0, 350000.0, 300000.0, 300000.0, 325000.0, 455000.0, 300000.0, 750000.0, 505000.0, 500000.0, 295000.0, 750000.0, 650000.0, 300000.0, 450000.0, 900000.0, 287500.0, 340000.0, 345000.0, 425000.0, 510000.0, 780000.0, 425000.0, 293750.0, 600000.0, 340000.0, 320000.0, 385000.0, 980000.0, 391000.0, 295000.0, 302000.0, 300000.0, 400000.0, 300000.0, 400000.0, 377000.0, 340000.0, 307780.0, 300000.0, 300000.0, 300000.0, 400000.0, 315000.0, 324000.0, 506350.0, 400000.0, 305000.0, 350000.0, 400000.0, 1350000.0, 300000.0, 648000.0, 315000.0, 400000.0, 420000.0, 350000.0, 350000.0, 350000.0, 400000.0, 425000.0, 300000.0, 600000.0, 295000.0, 330000.0, 332482.0, 450000.0, 539000.0, 300000.0, 450000.0, 300000.0, 1000000.0, 672658.0, 600000.0, 470000.0, 438000.0, 340000.0, 300000.0, 340000.0, 1500000.0, 500000.0, 300000.0, 300000.0, 920000.0, 300000.0, 350000.0, 415000.0, 340000.0, 320000.0, 350000.0, 400000.0, 350000.0, 304000.0, 1200000.0, 750000.0, 320000.0, 300000.0, 500000.0, 300000.0, 310000.0, 675000.0, 550000.0, 400000.0, 1100000.0, 300000.0, 300000.0, 293000.0, 300000.0, 450000.0, 300000.0, 950000.0, 500000.0, 300000.0, 300000.0, 1000000.0, 400000.0, 425000.0, 290000.0, 448447.0, 400000.0, 300000.0, 293000.0, 294000.0, 800000.0, 400000.0, 375000.0, 422000.0, 560000.0, 340000.0, 505000.0, 350000.0, 650000.0, 300000.0, 300000.0, 400000.0, 320000.0, 300000.0, 350000.0, 300000.0, 800000.0, 375000.0, 300000.0, 340000.0, 350000.0, 300000.0, 450000.0, 320000.0, 375000.0, 300000.0, 400000.0, 750000.0, 300000.0, 305000.0, 700000.0, 300000.0, 303000.0, 342500.0, 300000.0, 300000.0, 300000.0, 320000.0, 400000.0, 420000.0, 350000.0, 330000.0, 300000.0, 400000.0, 294500.0, 650000.0, 380000.0, 400000.0, 500000.0, 300000.0, 400000.0, 480000.0, 350000.0, 313000.0, 300000.0, 500000.0, 300000.0, 550000.0, 320000.0, 300000.0, 900000.0, 300000.0, 352000.0, 350000.0, 600000.0, 350000.0, 290000.0, 350000.0, 480000.0, 350000.0, 700000.0, 1950000.0, 900000.0, 380000.0, 1250000.0, 400000.0, 360000.0, 400000.0, 350000.0, 350000.0, 600000.0, 300000.0, 380000.0, 300000.0, 335000.0, 566000.0, 350000.0, 450000.0, 350000.0, 417000.0, 415000.0, 375000.0, 600000.0, 400000.0, 300000.0, 305000.0, 600000.0, 400000.0, 400000.0, 290260.0, 350000.0, 400000.0, 480000.0, 420000.0, 325000.0, 300000.0, 343350.0, 300000.0, 600000.0, 325000.0, 460000.0, 665000.0, 300000.0, 300000.0, 350000.0, 450000.0, 425000.0, 350000.0, 500000.0, 400000.0, 1084773.0, 335000.0, 425000.0, 325000.0, 300000.0, 600000.0, 500000.0, 650000.0, 850000.0, 350000.0, 335000.0, 290000.0, 360000.0, 325000.0, 340000.0, 325000.0, 500000.0, 400000.0, 328000.0, 290000.0, 400000.0, 520000.0, 400000.0, 410000.0, 290000.0, 320000.0, 289000.0, 424000.0, 500000.0, 400000.0, 325000.0, 360000.0, 485000.0, 350000.0, 427000.0, 300000.0, 460000.0, 350000.0, 372000.0, 600000.0, 380000.0, 300000.0, 412000.0, 295000.0, 320000.0, 650000.0, 290000.0, 650000.0, 300000.0, 625000.0, 299000.0, 324388.0, 325000.0, 290000.0, 1100000.0, 350000.0, 289000.0, 565000.0, 500000.0, 360000.0, 355000.0, 430000.0, 315000.0, 300000.0, 300000.0, 480000.0, 320000.0, 450000.0, 700000.0, 311416.0, 300000.0, 960000.0, 480000.0, 325000.0, 380000.0, 1100000.0, 300000.0, 500000.0, 500000.0, 305000.0, 350000.0, 287000.0, 290000.0, 302032.0, 999999.0, 300000.0, 750000.0, 335000.0, 330000.0, 700000.0, 375000.0, 400000.0, 450000.0, 325000.0, 375000.0, 287000.0, 415000.0, 300000.0, 470000.0, 550000.0, 300000.0, 480000.0, 450000.0, 1100000.0, 550000.0, 450000.0, 301860.0, 300000.0, 383000.0, 412000.0, 360000.0, 300000.0, 395000.0, 325000.0, 300000.0, 310000.0, 300000.0, 1050000.0, 4900000.0, 450000.0, 315000.0, 340000.0, 345000.0, 350000.0, 300000.0, 400000.0, 500000.0, 385000.0, 300000.0, 413580.0, 495000.0, 500000.0, 322000.0, 340000.0, 325000.0, 395000.0, 300000.0, 300000.0, 325000.0, 300000.0, 450000.0, 350000.0, 350000.0, 325000.0, 850000.0, 350000.0, 850000.0, 450000.0, 450000.0, 300000.0, 500000.0, 1200000.0, 405000.0, 500000.0, 325000.0, 375000.0, 401749.0, 330000.0, 400000.0, 600000.0, 384000.0, 300000.0, 400000.0, 300000.0, 350000.0, 550000.0, 340000.0, 325000.0, 300000.0, 300000.0, 400000.0, 310000.0, 400000.0, 300000.0, 300000.0, 400000.0, 980000.0, 300000.0, 660000.0, 350000.0, 355000.0, 337000.0, 350000.0, 360000.0, 397562.0, 362000.0, 450000.0, 310000.0, 400000.0, 350000.0, 606000.0, 430000.0, 300000.0, 300000.0, 435000.0, 298000.0, 300000.0, 450000.0, 300000.0, 325000.0, 320000.0, 490000.0, 518700.0, 325000.0, 360000.0, 360000.0, 372000.0, 300000.0, 570000.0, 515000.0, 300000.0, 525000.0, 300000.0, 408500.0, 300000.0, 302000.0, 372000.0, 750000.0, 850000.0, 485000.0, 300000.0, 480000.0, 290000.0, 300000.0, 300000.0, 325000.0, 450000.0, 370000.0, 410000.0, 300000.0, 400000.0, 750000.0, 750000.0, 360000.0, 500000.0, 334000.0, 698000.0, 300000.0, 500000.0, 300000.0, 300000.0, 765000.0, 350000.0, 726000.0, 350000.0, 325000.0, 7500000.0, 500000.0, 350000.0, 950000.0, 800000.0, 300000.0, 500000.0, 340000.0, 450000.0, 302205.0, 375000.0, 305000.0, 300000.0, 360000.0, 300000.0, 310000.0, 350000.0, 385000.0, 320000.0, 423000.0, 831000.0, 300000.0, 300000.0, 300000.0, 290000.0, 350000.0, 550000.0, 370000.0, 375000.0, 310000.0, 375000.0, 300000.0, 360000.0, 300000.0, 300000.0, 350000.0, 302500.0, 300000.0, 400000.0, 460000.0, 325000.0, 350000.0, 300000.0, 500000.0, 500000.0, 550000.0, 1254000.0, 500000.0, 315000.0, 430000.0, 340000.0, 310942.0, 300000.0, 410000.0, 450000.0, 390000.0, 290000.0, 700000.0, 319668.0, 305000.0, 288000.0, 400000.0, 300000.0, 870000.0, 600000.0, 470000.0, 320000.0, 430000.0, 800000.0, 292000.0, 340000.0, 400000.0, 487000.0, 300000.0, 852000.0, 335000.0, 2000000.0, 300000.0, 295000.0, 300000.0, 310000.0, 350000.0, 300000.0, 550000.0, 300000.0, 350000.0, 320000.0, 305362.0, 350000.0, 600000.0, 320000.0, 350000.0, 400000.0, 350000.0, 300000.0, 420000.0, 395000.0, 475055.0, 310000.0, 300000.0, 550000.0, 320000.0, 320000.0, 350000.0, 300000.0, 400000.0, 450000.0, 425000.0, 400000.0, 400000.0, 300000.0, 305000.0, 300000.0, 450000.0, 300000.0, 345000.0, 531000.0, 380000.0, 350000.0, 500000.0, 360000.0, 450000.0, 405000.0, 355000.0, 850000.0, 412000.0, 350000.0, 384000.0, 484000.0, 320000.0, 340000.0, 300000.0, 380000.0, 310000.0, 1600000.0, 328600.0, 300000.0, 625000.0, 300000.0, 305000.0, 698000.0, 350000.0, 350000.0, 350000.0, 420000.0, 520000.0, 360000.0, 300000.0, 309600.0, 350000.0, 350000.0, 340000.0, 500000.0, 320000.0, 305000.0, 300000.0, 720000.0, 350000.0, 515000.0, 400000.0, 340000.0, 380000.0, 700000.0, 455000.0, 370000.0, 300000.0, 420000.0, 400000.0, 420000.0, 430000.0, 500000.0, 375000.0, 550000.0, 300000.0, 375000.0, 300000.0, 400000.0, 420000.0, 467000.0, 300000.0, 320000.0, 370000.0, 360000.0, 1100000.0, 350000.0, 500000.0, 375000.0, 350000.0, 320000.0, 300000.0, 370000.0, 300000.0, 375000.0, 305000.0, 300000.0, 300000.0, 350000.0, 335000.0, 700000.0, 450000.0, 375000.0, 500000.0, 375000.0, 530000.0, 325000.0, 405000.0, 300000.0, 295000.0, 400000.0, 345000.0, 360000.0, 850000.0, 342000.0, 600000.0, 400000.0, 300000.0, 400000.0, 450000.0, 300000.0, 396850.0, 470000.0, 600000.0, 380000.0, 300000.0, 300000.0, 546000.0, 380000.0, 700000.0, 400000.0, 296000.0, 500000.0, 500000.0, 305000.0, 325000.0, 450000.0, 400000.0, 410000.0, 300000.0, 400000.0, 315000.0, 600000.0, 475000.0, 1036000.0, 300000.0, 325000.0, 500000.0, 425000.0, 300000.0, 550000.0, 290000.0, 500000.0, 416000.0, 520000.0, 305000.0, 350000.0, 360000.0, 375000.0, 293000.0, 515000.0, 305000.0, 325000.0, 400000.0, 375000.0, 360000.0, 300000.0, 524500.0, 390000.0, 550000.0, 290000.0, 300000.0, 375000.0, 560000.0, 303000.0, 300000.0, 750000.0, 400000.0, 425000.0, 1100000.0, 600000.0, 340000.0, 425000.0, 367000.0, 450000.0, 600000.0, 310000.0, 850000.0, 295000.0, 300000.0, 300000.0, 350000.0, 288000.0, 499992.0, 300000.0, 500000.0, 490000.0, 400000.0, 300000.0, 300000.0, 298000.0, 576000.0, 500000.0, 300000.0, 400000.0, 350000.0, 300000.0, 400000.0, 300000.0, 343000.0, 400000.0, 330000.0, 335000.0, 400000.0, 450000.0, 320000.0, 360000.0, 300000.0, 439868.0, 650000.0, 339000.0, 350000.0, 300000.0, 500000.0, 300000.0, 350000.0, 332000.0, 300000.0, 310000.0, 350000.0, 400000.0, 500000.0, 450000.0, 500000.0, 300000.0, 300000.0, 375000.0, 750000.0, 300000.0, 305000.0, 400000.0, 350000.0, 300000.0, 335000.0, 444569.0, 390000.0, 315000.0, 300000.0, 400000.0, 450000.0, 336000.0, 325000.0, 330000.0, 340000.0, 400000.0, 350000.0, 350000.0, 300000.0, 317625.0, 300000.0, 300000.0, 350000.0, 340000.0, 720565.0, 400000.0, 461000.0, 500000.0, 330000.0, 300000.0, 312000.0, 300000.0, 700000.0, 500000.0, 400000.0, 725000.0, 710000.0, 600000.0, 330000.0, 300000.0, 300000.0, 755000.0, 400000.0, 300000.0, 410000.0, 300000.0, 450000.0, 300000.0, 300000.0, 300000.0, 325000.0, 600000.0, 325000.0, 300000.0, 450000.0, 700000.0, 325000.0, 480000.0, 473335.0, 315000.0, 303000.0, 991000.0, 375000.0, 350000.0, 290000.0, 298000.0, 400000.0, 350000.0, 400000.0, 325000.0, 300000.0, 330000.0, 300544.8, 395000.0, 400000.0, 300000.0, 400000.0, 900000.0, 530000.0, 375000.0, 525000.0, 300000.0, 425000.0, 442000.0, 300000.0, 300000.0, 355000.0, 450000.0, 320000.0, 425000.0, 485000.0, 430000.0, 300000.0, 400000.0, 300000.0, 349000.0, 304000.0, 425000.0, 288500.0, 600000.0, 675000.0, 650000.0, 320000.0, 500000.0, 515000.0, 442000.0, 290000.0, 419000.0, 325000.0, 300000.0, 300000.0, 350000.0, 333000.0, 300000.0, 344000.0, 290000.0, 300000.0, 500000.0, 400000.0, 595489.1, 320000.0, 675000.0, 475000.0, 400000.0, 300000.0, 515000.0, 410000.0, 455438.0, 430000.0, 302400.0, 300000.0, 300000.0, 300000.0, 300000.0, 300000.0, 357384.75, 398000.0, 295000.0, 418000.0, 300000.0, 390000.0, 550000.0, 342000.0, 340000.0, 500000.0, 1100000.0, 325000.0, 750000.0, 300000.0, 475000.0, 300000.0, 325000.0, 320000.0, 350000.0, 300000.0, 350000.0, 298000.0, 300000.0, 305000.0, 309000.0, 505000.0, 315000.0, 384000.0, 500000.0, 324037.0, 317480.0, 300000.0, 425000.0, 400000.0, 375000.0, 430000.0, 600000.0, 300000.0, 300000.0, 400000.0, 400000.0, 300000.0, 300000.0, 345000.0, 500000.0, 370955.0, 290000.0, 300000.0, 296000.0, 350000.0, 300000.0, 760000.0, 535000.0, 475000.0, 300000.0, 350000.0, 300000.0, 400000.0, 370000.0, 320000.0, 340000.0, 290000.0, 443000.0, 300000.0, 450000.0, 1300000.0, 395375.0, 300000.0, 315000.0, 354000.0, 290000.0, 450000.0, 300000.0, 298000.0, 375000.0, 302000.0, 636000.0, 350000.0, 400000.0, 300000.0, 325000.0, 350000.0, 380000.0, 475000.0, 360000.0, 800000.0, 400000.0, 350000.0, 300000.0, 347775.0, 300000.0, 400000.0, 306000.0, 310000.0, 300000.0, 300000.0, 300000.0, 330000.0, 475000.0, 325000.0, 545000.0, 450000.0, 960000.0, 648000.0, 295000.0, 400000.0, 300000.0, 300000.0, 350000.0, 300000.0, 325000.0, 320000.0, 300000.0, 400000.0, 300000.0, 300000.0, 317018.0, 400000.0, 290000.0, 420000.0, 392200.0, 425000.0, 450000.0, 300000.0, 355000.0, 350000.0, 315000.0, 390000.0, 400000.0, 325000.0, 300000.0, 735000.0, 500000.0, 411996.0, 609000.0, 480000.0, 300000.0, 500000.0, 300000.0, 425000.0, 452100.0, 289000.0, 315000.0, 303000.0, 300000.0, 310000.0, 300000.0, 400000.0, 500000.0, 300000.0, 800000.0, 380000.0, 300000.0, 315000.0, 300000.0, 300000.0, 300000.0, 317000.0, 375000.0, 300000.0, 300000.0, 306000.0, 350000.0, 311000.0, 475000.0, 377000.0, 396000.0, 350000.0, 450000.0, 375000.0, 320000.0, 350000.0, 400000.0, 365000.0, 320000.0, 437000.0, 299500.0, 310000.0, 340000.0, 350000.0, 305000.0, 998000.0, 290000.0, 569000.0, 468000.0, 350000.0, 400000.0, 500000.0, 325000.0, 300000.0, 300000.0, 800000.0, 450000.0, 350000.0, 410000.0, 292000.0, 300000.0, 385000.0, 450000.0, 330000.0, 540000.0, 450000.0, 325000.0, 350000.0, 350000.0, 500000.0, 300000.0, 355000.0, 350000.0, 850000.0, 300000.0, 400000.0, 425000.0, 350000.0, 292400.0, 1400000.0, 598000.0, 600000.0, 300000.0, 500000.0, 315000.0, 311000.0, 450000.0, 300000.0, 350000.0, 450000.0, 303971.0, 400000.0, 350000.0, 310000.0, 344000.0, 600000.0, 383000.0, 300000.0, 380000.0, 320000.0, 300000.0, 350000.0, 310000.0, 500000.0, 350000.0, 450000.0, 500000.0, 312203.0, 800000.0, 300000.0, 480000.0, 300000.0, 600000.0, 360000.0, 300000.0, 300000.0, 292000.0, 400000.0, 540000.0, 350000.0, 325000.0, 320000.0, 7446395.0, 475000.0, 325000.0, 375000.0, 300000.0, 300000.0, 342500.0, 405000.0, 600000.0, 350000.0, 350000.0, 325000.0, 292660.0, 286800.0, 300000.0, 400000.0, 340000.0, 350000.0, 440000.0, 300000.0, 900000.0, 450000.0, 520000.0, 350000.0, 300000.0, 399000.0, 310000.0, 350000.0, 300000.0, 550000.0, 290700.0, 300000.0, 300000.0, 300000.0, 340000.0, 295000.0, 360000.0, 650000.0, 302000.0, 450000.0, 330000.0, 320000.0, 300000.0, 330000.0, 350000.0, 350000.0, 920000.0, 500000.0, 325000.0, 360000.0, 435000.0, 525000.0, 449000.0, 460000.0, 350000.0, 460443.0, 320000.0, 300000.0, 2000000.0, 299000.0, 675000.0, 400000.0, 300000.0, 290000.0, 330000.0, 399000.0, 300000.0, 415000.0, 897000.0, 400000.0, 296144.0, 550000.0, 290000.0, 375000.0, 320000.0, 480000.0, 650000.0, 350000.0, 850000.0, 332500.0, 435828.0, 350000.0, 300000.0, 300000.0, 450000.0, 704000.0, 358000.0, 300000.0, 400000.0, 340000.0, 302000.0, 320000.0, 405000.0, 660000.0, 750000.0, 520000.0, 1100000.0, 400000.0, 350000.0, 320000.0, 354000.0, 542000.0, 450000.0, 378000.0, 740000.0, 550000.0, 425000.0, 425000.0, 305000.0, 300000.0, 800000.0, 407816.0, 400000.0, 350000.0, 375000.0, 300000.0, 600000.0, 307000.0, 500000.0, 325000.0, 375000.0, 500000.0, 2000000.0, 875000.0, 300000.0, 300000.0, 385000.0, 324000.0, 2300000.0, 400000.0, 300000.0, 480000.0, 720000.0, 400000.0, 450000.0, 450000.0, 350000.0, 400000.0, 389000.0, 360000.0, 580000.0, 3000000.0, 301000.0, 350000.0, 475000.0, 500000.0, 350000.0, 300000.0, 350000.0, 360000.0, 300000.0, 300000.0, 370000.0, 300000.0, 310000.0, 600000.0, 375000.0, 800000.0, 460000.0, 410000.0, 325000.0, 440000.0, 1300000.0, 700000.0, 300000.0, 400000.0, 850000.0, 400000.0, 500000.0, 297000.0, 380000.0, 525000.0, 750003.0, 368000.0, 320997.0, 475000.0, 327542.0, 300000.0, 909500.0, 970000.0, 288000.0, 350000.0, 292000.0, 980000.0, 500000.0, 456000.0, 325000.0, 360000.0, 900000.0, 287000.0, 360000.0, 290000.0, 550000.0, 287000.0, 529068.0, 400000.0, 320000.0, 320000.0, 734000.0, 384000.0, 300000.0, 360000.0, 300000.0, 1104000.0, 300000.0, 374000.0, 3098500.0, 350000.0, 4260016.0, 9300000.0, 580000.0, 350000.0, 397500.0, 790000.0, 400000.0, 315000.0, 415000.0, 405000.0, 375840.0, 1250000.0, 550000.0, 677160.0, 300000.0, 350000.0, 2000000.0, 450000.0, 350720.0, 300000.0, 350000.0, 355000.0, 400000.0, 1400000.0, 395000.0, 850000.0, 540000.0, 516600.0, 384000.0, 1020000.0, 1020000.0, 420000.0, 800000.0, 744000.0, 340000.0, 1200000.0, 500000.0, 515830.0, 1008000.0, 300000.0, 350000.0, 350000.0, 375000.0, 350000.0, 350688.0, 450000.0, 348000.0, 450000.0, 624000.0, 350000.0, 400000.0, 390000.0, 1080000.0, 300000.0, 500000.0, 750000.0, 500000.0, 500000.0, 290000.0, 416000.0, 300000.0, 850000.0, 288000.0, 330000.0, 308500.0, 1260000.0, 300000.0, 750000.0, 360000.0, 400000.0, 300000.0, 307000.0, 800000.0, 300000.0, 600000.0, 600000.0, 345000.0, 1020000.0, 675000.0, 1320000.0, 1100000.0, 325000.0, 400000.0, 350000.0, 305000.0, 325000.0, 1020000.0, 1150000.0, 328000.0, 361000.0, 391000.0, 300000.0, 350000.0, 385000.0, 341690.0, 310000.0, 400000.0, 575000.0, 600000.0, 293000.0, 350000.0, 450000.0, 500000.0, 310000.0, 430000.0, 350000.0, 350000.0, 300000.0, 300000.0, 306118.0, 325000.0, 330000.0, 550000.0, 350000.0, 303760.0, 411000.0, 350000.0, 295000.0, 328000.0, 353000.0, 350000.0, 400000.0, 288000.0, 1220000.0, 326000.0, 300000.0, 797000.0, 1000000.0, 350000.0, 300000.0, 320000.0, 300000.0, 350000.0, 380000.0, 301000.0, 290000.0, 390000.0, 350000.0, 388000.0, 650000.0, 327843.0, 621000.0, 300000.0, 700000.0, 320000.0, 720000.0, 290000.0, 300000.0, 500000.0, 312000.0, 300000.0, 325000.0, 460000.0, 380000.0, 575000.0, 332000.0, 816000.0, 301000.0, 360000.0, 575000.0, 525000.0, 300000.0, 365000.0, 550000.0, 325000.0, 350000.0, 300000.0, 408000.0, 400000.0, 300000.0, 300000.0, 300000.0, 290000.0, 400000.0, 480000.0, 300000.0, 320000.0, 294000.0, 290000.0, 725000.0, 500000.0, 300000.0, 357000.0, 385000.0, 400000.0, 400000.0, 360000.0, 400000.0, 414996.0, 300000.0, 340000.0, 368000.0, 300000.0, 305000.0, 291996.0, 350000.0, 395000.0, 1782000.0, 543000.0, 900000.0, 750000.0, 350000.0, 300000.0, 305000.0, 400000.0, 300000.0, 350000.0, 300000.0, 320000.0, 300000.0, 480000.0, 370008.0, 300000.0, 315600.0, 315000.0, 350000.0, 336000.0, 1250000.0, 300000.0, 372000.0, 650000.0, 310000.0, 340000.0, 300000.0, 340000.0, 300000.0, 290000.0, 325000.0, 750000.0, 399996.0, 300000.0, 300000.0, 381450.0, 370000.0, 350000.0, 320000.0, 487000.0, 324996.0, 300000.0, 648000.0, 390000.0, 300000.0, 350000.0, 470000.0, 350000.0, 300000.0, 300000.0, 360000.0, 410000.0, 305000.0, 325000.0, 302000.0, 360000.0, 450000.0, 300000.0, 300000.0, 300000.0, 400000.0, 300000.0, 300000.0, 336000.0, 300000.0, 552000.0, 360000.0, 300000.0, 290000.0, 430000.0, 334000.0, 480000.0, 330000.0, 500000.0, 300000.0, 780000.0, 500000.0, 948000.0, 1200000.0, 325000.0, 300000.0, 408000.0, 290000.0, 304800.0, 350000.0, 445000.0, 300000.0, 300000.0, 325000.0, 828000.0, 330000.0, 1900000.0, 1200000.0, 360000.0, 550000.0, 590000.0, 576000.0, 667680.0, 756000.0, 564000.0, 648000.0, 329000.0, 889000.0, 550000.0, 780000.0, 1200000.0, 900000.0, 400000.0, 304000.0, 290000.0, 780000.0, 528000.0, 700053.85, 350000.0, 366000.0, 1176000.0, 300000.0, 300000.0, 300000.0, 720000.0, 300000.0, 480000.0, 1080000.0, 540000.0, 300000.0, 3900000.0, 351699.96, 358680.0, 741600.0, 840000.0, 6000000.0, 660000.0, 316800.0, 306000.0, 415000.0, 648000.0, 612000.0, 334000.0, 504000.0, 320000.0, 306000.0, 305000.0, 500000.0, 425000.0, 800000.0, 300000.0, 340000.0, 300000.0, 600000.0, 510000.0, 420000.0, 300000.0, 287000.0, 325000.0, 384000.0, 600000.0, 636000.0, 307000.0, 294000.0, 1200000.0, 780000.0, 444000.0, 762000.0, 708000.0, 371000.0, 1440000.0, 313000.0, 900000.0, 900000.0, 1362000.0, 348000.0, 720000.0, 480000.0, 360000.0, 780000.0, 700000.0, 300000.0, 322400.0, 450000.0, 300000.0, 300000.0, 300000.0, 300000.0, 600000.0, 700000.0, 300000.0, 315000.0, 390000.0, 350000.0, 500000.0, 2039784.0, 572400.0, 375000.0, 522000.0, 616000.0, 480000.0, 650000.0, 380000.0, 287000.0, 781000.0, 350000.0, 400000.0, 330000.0, 312000.0, 300000.0, 400000.0, 3100000.0, 325000.0, 510000.0, 460000.0, 550000.0, 375000.0, 380000.0, 380000.0, 350000.0, 295000.0, 360000.0, 650000.0, 290000.0, 300000.0, 350000.0, 320000.0, 450004.0, 300000.0, 350000.0, 1100000.0, 370000.0, 300000.0, 400000.0, 376000.0, 290000.0, 450000.0, 360000.0, 488888.0, 325000.0, 300000.0, 310000.0, 800000.0, 300000.0, 365000.0, 300000.0, 386000.0, 375184.0, 400000.0, 320000.0, 335000.0, 300000.0, 400000.0, 300000.0, 1000000.0, 450000.0, 500000.0, 300000.0, 300000.0, 310000.0, 300000.0, 600000.0, 425000.0, 300000.0, 300000.0, 400000.0, 436000.0, 385000.0, 300000.0, 300000.0, 350000.0, 301600.0, 435000.0, 480000.0, 300000.0, 445000.0, 300000.0, 700000.0, 300000.0, 825000.0, 450000.0, 317000.0, 535000.0, 302500.0, 400000.0, 315000.0, 385000.0, 325000.0, 350000.0, 330000.0, 530000.0, 350000.0, 420000.0, 450000.0, 290000.0, 325000.0, 310000.0, 500000.0, 300000.0, 310000.0, 325000.0, 287765.0, 325000.0, 500000.0, 400000.0, 420000.0, 370410.0, 500000.0, 400000.0, 550000.0, 300000.0, 310000.0, 330000.0, 430000.0, 300000.0, 400000.0, 9522972.0, 300000.0, 330000.0, 475000.0, 300000.0, 357900.0, 600000.0, 290000.0, 337000.0, 400000.0, 325000.0, 500000.0, 375000.0, 387500.0, 420000.0, 369000.0, 325000.0, 350000.0, 350000.0, 425000.0, 500000.0, 300000.0, 339000.0, 430000.0, 550000.0, 360000.0, 329000.0, 1500000.0, 300000.0, 300000.0, 312000.0, 300000.0, 450000.0, 500000.0, 380000.0, 300000.0, 300000.0, 292320.0, 500000.0, 300000.0, 300000.0, 290000.0, 450000.0, 357410.0, 350000.0, 400000.0, 498000.0, 300000.0, 500000.0, 300000.0, 450000.0, 300000.0, 308000.0, 493000.0, 300000.0, 350000.0, 300000.0, 324000.0, 360000.0, 460000.0, 400000.0, 300000.0, 400000.0, 375000.0, 330000.0, 600000.0, 500000.0, 350000.0, 350000.0, 724458.0, 480000.0, 365000.0, 350000.0, 400000.0, 300000.0, 495000.0, 300000.0, 400000.0, 350000.0, 290000.0, 425000.0, 435000.0, 290000.0, 300000.0, 454000.0, 350000.0, 500000.0, 320000.0, 300000.0, 732000.0, 331000.0, 300000.0, 400000.0, 390000.0, 409000.0, 300000.0, 355000.0, 320000.0, 500000.0, 500000.0, 500000.0, 400000.0, 400000.0, 349000.0, 426000.0, 400000.0, 300000.0, 342000.0, 350000.0, 290000.0, 400000.0, 335000.0, 499000.0, 500000.0, 344000.0, 585000.0, 505000.0, 350000.0, 325000.0, 323500.0, 350000.0, 350000.0, 300000.0, 295000.0, 350000.0, 356000.0, 300000.0, 8300000.0, 290000.0, 370000.0, 1200000.0, 350000.0, 1200000.0, 350000.0, 398000.0, 400000.0, 400000.0, 530000.0, 290000.0, 350000.0, 415000.0, 300000.0, 305000.0, 360000.0, 308000.0, 350000.0, 290000.0, 300000.0, 420000.0, 575000.0, 305000.0, 410000.0, 335000.0, 375000.0, 400000.0, 300000.0, 325000.0, 360000.0, 300000.0, 400000.0, 385000.0, 550000.0, 330000.0, 300000.0, 600000.0, 720000.0, 500000.0, 300000.0, 300000.0, 310000.0, 292000.0, 300000.0, 514000.0, 350000.0, 350000.0, 300000.0, 425000.0, 300000.0, 380000.0, 586000.0, 350000.0, 320000.0, 1100000.0, 325000.0, 420000.0, 390000.0, 405000.0, 300000.0, 425000.0, 525000.0, 311208.0, 350000.0, 380000.0, 400000.0, 500000.0, 300000.0, 300000.0, 345000.0, 390000.0, 400000.0, 400000.0, 450000.0, 305000.0, 340000.0, 300002.0, 375000.0, 300000.0, 500000.0, 455000.0, 340000.0, 400000.0, 570000.0, 350000.0, 500000.0, 300000.0, 400000.0, 300000.0, 300000.0, 500000.0, 500000.0, 300000.0, 323000.0, 450000.0, 450000.0, 300000.0, 300000.0, 350000.0, 615000.0, 320000.0, 750000.0, 1500000.0, 930000.0, 446000.0, 295000.0, 300000.0, 289000.0, 350000.0, 290000.0, 350000.0, 320000.0, 300000.0, 310000.0, 300000.0, 400000.0, 297000.0, 430000.0, 982000.0, 412000.0, 350000.0, 326667.0, 350000.0, 325000.0, 295000.0, 425000.0, 381500.0, 450000.0, 380000.0, 1000000.0, 300000.0, 425000.0, 300000.0, 750000.0, 360000.0, 1000000.0, 392000.0, 376000.0, 340000.0, 409000.0, 328000.0, 325000.0, 450000.0, 400000.0, 360000.0, 320000.0, 360000.0, 350000.0, 568000.0, 335000.0, 500000.0, 450000.0, 300000.0, 350000.0, 377031.0, 325000.0, 295000.0, 300000.0, 302000.0, 500000.0, 360000.0, 380000.0, 330000.0, 550000.0, 300000.0, 330000.0, 320000.0, 333000.0, 340000.0, 350000.0, 350000.0, 750000.0, 345000.0, 360000.0, 350000.0, 375000.0, 350000.0, 300000.0, 500000.0, 300000.0, 300000.0, 400000.0, 500000.0, 324996.0, 400000.0, 290000.0, 300000.0, 300000.0, 400000.0, 300000.0, 300000.0, 336000.0, 600000.0, 425000.0, 900000.0, 550000.0, 340000.0, 400000.0, 450000.0, 306000.0, 490000.0, 300000.0, 800000.0, 300000.0, 990000.0, 300000.0, 370000.0, 350000.0, 398000.0, 305000.0, 300000.0, 400000.0, 424000.0, 465000.0, 325000.0, 345000.0, 424000.0, 300000.0, 365000.0, 500000.0, 300000.0, 760000.0, 300000.0, 400000.0, 400000.0, 1000000.0, 600000.0, 360000.0, 379000.0, 400000.0, 475000.0, 300000.0, 350000.0, 350000.0, 350000.0, 295000.0, 940000.0, 300000.0, 440000.0, 300000.0, 325000.0, 300000.0, 300000.0, 320000.0, 386107.0, 300000.0, 325000.0, 480000.0, 420000.0, 444000.0, 300000.0, 349847.0, 375000.0, 320000.0, 300000.0, 648000.0, 850000.0, 357000.0, 450000.0, 500000.0, 300000.0, 400000.0, 300000.0, 310000.0, 2000000.0, 322000.0, 375000.0, 700000.0, 432824.0, 290000.0, 322000.0, 390000.0, 300000.0, 350000.0, 400000.0, 325000.0, 300000.0, 932000.0, 350000.0, 300000.0, 290000.0, 400000.0, 500000.0, 290000.0, 430000.0, 438000.0, 330000.0, 300000.0, 400000.0, 300000.0, 335000.0, 300000.0, 300000.0, 700000.0, 300000.0, 850000.0, 295000.0, 300000.0, 360000.0, 385000.0, 350000.0, 290000.0, 550000.0, 300000.0, 950000.0, 300000.0, 550000.0, 350000.0, 400000.0, 750000.0, 312153.0, 325000.0, 320000.0, 1510000.0, 367000.0, 410000.0, 350000.0, 315000.0, 380000.0, 387706.0, 300000.0, 300000.0, 300000.0, 375000.0, 300000.0, 1000000.0, 343000.0, 300000.0, 494000.0, 300000.0, 350000.0, 300000.0, 440000.0, 300000.0, 300000.0, 300000.0, 340000.0, 350000.0, 350000.0, 290000.0, 320000.0, 319000.0, 300000.0, 308900.0, 350000.0, 600000.0, 300000.0, 300000.0, 450000.0, 300000.0, 310000.0, 520000.0, 550000.0, 500000.0, 330000.0, 600000.0, 300000.0, 500000.0, 400000.0, 335000.0, 300000.0, 348000.0, 504500.0, 330000.0, 325000.0, 300000.0, 325000.0, 300000.0, 500000.0, 368000.0, 300000.0, 325000.0, 324000.0, 400000.0, 300000.0, 350000.0, 400000.0, 399000.0, 450000.0, 400000.0, 400000.0, 300000.0, 313750.0, 300000.0, 300000.0, 300000.0, 855000.0, 400000.0, 550000.0, 475000.0, 294000.0, 500000.0, 400000.0, 410000.0, 300000.0, 350000.0, 330000.0, 350000.0, 350000.0, 440000.0, 292000.0, 290000.0, 350000.0, 480000.0, 420000.0, 289000.0, 292200.0, 325000.0, 500000.0, 525000.0, 300000.0, 320000.0, 300000.0, 300000.0, 600000.0, 400000.0, 825000.0, 300000.0, 350000.0, 300000.0, 325000.0, 300000.0, 300000.0, 500000.0, 450000.0, 340000.0, 600000.0, 350000.0, 485000.0, 298000.0, 288500.0, 700000.0, 400000.0, 300000.0, 344000.0, 350000.0, 320000.0, 311674.0, 330000.0, 299999.0, 398000.0, 327000.0, 289000.0, 300000.0, 400000.0, 291000.0, 560000.0, 300000.0, 300000.0, 600000.0, 288000.0, 290000.0, 315000.0, 300000.0, 330000.0, 300000.0, 600000.0, 350000.0, 552000.0, 300000.0, 300000.0, 500000.0, 360000.0, 400000.0, 449000.0, 310000.0, 375000.0, 350000.0, 355000.0, 300000.0, 550000.0, 340000.0, 400000.0, 420000.0, 710350.0, 294000.0, 320000.0, 350000.0, 400000.0, 300000.0, 400000.0, 789000.0, 390000.0, 422000.0, 600000.0, 322000.0, 400000.0, 500000.0, 315000.0, 300000.0, 650000.0, 312000.0, 300000.0, 300000.0, 300000.0, 300000.0, 330000.0, 500000.0, 650000.0, 300000.0, 355000.0, 425000.0, 400000.0, 315104.0, 450000.0, 320000.0, 414996.0, 750000.0, 350000.0, 325000.0, 324000.0, 298000.0, 365000.0, 360000.0, 412000.0, 330000.0, 337000.0, 350000.0, 298000.0, 560000.0, 326000.0, 300000.0, 750000.0, 300000.0, 328128.0, 350000.0, 301000.0, 375000.0, 290000.0, 350000.0, 375000.0, 288500.0, 372000.0, 830000.0, 1000000.0, 333000.0, 350000.0, 310000.0, 385000.0, 300000.0, 500000.0, 403200.0, 325000.0, 440000.0, 570000.0, 300000.0, 380000.0, 300000.0, 355000.0, 320000.0, 300000.0, 360000.0, 360000.0, 570000.0, 300000.0, 600000.0, 600000.0, 300000.0, 300000.0, 320000.0, 360000.0, 290000.0, 500000.0, 400000.0, 350272.0, 290000.0, 350000.0, 305000.0, 320000.0, 375000.0, 300000.0, 300000.0, 300000.0, 300000.0, 300000.0, 300000.0, 300000.0, 326000.0, 335000.0, 350000.0, 302000.0, 300000.0, 400000.0, 360000.0, 465580.0, 308656.0, 360000.0, 382971.41, 380000.0, 495000.0, 350000.0, 313950.0, 462370.8, 350000.0, 350000.0, 300000.0, 400000.0, 295000.0, 619000.0, 288000.0, 398736.0, 360000.0, 450000.0, 1300000.0, 300000.0, 500000.0, 291000.0, 380000.0, 300000.0, 1050000.0, 400000.0, 550000.0, 550000.0, 325000.0, 345000.0, 475000.0, 291000.0, 400000.0, 600000.0, 520000.0, 300000.0, 295000.0, 700000.0, 600000.0, 400000.0, 375000.0, 500000.0, 350000.0, 420000.0, 400000.0, 350000.0, 475000.0, 375000.0, 425000.0, 450000.0, 312000.0, 500000.0, 600000.0, 375372.0, 428000.0, 300000.0, 300000.0, 336000.0, 400000.0, 288750.0, 300000.0, 302000.0, 650000.0, 300000.0, 350000.0, 425000.0, 300000.0, 379000.0, 384000.0, 400000.0, 310000.0, 400000.0, 500000.0, 400000.0, 300000.0, 600000.0, 300000.0, 312000.0, 525000.0, 350000.0, 375000.0, 365000.0, 289000.0, 315000.0, 400000.0, 525000.0, 750000.0, 500000.0, 475000.0, 340000.0, 330000.0, 500000.0, 340000.0, 350000.0, 310000.0, 330000.0, 390000.0, 320000.0, 375000.0, 300000.0, 325000.0, 475000.0, 600000.0, 400000.0, 480000.0, 350000.0, 640000.0, 606000.0, 800000.0, 300000.0, 300000.0, 300000.0, 300000.0, 625000.0, 390000.0, 350000.0, 315000.0, 300000.0, 376200.0, 315000.0, 450000.0, 390000.0, 400000.0, 350000.0, 300000.0, 305000.0, 360000.0, 310000.0, 333000.0, 550000.0, 440000.0, 363400.0, 350000.0, 1200000.0, 385000.0, 300000.0, 350000.0, 300000.0, 320000.0, 290000.0, 320625.0, 748000.0, 1000000.0, 460000.0, 388000.0, 290000.0, 2000000.0, 574000.0, 650000.0, 750000.0, 290000.0, 400000.0, 290000.0, 6100000.0, 420000.0, 400000.0, 310000.0, 325000.0, 500009.0, 325000.0, 1200000.0, 320000.0, 520000.0, 450000.0, 400000.0, 340000.0, 900009.0, 500000.0, 400000.0, 300000.0, 300000.0, 729368.0, 350000.0, 900000.0, 890000.0, 300000.0, 310000.0, 325000.0, 325000.0, 337871.0, 525000.0, 354000.0, 450000.0, 950000.0, 1250000.0, 400000.0, 320000.0, 300000.0, 320000.0, 300000.0, 1350000.0, 800000.0, 500000.0, 325000.0, 600000.0, 7141778.0, 950000.0, 364000.0, 350000.0, 340000.0, 400000.0, 800000.0, 368718.0, 480000.0, 340000.0, 400000.0, 580000.0, 650000.0, 625345.18, 400000.0, 1200000.0, 300000.0, 325000.0, 870000.0, 472000.0, 340000.0, 5000000.0, 500000.0, 900000.0, 420000.0, 300000.0, 490000.0, 400000.0, 300000.0, 300000.0, 954285.0, 295000.0, 342135.0, 860000.0, 423956.0, 500000.0, 985000.0, 470000.0, 300000.0, 328300.0, 300000.0, 350000.0, 300000.0, 550000.0, 500000.0, 400000.0, 471000.0, 300000.0, 330000.0, 325000.0, 1250000.0, 1500000.0, 300000.0, 341517.0, 300000.0, 560000.0, 290000.0, 385000.0, 420000.0, 300000.0, 350000.0, 435000.0, 500000.0, 290000.0, 650000.0, 343000.0, 290000.0, 500000.0, 480000.0, 430000.0, 650000.0, 320000.0, 300000.0, 416000.0, 300000.0, 300000.0, 330000.0, 315000.0, 300000.0, 320000.0, 325000.0, 385000.0, 425000.0, 350000.0, 300000.0, 500000.0, 350000.0, 400000.0, 308000.0, 325000.0, 310000.0, 600000.0, 600000.0, 324000.0, 995000.0, 570000.0, 450000.0, 600000.0, 338000.0, 300000.0, 400000.0, 350000.0, 450000.0, 475000.0, 450000.0, 410450.0, 670000.0, 357000.0, 300000.0, 295000.0, 300000.0, 390000.0, 303000.0, 360000.0, 300000.0, 450000.0, 1200000.0, 456000.0, 650000.0, 845000.0, 345000.0, 530305.0, 320000.0, 840000.0, 375000.0, 500000.0, 300000.0, 400000.0, 300000.0, 365000.0, 450000.0, 308000.0, 320000.0, 290000.0, 447750.0, 300000.0, 340000.0, 325000.0, 315000.0, 310000.0, 360000.0, 450000.0, 300000.0, 333000.0, 300000.0, 350000.0, 325000.0, 450000.0, 630000.0, 300000.0, 320000.0, 540000.0, 438000.0, 300000.0, 500000.0, 352000.0, 500000.0, 700000.0, 296000.0, 305500.0, 450000.0, 330000.0, 385000.0, 300000.0, 340000.0, 300000.0, 350000.0, 550000.0, 350000.0, 345000.0, 400000.0, 300000.0, 300000.0, 600000.0, 300000.0, 350000.0, 1233000.0, 560000.0, 376000.0, 600000.0, 350000.0, 300000.0, 410000.0, 435000.0, 325000.0, 525000.0, 410000.0, 350000.0, 320000.0, 367000.0, 300000.0, 375000.0, 400000.0, 410000.0, 400000.0, 585000.0, 300000.0, 330000.0, 300000.0, 350000.0, 504000.0, 650000.0, 540000.0, 300000.0, 700000.0, 300000.0, 300000.0, 376000.0, 300000.0, 300000.0, 327000.0, 367000.0, 300000.0, 300000.0, 500000.0, 425000.0, 310000.0, 315000.0, 384000.0, 400000.0, 300000.0, 350000.0, 360000.0, 495000.0, 300000.0, 450000.0, 300000.0, 295000.0, 300000.0, 417000.0, 325000.0, 350000.0, 360000.0, 325000.0, 325000.0, 300000.0, 300000.0, 330000.0, 300000.0, 525000.0, 312000.0, 475000.0, 400000.0, 420000.0, 400000.0, 300000.0, 320400.0, 600000.0, 700000.0, 476000.0, 450000.0, 321000.0, 324000.0, 326000.0, 340000.0, 315000.0, 300000.0, 300000.0, 320000.0, 300000.0, 300000.0, 350000.0, 400000.0, 400000.0, 320000.0, 300000.0, 450000.0, 300000.0, 500000.0, 300000.0, 350000.0, 350000.0, 325000.0, 300000.0, 330000.0, 540000.0, 350000.0, 290000.0, 385000.0, 330000.0, 750000.0, 300000.0, 4200000.0, 408000.0, 380000.0, 335950.0, 290000.0, 375000.0, 540000.0, 352000.0, 360000.0, 1100000.0, 287000.0, 450000.0, 400000.0, 400000.0, 320000.0, 432000.0, 330000.0, 300000.0, 297000.0, 602724.0, 525000.0, 950000.0, 350000.0, 350000.0, 503000.0, 320000.0, 375000.0, 550000.0, 400000.0, 355000.0, 289000.0, 312000.0, 300000.0, 467000.0, 360000.0, 400000.0, 300000.0, 367500.0, 450000.0, 295000.0, 325000.0, 1500000.0, 852000.0, 450000.0, 300000.0, 300000.0, 325000.0, 300000.0, 456000.0, 310000.0, 360000.0, 672000.0, 350000.0, 300000.0, 350000.0, 320000.0, 550000.0, 329000.0, 400000.0, 384000.0, 400000.0, 324000.0, 300000.0, 312500.0, 350000.0, 300000.0, 325000.0, 650000.0, 410000.0, 330000.0, 450000.0, 360000.0, 425000.0, 500000.0, 350000.0, 780000.0, 307872.0, 290000.0, 350000.0, 360000.0, 360000.0, 650000.0, 500000.0, 340000.0, 350000.0, 323000.0, 298000.0, 460000.0, 350000.0, 450000.0, 350000.0, 646540.0, 350000.0, 1200000.0, 425000.0, 425000.0, 300000.0, 566600.0, 400000.0, 300000.0, 400000.0, 288000.0, 300000.0, 504000.0, 300000.0, 556000.0, 850000.0, 375000.0, 400000.0, 325000.0, 300000.0, 900000.0, 300000.0, 295000.0, 315000.0, 350000.0, 500000.0, 312000.0, 600000.0, 352000.0, 325000.0, 370000.0, 900000.0, 300000.0, 472000.0, 450000.0, 350000.0, 500000.0, 449000.0, 320000.0, 420000.0, 960000.0, 290000.0, 300000.0, 384000.0, 300000.0, 350000.0, 350000.0, 640000.0, 600000.0, 600000.0, 295000.0, 625000.0, 431000.0, 743160.0, 550000.0, 310000.0, 392289.0, 500000.0, 325000.0, 300000.0, 375000.0, 550000.0, 289000.0, 350000.0, 438000.0, 350000.0, 600000.0, 350000.0, 432000.0, 400000.0, 504000.0, 700000.0, 340000.0, 335000.0, 329000.0, 650000.0, 307000.0, 350000.0, 350000.0, 350000.0, 1200000.0, 435000.0, 300000.0, 400000.0, 320000.0, 600000.0, 420000.0, 900000.0, 575000.0, 1250000.0, 350000.0, 325000.0, 300000.0, 400000.0, 445000.0, 400000.0, 300000.0, 300000.0, 324000.0, 300000.0, 750000.0, 440000.0, 800000.0, 500000.0, 340000.0, 300000.0, 670800.0, 800000.0, 450000.0, 430000.0, 400000.0, 301000.0, 1000001.0, 300000.0, 338000.0, 435000.0, 600400.0, 350000.0, 500000.0, 355000.0, 668655.0, 450000.0, 325000.0, 380000.0, 300000.0, 500000.0, 1200000.0, 300000.0, 290000.0, 1116000.0, 300000.0, 362500.0, 400000.0, 300000.0, 330000.0, 828000.0, 300000.0, 400000.0, 775000.0, 433000.0, 300000.0, 415000.0, 1000000.0, 3500015.0, 310000.0, 300000.0, 335000.0, 360000.0, 300000.0, 450000.0, 400000.0, 340000.0, 310000.0, 429000.0, 580000.0, 450000.0, 456128.0, 360000.0, 600000.0, 380000.0, 350000.0, 375000.0, 2616000.0, 300000.0, 450000.0, 290000.0, 300000.0, 418000.0, 300000.0, 550000.0, 345000.0, 400000.0, 400000.0, 288000.0, 400000.0, 389000.0, 334000.0, 488000.0, 732000.0, 850000.0, 295000.0, 300000.0, 289000.0, 375000.0, 1010000.0, 624000.0, 500000.0, 8400000.0, 320000.0, 600000.0, 376000.0, 350000.0, 326000.0, 395000.0, 300000.0, 338196.0, 561600.0, 425000.0, 400000.0, 350000.0, 400000.0, 600000.0, 302000.0, 341000.0, 350000.0, 300000.0, 300000.0, 300000.0, 300000.0, 350000.0, 340000.0, 400000.0, 300000.0, 500000.0, 360000.0, 300000.0, 425000.0, 320000.0, 400000.0, 300000.0, 300000.0, 300000.0, 390000.0, 384000.0, 500000.0, 310000.0, 330000.0, 500000.0, 305000.0, 370000.0, 825000.0, 350000.0, 350000.0, 325000.0, 350000.0, 295000.0, 290000.0, 325000.0, 825000.0, 325000.0, 400000.0, 360000.0, 300000.0, 400000.0, 327495.0, 672000.0, 550000.0, 300000.0, 390000.0, 450000.0, 345000.0, 350000.0, 450000.0, 900000.0, 310000.0, 312600.0, 710000.0, 600000.0, 308751.0, 400000.0, 310000.0, 396000.0, 315108.0, 400000.0, 330000.0, 400000.0, 350000.0, 350000.0, 325000.0, 500000.0, 298000.0, 320000.0, 290000.0, 380000.0, 489000.0, 330000.0, 300000.0, 300000.0, 600000.0, 900000.0, 780000.0, 353000.0, 450000.0, 650000.0, 325000.0, 350000.0, 6693021.0, 300000.0, 335000.0, 630000.0, 350000.0, 290000.0, 300000.0, 432000.0, 500000.0, 300000.0, 450000.0, 300000.0, 500000.0, 450000.0, 400000.0, 303000.0, 295000.0, 365000.0, 380000.0, 600000.0, 480000.0, 425000.0, 600000.0, 288000.0, 1400000.0, 350000.0, 416250.0, 325000.0, 400000.0, 353000.0, 400000.0, 450000.0, 300000.0, 322000.0, 624000.0, 310000.0, 290000.0, 300000.0, 330000.0, 298500.0, 315000.0, 800000.0, 293000.0, 350000.0, 400000.0, 300000.0, 350000.0, 397000.0, 387000.0, 295000.0, 400000.0, 296000.0, 600000.0, 315000.0, 300000.0, 1200000.0, 350000.0, 350000.0, 350000.0, 900000.0, 900000.0, 300000.0, 416000.0, 1210612.0, 300000.0, 950000.0, 742800.0, 375000.0, 500000.0, 580000.0, 500000.0, 540000.0, 325000.0, 287500.0, 450000.0, 400000.0, 400000.0, 310000.0, 325000.0, 300000.0, 400000.0, 350000.0, 300000.0, 310000.0, 350000.0, 500000.0, 455000.0, 450000.0, 350000.0, 560000.0, 320000.0, 560000.0, 420000.0, 595000.0, 300000.0, 300000.0, 479500.0, 5408000.0, 500000.0, 450000.0, 325000.0, 440000.0, 400000.0, 350000.0, 950000.0, 300000.0, 435000.0, 315000.0, 520000.0, 335000.0, 430000.0, 400000.0, 350000.0, 570000.0, 350000.0, 400000.0, 375000.0, 295000.0, 600000.0, 450000.0, 290000.0, 700000.0, 340000.0, 500000.0, 400000.0, 400000.0, 312000.0, 614517.0, 400000.0, 1200000.0, 400000.0, 375000.0, 712000.0, 425000.0, 300000.0, 330000.0, 330000.0, 290000.0, 450000.0, 720000.0, 400000.0, 300000.0, 300000.0, 570000.0, 390000.0, 300000.0, 400000.0, 400000.0, 300000.0, 485000.0, 500000.0, 291000.0, 405000.0, 290000.0, 425000.0, 400000.0, 300000.0, 325000.0, 300000.0, 350000.0, 750000.0, 500000.0, 635000.0, 320000.0, 750000.0, 600000.0, 530000.0, 320000.0, 2416960.0, 360000.0, 550000.0, 400000.0, 330000.0, 300000.0, 409030.0, 1116000.0, 300000.0, 300000.0, 305000.0, 675000.0, 635000.0, 650000.0, 751000.0, 1200000.0, 360000.0, 950000.0, 550000.0, 350000.0, 300000.0, 300000.0, 310000.0, 300000.0, 350000.0, 325000.0, 650000.0, 305000.0, 290000.0, 380000.0, 350000.0, 400000.0, 400000.0, 500000.0, 381000.0, 387000.0, 561000.0, 650000.0, 330000.0, 1000000.0, 1400000.0, 350000.0, 450000.0, 460000.0, 300000.0, 292000.0, 550000.0, 494000.0, 450000.0, 780000.0, 4680804.0, 500000.0, 327000.0, 350000.0, 295000.0, 300000.0, 600000.0, 350000.0, 300000.0, 950000.0, 450000.0, 400000.0, 425000.0, 450000.0, 450000.0, 425000.0, 455400.0, 450000.0, 325000.0, 300000.0, 450000.0, 300000.0, 350000.0, 700000.0, 500000.0, 400000.0, 370000.0, 288000.0, 500000.0, 460000.0, 300000.0, 950000.0, 2200000.0, 390000.0, 300000.0, 700000.0, 300000.0, 364000.0, 335000.0, 300000.0, 350000.0, 350000.0, 300000.0, 300000.0, 1000000.0, 300000.0, 292000.0, 330000.0, 600000.0, 340000.0, 325000.0, 300000.0, 292000.0, 300000.0, 500000.0, 1100000.0, 300000.0, 300000.0, 475000.0, 1000000.0, 317000.0, 500000.0, 350000.0, 300000.0, 400000.0, 450000.0, 400000.0, 320000.0, 300000.0, 300000.0, 1000000.0, 450000.0, 310000.0, 400000.0, 1115000.0, 300000.0, 1300000.0, 350000.0, 315000.0, 322192.0, 440000.0, 440000.0, 287089.0, 395000.0, 320000.0, 320000.0, 4200000.0, 400000.0, 300000.0, 340000.0, 325000.0, 900000.0, 350000.0, 355000.0, 300000.0, 7200000.0, 300000.0, 300000.0, 350000.0, 340000.0, 290000.0, 485000.0, 310000.0, 455000.0, 350000.0, 400000.0, 400000.0, 300000.0, 325000.0, 720000.0, 400000.0, 400000.0, 400000.0, 300000.0, 340000.0, 300000.0, 292000.0, 300000.0, 350000.0, 350000.0, 300000.0, 290000.0, 350000.0, 430000.0, 300000.0, 465000.0, 425000.0, 400000.0, 320000.0, 330000.0, 780000.0, 490000.0, 300000.0, 350000.0, 300000.0, 300000.0, 500000.0, 400000.0, 400000.0, 305000.0, 1100000.0, 840000.0, 500000.0, 500000.0, 425000.0, 705000.0, 600000.0, 365000.0, 750000.0, 400000.0, 349000.0, 450000.0, 600000.0, 300000.0, 376000.0, 720000.0, 300000.0, 600000.0, 350000.0, 400000.0, 300000.0, 560000.0, 750000.0, 800000.0, 300000.0, 360000.0, 415000.0, 425000.0, 300000.0, 290000.0, 300000.0, 350000.0, 325000.0, 380000.0, 385000.0, 320000.0, 360000.0, 300000.0, 425000.0, 350000.0, 550000.0, 330000.0, 350000.0, 850000.0, 495000.0, 300000.0, 450000.0, 300000.0, 300000.0, 350000.0, 290000.0, 722511.0, 450000.0, 580000.0, 360000.0, 520000.0, 400000.0, 300000.0, 300000.0, 750000.0, 315000.0, 399000.0, 460000.0, 510000.0, 396000.0, 650000.0, 300000.0, 335000.0, 300000.0, 600000.0, 325000.0, 300000.0, 320000.0, 360000.0, 290000.0, 425000.0, 300000.0, 600000.0, 525000.0, 360000.0, 300000.0, 300000.0, 350000.0, 900000.0, 500000.0, 344000.0, 415000.0, 750000.0, 293675.66, 300000.0, 300000.0, 400000.0, 415000.0, 500000.0, 300000.0, 300000.0, 875000.0, 325000.0, 550000.0, 400000.0, 300000.0, 300000.0, 650000.0, 300000.0, 400000.0, 320000.0, 350000.0, 466000.0, 350000.0, 290000.0, 300000.0, 320000.0, 315000.0, 320000.0, 450000.0, 510000.0, 375000.0, 500000.0, 350000.0, 400000.0, 305000.0, 850000.0, 750000.0, 390000.0, 530000.0, 350000.0, 300000.0, 300000.0, 320000.0, 530000.0, 335000.0, 500000.0, 380000.0, 300000.0, 350000.0, 485000.0, 470000.0, 340000.0, 300000.0, 295000.0, 400000.0, 425000.0, 500000.0, 320000.0, 450000.0, 302000.0, 400000.0, 400000.0, 350000.0, 1000000.0, 546000.0, 350000.0, 320000.0, 381000.0, 290000.0, 800000.0, 385000.0, 350000.0, 650000.0, 300000.0, 375000.0, 410000.0, 320000.0, 300000.0, 375000.0, 750000.0, 400000.0, 300000.0, 1174260.0, 540000.0, 300000.0, 300000.0, 550000.0, 1000000.0, 294000.0, 420000.0, 300000.0, 325000.0, 320000.0, 350000.0, 385000.0, 350000.0, 715000.0, 320000.0, 350000.0, 300000.0, 290000.0, 309000.0, 488000.0, 300000.0, 310000.0, 400000.0, 451956.0, 559951.96, 400000.0, 400000.0, 449500.0, 740000.0, 300000.0, 750000.0, 500000.0, 375000.0, 300000.0, 550000.0, 350000.0, 576000.0, 586000.0, 500000.0, 350000.0, 461023.0, 370000.0, 300000.0, 320000.0, 300107.0, 650000.0, 600000.0, 300000.0, 367655.0, 300000.0, 450000.0, 295000.0, 450000.0, 350000.0, 372000.0, 750000.0, 325000.0, 310000.0, 500000.0, 612000.0, 390000.0, 300000.0, 500000.0, 310000.0, 329740.0, 400000.0, 1325000.0, 450000.0, 431700.0, 325000.0, 352000.0, 398000.0, 450000.0, 400000.0, 400000.0, 300000.0, 300000.0, 330000.0, 350000.0, 415000.0, 7000055.0, 300000.0, 480000.0, 330000.0, 325000.0, 325000.0, 300000.0, 550000.0, 500000.0, 300000.0, 500000.0, 300000.0, 325000.0, 580000.0, 300000.0, 325000.0, 425000.0, 300000.0, 380000.0, 330000.0, 300000.0, 330000.0, 338000.0, 325000.0, 315000.0, 290000.0, 425000.0, 300000.0, 500000.0, 350000.0, 550000.0, 500000.0, 380000.0, 300000.0, 350000.0, 315000.0, 650000.0, 370000.0, 835200.0, 750000.0, 1000000.0, 290000.0, 400000.0, 3200000.0, 520000.0, 600000.0, 500000.0, 300000.0, 525000.0, 700000.0, 350000.0, 340000.0, 300000.0, 300000.0, 525000.0, 480000.0, 400000.0, 360000.0, 600000.0, 500000.0, 340000.0, 306000.0, 750000.0, 300000.0, 300000.0, 750000.0, 330000.0, 702009.0, 305000.0, 700000.0, 425000.0, 400000.0, 295000.0, 300000.0, 305000.0, 615000.0, 300000.0, 330000.0, 300000.0, 450000.0, 300000.0, 425000.0, 300000.0, 1200000.0, 380000.0, 400000.0, 291000.0, 300000.0, 300000.0, 425000.0, 300000.0, 330000.0, 325000.0, 614083.0, 400000.0, 500000.0, 305000.0, 5588951.0, 466000.0, 375000.0, 485000.0, 600000.0, 375000.0, 350000.0, 450000.0, 400000.0, 500000.0, 300000.0, 430000.0, 300000.0, 325000.0, 313000.0, 300000.0, 6500000.0, 300000.0, 500000.0, 300000.0, 350000.0, 450000.0, 519000.0, 350000.0, 350000.0, 341000.0, 377000.0, 900000.0, 325000.0, 365000.0, 300000.0, 350000.0, 312000.0, 310000.0, 600000.0, 300000.0, 699587.0, 480000.0, 300000.0, 330000.0, 300000.0, 350000.0, 350000.0, 310000.0, 479484.0, 350000.0, 300000.0, 900000.0, 420000.0, 500000.0, 300000.0, 500000.0, 400000.0, 300000.0, 315000.0, 300000.0, 425000.0, 500000.0, 600000.0, 300000.0, 520000.0, 300000.0, 295000.0, 325000.0, 340000.0, 650000.0, 325000.0, 300000.0, 550000.0, 430000.0, 300000.0, 300000.0, 300000.0, 375000.0, 350000.0, 450000.0, 420000.0, 350000.0, 400000.0, 300000.0, 400000.0, 400000.0, 415000.0, 500000.0, 450000.0, 306000.0, 325000.0, 400000.0, 300000.0, 500000.0, 400000.0, 600000.0, 300000.0, 330000.0, 525000.0, 500000.0, 588000.0, 300000.0, 300000.0, 450000.0, 300000.0, 400000.0, 320000.0, 352000.0, 400000.0, 350000.0, 350000.0, 425000.0, 347000.0, 350000.0, 300000.0, 5541120.0, 300000.0, 350000.0, 400000.0, 425000.0, 535000.0, 300000.0, 345000.0, 430000.0, 450000.0, 410000.0, 800000.0, 550000.0, 550000.0, 350000.0, 7000000.0, 350000.0, 300000.0, 350000.0, 340000.0, 400000.0, 3437892.0, 936000.0, 300000.0, 380000.0, 500000.0, 375000.0, 475000.0, 375000.0, 300000.0, 325000.0, 300000.0, 550000.0, 350000.0, 294000.0, 445000.0, 300000.0, 350000.0, 300000.0, 300000.0, 400000.0, 300000.0, 365000.0, 500000.0, 510000.0, 467500.0, 720000.0, 365000.0, 340000.0, 295000.0, 290000.0, 400000.0, 294507.0, 400000.0, 375000.0, 814000.0, 500000.0, 375000.0, 300000.0, 380000.0, 290000.0, 750000.0, 408000.0, 310000.0, 400000.0, 386000.0, 310000.0, 340000.0, 1750000.0, 300000.0, 330000.0, 310000.0, 360000.0, 850000.0, 550000.0, 360000.0, 450000.0, 380000.0, 400000.0, 300000.0, 420000.0, 440000.0, 319000.0, 300000.0, 400000.0, 500000.0, 725000.0, 345000.0, 330000.0]\n"
          ],
          "name": "stdout"
        }
      ]
    },
    {
      "cell_type": "code",
      "metadata": {
        "id": "7P4xS91r6_N5",
        "outputId": "b335e09e-68dd-4bdf-8af6-ffa90e23a396",
        "colab": {
          "base_uri": "https://localhost:8080/"
        }
      },
      "source": [
        "print(min(outlier_annual_income))\n",
        "print(len(outlier_annual_income))"
      ],
      "execution_count": 152,
      "outputs": [
        {
          "output_type": "stream",
          "text": [
            "286800.0\n",
            "9964\n"
          ],
          "name": "stdout"
        }
      ]
    },
    {
      "cell_type": "code",
      "metadata": {
        "id": "HWgdg4Gr6_rf",
        "outputId": "569dd4a5-5c09-45fb-b403-7a3a40b75be7",
        "colab": {
          "base_uri": "https://localhost:8080/"
        }
      },
      "source": [
        "Outlier_Annual_inc = (df_Accepted[df_Accepted[\"annual_inc\"]>=286800.0].index)\n",
        "Outlier_Annual_inc"
      ],
      "execution_count": 153,
      "outputs": [
        {
          "output_type": "execute_result",
          "data": {
            "text/plain": [
              "Int64Index([    213,     557,     651,    1089,    1122,    1482,    1487,\n",
              "               1694,    2028,    2069,\n",
              "            ...\n",
              "            2259257, 2259331, 2259556, 2259605, 2259800, 2260011, 2260306,\n",
              "            2260340, 2260416, 2260582],\n",
              "           dtype='int64', length=9964)"
            ]
          },
          "metadata": {
            "tags": []
          },
          "execution_count": 153
        }
      ]
    },
    {
      "cell_type": "code",
      "metadata": {
        "id": "kVLGR9jr6_vj",
        "outputId": "3f0474e7-6946-4eeb-8651-81a26acd402b",
        "colab": {
          "base_uri": "https://localhost:8080/"
        }
      },
      "source": [
        "Outlier_Annual_inc_Remove = []\n",
        "\n",
        "for i in Outlier_Annual_inc:\n",
        "  Outlier_Annual_inc_Remove.append(i)\n",
        "\n",
        "print(Outlier_Annual_inc_Remove)"
      ],
      "execution_count": 154,
      "outputs": [
        {
          "output_type": "stream",
          "text": [
            "[213, 557, 651, 1089, 1122, 1482, 1487, 1694, 2028, 2069, 2145, 2224, 2277, 2303, 2329, 2928, 2982, 3072, 3386, 3561, 3577, 3678, 3709, 3718, 3764, 4185, 4672, 4723, 4899, 5020, 5110, 5290, 5308, 5331, 5363, 5614, 5745, 5828, 6386, 6402, 6508, 6704, 6975, 7082, 7173, 7199, 7239, 7421, 7431, 7595, 7666, 7686, 7782, 8055, 8196, 8207, 8243, 8350, 8420, 8427, 8560, 8582, 8607, 8660, 8834, 9018, 9233, 9236, 9390, 9452, 9727, 9766, 10404, 10604, 10797, 10836, 11100, 11128, 11139, 11517, 11842, 11843, 11970, 12004, 12097, 12164, 12224, 12484, 12494, 12504, 13254, 13303, 13344, 13670, 13736, 13751, 13823, 14158, 14250, 14312, 14330, 14977, 14987, 15048, 15062, 15267, 15487, 15707, 15722, 15732, 15800, 15859, 15920, 16027, 16256, 16486, 16729, 16787, 16792, 16795, 16810, 17311, 17375, 17475, 17488, 17619, 17723, 17736, 17967, 18060, 18481, 18513, 18535, 18598, 18618, 18991, 19074, 19142, 19227, 19238, 19410, 19500, 19637, 19986, 20151, 20159, 20225, 20370, 20546, 20614, 20807, 20857, 20872, 21416, 21436, 21456, 22022, 22454, 22603, 22637, 22854, 22875, 22979, 23183, 23263, 23324, 23416, 23699, 23769, 23868, 24035, 24090, 24156, 24590, 24659, 24729, 24739, 24785, 24793, 24827, 25069, 25085, 25385, 25596, 25688, 25728, 25798, 25858, 25902, 25914, 25977, 26067, 26101, 26251, 26305, 26456, 26552, 26586, 26652, 26865, 27049, 27311, 27642, 27747, 27758, 28451, 28516, 28565, 28713, 29206, 29405, 29472, 29731, 29797, 30160, 30350, 30386, 30669, 30716, 30751, 30872, 31098, 31127, 31244, 31501, 31502, 31511, 31587, 31639, 31651, 31652, 31722, 31734, 31797, 32013, 32141, 32253, 32794, 33006, 33036, 33188, 33304, 33385, 33413, 33622, 33836, 33942, 34005, 34093, 34152, 34428, 34531, 34580, 34608, 34763, 34795, 34814, 34856, 34860, 35062, 35080, 35194, 35434, 35435, 35442, 35472, 35501, 35504, 35522, 35526, 35599, 35637, 36007, 36071, 36737, 36807, 36879, 37062, 37336, 37486, 37524, 37626, 37738, 37959, 37991, 38220, 38473, 38488, 38512, 38755, 39130, 39246, 39528, 39599, 39864, 40140, 40279, 40376, 40533, 40580, 40594, 40615, 40631, 40646, 40664, 40901, 41074, 41200, 41258, 41514, 41592, 41734, 42240, 42519, 42604, 42639, 42677, 42705, 42721, 42851, 42858, 42898, 42917, 43126, 43226, 43249, 43477, 44645, 44689, 44797, 44799, 45184, 45218, 45484, 45809, 45918, 46193, 46266, 46352, 46577, 46604, 46731, 46821, 46825, 46840, 46906, 46927, 46954, 47249, 47300, 47368, 47445, 47883, 47929, 48075, 48208, 48303, 48664, 48958, 48977, 49195, 49281, 49302, 49367, 49560, 49597, 49673, 50487, 50611, 50669, 50690, 50788, 50861, 50996, 51162, 51327, 51793, 51920, 52247, 52355, 52531, 52715, 52916, 53251, 53707, 53813, 53899, 53953, 54113, 54283, 54372, 54461, 54465, 54503, 54545, 54649, 54677, 54685, 54713, 54720, 54991, 55188, 55282, 55318, 55488, 55603, 55708, 55803, 56153, 56192, 56215, 56246, 56261, 56288, 56323, 56349, 56413, 56513, 56539, 56684, 56693, 56739, 56824, 56857, 56957, 57000, 57019, 57072, 57956, 58083, 58088, 58197, 58266, 58634, 58718, 58846, 58883, 59016, 59056, 59160, 59204, 59223, 59357, 59358, 59360, 59717, 59748, 59881, 60174, 60360, 60372, 60373, 60609, 60646, 60852, 60932, 61020, 61431, 61531, 61595, 61620, 61827, 61868, 61919, 62230, 62506, 62616, 62746, 62780, 62824, 63122, 63263, 63391, 63408, 63431, 63918, 63962, 63965, 64165, 64166, 64211, 64269, 64361, 64366, 64641, 65088, 65512, 65622, 65697, 65725, 65854, 65968, 66572, 66616, 66686, 66716, 66902, 67332, 67449, 67593, 67654, 67655, 67774, 68121, 68210, 68418, 68477, 68834, 68942, 69097, 69622, 69645, 69775, 69810, 69847, 69946, 70045, 70208, 70309, 70316, 70350, 70464, 70997, 71008, 71017, 71296, 71381, 71470, 71498, 71780, 71978, 72159, 72349, 72381, 72479, 72509, 72532, 72586, 72629, 72711, 72778, 72790, 72813, 72962, 72971, 72994, 73159, 73302, 73353, 73368, 73465, 73479, 73559, 73636, 73723, 73729, 73811, 73886, 73983, 73994, 74028, 74054, 74175, 74676, 75209, 75529, 75548, 75623, 75651, 75685, 75893, 76054, 76089, 76091, 76366, 76457, 76624, 77060, 77132, 77350, 77638, 77688, 77700, 78202, 78671, 79747, 79760, 79774, 79865, 80090, 80097, 80197, 80212, 80270, 80395, 80631, 80825, 80920, 81181, 81266, 81640, 82104, 82209, 82413, 82911, 83275, 83443, 83450, 83553, 83598, 83677, 83950, 84232, 84321, 84325, 84429, 84661, 85056, 85188, 85252, 85271, 85279, 85341, 85358, 85455, 85510, 85757, 85775, 86018, 86079, 86379, 86411, 86523, 86553, 86598, 86899, 87506, 87924, 88032, 88318, 88474, 88575, 88754, 89045, 89336, 89425, 89689, 89871, 89987, 90151, 90219, 90344, 90373, 90455, 90638, 90772, 90949, 91243, 91311, 91373, 91717, 91927, 92026, 92066, 92226, 92360, 92384, 92904, 92917, 92987, 93020, 93267, 93388, 93690, 93705, 93928, 94160, 94199, 95048, 95403, 95840, 96343, 96506, 96581, 96819, 97181, 97194, 97261, 97264, 97441, 97606, 97777, 97794, 97798, 97958, 98086, 98191, 98375, 98489, 98652, 98761, 98785, 98836, 98878, 98886, 98920, 98926, 98978, 99039, 99290, 99322, 99368, 99474, 99722, 99880, 99892, 99904, 100076, 100090, 100119, 100173, 100190, 100328, 100412, 100449, 100538, 100852, 100897, 100972, 101082, 101262, 101457, 101598, 101621, 101914, 102271, 102445, 102595, 102624, 102683, 102917, 103255, 103261, 103313, 103323, 103392, 103566, 103610, 103631, 103678, 103698, 103833, 104009, 104131, 104175, 104243, 104249, 104257, 104284, 104594, 104611, 104829, 104854, 104873, 104877, 104887, 105033, 105357, 105561, 105641, 106425, 106426, 106458, 106625, 106682, 106712, 106820, 106927, 107065, 107098, 107104, 107163, 107234, 107440, 107443, 107558, 107762, 107846, 107925, 107977, 108108, 108256, 108406, 108414, 108554, 108786, 108858, 108946, 109162, 109452, 109685, 109989, 110053, 110195, 110285, 110439, 110441, 110446, 110598, 110631, 110689, 110754, 110808, 110812, 110895, 111028, 111041, 111060, 111164, 111348, 111385, 111448, 111520, 111523, 111601, 111722, 111845, 111948, 111965, 112055, 112103, 112411, 112572, 112788, 112858, 112860, 112980, 113050, 113282, 113323, 113449, 113464, 113585, 113636, 113822, 114010, 114151, 114359, 114553, 114977, 115322, 115394, 115493, 115515, 115608, 115648, 115818, 115873, 116175, 116985, 117052, 117464, 117471, 117508, 117721, 117825, 117847, 117886, 117935, 118204, 118215, 118268, 118343, 118435, 118517, 118560, 118843, 118847, 119048, 119109, 119146, 119243, 119291, 119365, 119454, 119596, 119754, 119921, 120082, 120169, 120185, 120477, 120508, 120574, 121063, 121624, 121836, 121902, 121926, 122147, 122212, 122321, 122503, 122766, 122877, 123233, 123429, 123769, 123790, 123928, 124534, 124566, 124622, 124635, 124761, 124765, 124885, 124925, 125002, 125044, 125403, 125412, 125747, 125953, 126126, 126161, 126221, 126227, 126275, 126294, 126311, 126869, 126970, 127006, 127222, 127457, 127505, 127528, 127687, 127769, 127895, 127948, 128303, 128385, 128427, 128457, 128466, 128560, 128632, 128834, 128847, 129242, 129276, 129372, 129394, 129561, 129598, 129690, 129745, 129747, 130035, 130262, 130854, 130868, 130997, 131054, 131198, 131260, 131628, 132106, 132142, 132557, 132609, 132613, 132716, 132773, 132968, 133023, 133084, 133171, 133308, 133443, 133556, 133588, 133781, 133934, 133960, 134325, 134437, 134466, 134696, 134801, 134809, 134882, 135164, 135173, 135299, 135458, 135508, 135778, 135893, 136115, 136245, 136267, 136318, 136672, 136698, 136807, 136969, 136997, 137058, 137186, 137199, 137202, 137328, 137482, 137512, 137519, 137535, 137577, 137582, 137695, 137715, 137978, 138358, 138449, 138629, 138644, 138981, 139198, 139212, 139360, 139748, 139767, 139934, 140301, 140316, 140323, 140370, 140631, 140680, 140820, 141055, 141147, 141248, 141271, 141421, 141600, 141644, 141726, 142040, 142073, 142200, 142256, 142269, 142383, 142452, 142502, 142524, 142572, 142618, 142800, 142853, 143033, 143058, 143181, 143185, 143211, 143250, 143281, 143347, 143811, 143815, 143932, 143964, 144052, 144291, 144578, 144655, 144958, 144988, 145098, 145411, 145473, 145679, 145696, 145811, 145889, 146028, 146094, 146166, 146389, 146606, 146694, 146750, 146830, 147159, 147176, 148039, 148062, 148255, 148685, 148696, 148809, 148887, 148912, 149391, 149442, 149545, 149590, 149616, 149652, 149749, 150010, 150365, 150398, 150531, 150596, 150880, 151074, 151170, 151206, 151255, 151399, 151545, 151568, 151647, 151694, 151702, 151863, 152203, 152214, 152216, 152260, 152477, 152764, 152899, 153046, 153195, 153354, 153361, 153563, 153688, 153789, 153897, 153935, 154262, 154278, 154405, 154535, 154842, 154877, 155186, 155861, 155951, 156057, 156382, 156569, 156613, 156836, 156958, 157075, 157354, 157371, 157420, 157425, 157597, 157743, 157797, 157848, 157884, 157923, 158006, 158067, 158390, 158498, 158517, 158668, 158713, 158748, 158999, 159128, 159324, 159406, 159447, 159474, 160097, 160658, 160940, 161062, 161163, 161222, 161282, 161356, 161536, 161622, 161662, 161888, 161909, 162005, 162194, 162246, 162431, 162575, 162961, 162996, 163097, 163123, 163583, 163601, 164275, 164322, 164329, 164347, 164536, 164656, 165424, 165622, 166102, 166110, 166129, 166198, 166450, 166629, 166726, 166866, 167008, 167150, 167175, 167811, 168042, 168253, 168267, 168432, 168483, 168492, 168766, 168790, 168979, 168986, 169029, 169245, 169720, 169860, 169862, 169986, 170283, 170329, 170560, 170575, 170582, 171545, 171989, 172664, 172733, 173062, 173144, 173286, 173317, 173389, 173882, 173889, 173941, 174021, 174044, 174399, 174445, 174523, 174579, 174737, 174778, 175060, 175161, 175578, 176280, 176303, 176419, 176722, 176829, 177031, 177486, 177614, 177956, 178368, 178595, 178738, 178945, 179087, 179107, 179202, 179536, 179772, 179976, 180078, 180294, 180300, 180303, 180378, 180430, 180457, 180549, 180731, 180853, 180865, 180911, 181104, 181147, 181198, 181258, 181359, 181399, 181442, 181496, 181659, 181895, 182217, 182233, 183244, 183394, 183468, 183504, 183921, 183932, 183984, 184061, 184151, 184194, 184216, 184769, 184857, 184879, 185015, 185128, 185161, 185294, 185356, 185605, 185783, 185933, 186209, 186246, 186948, 187280, 187294, 187477, 187479, 187646, 187755, 187882, 188184, 188267, 188339, 188699, 188724, 188795, 188819, 189016, 189022, 189061, 189089, 189125, 189211, 189321, 189336, 189364, 189561, 189591, 189656, 189795, 189841, 189906, 190149, 190272, 190303, 190423, 190555, 190754, 191074, 191105, 191319, 191519, 191520, 191677, 192030, 192499, 192549, 192585, 192795, 192872, 193611, 193894, 194230, 194340, 194368, 194425, 194581, 194772, 194957, 195523, 195540, 195585, 195699, 195903, 195944, 196021, 196121, 196367, 196554, 196802, 197245, 197392, 197644, 198026, 198153, 198275, 198665, 198778, 199147, 199325, 199467, 199624, 199762, 199938, 200128, 200331, 200406, 200464, 200475, 200509, 200876, 201138, 201246, 201393, 201431, 201739, 202007, 202294, 202799, 203046, 203443, 204033, 204062, 205070, 205165, 205214, 205512, 205663, 205670, 205907, 206137, 206141, 206230, 206280, 206399, 206432, 206486, 206523, 206615, 206805, 207136, 207374, 207764, 207781, 207799, 208269, 208310, 208458, 208484, 208590, 208644, 209413, 209768, 210619, 210698, 210797, 210806, 210862, 210980, 211261, 211379, 211398, 211548, 211731, 211775, 212258, 212355, 212372, 212602, 212959, 213016, 213113, 213219, 213306, 213319, 213353, 213437, 213538, 213753, 213932, 214145, 214236, 214594, 214668, 214690, 214911, 214992, 215292, 215353, 215433, 215563, 215638, 215899, 215902, 215919, 216021, 216108, 216263, 216301, 216421, 216636, 216752, 216907, 216922, 217153, 217220, 217335, 217347, 217377, 217483, 217721, 218123, 218191, 218778, 218819, 219021, 219114, 219148, 219379, 219426, 219601, 219652, 219683, 220056, 220065, 220374, 220412, 220728, 220907, 221181, 221214, 221671, 221687, 221844, 221871, 222108, 222639, 222808, 223002, 223226, 223298, 223357, 223518, 223802, 223921, 224088, 224237, 224418, 224464, 224498, 224524, 224703, 225145, 225162, 225311, 225353, 225698, 225707, 225937, 226242, 226775, 226779, 226904, 227010, 227100, 227113, 227510, 227586, 227734, 227773, 227908, 227987, 228029, 228359, 228497, 228654, 228714, 228746, 228750, 228781, 228817, 228970, 229249, 229607, 229689, 230097, 230265, 230321, 230325, 230774, 230805, 230839, 230940, 230972, 231034, 231147, 231211, 231350, 231793, 231932, 231998, 232453, 232540, 232768, 232788, 232909, 232937, 232993, 233031, 233033, 233125, 233148, 233420, 233487, 233938, 233971, 233988, 234071, 234239, 234281, 234455, 234481, 234610, 234670, 234673, 234675, 234729, 234885, 235229, 235284, 235580, 236242, 236257, 236294, 236421, 236567, 236840, 237046, 237231, 237370, 237395, 237644, 237709, 238192, 238263, 238542, 238568, 238679, 238839, 238866, 238882, 239033, 239180, 239430, 239647, 239877, 239913, 239966, 240055, 240098, 240645, 240939, 240978, 241371, 241547, 241654, 241656, 241812, 241939, 242015, 242222, 242246, 242312, 242484, 242752, 242971, 242979, 243130, 243212, 243397, 243403, 243796, 243869, 244099, 244166, 244211, 244753, 244795, 244866, 245089, 245438, 245837, 245853, 245905, 246009, 246339, 246641, 246666, 246894, 247116, 247294, 247412, 247539, 247613, 247668, 247751, 247808, 247925, 247927, 248296, 248320, 248816, 248965, 248990, 249159, 249794, 249875, 250014, 250092, 250144, 250227, 250336, 250510, 250594, 250664, 250793, 250847, 251654, 251751, 252185, 252221, 252413, 252970, 253190, 253307, 253642, 253939, 253988, 254148, 254255, 254376, 254390, 254500, 255142, 255178, 255228, 255240, 255262, 255729, 255803, 255812, 255863, 256006, 256456, 256831, 256940, 257100, 257213, 257367, 257390, 257548, 257672, 257685, 257756, 257901, 257971, 257984, 258029, 258063, 258100, 258155, 258424, 258759, 258946, 258958, 259498, 259523, 259553, 259713, 259923, 260035, 260234, 260596, 260626, 261072, 261344, 261572, 261699, 261892, 262072, 262495, 262660, 262709, 262908, 263055, 263133, 263340, 263438, 263449, 263521, 263553, 263576, 263673, 264015, 264032, 264208, 264383, 264536, 264670, 264677, 264822, 264845, 264915, 264928, 265016, 265459, 265479, 265575, 265626, 265714, 266179, 266273, 266322, 266350, 266351, 266554, 266887, 266934, 267071, 267196, 267213, 267254, 267284, 267322, 267406, 267597, 267623, 267634, 267648, 267803, 267980, 267986, 268200, 268394, 268412, 268525, 268658, 268701, 268728, 268886, 268953, 269021, 269251, 269397, 269574, 269741, 270124, 270342, 270565, 270801, 271089, 271129, 271301, 271426, 271525, 271633, 272008, 272118, 272181, 272213, 272427, 272610, 272663, 272774, 272847, 272932, 272939, 273037, 273176, 273237, 273260, 273306, 273506, 273584, 273846, 273989, 274260, 274538, 274677, 274702, 274817, 274834, 275322, 275455, 275764, 275781, 275810, 275938, 276055, 276248, 276371, 276395, 276601, 276767, 276877, 276927, 277064, 277463, 277524, 277633, 277685, 277711, 277755, 277764, 278156, 278200, 278248, 279197, 279393, 279404, 279677, 279703, 279928, 279946, 280080, 280168, 280325, 280396, 280737, 280958, 281129, 281187, 281531, 281590, 281665, 281692, 281723, 281810, 282288, 282566, 283130, 283139, 283263, 283372, 283415, 284083, 284244, 284398, 284523, 284603, 284744, 284826, 284918, 284985, 285075, 285193, 285253, 285855, 285917, 285930, 285997, 286056, 286148, 286238, 286272, 286327, 286363, 286967, 287054, 287110, 287443, 287514, 287559, 287671, 287928, 288119, 288238, 288394, 288427, 288474, 288551, 289055, 289075, 289078, 289384, 289454, 289597, 289670, 289727, 289731, 289880, 290544, 290666, 290852, 290935, 291001, 291072, 291239, 291315, 291646, 292006, 292385, 292483, 292495, 292516, 292632, 292893, 293184, 293239, 293284, 293365, 293521, 293856, 294002, 294022, 294034, 294043, 294086, 294331, 294529, 294607, 294629, 294651, 294718, 294789, 294841, 295289, 295323, 295636, 295783, 295814, 295840, 296133, 296484, 296538, 296809, 296943, 296976, 297260, 297350, 297358, 297379, 297419, 297584, 297598, 297949, 298073, 298232, 298288, 298309, 298461, 298563, 298673, 298866, 299054, 299134, 299140, 299240, 299447, 299798, 299896, 300246, 300399, 300461, 300524, 300892, 301106, 301213, 301341, 301540, 301682, 301696, 301923, 302023, 302270, 302514, 302840, 302952, 302968, 303311, 303347, 303597, 303830, 304092, 304124, 304416, 304438, 304498, 304523, 304652, 304950, 305061, 305141, 305238, 305315, 305955, 306069, 306457, 306715, 306847, 307330, 307939, 308034, 308153, 308201, 308213, 308230, 308349, 308366, 308492, 308526, 308758, 308971, 309095, 309138, 309438, 309454, 309506, 309579, 310207, 310230, 310294, 310317, 310663, 310810, 310985, 311064, 311071, 311085, 311165, 311299, 311372, 311629, 311686, 311799, 311802, 312058, 312183, 312364, 312424, 312651, 312873, 313137, 313254, 313345, 313375, 313411, 313703, 313770, 313953, 314017, 314091, 314097, 314122, 314153, 314189, 314229, 314344, 314389, 314602, 314664, 314665, 314901, 315219, 315315, 315339, 315716, 316151, 316188, 316299, 316345, 316380, 316400, 316525, 316708, 316825, 317097, 317366, 317432, 317493, 317582, 317941, 318273, 318277, 318376, 318491, 318549, 318744, 318884, 318979, 319015, 319303, 319316, 319567, 320005, 320166, 320305, 320318, 320533, 320558, 320772, 320776, 320796, 321074, 321146, 321721, 321886, 321958, 322547, 322607, 322707, 322830, 323169, 323211, 323571, 323600, 323755, 324025, 324038, 324175, 324355, 324383, 324589, 324709, 324855, 324872, 324944, 324973, 325101, 325197, 325215, 325642, 325726, 325772, 325835, 325893, 325924, 326823, 326905, 326914, 327190, 327387, 327411, 327450, 327693, 327698, 327700, 327806, 328187, 328334, 328906, 328997, 329151, 329190, 329244, 329506, 329558, 329578, 329600, 329885, 330073, 330300, 330711, 330748, 330946, 331533, 331848, 332038, 332242, 332344, 332408, 332608, 332708, 332733, 332760, 332812, 332814, 332929, 332989, 333247, 333365, 333419, 333465, 333565, 333596, 333683, 333781, 333836, 333950, 334161, 334380, 334486, 335108, 335426, 335560, 335857, 335927, 336095, 336420, 336496, 336980, 337209, 337687, 338288, 338685, 338788, 339163, 339296, 339386, 339425, 339901, 339956, 339972, 339998, 340080, 340084, 340150, 340159, 340174, 341114, 341149, 341204, 341427, 341492, 341775, 342106, 342154, 342458, 342569, 342606, 342762, 342982, 343148, 343162, 343231, 343297, 343333, 343374, 343754, 344453, 344551, 344763, 344876, 344899, 345068, 345267, 345290, 345742, 346015, 346068, 346071, 346481, 346577, 347053, 347106, 347113, 347608, 347790, 348216, 348339, 349007, 349115, 349220, 349400, 349562, 349883, 349970, 350364, 350374, 350397, 350484, 350654, 350927, 350964, 351072, 351118, 351368, 351549, 351829, 351895, 351988, 352301, 352893, 353022, 353197, 353288, 353404, 353562, 353857, 353908, 353919, 354020, 354195, 354890, 355072, 355118, 355219, 355284, 355424, 355523, 355691, 356093, 356204, 356408, 356848, 356892, 357208, 357314, 357634, 357944, 358224, 358266, 358337, 358495, 358860, 358986, 359032, 359098, 359841, 360079, 360155, 360293, 360528, 360577, 361131, 361215, 361382, 361394, 361455, 361585, 361819, 361858, 361940, 362030, 362281, 362396, 362435, 362441, 362956, 362991, 363036, 363372, 363410, 363565, 363760, 364032, 365206, 365270, 365324, 365562, 365768, 365899, 366025, 366199, 366373, 366748, 366752, 367188, 367211, 367318, 367339, 367346, 367358, 367411, 367469, 368086, 368146, 368223, 368347, 368450, 368857, 368878, 368953, 368992, 369181, 369549, 369643, 369772, 369839, 369876, 369952, 370049, 370101, 370176, 370309, 370459, 370598, 370936, 371035, 371270, 371423, 371728, 371994, 372074, 372198, 372228, 372652, 372697, 372762, 373011, 373109, 373139, 373428, 373723, 373726, 373837, 373874, 374110, 374584, 374594, 374860, 374871, 374918, 374923, 375116, 375142, 375293, 375650, 376023, 376076, 376323, 376415, 376738, 376898, 377582, 377606, 377728, 378165, 378201, 378398, 378429, 378693, 378720, 378922, 379012, 379018, 379130, 379203, 379537, 379544, 379747, 379770, 379821, 379902, 379941, 380014, 380033, 380202, 380501, 380651, 380689, 380713, 380885, 381135, 381251, 381358, 381475, 381813, 382041, 382330, 382438, 382741, 382859, 382883, 383103, 383142, 383603, 383907, 383924, 383996, 384221, 384293, 384384, 384645, 384785, 384902, 384916, 385210, 385228, 385595, 385689, 385803, 385868, 386452, 386461, 386776, 387110, 387293, 387427, 387465, 387579, 387660, 388142, 388160, 388177, 388287, 388457, 388589, 389032, 389162, 389196, 389205, 389283, 389368, 389423, 389779, 390034, 390043, 390050, 390052, 390209, 390267, 390463, 390549, 390838, 390990, 391195, 391297, 391967, 392056, 392229, 392244, 392272, 392488, 392597, 392729, 393382, 393464, 393583, 393746, 393768, 394104, 394106, 394518, 394637, 394673, 394731, 395085, 395537, 395595, 395933, 395991, 396004, 396206, 396245, 396257, 396332, 396414, 397027, 397720, 397758, 397792, 397852, 397875, 397957, 398231, 398525, 398612, 398697, 398843, 398891, 399009, 399079, 399216, 399231, 399265, 399453, 399751, 399843, 399986, 400052, 400136, 400235, 400380, 400453, 400638, 400652, 400968, 402310, 402817, 402827, 402873, 402915, 402983, 402992, 403076, 403092, 403097, 403140, 403318, 403538, 403880, 404517, 404828, 404841, 404940, 405022, 405171, 405270, 405288, 405297, 405344, 405406, 405417, 405574, 405612, 405675, 405707, 405710, 405854, 405874, 405993, 406209, 406619, 406904, 407233, 407344, 407582, 407845, 407914, 407929, 407942, 408018, 408117, 408216, 408736, 408774, 408965, 409087, 409148, 409196, 409416, 409561, 409991, 410053, 410573, 411547, 411723, 411737, 411767, 411957, 412118, 412121, 412846, 413104, 413176, 413265, 413435, 413653, 413659, 414279, 414511, 414719, 414825, 414888, 414899, 414971, 415016, 415081, 415175, 415460, 415541, 415576, 415666, 415707, 415757, 415771, 415930, 415942, 416095, 416096, 416145, 416376, 416415, 416493, 416673, 416685, 416689, 416754, 416816, 416976, 417068, 417097, 417126, 417177, 417178, 417658, 417843, 418082, 418174, 418209, 418217, 418324, 418340, 418385, 418491, 418605, 418773, 418897, 419095, 419137, 419144, 419241, 419278, 419737, 419774, 419883, 420098, 420226, 420368, 420446, 420464, 420477, 420539, 420548, 420618, 420721, 420931, 420966, 421012, 421330, 421349, 423410, 423478, 425942, 426114, 426226, 426780, 427107, 429368, 429748, 430325, 430352, 430502, 432541, 433023, 433398, 433912, 434166, 434312, 435255, 436788, 437012, 437758, 438585, 438973, 440681, 441880, 442011, 443452, 443611, 443647, 444295, 445581, 447710, 448640, 449564, 449677, 449838, 449919, 450652, 451747, 452389, 453604, 454389, 455326, 455365, 455526, 455648, 457039, 457154, 457268, 457279, 457333, 457510, 457524, 459474, 459883, 460442, 460536, 460960, 461127, 461573, 461691, 461915, 462219, 464665, 464989, 465355, 465752, 466581, 466973, 467542, 468577, 468778, 468947, 469283, 469699, 470280, 470386, 470617, 470753, 471371, 471668, 471804, 473255, 473735, 474228, 474544, 474741, 475066, 475226, 475537, 476191, 476270, 477140, 477646, 477917, 478779, 478906, 479019, 479446, 480255, 480295, 480569, 480921, 481634, 481972, 482149, 482547, 482720, 483030, 483127, 483892, 484269, 484322, 484393, 484719, 485658, 486490, 486965, 487109, 487493, 487512, 488123, 488209, 488388, 488748, 489619, 489932, 490919, 491464, 491771, 492073, 493490, 493837, 494086, 494451, 494743, 494823, 494826, 495859, 496509, 498382, 498971, 499666, 499689, 499956, 500122, 500760, 500948, 501310, 501720, 501795, 502137, 502194, 503054, 503259, 504047, 504401, 505217, 506084, 506135, 506429, 506457, 506956, 507024, 508317, 508442, 508931, 509723, 510280, 510523, 510817, 510825, 511357, 511776, 511908, 512142, 512390, 513026, 513077, 513483, 513653, 513817, 514257, 514803, 514805, 514828, 515197, 515324, 515358, 515639, 515689, 516617, 517237, 517577, 517605, 517669, 517914, 518300, 518592, 518623, 518684, 519310, 519435, 519857, 519879, 520322, 520581, 521141, 521430, 521495, 521695, 522010, 522062, 522585, 523569, 523624, 524546, 525734, 525799, 526081, 526899, 526945, 528194, 528199, 528819, 528915, 529132, 529449, 529765, 530041, 530276, 530390, 530715, 530967, 531141, 531592, 531715, 531944, 532453, 532789, 532969, 533094, 533132, 533561, 533683, 534133, 534157, 534458, 535253, 536116, 537768, 538245, 538307, 538377, 538569, 538952, 539398, 539412, 539551, 539627, 539679, 539807, 540220, 540812, 541382, 541531, 542298, 542734, 542804, 543244, 543730, 543749, 544987, 545297, 545845, 545859, 546324, 546810, 546966, 547400, 547787, 547898, 548026, 548037, 548533, 548768, 549261, 549520, 549668, 550228, 550236, 550534, 551144, 551164, 551184, 551580, 552361, 553760, 553798, 554342, 554919, 554983, 555104, 556062, 556313, 556480, 556825, 556939, 556971, 557146, 557589, 558558, 558691, 558934, 559072, 559178, 559785, 560024, 560597, 560693, 560727, 561845, 563459, 563883, 564118, 564156, 564264, 564862, 565231, 565241, 565330, 565342, 565447, 566092, 566116, 566240, 566439, 566889, 567414, 567592, 567605, 568649, 568877, 568953, 569381, 569800, 570156, 571001, 571174, 571721, 571807, 572567, 572764, 572821, 573066, 573085, 573599, 573707, 573925, 573980, 574151, 574620, 575136, 575957, 575996, 576653, 577114, 577142, 577348, 577671, 577703, 578582, 578691, 578703, 578725, 578947, 578986, 579077, 579210, 579728, 579774, 580106, 580349, 581186, 581596, 582545, 582551, 582822, 583112, 583170, 583387, 583709, 583769, 584403, 584468, 584865, 585247, 586558, 587061, 587297, 588202, 588234, 588252, 588702, 589620, 589639, 590035, 590130, 590376, 590559, 590669, 591354, 591431, 591658, 592411, 592795, 592854, 593003, 594079, 594089, 594110, 594155, 594554, 594614, 594874, 595147, 595473, 595741, 596062, 596350, 596362, 596797, 597108, 597432, 598135, 598449, 598726, 598922, 599183, 601250, 601566, 601849, 602389, 602774, 602895, 602906, 603351, 603776, 604179, 604189, 604259, 604401, 604410, 604599, 605972, 606310, 606436, 607984, 608028, 608331, 608427, 608646, 608765, 608814, 609030, 609155, 610065, 610728, 610999, 611002, 611106, 611111, 611616, 612041, 613389, 613536, 613751, 613894, 614290, 614339, 614567, 614708, 614737, 615277, 615935, 616582, 617424, 618334, 618427, 618528, 619082, 619108, 619357, 619566, 619624, 620363, 621076, 621238, 621718, 621988, 622980, 622991, 624102, 624182, 624319, 624323, 624708, 624913, 625545, 625554, 625580, 625719, 626093, 626153, 626363, 626450, 627526, 627631, 628442, 628454, 628495, 628697, 629389, 629762, 629958, 630441, 631495, 631783, 631795, 631815, 632267, 632279, 633073, 633154, 633263, 633968, 634872, 634979, 635124, 635597, 635779, 637128, 637531, 640202, 640318, 640998, 641825, 642530, 642535, 642757, 643884, 644280, 644324, 644978, 645089, 645524, 645602, 645713, 645747, 646444, 647504, 647896, 648821, 649251, 650070, 651471, 651694, 651771, 651784, 651823, 652142, 652228, 652805, 652832, 653069, 653295, 653296, 653999, 654171, 654456, 655392, 655786, 655788, 655851, 656095, 656450, 656918, 657489, 658436, 658663, 658950, 659074, 659219, 659361, 659907, 660005, 660207, 660322, 660383, 660529, 660724, 660742, 660820, 660823, 661266, 661296, 661305, 661612, 661640, 661790, 662020, 662099, 662136, 662522, 662877, 663175, 663264, 663358, 663376, 663384, 663393, 663490, 663891, 664076, 664142, 664491, 664600, 664845, 665015, 665082, 665131, 665269, 665322, 665738, 665992, 666026, 666062, 666085, 666113, 666195, 666575, 666721, 666798, 666811, 667010, 667205, 667671, 667926, 668250, 668838, 668910, 668926, 669012, 669195, 669744, 669854, 669926, 670153, 670948, 671248, 671304, 671373, 671624, 671995, 672160, 672321, 672328, 672699, 673024, 673031, 673050, 673249, 673350, 673407, 673527, 673853, 673966, 674022, 674387, 675122, 675452, 675586, 675784, 675869, 676155, 676424, 676636, 676734, 676737, 676865, 677050, 677117, 677128, 677129, 677330, 677343, 677530, 677679, 677682, 677699, 677810, 677887, 677994, 678380, 678443, 678753, 678799, 678806, 679009, 679554, 679969, 680079, 680120, 680444, 680547, 680665, 681000, 681094, 681323, 681326, 681386, 681659, 681665, 681692, 681704, 682506, 683097, 683251, 683299, 684155, 684178, 684179, 684232, 684411, 684552, 684761, 684826, 685155, 685169, 685211, 685346, 685372, 685433, 685699, 685793, 685807, 685947, 685968, 686098, 686276, 686565, 686986, 687302, 687494, 687596, 687605, 687900, 688002, 688017, 688334, 688447, 688497, 688977, 689052, 689200, 689519, 689596, 690119, 690592, 690814, 690852, 691243, 691304, 691447, 691577, 691643, 691740, 691745, 691969, 691987, 692161, 692247, 692307, 692572, 692780, 692967, 692970, 692993, 693274, 693643, 693645, 693696, 694254, 694513, 694583, 695075, 695403, 695516, 695558, 695799, 696167, 696639, 696865, 696942, 697518, 697574, 697829, 698031, 698380, 698995, 699075, 699875, 699928, 700028, 700533, 700602, 700845, 701261, 701358, 701524, 701607, 701815, 701831, 701984, 702162, 702440, 702985, 703000, 703452, 704085, 704358, 704425, 704426, 704442, 704505, 704567, 706162, 706313, 706620, 706806, 707017, 707361, 707434, 707778, 707840, 708075, 708239, 708346, 708690, 708838, 709218, 709500, 709552, 709720, 709747, 710571, 710834, 710899, 710906, 711137, 711512, 711620, 711959, 712477, 712928, 712962, 713174, 713407, 714333, 714765, 714805, 714866, 715025, 715119, 715120, 715213, 715228, 715480, 715762, 715959, 716251, 716308, 716401, 716626, 716656, 716681, 716718, 716723, 717177, 717184, 717213, 717411, 717413, 717522, 717687, 717940, 717955, 718293, 718542, 718550, 718562, 718717, 718870, 718970, 719949, 719993, 720053, 720145, 720225, 720266, 720441, 720806, 720822, 721442, 721474, 721499, 721679, 721837, 722069, 722183, 722381, 722681, 722721, 722748, 722841, 723029, 723649, 723785, 724021, 724051, 724168, 724315, 724875, 725015, 725213, 725581, 725986, 726098, 726654, 726765, 726862, 727352, 727392, 727442, 727531, 727776, 727861, 728231, 729503, 729592, 729792, 729940, 729951, 730615, 730647, 730677, 730787, 731246, 731441, 731499, 731519, 731522, 731638, 731659, 731840, 731896, 732004, 732138, 732164, 732264, 732325, 732486, 732526, 732617, 732776, 732807, 733237, 733483, 733513, 733650, 733974, 734098, 734105, 734135, 734330, 734376, 734392, 734465, 734577, 734622, 734709, 734779, 734981, 734986, 735073, 736013, 736173, 736431, 736801, 737014, 737101, 737103, 737530, 737552, 738002, 738066, 738213, 738224, 738427, 738661, 738991, 739204, 739264, 739422, 739728, 739895, 739990, 740080, 740449, 740514, 740839, 740869, 741157, 741472, 741478, 741479, 741563, 741623, 741805, 741826, 741996, 742090, 742104, 742567, 743121, 743370, 743547, 743886, 743991, 744364, 744441, 744569, 745170, 745385, 745564, 745871, 746019, 746337, 746377, 746626, 746731, 746779, 746856, 747130, 747272, 747289, 747502, 747581, 747919, 747936, 748126, 748222, 748261, 748401, 748437, 749429, 749518, 750276, 750352, 750816, 751017, 752711, 752772, 753259, 753450, 754413, 754547, 754558, 756917, 757177, 758074, 761175, 761389, 762023, 764796, 765893, 766067, 771170, 779525, 780323, 781746, 781919, 783547, 783564, 784441, 786344, 789648, 789979, 791299, 793106, 794060, 795157, 795379, 795655, 797251, 798256, 800708, 803430, 804611, 807349, 809737, 810403, 814408, 817510, 817906, 823147, 824223, 825232, 826268, 827296, 828277, 828786, 831355, 831528, 835175, 835806, 836082, 836762, 836809, 837793, 838407, 839795, 841590, 841826, 842297, 844818, 846244, 847627, 849286, 850235, 850472, 850679, 850888, 851041, 851152, 853589, 854624, 856188, 856807, 858468, 861017, 861630, 862584, 863317, 864643, 864954, 865205, 868567, 868819, 869299, 869390, 869759, 871048, 871292, 871649, 876607, 877036, 877104, 877877, 877993, 878440, 879057, 879406, 879620, 880137, 880527, 881341, 881405, 881880, 882859, 883132, 883219, 883803, 884549, 884682, 885763, 885802, 885825, 886233, 886426, 886752, 886771, 886928, 886969, 887573, 887809, 888523, 888551, 888882, 889257, 889462, 889634, 890098, 890142, 890210, 890363, 890690, 890727, 891102, 891382, 892057, 892105, 892117, 892186, 892200, 892802, 893091, 893225, 893515, 893535, 894004, 894144, 894213, 894475, 894763, 894991, 895031, 895748, 896046, 896232, 896618, 896912, 896953, 897073, 897161, 897639, 897680, 897725, 897762, 897903, 898042, 898077, 898557, 899038, 899819, 899845, 900464, 900480, 900648, 900741, 900879, 901153, 901176, 901606, 902776, 902870, 902969, 903152, 903291, 903351, 903727, 904227, 904232, 904631, 904751, 904885, 905005, 905360, 905749, 906075, 906757, 906876, 906881, 907033, 907536, 908328, 909237, 909421, 909760, 909845, 910496, 910816, 911038, 911071, 911904, 912513, 912722, 912771, 913568, 913798, 914055, 914084, 914642, 914912, 915167, 915330, 915653, 915761, 916001, 916231, 916339, 916347, 916523, 916811, 917273, 917379, 917950, 918238, 918406, 918608, 918784, 918967, 919166, 919464, 919732, 919807, 919842, 919913, 920043, 920351, 920420, 920533, 920785, 920789, 920936, 920977, 922124, 922238, 922315, 922490, 922500, 922516, 922532, 922763, 923056, 923198, 924889, 925005, 925336, 926390, 926438, 926662, 926703, 926942, 926949, 927408, 927428, 927543, 928336, 928408, 928578, 929168, 929313, 929410, 929606, 930118, 930279, 930615, 930683, 930854, 930910, 930924, 931022, 931279, 931599, 931643, 931691, 931833, 931938, 932464, 932536, 932629, 932766, 933028, 933693, 933780, 933951, 934132, 934374, 934396, 934520, 934656, 934855, 934975, 935232, 935246, 935830, 935864, 935925, 936162, 936206, 936207, 936504, 937597, 937738, 937787, 937996, 938194, 938195, 938735, 938784, 938871, 939315, 939532, 939690, 939927, 940216, 940268, 940391, 940495, 940927, 941363, 941663, 941679, 941885, 942107, 942143, 942270, 942312, 942983, 943035, 943195, 943302, 943734, 943753, 943758, 943831, 943890, 944050, 944181, 944744, 944772, 944806, 944875, 944914, 945035, 945078, 945348, 946048, 946353, 946378, 946497, 946991, 947163, 947252, 947307, 947435, 948130, 948488, 948489, 948938, 949291, 949482, 949544, 949673, 950084, 950176, 950211, 950928, 951338, 951811, 952150, 952380, 952417, 953116, 953362, 954114, 954119, 954373, 955096, 955221, 955335, 955927, 955948, 955995, 956074, 956087, 956357, 956525, 956550, 957156, 957233, 957313, 957339, 957495, 958063, 958715, 958819, 958884, 959296, 959450, 960217, 960236, 960514, 960774, 960807, 960816, 960936, 961510, 961614, 961626, 961731, 961823, 961830, 961911, 962298, 962354, 962565, 963058, 963222, 963449, 963536, 964033, 964105, 964252, 964813, 965049, 965129, 965497, 965865, 965956, 966668, 966761, 967572, 967698, 968329, 968533, 968569, 968723, 968962, 969058, 969152, 969624, 969905, 970031, 970432, 970709, 970766, 970858, 971116, 971212, 971245, 971476, 971481, 971720, 971788, 971828, 972271, 972524, 972590, 972835, 973311, 973341, 975325, 975583, 975634, 975852, 977067, 977122, 977136, 977277, 977693, 978206, 978639, 978817, 979200, 979797, 979929, 979987, 980083, 980222, 980277, 980538, 981350, 981694, 982065, 983360, 983470, 984225, 984295, 984343, 984389, 984408, 984489, 984540, 984551, 984705, 984967, 985137, 985255, 985564, 985915, 986516, 986846, 986881, 986982, 987059, 987118, 987164, 987733, 987944, 988020, 988118, 988133, 988276, 988520, 988567, 988589, 988766, 988862, 989009, 989150, 989182, 989516, 989536, 989545, 989554, 989591, 989727, 989877, 990452, 990871, 991103, 991326, 991514, 991609, 991648, 991755, 992494, 992904, 992990, 993304, 993726, 993831, 993899, 993962, 994193, 994245, 994253, 994356, 994837, 994904, 994996, 995201, 995210, 995360, 995484, 996074, 996088, 996098, 996118, 996324, 996527, 996573, 996835, 996983, 997245, 997417, 997642, 997658, 997713, 998031, 998103, 998251, 998264, 998289, 998547, 998781, 998809, 998826, 998928, 999436, 999492, 999605, 999696, 1000029, 1000364, 1000658, 1000776, 1001039, 1001249, 1001279, 1001345, 1001395, 1001867, 1002059, 1002081, 1002191, 1002199, 1002347, 1002658, 1002684, 1002836, 1003065, 1003374, 1003577, 1003580, 1004151, 1004297, 1004334, 1004471, 1004849, 1004912, 1005121, 1005180, 1005530, 1005731, 1006184, 1006690, 1006801, 1006809, 1007068, 1007214, 1007282, 1007380, 1007433, 1007485, 1007503, 1008309, 1008443, 1008555, 1008990, 1009159, 1009384, 1010319, 1010327, 1010401, 1010647, 1010687, 1010904, 1010983, 1011001, 1011160, 1011543, 1011819, 1012125, 1012172, 1012491, 1012533, 1012696, 1013205, 1013359, 1013469, 1013617, 1013830, 1013853, 1013869, 1014187, 1014351, 1014437, 1014581, 1014769, 1014882, 1014928, 1014956, 1015320, 1015428, 1015496, 1015699, 1015770, 1015807, 1016070, 1016095, 1016123, 1016217, 1016244, 1016352, 1017091, 1017313, 1017471, 1017569, 1017603, 1017665, 1017695, 1017743, 1018245, 1018262, 1018520, 1018620, 1018752, 1018784, 1019280, 1019392, 1019417, 1019549, 1019628, 1020150, 1020180, 1020269, 1020574, 1020660, 1020699, 1020766, 1021043, 1021186, 1021365, 1021426, 1021520, 1021563, 1021564, 1021583, 1022319, 1022527, 1022572, 1023187, 1023333, 1023370, 1023378, 1023414, 1023524, 1023692, 1023736, 1023939, 1023989, 1024018, 1024037, 1024483, 1024708, 1024999, 1025160, 1025201, 1025279, 1025432, 1025570, 1025645, 1025937, 1025941, 1026073, 1026559, 1026983, 1027278, 1027592, 1027595, 1027704, 1027738, 1027788, 1027945, 1028466, 1028521, 1028546, 1028621, 1028644, 1028712, 1028864, 1029073, 1029076, 1029321, 1029510, 1029537, 1029599, 1029648, 1029651, 1029663, 1029768, 1030008, 1030078, 1030376, 1030596, 1030970, 1031031, 1031351, 1031596, 1031656, 1031712, 1032108, 1032833, 1033028, 1033230, 1033271, 1033428, 1033511, 1034205, 1034651, 1034971, 1035071, 1035186, 1035216, 1035253, 1035772, 1035792, 1035803, 1035917, 1036621, 1036734, 1036961, 1037100, 1037534, 1037723, 1037834, 1037920, 1038004, 1038008, 1038127, 1038209, 1038388, 1038402, 1038991, 1039033, 1039174, 1039300, 1039543, 1039934, 1040192, 1040321, 1040745, 1040972, 1040985, 1041272, 1041573, 1041611, 1041645, 1041956, 1041959, 1041999, 1042095, 1042132, 1042256, 1042317, 1042525, 1042537, 1042578, 1042813, 1042819, 1042838, 1042894, 1042907, 1042935, 1042947, 1042986, 1043018, 1043030, 1043093, 1043176, 1043264, 1043431, 1043446, 1043535, 1043566, 1043575, 1043577, 1043613, 1043737, 1043784, 1043922, 1044317, 1044390, 1044604, 1044724, 1044789, 1044804, 1044977, 1045242, 1045270, 1045390, 1045605, 1045995, 1046056, 1046070, 1046303, 1046443, 1046487, 1046743, 1046959, 1047246, 1047318, 1047468, 1047820, 1048204, 1048345, 1048538, 1048577, 1048611, 1048662, 1048832, 1048842, 1048850, 1048869, 1049058, 1049061, 1049165, 1049167, 1049362, 1049460, 1049461, 1049462, 1049620, 1049704, 1049791, 1049799, 1049982, 1049985, 1050067, 1050374, 1050387, 1050410, 1050732, 1050961, 1051256, 1051360, 1051380, 1051432, 1051544, 1051669, 1051876, 1052061, 1052306, 1052393, 1052575, 1052580, 1052606, 1052696, 1053009, 1053300, 1053454, 1053676, 1053710, 1053797, 1054268, 1054527, 1054821, 1054871, 1054981, 1055884, 1056071, 1056620, 1056638, 1056836, 1056843, 1057050, 1057409, 1057916, 1057957, 1057989, 1058188, 1058240, 1058271, 1058313, 1058337, 1058497, 1058577, 1058591, 1058592, 1058673, 1058683, 1058790, 1058811, 1058934, 1059134, 1059245, 1059350, 1059372, 1059401, 1059568, 1059658, 1059756, 1059998, 1060370, 1060387, 1060517, 1060562, 1060572, 1060576, 1060633, 1060752, 1060847, 1060880, 1060889, 1060914, 1061216, 1061340, 1061377, 1061549, 1061800, 1062002, 1062007, 1062048, 1062205, 1062483, 1062504, 1062565, 1062589, 1063113, 1063200, 1063260, 1063369, 1063654, 1063704, 1063771, 1063778, 1063930, 1064170, 1064196, 1064286, 1064293, 1064461, 1064599, 1064613, 1064958, 1065335, 1065583, 1065631, 1065641, 1065767, 1065772, 1065863, 1065896, 1065905, 1065956, 1066054, 1066097, 1066453, 1066498, 1066550, 1066600, 1066853, 1067146, 1067178, 1067192, 1067248, 1067459, 1067623, 1067667, 1067696, 1067741, 1067818, 1067904, 1068141, 1068227, 1068597, 1068925, 1069091, 1069133, 1069138, 1069234, 1069687, 1069752, 1069904, 1070001, 1070005, 1070071, 1070086, 1070098, 1070223, 1070258, 1070655, 1070678, 1070717, 1071117, 1071191, 1071309, 1071563, 1071640, 1071685, 1071692, 1071696, 1071719, 1071857, 1071863, 1071871, 1071877, 1071883, 1072004, 1072124, 1072515, 1072547, 1072562, 1072565, 1072570, 1072680, 1072708, 1073121, 1073356, 1073400, 1073463, 1073498, 1073510, 1073596, 1073682, 1073744, 1073773, 1073949, 1074150, 1074155, 1074167, 1074333, 1074344, 1074478, 1074535, 1074599, 1074621, 1074961, 1075024, 1075042, 1075165, 1075390, 1075642, 1075895, 1075969, 1076163, 1076174, 1076340, 1076360, 1076817, 1076878, 1076885, 1076907, 1077158, 1077380, 1077508, 1077663, 1077741, 1077858, 1077862, 1077910, 1078151, 1078194, 1078362, 1078465, 1078466, 1078566, 1078598, 1078611, 1078747, 1078825, 1078885, 1078986, 1079093, 1079126, 1079467, 1079471, 1079493, 1079687, 1079784, 1079824, 1079872, 1080108, 1080110, 1080114, 1080261, 1080373, 1080524, 1080650, 1080712, 1080754, 1081010, 1081143, 1081591, 1081685, 1081741, 1081743, 1081813, 1081849, 1081945, 1081980, 1082102, 1082232, 1082262, 1082276, 1082309, 1082567, 1082572, 1082695, 1082698, 1082792, 1082870, 1082885, 1083018, 1083325, 1083331, 1083611, 1083614, 1083758, 1084085, 1084095, 1084129, 1084215, 1084304, 1084528, 1084604, 1084606, 1084682, 1084878, 1085408, 1085536, 1085773, 1085833, 1086050, 1086180, 1086229, 1086242, 1086370, 1086502, 1086554, 1086878, 1086990, 1087016, 1087036, 1087123, 1087131, 1087167, 1087274, 1087438, 1087472, 1087475, 1087669, 1087749, 1087878, 1087892, 1087941, 1088086, 1088093, 1088209, 1088212, 1088273, 1088307, 1088333, 1088355, 1088424, 1088477, 1088711, 1088830, 1088851, 1089001, 1089160, 1089290, 1089370, 1089699, 1089706, 1089785, 1089798, 1089896, 1090010, 1090023, 1090593, 1090701, 1090775, 1090953, 1091067, 1091132, 1091316, 1091328, 1091365, 1091387, 1091398, 1091425, 1091567, 1091843, 1092020, 1092077, 1092177, 1092185, 1092286, 1092348, 1092823, 1092998, 1093056, 1093184, 1093278, 1093322, 1093394, 1093611, 1093650, 1093693, 1094158, 1094304, 1094351, 1094716, 1094721, 1094857, 1094934, 1095027, 1095047, 1095057, 1095099, 1095105, 1095151, 1095168, 1095194, 1095321, 1095375, 1095449, 1095498, 1095935, 1095953, 1096008, 1096086, 1096087, 1096119, 1096195, 1096358, 1096531, 1096571, 1096585, 1096743, 1096915, 1097133, 1097199, 1097401, 1097488, 1097559, 1097590, 1097673, 1097769, 1097882, 1098096, 1098255, 1098256, 1098323, 1098333, 1098499, 1098543, 1098629, 1098663, 1098754, 1098870, 1099207, 1099386, 1099440, 1099763, 1099765, 1099836, 1099920, 1099953, 1099954, 1099960, 1099994, 1100150, 1100280, 1100301, 1100440, 1100449, 1100501, 1100540, 1100610, 1101080, 1101316, 1101325, 1101454, 1101658, 1101723, 1101831, 1101945, 1102066, 1102117, 1102156, 1102231, 1102337, 1102361, 1102533, 1102582, 1102628, 1102689, 1102962, 1103018, 1103054, 1103083, 1103100, 1103258, 1103317, 1103358, 1103508, 1103699, 1103843, 1103853, 1103967, 1103987, 1104015, 1104090, 1104189, 1104260, 1104330, 1104680, 1104851, 1104950, 1105112, 1105267, 1105268, 1105326, 1105437, 1105445, 1105451, 1105497, 1105517, 1105616, 1105622, 1105675, 1105700, 1105828, 1105960, 1106042, 1106060, 1106158, 1106226, 1106389, 1106619, 1106635, 1106673, 1106751, 1106965, 1107139, 1107299, 1107393, 1107445, 1107493, 1107624, 1107779, 1107789, 1107792, 1107877, 1107883, 1107890, 1108020, 1108251, 1108370, 1108908, 1109047, 1109116, 1109146, 1109224, 1109427, 1109469, 1109518, 1109570, 1109662, 1109700, 1109720, 1109749, 1109755, 1109857, 1110254, 1110278, 1110375, 1110384, 1110442, 1110454, 1110522, 1110606, 1110613, 1110792, 1110904, 1111145, 1111281, 1111363, 1111403, 1111481, 1111514, 1111569, 1111689, 1111841, 1111906, 1111960, 1112006, 1112087, 1112134, 1112333, 1112366, 1112603, 1112762, 1112966, 1113190, 1113191, 1113369, 1113609, 1113764, 1114167, 1114277, 1114311, 1114375, 1114443, 1114723, 1114724, 1114981, 1115211, 1115290, 1115354, 1115361, 1115489, 1115604, 1115653, 1115669, 1115823, 1115965, 1115988, 1116035, 1116101, 1116165, 1116172, 1116191, 1116206, 1116213, 1116324, 1116350, 1116396, 1116444, 1116462, 1116495, 1116546, 1116572, 1116687, 1116727, 1116878, 1116976, 1116977, 1117017, 1117159, 1117356, 1117514, 1117624, 1117709, 1117719, 1117880, 1117904, 1118056, 1118115, 1118205, 1118217, 1118313, 1118327, 1118398, 1118461, 1118466, 1118518, 1118536, 1118583, 1118588, 1118836, 1119062, 1119108, 1119143, 1119351, 1119527, 1119760, 1119870, 1119926, 1120017, 1120280, 1120285, 1120321, 1120393, 1120410, 1120536, 1120560, 1120601, 1120854, 1120912, 1121038, 1121049, 1121157, 1121215, 1121234, 1121251, 1121292, 1121578, 1121903, 1121949, 1122038, 1122052, 1122137, 1122175, 1122286, 1122297, 1122366, 1122408, 1122514, 1122565, 1122589, 1122596, 1122626, 1122785, 1122851, 1122867, 1122957, 1122978, 1123119, 1123279, 1123373, 1123564, 1123809, 1123889, 1124358, 1124613, 1124617, 1124831, 1124968, 1125004, 1125195, 1125204, 1125393, 1125568, 1125697, 1126256, 1126271, 1126311, 1126558, 1126661, 1126746, 1126984, 1127033, 1127079, 1127149, 1127245, 1127312, 1127362, 1127592, 1127700, 1127970, 1128439, 1128596, 1128834, 1128944, 1129005, 1129130, 1129308, 1129344, 1129408, 1130566, 1130628, 1130643, 1130645, 1131062, 1131274, 1131434, 1131510, 1132003, 1132010, 1132089, 1132338, 1132476, 1132624, 1132703, 1132978, 1132993, 1133290, 1133465, 1133560, 1133659, 1133818, 1134253, 1134448, 1134461, 1134579, 1134587, 1134736, 1134854, 1134870, 1135304, 1135347, 1135386, 1135419, 1135536, 1135595, 1135670, 1135704, 1136082, 1136086, 1136192, 1136345, 1136362, 1136448, 1137053, 1137282, 1137723, 1138050, 1138190, 1138478, 1138525, 1138554, 1138725, 1138857, 1138986, 1139526, 1139873, 1139907, 1140043, 1140228, 1140285, 1140487, 1140549, 1140655, 1140781, 1140784, 1141535, 1141736, 1142360, 1142510, 1142540, 1142600, 1142930, 1143041, 1143091, 1143198, 1143311, 1143655, 1143726, 1143880, 1143883, 1144107, 1144339, 1144405, 1144569, 1144763, 1145136, 1145473, 1145611, 1145656, 1145686, 1145716, 1145895, 1146166, 1146189, 1146419, 1146478, 1146655, 1146862, 1147096, 1147155, 1147359, 1147404, 1147804, 1147807, 1147997, 1148346, 1148379, 1148582, 1148738, 1148739, 1148843, 1148892, 1149246, 1149272, 1149292, 1149583, 1149863, 1149927, 1149990, 1150016, 1150304, 1150392, 1150408, 1151311, 1151362, 1151475, 1152484, 1152530, 1152813, 1153017, 1153199, 1153214, 1154279, 1154467, 1154766, 1154898, 1154902, 1155251, 1155356, 1155507, 1155553, 1155577, 1155594, 1155652, 1156024, 1156670, 1156753, 1156877, 1157243, 1157280, 1157431, 1157912, 1157986, 1158308, 1158612, 1158792, 1159008, 1159044, 1159094, 1159158, 1159535, 1159693, 1159717, 1159725, 1160020, 1160051, 1160086, 1160588, 1160624, 1160791, 1160894, 1161025, 1161134, 1161254, 1161267, 1161474, 1161570, 1161653, 1161927, 1161972, 1162197, 1162508, 1162532, 1162841, 1162875, 1162947, 1163205, 1163243, 1163331, 1163400, 1163909, 1163980, 1164296, 1164705, 1164875, 1164961, 1165020, 1165143, 1165220, 1165232, 1165361, 1165405, 1165693, 1166054, 1166191, 1166578, 1166616, 1166774, 1167000, 1167033, 1167240, 1167379, 1167428, 1167440, 1167609, 1167635, 1167851, 1167953, 1168074, 1168602, 1168609, 1168759, 1169048, 1169057, 1169280, 1169281, 1169287, 1169430, 1169498, 1169975, 1170249, 1170344, 1170356, 1170498, 1170556, 1170606, 1170681, 1170684, 1170771, 1170816, 1171170, 1171199, 1171247, 1171327, 1171421, 1171551, 1171716, 1171729, 1171758, 1171964, 1172006, 1172343, 1172696, 1173228, 1173240, 1173477, 1173478, 1173630, 1173700, 1173736, 1174136, 1174311, 1175063, 1175194, 1175438, 1176020, 1176552, 1176954, 1177015, 1177159, 1177724, 1177836, 1177846, 1177992, 1178048, 1178087, 1178230, 1178292, 1178439, 1178442, 1178742, 1178880, 1179070, 1179372, 1179557, 1180717, 1180943, 1181335, 1181357, 1181636, 1181758, 1182423, 1182528, 1182570, 1182576, 1182625, 1182627, 1182688, 1183147, 1183814, 1183862, 1183995, 1184017, 1184084, 1184095, 1184128, 1184295, 1184456, 1184527, 1184718, 1184844, 1185088, 1185240, 1185430, 1185583, 1185720, 1185772, 1185813, 1185896, 1186039, 1186168, 1186881, 1186962, 1187122, 1187255, 1187258, 1187375, 1187767, 1187890, 1187921, 1188649, 1188816, 1189001, 1189209, 1189262, 1189302, 1189311, 1189321, 1189675, 1189678, 1190066, 1190096, 1190231, 1190548, 1190968, 1190975, 1191002, 1191099, 1191137, 1191291, 1191585, 1191772, 1191866, 1191973, 1192341, 1192405, 1192411, 1192890, 1192904, 1192952, 1193113, 1193167, 1193354, 1193368, 1193600, 1193604, 1193718, 1193786, 1193834, 1193850, 1193954, 1194039, 1194082, 1194110, 1194146, 1194245, 1194293, 1194364, 1194615, 1194740, 1195077, 1195290, 1195317, 1195347, 1195401, 1195740, 1195882, 1195894, 1196332, 1196335, 1196393, 1196492, 1196592, 1196610, 1196966, 1197044, 1197336, 1197337, 1197348, 1197743, 1197816, 1197870, 1197901, 1197929, 1197999, 1198093, 1198104, 1198214, 1198305, 1198309, 1198541, 1198558, 1198806, 1198824, 1199284, 1199734, 1199912, 1199991, 1200030, 1200085, 1200138, 1200149, 1200363, 1200474, 1200490, 1200932, 1200981, 1201077, 1201117, 1201331, 1201884, 1202021, 1202829, 1202996, 1203030, 1203168, 1203251, 1203502, 1203506, 1203600, 1203899, 1204179, 1204487, 1204542, 1204559, 1204605, 1204713, 1204966, 1205079, 1205084, 1205357, 1205747, 1205792, 1205913, 1206076, 1206132, 1206275, 1206492, 1206601, 1206667, 1206895, 1207022, 1207026, 1207560, 1207583, 1207812, 1208070, 1208134, 1208185, 1208193, 1208296, 1208308, 1208452, 1208633, 1208750, 1208799, 1209303, 1209352, 1209465, 1209614, 1209712, 1209889, 1209970, 1209979, 1209991, 1210167, 1210342, 1210434, 1211474, 1211606, 1211725, 1212014, 1212142, 1212143, 1212209, 1212382, 1212586, 1212706, 1212963, 1213009, 1213152, 1213295, 1213356, 1213417, 1213435, 1213528, 1213543, 1213646, 1213655, 1213695, 1213724, 1213811, 1213914, 1213976, 1214040, 1214476, 1214632, 1214684, 1214786, 1215008, 1215539, 1215655, 1215822, 1215966, 1216367, 1216730, 1216870, 1216892, 1217625, 1217637, 1217860, 1217923, 1217987, 1217991, 1218514, 1218893, 1218914, 1219150, 1219236, 1219524, 1219718, 1219723, 1219878, 1220102, 1220197, 1220333, 1220571, 1220780, 1220881, 1221180, 1221261, 1221490, 1221552, 1221659, 1221663, 1221796, 1221937, 1222059, 1222111, 1222211, 1222227, 1222350, 1222645, 1222706, 1222729, 1222892, 1223072, 1223253, 1223293, 1223428, 1223593, 1223623, 1223726, 1223782, 1223875, 1223976, 1224460, 1224657, 1224773, 1224894, 1225012, 1225100, 1225570, 1225585, 1226316, 1226434, 1226848, 1226943, 1227097, 1227313, 1227445, 1227608, 1227675, 1227785, 1227995, 1228073, 1228086, 1228092, 1228180, 1228242, 1228452, 1228492, 1228640, 1228702, 1228793, 1228801, 1228820, 1229675, 1229729, 1229793, 1229889, 1230011, 1230181, 1230186, 1230322, 1230343, 1230563, 1230700, 1231133, 1231404, 1231896, 1231913, 1232071, 1232207, 1232304, 1232664, 1232884, 1233024, 1233509, 1233682, 1233812, 1233936, 1233986, 1234023, 1234024, 1234490, 1234906, 1234996, 1235152, 1235265, 1235355, 1236055, 1236191, 1236405, 1236417, 1236720, 1237374, 1237996, 1238063, 1238186, 1238524, 1238610, 1238640, 1239014, 1239143, 1239610, 1239700, 1239801, 1240007, 1240239, 1240634, 1240905, 1240946, 1241215, 1241623, 1241685, 1241867, 1241918, 1241942, 1241969, 1242484, 1243345, 1243492, 1243636, 1243884, 1243929, 1243999, 1244038, 1244069, 1244265, 1244497, 1245096, 1245175, 1245353, 1245655, 1246452, 1246630, 1246722, 1246862, 1246999, 1247210, 1247305, 1247364, 1247419, 1247542, 1247628, 1247689, 1248298, 1248748, 1249082, 1249163, 1249281, 1249291, 1250150, 1251063, 1251065, 1251100, 1251258, 1251767, 1251871, 1252554, 1253626, 1253695, 1254150, 1254317, 1254355, 1254417, 1254447, 1254642, 1254663, 1255064, 1255378, 1255679, 1255982, 1255993, 1256610, 1257418, 1257455, 1257719, 1257877, 1257916, 1257971, 1257977, 1257982, 1258178, 1258234, 1258351, 1258934, 1259168, 1259464, 1259646, 1259693, 1259823, 1259838, 1259871, 1260062, 1260228, 1260263, 1260393, 1260464, 1260538, 1260617, 1260647, 1260691, 1261039, 1261211, 1261297, 1261564, 1261925, 1262116, 1262964, 1263033, 1263147, 1263166, 1263200, 1263281, 1263313, 1263362, 1263536, 1263634, 1263652, 1263660, 1263904, 1264298, 1264416, 1264430, 1264618, 1265205, 1265247, 1265363, 1265515, 1265646, 1266118, 1266334, 1266627, 1266712, 1267288, 1267578, 1267606, 1267903, 1267944, 1267981, 1268338, 1268371, 1268791, 1268940, 1269182, 1269255, 1269479, 1269492, 1269556, 1269565, 1269581, 1269923, 1270075, 1270313, 1270787, 1270905, 1271110, 1271220, 1271262, 1271269, 1271326, 1271346, 1271602, 1271843, 1271895, 1271959, 1272196, 1272223, 1272654, 1272733, 1272780, 1273093, 1273228, 1273252, 1273487, 1273805, 1273883, 1273993, 1274019, 1274195, 1274465, 1274525, 1274576, 1274652, 1275034, 1275452, 1275657, 1275671, 1275919, 1275936, 1275948, 1276025, 1276040, 1276279, 1276343, 1276399, 1276537, 1276568, 1277286, 1277485, 1277818, 1278065, 1278160, 1278219, 1278485, 1278635, 1278664, 1279047, 1279176, 1279345, 1279425, 1279684, 1279791, 1280048, 1280226, 1280412, 1280538, 1280560, 1280580, 1281080, 1281212, 1281388, 1281597, 1281626, 1281642, 1281864, 1281921, 1282053, 1282298, 1282391, 1282935, 1283148, 1283174, 1283220, 1283332, 1283604, 1284248, 1284472, 1284522, 1284535, 1284685, 1284889, 1285157, 1285257, 1285367, 1285721, 1285920, 1286621, 1286677, 1286832, 1286966, 1287695, 1288068, 1288119, 1288239, 1288286, 1288475, 1288495, 1288910, 1289298, 1289340, 1289368, 1289408, 1289421, 1289577, 1289957, 1290305, 1290685, 1290706, 1290763, 1290770, 1290826, 1290970, 1291116, 1291637, 1291751, 1291977, 1292077, 1292349, 1292391, 1292543, 1292763, 1292841, 1292863, 1292864, 1292951, 1293185, 1293276, 1293335, 1293405, 1293419, 1293666, 1293711, 1293722, 1293824, 1293958, 1294044, 1294329, 1294352, 1294385, 1294737, 1294794, 1294795, 1294813, 1295149, 1295208, 1295473, 1296245, 1296469, 1296534, 1296549, 1296924, 1297099, 1297179, 1297214, 1297241, 1297260, 1297478, 1297490, 1297654, 1298355, 1298387, 1298541, 1298555, 1298570, 1298740, 1298745, 1298774, 1298839, 1299163, 1299321, 1299699, 1299805, 1299848, 1299878, 1299914, 1299988, 1300162, 1300165, 1300167, 1300200, 1300236, 1300453, 1300475, 1300668, 1300711, 1300755, 1301091, 1301127, 1301286, 1301421, 1301545, 1301603, 1301637, 1301684, 1301920, 1302176, 1302514, 1302711, 1302803, 1302934, 1303176, 1303327, 1303604, 1303799, 1303970, 1304587, 1304601, 1304714, 1304719, 1305246, 1305249, 1305395, 1305570, 1305693, 1305752, 1305966, 1306189, 1306403, 1306497, 1306571, 1306709, 1306711, 1306722, 1306941, 1307279, 1307351, 1307394, 1307542, 1307738, 1307906, 1307910, 1307930, 1308234, 1308881, 1308882, 1308923, 1309027, 1309082, 1309289, 1309303, 1309371, 1309510, 1309724, 1309832, 1309889, 1310155, 1310220, 1310450, 1310592, 1310993, 1311444, 1311572, 1312278, 1312474, 1312485, 1312672, 1312752, 1312778, 1313024, 1313327, 1313462, 1313875, 1314025, 1314120, 1314243, 1314388, 1314423, 1314440, 1314590, 1315131, 1315160, 1315315, 1315341, 1315367, 1315369, 1315490, 1315494, 1315505, 1316042, 1316084, 1316276, 1316403, 1316439, 1316645, 1316676, 1316974, 1317026, 1317202, 1317237, 1317413, 1317598, 1317737, 1317956, 1318028, 1318272, 1319383, 1319394, 1319625, 1319664, 1319893, 1319962, 1321001, 1321166, 1321353, 1321381, 1321467, 1321745, 1321779, 1321824, 1321988, 1322345, 1322512, 1322858, 1322881, 1323018, 1323626, 1324242, 1324393, 1324458, 1324559, 1324713, 1325050, 1325374, 1325508, 1325613, 1325677, 1325698, 1325839, 1326352, 1326401, 1326416, 1326483, 1326557, 1326890, 1326912, 1327007, 1327232, 1327533, 1327663, 1327738, 1327793, 1327807, 1327882, 1327920, 1327961, 1327985, 1328032, 1328321, 1328413, 1328513, 1328810, 1328831, 1328996, 1329074, 1329398, 1329466, 1329602, 1329702, 1329706, 1329856, 1329981, 1330199, 1330682, 1330870, 1331372, 1331380, 1331652, 1331803, 1332013, 1332092, 1332102, 1332270, 1332548, 1332563, 1332635, 1332670, 1332729, 1332774, 1332839, 1333704, 1333976, 1334037, 1334217, 1334506, 1334511, 1334763, 1334934, 1335028, 1335170, 1335600, 1335796, 1335878, 1336154, 1336343, 1336406, 1336438, 1336719, 1336876, 1337306, 1337333, 1337356, 1337622, 1337818, 1337821, 1338296, 1338352, 1338390, 1338416, 1338598, 1338610, 1338611, 1338938, 1338968, 1339034, 1339415, 1339626, 1340253, 1340280, 1340555, 1340641, 1340861, 1340971, 1341281, 1341441, 1341648, 1341773, 1342027, 1342218, 1342444, 1342503, 1342926, 1343198, 1343380, 1343813, 1343886, 1343899, 1343960, 1344358, 1344398, 1344760, 1344784, 1345478, 1345515, 1345535, 1346012, 1346111, 1346223, 1346333, 1346412, 1346431, 1346475, 1346675, 1346920, 1346967, 1347128, 1347300, 1347330, 1347487, 1347649, 1347795, 1347846, 1347999, 1348223, 1348239, 1348269, 1348359, 1349082, 1349132, 1349557, 1349715, 1349729, 1349861, 1350031, 1350058, 1350278, 1350785, 1350985, 1351203, 1351537, 1351667, 1351673, 1351814, 1351972, 1352092, 1352131, 1352409, 1352416, 1352575, 1352586, 1352608, 1352768, 1353258, 1355940, 1356501, 1358184, 1360376, 1360961, 1361078, 1362088, 1363131, 1363849, 1364818, 1366079, 1366533, 1368829, 1369860, 1371794, 1376712, 1381111, 1384173, 1384450, 1385049, 1386298, 1387772, 1388139, 1388969, 1392341, 1397324, 1399566, 1402505, 1406470, 1411085, 1413360, 1417483, 1418026, 1418176, 1418277, 1419043, 1419121, 1419595, 1422405, 1424322, 1424891, 1426910, 1427393, 1428233, 1431345, 1431837, 1433539, 1433563, 1435933, 1436623, 1437307, 1438403, 1439204, 1439582, 1440914, 1441928, 1444407, 1444706, 1444901, 1445095, 1446035, 1446272, 1451143, 1451148, 1453843, 1453860, 1453881, 1457005, 1464173, 1465701, 1465779, 1465796, 1466325, 1467138, 1469546, 1473249, 1476523, 1478853, 1479522, 1479942, 1480163, 1480415, 1480517, 1482783, 1483105, 1484196, 1484918, 1485022, 1489400, 1489488, 1491174, 1492554, 1492656, 1493032, 1493820, 1494031, 1494036, 1494283, 1494869, 1494919, 1495488, 1496214, 1497258, 1497874, 1498079, 1498788, 1500422, 1500446, 1500988, 1501495, 1503367, 1504277, 1505380, 1505489, 1505705, 1506014, 1506106, 1506232, 1507202, 1507928, 1508512, 1508543, 1508834, 1509315, 1510324, 1510944, 1511126, 1512370, 1512375, 1513267, 1514294, 1514433, 1515367, 1515791, 1516603, 1517133, 1517752, 1518673, 1519352, 1519439, 1519547, 1519668, 1520023, 1520204, 1520255, 1520430, 1521495, 1523755, 1524554, 1524835, 1524901, 1525219, 1525271, 1525318, 1527619, 1527657, 1528431, 1529186, 1530244, 1530789, 1531155, 1532317, 1534183, 1534518, 1535237, 1535773, 1535859, 1535895, 1536220, 1536327, 1537781, 1538248, 1539706, 1539763, 1539882, 1540737, 1543148, 1543496, 1544069, 1544258, 1545570, 1548121, 1548456, 1549297, 1551269, 1551354, 1554904, 1555663, 1556902, 1557023, 1558247, 1559109, 1559766, 1559807, 1559997, 1560335, 1564947, 1565028, 1565212, 1565339, 1566117, 1566404, 1566989, 1567313, 1568243, 1568498, 1568764, 1568826, 1569058, 1569259, 1569872, 1570236, 1570627, 1571389, 1571691, 1572761, 1573433, 1573470, 1573660, 1574703, 1575994, 1576022, 1576105, 1576186, 1576252, 1576849, 1577432, 1577653, 1577664, 1577863, 1577911, 1578167, 1579477, 1581837, 1582692, 1582735, 1582769, 1585231, 1586128, 1586222, 1586748, 1587305, 1588300, 1589341, 1589618, 1589857, 1590554, 1590694, 1590959, 1591178, 1595699, 1596935, 1597105, 1597109, 1597304, 1597775, 1597926, 1598362, 1598623, 1598676, 1598697, 1599410, 1599496, 1600158, 1600574, 1601588, 1602154, 1603425, 1603680, 1605118, 1605154, 1605260, 1605343, 1605470, 1605814, 1607231, 1607294, 1609793, 1610222, 1611372, 1611541, 1611632, 1613346, 1613503, 1613690, 1613693, 1613721, 1614023, 1614249, 1614847, 1615105, 1615385, 1615435, 1615447, 1615508, 1615804, 1615841, 1615935, 1616317, 1616554, 1616837, 1617064, 1617201, 1617212, 1617278, 1617538, 1617566, 1617570, 1617677, 1617718, 1617889, 1617913, 1617969, 1618078, 1618250, 1618456, 1618673, 1618797, 1619003, 1619147, 1619411, 1619431, 1619449, 1619505, 1619539, 1619695, 1619744, 1619775, 1620439, 1620522, 1620546, 1620566, 1620826, 1621048, 1621158, 1621219, 1621454, 1621710, 1622412, 1622529, 1623159, 1623331, 1623495, 1623540, 1623774, 1623802, 1623841, 1623899, 1624181, 1624443, 1624697, 1624704, 1624995, 1625058, 1625062, 1625123, 1625137, 1625328, 1625398, 1625422, 1625913, 1626095, 1626159, 1626474, 1626549, 1626575, 1626791, 1626826, 1627306, 1627375, 1628108, 1628292, 1628326, 1628341, 1628495, 1629349, 1629519, 1629705, 1629814, 1630057, 1630327, 1630808, 1631100, 1631514, 1631776, 1631781, 1631855, 1631987, 1632230, 1632311, 1632397, 1632646, 1632744, 1632811, 1633226, 1633312, 1633323, 1633356, 1633446, 1633504, 1633689, 1633734, 1633926, 1634110, 1634381, 1634468, 1634534, 1634784, 1634825, 1634919, 1635497, 1636112, 1636298, 1636402, 1636532, 1636558, 1636680, 1636758, 1636928, 1636990, 1637092, 1637115, 1637130, 1637591, 1637710, 1637767, 1637915, 1638087, 1638131, 1638420, 1638530, 1638623, 1638652, 1639329, 1639512, 1639779, 1639797, 1640295, 1640388, 1640803, 1640823, 1640854, 1640937, 1640977, 1641587, 1641614, 1641662, 1641678, 1641959, 1642055, 1642145, 1642376, 1642487, 1642574, 1642633, 1642692, 1643113, 1643215, 1643404, 1643415, 1643501, 1643681, 1643692, 1643811, 1644045, 1644051, 1644218, 1644233, 1644339, 1644387, 1644578, 1644705, 1644861, 1644907, 1645010, 1645065, 1645071, 1645161, 1645380, 1645403, 1645438, 1645644, 1645757, 1645924, 1645930, 1646026, 1646132, 1646245, 1646252, 1646318, 1646479, 1646502, 1646532, 1646560, 1646647, 1646869, 1647475, 1647905, 1648094, 1648122, 1648167, 1648311, 1648327, 1648422, 1648835, 1649633, 1649742, 1650270, 1650639, 1651037, 1651046, 1651282, 1651386, 1651502, 1651559, 1654586, 1654690, 1655268, 1655434, 1655558, 1656553, 1656609, 1657958, 1658027, 1658088, 1658297, 1658370, 1658425, 1658571, 1659284, 1659534, 1659899, 1660057, 1660256, 1660337, 1660655, 1661035, 1661206, 1661672, 1661901, 1661998, 1662699, 1663089, 1663155, 1664119, 1664185, 1664322, 1665242, 1666092, 1666137, 1666349, 1666352, 1666473, 1666542, 1666591, 1666592, 1666902, 1666930, 1666943, 1667042, 1667395, 1667517, 1667572, 1669049, 1669227, 1669270, 1669690, 1669709, 1669786, 1670107, 1670238, 1670521, 1670603, 1670751, 1670914, 1671353, 1671424, 1671785, 1672399, 1672541, 1672853, 1673579, 1673608, 1673803, 1673985, 1674428, 1674630, 1674734, 1674897, 1675129, 1675370, 1675518, 1675665, 1675701, 1675914, 1676101, 1676194, 1676335, 1676512, 1676516, 1677239, 1677319, 1677495, 1677861, 1678430, 1678705, 1678728, 1678986, 1679122, 1679341, 1679519, 1679611, 1680472, 1680913, 1680968, 1681228, 1681269, 1682168, 1682208, 1682267, 1682292, 1682630, 1682989, 1683091, 1683704, 1684038, 1684176, 1684477, 1684548, 1684763, 1684835, 1686182, 1687127, 1687251, 1687356, 1687611, 1687749, 1687947, 1688372, 1688595, 1688614, 1688859, 1688880, 1688883, 1688903, 1688965, 1689076, 1689253, 1689394, 1689644, 1690068, 1690191, 1691456, 1691958, 1692301, 1693249, 1693368, 1693986, 1694087, 1694543, 1694838, 1695284, 1695336, 1695541, 1695844, 1696120, 1696224, 1696274, 1696432, 1697479, 1697632, 1697684, 1697689, 1697788, 1697904, 1698369, 1698608, 1699254, 1699288, 1699672, 1699697, 1699783, 1700477, 1700537, 1700624, 1701179, 1701883, 1702686, 1703205, 1703490, 1703744, 1703869, 1703909, 1704118, 1704156, 1704984, 1705156, 1705346, 1705586, 1706406, 1706576, 1707327, 1707901, 1708196, 1708285, 1708398, 1708454, 1708685, 1708818, 1708996, 1709339, 1709935, 1710031, 1710340, 1710768, 1711330, 1711479, 1711608, 1711732, 1711858, 1711903, 1712050, 1712103, 1712350, 1712531, 1712661, 1712688, 1712915, 1713211, 1714018, 1714072, 1714252, 1714548, 1714618, 1714624, 1715010, 1715119, 1715161, 1715193, 1715246, 1715311, 1715703, 1716471, 1716717, 1716723, 1716878, 1717024, 1717486, 1717744, 1717812, 1717841, 1718389, 1718462, 1718494, 1718723, 1718892, 1719181, 1719293, 1719308, 1719332, 1719582, 1720773, 1720813, 1721012, 1721624, 1721973, 1722039, 1722195, 1722282, 1722289, 1722345, 1722488, 1722706, 1722915, 1723493, 1723626, 1723719, 1723905, 1724133, 1724158, 1724290, 1724392, 1724409, 1724703, 1724721, 1724766, 1724907, 1725330, 1725702, 1725756, 1725797, 1725945, 1725976, 1726312, 1726861, 1728140, 1728195, 1728463, 1728873, 1729057, 1729173, 1729447, 1729753, 1730033, 1730293, 1730786, 1730967, 1731152, 1731177, 1731339, 1731483, 1731684, 1732100, 1733505, 1733882, 1734588, 1734956, 1735210, 1735526, 1736018, 1736154, 1736501, 1736541, 1736627, 1736879, 1737665, 1737717, 1737837, 1737866, 1738217, 1738242, 1738295, 1738444, 1738837, 1738967, 1739022, 1739153, 1739266, 1739288, 1739357, 1739396, 1739735, 1739822, 1740100, 1740203, 1740221, 1740250, 1740461, 1740547, 1740605, 1740926, 1741210, 1741407, 1741556, 1742252, 1742447, 1742790, 1743009, 1743083, 1743134, 1744375, 1744664, 1744855, 1746043, 1746132, 1746134, 1746543, 1746831, 1747153, 1747261, 1747492, 1747531, 1747667, 1748112, 1748871, 1750203, 1750637, 1750882, 1750891, 1751100, 1751161, 1751201, 1751230, 1751361, 1751672, 1751809, 1752695, 1752769, 1752982, 1753197, 1753410, 1753468, 1753514, 1753562, 1753986, 1754336, 1754383, 1754843, 1754961, 1755203, 1755271, 1755282, 1755596, 1755697, 1755812, 1755833, 1756119, 1756154, 1756612, 1756643, 1756856, 1756883, 1757330, 1757514, 1757525, 1757530, 1757783, 1757785, 1757854, 1757952, 1757983, 1758353, 1758647, 1758706, 1758952, 1758974, 1759010, 1759034, 1759062, 1759092, 1759199, 1759274, 1759496, 1759581, 1759706, 1759845, 1759927, 1760077, 1760188, 1760249, 1760264, 1760415, 1760832, 1760889, 1761106, 1761313, 1761888, 1762030, 1762309, 1762321, 1762359, 1762543, 1762736, 1762832, 1763164, 1763185, 1763396, 1763726, 1763738, 1763742, 1764030, 1764731, 1764734, 1764894, 1764895, 1765086, 1765566, 1765611, 1765640, 1765968, 1766110, 1766165, 1766206, 1766518, 1766574, 1767000, 1767011, 1767117, 1767196, 1767286, 1767353, 1767464, 1768030, 1768425, 1768580, 1768757, 1769005, 1769246, 1769645, 1769656, 1769787, 1769973, 1770124, 1770216, 1770582, 1770834, 1771745, 1772775, 1772820, 1772853, 1772975, 1773123, 1773191, 1773246, 1773452, 1773528, 1773614, 1773706, 1773729, 1773824, 1774100, 1774432, 1774459, 1774534, 1775081, 1775196, 1775323, 1775740, 1775770, 1775969, 1776058, 1776354, 1776587, 1776753, 1777079, 1777391, 1777530, 1777990, 1778124, 1778128, 1778212, 1778307, 1778758, 1779134, 1779403, 1779419, 1779840, 1780000, 1780235, 1780449, 1780774, 1780775, 1780881, 1781158, 1781231, 1781720, 1781999, 1782291, 1782351, 1782385, 1782425, 1782537, 1783424, 1783654, 1783792, 1783991, 1784481, 1784684, 1784721, 1785282, 1785695, 1785922, 1786024, 1786667, 1787491, 1787648, 1788019, 1788056, 1788401, 1788608, 1788892, 1789020, 1789630, 1789691, 1789829, 1789986, 1790361, 1790611, 1790634, 1791056, 1791583, 1791627, 1793115, 1793157, 1793521, 1793570, 1793936, 1794255, 1794688, 1794845, 1795888, 1796171, 1796401, 1796422, 1796812, 1796975, 1797464, 1797550, 1797587, 1797913, 1798047, 1798639, 1798658, 1799147, 1799588, 1799775, 1799907, 1800473, 1800632, 1800718, 1800827, 1800923, 1801031, 1801438, 1801542, 1801808, 1801968, 1802022, 1802216, 1802548, 1802603, 1802818, 1803127, 1803202, 1803628, 1804190, 1804193, 1804622, 1804835, 1804959, 1805059, 1805129, 1805156, 1805523, 1805533, 1805634, 1806191, 1806497, 1806603, 1806644, 1807137, 1807664, 1807857, 1808301, 1808308, 1808320, 1808414, 1808467, 1808473, 1808491, 1808578, 1808798, 1808956, 1809027, 1809201, 1809305, 1809537, 1809931, 1809979, 1810133, 1810165, 1810319, 1810382, 1810498, 1810549, 1810564, 1810686, 1811200, 1811278, 1811982, 1812020, 1812179, 1812439, 1812448, 1812600, 1812642, 1813297, 1813606, 1814358, 1814399, 1815230, 1815239, 1815939, 1816827, 1816836, 1817800, 1817804, 1817845, 1817989, 1818007, 1818088, 1818138, 1818470, 1818616, 1818928, 1819070, 1819198, 1819206, 1819259, 1819676, 1819865, 1820716, 1821673, 1822134, 1822211, 1822261, 1822293, 1822299, 1822333, 1822357, 1822665, 1822936, 1822974, 1822975, 1823667, 1823796, 1823887, 1823947, 1824092, 1824322, 1824804, 1825009, 1825020, 1825439, 1825606, 1826042, 1826153, 1826284, 1826402, 1826511, 1826834, 1826949, 1827301, 1827421, 1827841, 1828136, 1828173, 1828332, 1828545, 1828765, 1828818, 1828852, 1829304, 1829399, 1829749, 1829947, 1830135, 1830197, 1830413, 1830642, 1830956, 1831500, 1831657, 1831731, 1831861, 1832230, 1832373, 1832522, 1832696, 1832767, 1832929, 1833056, 1833057, 1833201, 1833246, 1833415, 1833788, 1833982, 1834051, 1834099, 1834105, 1834353, 1834476, 1834594, 1834831, 1834934, 1835055, 1835357, 1835949, 1836157, 1836626, 1836628, 1836783, 1836815, 1837435, 1837921, 1838014, 1838327, 1838346, 1838352, 1838439, 1838496, 1838679, 1838986, 1839574, 1839736, 1839760, 1839982, 1840165, 1840521, 1840983, 1841047, 1841076, 1841945, 1842390, 1842490, 1843164, 1843408, 1844848, 1844872, 1845141, 1845220, 1845306, 1845864, 1846068, 1846150, 1846394, 1846437, 1846449, 1846619, 1846945, 1847011, 1847047, 1847371, 1847446, 1847692, 1847839, 1847921, 1847961, 1848052, 1848210, 1848403, 1848416, 1848540, 1849497, 1849532, 1849590, 1849784, 1849801, 1849897, 1849963, 1849975, 1850662, 1850778, 1850828, 1850833, 1851527, 1851784, 1851840, 1851892, 1852039, 1852231, 1852272, 1852318, 1853226, 1853511, 1853526, 1853536, 1853619, 1853751, 1853890, 1854146, 1854199, 1854255, 1854439, 1854501, 1854678, 1854935, 1854952, 1855285, 1855310, 1855558, 1855789, 1855814, 1855896, 1856117, 1856353, 1856490, 1856585, 1856660, 1856780, 1857021, 1857143, 1857177, 1857202, 1857371, 1857444, 1857447, 1857477, 1857525, 1857542, 1857591, 1857597, 1857884, 1857896, 1857998, 1858193, 1858519, 1858705, 1858775, 1858868, 1858883, 1858916, 1858919, 1859130, 1859191, 1859349, 1859777, 1859825, 1860038, 1860307, 1860745, 1861460, 1861568, 1861892, 1861973, 1862087, 1862094, 1862157, 1862912, 1862966, 1863212, 1863340, 1863569, 1864082, 1864107, 1864517, 1864565, 1864719, 1865119, 1865759, 1866089, 1866422, 1866504, 1866532, 1866650, 1866655, 1866822, 1867360, 1867395, 1867473, 1867496, 1867617, 1867634, 1867859, 1867997, 1868344, 1868361, 1868460, 1868764, 1868792, 1868803, 1869093, 1869098, 1869172, 1869357, 1869373, 1869480, 1869552, 1870059, 1870300, 1870433, 1870564, 1870957, 1871338, 1871479, 1871643, 1872324, 1872440, 1872905, 1873068, 1873613, 1873956, 1874395, 1874475, 1874497, 1874559, 1875193, 1875203, 1875300, 1875330, 1875435, 1875808, 1876052, 1876500, 1876752, 1876806, 1876812, 1877089, 1877142, 1877237, 1877279, 1877359, 1877411, 1877511, 1877746, 1877957, 1878262, 1878655, 1878792, 1879095, 1879351, 1879631, 1879647, 1879795, 1879849, 1880230, 1880351, 1880415, 1880806, 1880934, 1881395, 1881610, 1881778, 1882100, 1882231, 1882240, 1882338, 1882551, 1882580, 1882747, 1882946, 1883126, 1883489, 1883497, 1883503, 1883606, 1883757, 1884200, 1884325, 1884796, 1885375, 1885394, 1885423, 1885693, 1885721, 1885750, 1885806, 1885904, 1886005, 1886038, 1886195, 1886348, 1886646, 1886649, 1886728, 1886811, 1886945, 1886983, 1887040, 1887266, 1887308, 1887414, 1887424, 1887726, 1887901, 1888186, 1888212, 1888716, 1888802, 1888806, 1888816, 1888934, 1889054, 1889255, 1889642, 1889812, 1890147, 1890244, 1890369, 1890384, 1890507, 1890714, 1890857, 1891257, 1891340, 1891451, 1891549, 1891614, 1891752, 1891867, 1891947, 1892109, 1892207, 1892289, 1892575, 1892931, 1893024, 1893287, 1893646, 1893885, 1893917, 1893949, 1894015, 1895097, 1895224, 1895290, 1895361, 1895398, 1895512, 1895877, 1896111, 1896266, 1896476, 1896747, 1896756, 1896808, 1896813, 1896890, 1896972, 1897460, 1898110, 1898179, 1898463, 1898800, 1898874, 1898969, 1899009, 1899266, 1899360, 1899455, 1899661, 1900489, 1900718, 1900725, 1900961, 1901158, 1901233, 1901264, 1901411, 1901491, 1901717, 1901890, 1901997, 1902096, 1902148, 1902205, 1902691, 1902763, 1902877, 1902885, 1902960, 1902999, 1903108, 1903142, 1903359, 1903717, 1904441, 1904463, 1904623, 1905708, 1905921, 1906069, 1906620, 1906659, 1906719, 1907332, 1907345, 1907498, 1907690, 1909021, 1909077, 1909734, 1909860, 1910020, 1910430, 1910566, 1910608, 1910631, 1910945, 1911141, 1911849, 1911895, 1912134, 1912218, 1912410, 1913414, 1913441, 1913720, 1914140, 1914331, 1914531, 1914569, 1915007, 1915341, 1915406, 1915532, 1915985, 1916915, 1917024, 1917172, 1917662, 1917679, 1917705, 1917769, 1918075, 1918677, 1918919, 1919265, 1920772, 1920780, 1920854, 1921272, 1921327, 1921731, 1921752, 1921925, 1922152, 1922624, 1923292, 1923323, 1923622, 1923898, 1923943, 1924678, 1924965, 1925000, 1925041, 1925501, 1925667, 1925680, 1925947, 1925951, 1926047, 1926138, 1926322, 1926400, 1926723, 1927036, 1927213, 1927345, 1927444, 1927972, 1928250, 1928599, 1928731, 1929008, 1929075, 1929355, 1929516, 1929755, 1930181, 1930256, 1930805, 1930995, 1931062, 1931400, 1931699, 1931704, 1932126, 1932426, 1932985, 1933094, 1933116, 1933126, 1933139, 1933317, 1933621, 1933725, 1933737, 1933906, 1933917, 1933959, 1934211, 1934902, 1935029, 1935157, 1935353, 1935483, 1935626, 1935667, 1935685, 1936141, 1936156, 1936871, 1937301, 1937399, 1937429, 1937630, 1937754, 1937779, 1937887, 1938979, 1939086, 1939139, 1939285, 1939508, 1940044, 1940341, 1940541, 1940736, 1941015, 1941382, 1941521, 1941595, 1941751, 1941819, 1942417, 1942498, 1942534, 1942577, 1942641, 1942915, 1943573, 1943607, 1943830, 1943922, 1943958, 1944130, 1944161, 1944257, 1944323, 1944388, 1944663, 1944768, 1945396, 1945475, 1945701, 1945836, 1945862, 1946010, 1946316, 1946420, 1946548, 1946642, 1947036, 1947521, 1948756, 1948758, 1949112, 1949157, 1949180, 1949348, 1949350, 1949439, 1949577, 1949728, 1950267, 1950309, 1950377, 1950457, 1950493, 1950498, 1950524, 1950776, 1950986, 1951131, 1951240, 1951402, 1951802, 1951819, 1952038, 1952262, 1952276, 1952521, 1952541, 1952624, 1952633, 1952823, 1953015, 1953144, 1953195, 1954034, 1954115, 1954180, 1954556, 1954562, 1954589, 1954911, 1955367, 1955588, 1956040, 1956591, 1956710, 1957073, 1957273, 1957425, 1957640, 1957928, 1957935, 1957996, 1958137, 1958346, 1958375, 1958885, 1959179, 1959454, 1959533, 1959669, 1959720, 1959793, 1960592, 1960632, 1960680, 1961176, 1961271, 1961336, 1961453, 1961543, 1961555, 1961880, 1962253, 1962285, 1962504, 1962565, 1962944, 1963586, 1963652, 1963783, 1963810, 1963919, 1963976, 1964079, 1964433, 1964465, 1964779, 1965311, 1965395, 1965458, 1965490, 1965538, 1965698, 1965968, 1965983, 1966038, 1966091, 1966254, 1966313, 1966336, 1966576, 1966661, 1966854, 1966978, 1967174, 1967341, 1967507, 1967662, 1967823, 1967968, 1967998, 1968001, 1968044, 1968063, 1968131, 1968203, 1968282, 1968717, 1968786, 1969409, 1970469, 1970589, 1970998, 1971327, 1971518, 1971688, 1971799, 1971833, 1971855, 1972088, 1972396, 1972504, 1972526, 1972952, 1972973, 1973088, 1973103, 1973205, 1973526, 1973582, 1973641, 1973835, 1974195, 1974374, 1974474, 1974595, 1975296, 1975418, 1975426, 1975477, 1975767, 1976058, 1976081, 1976524, 1976702, 1976767, 1976825, 1976980, 1977074, 1977326, 1977602, 1977821, 1978058, 1978271, 1978302, 1978312, 1978356, 1978872, 1978940, 1979542, 1979701, 1979710, 1979935, 1979936, 1980188, 1980206, 1980301, 1980609, 1980684, 1980859, 1980906, 1981038, 1981108, 1981168, 1981228, 1981288, 1981352, 1981422, 1981770, 1981774, 1981852, 1982042, 1982467, 1982552, 1982566, 1982713, 1982805, 1983505, 1983556, 1983585, 1984505, 1984650, 1984835, 1984885, 1985336, 1985476, 1985537, 1985897, 1985907, 1986014, 1986192, 1986208, 1986285, 1987133, 1987229, 1987390, 1987517, 1987752, 1987766, 1988293, 1988870, 1989085, 1989194, 1989285, 1989367, 1990057, 1990437, 1991106, 1991120, 1991188, 1991201, 1991212, 1991299, 1991335, 1992718, 1993112, 1993123, 1993452, 1993549, 1993598, 1993675, 1994031, 1994033, 1994069, 1994291, 1994462, 1994610, 1994682, 1994835, 1994911, 1995793, 1995864, 1995914, 1996146, 1996203, 1996283, 1996531, 1996929, 1997007, 1997424, 1997941, 1997952, 1998002, 1998275, 1998462, 1998511, 1998540, 1998609, 1998683, 1999240, 1999340, 1999377, 1999494, 1999808, 1999945, 2000057, 2000962, 2001140, 2001393, 2001605, 2001636, 2001704, 2002554, 2002852, 2003031, 2003187, 2003418, 2003949, 2004320, 2004339, 2004689, 2004978, 2005073, 2005125, 2005724, 2005804, 2005883, 2006696, 2006739, 2006768, 2006985, 2007046, 2007605, 2007969, 2008039, 2008167, 2008199, 2008332, 2008568, 2008887, 2009061, 2009430, 2010313, 2010679, 2010857, 2011419, 2011512, 2012122, 2012462, 2012752, 2012820, 2012976, 2013050, 2013213, 2013222, 2013417, 2013516, 2013635, 2013952, 2013960, 2013970, 2014344, 2014724, 2014827, 2014832, 2014839, 2014869, 2014984, 2015329, 2015788, 2015806, 2016387, 2016979, 2017247, 2017262, 2017570, 2017790, 2017844, 2017860, 2017888, 2018170, 2018342, 2018379, 2018549, 2018709, 2018989, 2019847, 2020137, 2020662, 2020913, 2020922, 2021485, 2021640, 2021715, 2022060, 2022131, 2022349, 2022629, 2022934, 2022971, 2022995, 2024174, 2024379, 2024790, 2025172, 2025277, 2025334, 2025415, 2025973, 2026095, 2026123, 2026150, 2026261, 2026319, 2026992, 2027048, 2027394, 2027405, 2027426, 2027483, 2027794, 2027847, 2028247, 2028259, 2028403, 2028525, 2029164, 2029395, 2029546, 2029637, 2029654, 2030070, 2030333, 2030437, 2030492, 2030532, 2030841, 2031253, 2031494, 2031917, 2031999, 2032006, 2032161, 2032211, 2032554, 2032574, 2032682, 2032995, 2033203, 2033943, 2034420, 2034475, 2035103, 2035144, 2035392, 2035732, 2035793, 2036193, 2036312, 2036627, 2036692, 2037260, 2037753, 2037845, 2037909, 2039194, 2039272, 2039911, 2040111, 2040172, 2040430, 2040532, 2040720, 2040851, 2041506, 2042383, 2042475, 2042758, 2043144, 2043213, 2043876, 2044613, 2045253, 2045561, 2045636, 2045864, 2046181, 2046312, 2046575, 2046960, 2047153, 2047229, 2047987, 2049103, 2049169, 2049533, 2049549, 2049891, 2050268, 2050337, 2050589, 2050628, 2050916, 2051403, 2051925, 2052016, 2052211, 2052374, 2052558, 2052674, 2053061, 2053212, 2053675, 2054063, 2054496, 2055094, 2055646, 2055740, 2055749, 2056078, 2056174, 2056510, 2056668, 2057038, 2057604, 2057645, 2058641, 2058852, 2059204, 2059231, 2060549, 2060817, 2061336, 2061850, 2062404, 2062723, 2063124, 2063164, 2063266, 2063676, 2064125, 2064494, 2065173, 2065257, 2065620, 2066119, 2066980, 2067039, 2067090, 2067395, 2067614, 2067786, 2067806, 2068496, 2068589, 2068827, 2069354, 2069552, 2069748, 2070225, 2070992, 2071021, 2071207, 2071296, 2071311, 2071382, 2071506, 2072249, 2072895, 2073477, 2073940, 2074114, 2074712, 2075043, 2075238, 2075246, 2075919, 2076000, 2076040, 2076367, 2076457, 2076458, 2077207, 2077282, 2079239, 2079666, 2080085, 2080583, 2080699, 2081035, 2081045, 2081067, 2081111, 2081483, 2081896, 2082082, 2082400, 2082710, 2083943, 2084987, 2085130, 2085229, 2085260, 2085631, 2085653, 2085679, 2086143, 2086320, 2086497, 2088256, 2088853, 2089160, 2089167, 2089376, 2090164, 2090258, 2090696, 2091059, 2091411, 2092223, 2092270, 2093402, 2093693, 2094500, 2094642, 2095538, 2095891, 2095952, 2096892, 2097693, 2098683, 2098823, 2098893, 2099695, 2099801, 2099910, 2100606, 2100819, 2101036, 2102995, 2103044, 2103448, 2103662, 2103956, 2104280, 2104962, 2105523, 2108083, 2108098, 2108524, 2108713, 2109152, 2110131, 2110394, 2110579, 2110934, 2111826, 2112620, 2112719, 2112837, 2112918, 2113017, 2113667, 2113716, 2113813, 2114296, 2114329, 2114435, 2114631, 2114893, 2115841, 2116061, 2117926, 2117929, 2118060, 2118177, 2118752, 2119361, 2119467, 2120233, 2120405, 2121190, 2121705, 2122636, 2123385, 2123524, 2124640, 2124885, 2125070, 2125125, 2127026, 2127136, 2127543, 2127804, 2127998, 2128508, 2128821, 2128888, 2129288, 2129491, 2129838, 2129862, 2129999, 2130088, 2130988, 2131757, 2132039, 2132553, 2132955, 2133567, 2134558, 2134623, 2135707, 2136000, 2136073, 2136103, 2136187, 2136612, 2137388, 2137619, 2137702, 2137759, 2137783, 2138416, 2139478, 2139606, 2139877, 2139923, 2139973, 2140187, 2140505, 2140589, 2140597, 2140643, 2140657, 2140709, 2141018, 2141302, 2141655, 2142433, 2142451, 2143282, 2143489, 2143737, 2143956, 2144472, 2145064, 2145105, 2145417, 2145608, 2145768, 2146098, 2146304, 2146456, 2146613, 2147049, 2147463, 2148578, 2148840, 2149210, 2149353, 2149651, 2149874, 2149897, 2151246, 2151930, 2152910, 2153435, 2154207, 2154232, 2155097, 2155283, 2155438, 2155968, 2155991, 2156027, 2156287, 2156902, 2156925, 2157427, 2157679, 2157704, 2158084, 2158818, 2158900, 2158973, 2159313, 2159370, 2159779, 2159823, 2159842, 2159868, 2159904, 2160122, 2160154, 2160307, 2160561, 2160607, 2161124, 2161386, 2161814, 2161815, 2162022, 2162032, 2162140, 2162144, 2162165, 2162423, 2162493, 2162761, 2163132, 2163324, 2163375, 2163512, 2163559, 2164207, 2164226, 2164444, 2164449, 2164522, 2164613, 2164758, 2164792, 2164810, 2164821, 2164866, 2165655, 2166125, 2166231, 2166342, 2166556, 2166743, 2166856, 2166876, 2166906, 2167226, 2167230, 2167272, 2167359, 2167389, 2167521, 2167645, 2168594, 2168625, 2169131, 2169163, 2169587, 2169758, 2169764, 2169780, 2169849, 2170083, 2170264, 2170727, 2171815, 2172055, 2172209, 2172475, 2172679, 2172853, 2173078, 2173211, 2173532, 2173734, 2173748, 2173891, 2174097, 2174257, 2174875, 2175300, 2175316, 2175585, 2175981, 2175983, 2176448, 2176615, 2177181, 2177252, 2178249, 2178539, 2178550, 2178558, 2178635, 2178860, 2179050, 2179106, 2179165, 2179213, 2179325, 2179331, 2179446, 2179932, 2179953, 2180666, 2180709, 2180827, 2180892, 2181192, 2181610, 2181645, 2181939, 2182100, 2182182, 2182316, 2183091, 2183183, 2183543, 2183709, 2183830, 2183970, 2184318, 2184487, 2184589, 2184646, 2184901, 2185090, 2185146, 2185365, 2185446, 2185654, 2185655, 2185848, 2187040, 2187088, 2187455, 2187945, 2188567, 2188575, 2188670, 2188704, 2188718, 2188750, 2188961, 2189199, 2189278, 2189995, 2190108, 2190306, 2190420, 2190528, 2190538, 2190579, 2190867, 2190980, 2191137, 2191155, 2191259, 2191371, 2191455, 2191615, 2191786, 2191788, 2191944, 2191975, 2192022, 2192247, 2192354, 2192470, 2192511, 2192764, 2192889, 2192910, 2193245, 2193426, 2193458, 2193649, 2194016, 2194301, 2194330, 2195150, 2195165, 2195261, 2195295, 2195545, 2195574, 2195728, 2195877, 2195908, 2195983, 2196009, 2196042, 2196437, 2196752, 2196754, 2197066, 2197264, 2197281, 2197408, 2197705, 2198031, 2198799, 2198855, 2199021, 2199220, 2199553, 2199717, 2200028, 2200264, 2200404, 2200413, 2200766, 2200933, 2200961, 2201039, 2201215, 2202311, 2202638, 2202740, 2202824, 2203348, 2203442, 2203721, 2203810, 2203962, 2204282, 2204312, 2204683, 2204920, 2204989, 2205462, 2205482, 2205553, 2206010, 2206145, 2206423, 2206929, 2207020, 2207273, 2207356, 2208054, 2208120, 2208886, 2209256, 2209374, 2209543, 2209646, 2209680, 2209739, 2210017, 2210154, 2210195, 2210207, 2210885, 2210970, 2211330, 2211456, 2212114, 2212268, 2212543, 2212642, 2212795, 2212827, 2212925, 2213220, 2213457, 2213895, 2213921, 2214027, 2214028, 2214077, 2214186, 2214310, 2214491, 2214518, 2214568, 2214672, 2214758, 2214778, 2214779, 2214822, 2214846, 2214885, 2215139, 2215394, 2216513, 2216573, 2216639, 2216787, 2217247, 2217313, 2217590, 2217886, 2218000, 2218038, 2218574, 2219196, 2219311, 2219349, 2219486, 2219542, 2219860, 2219941, 2220007, 2220073, 2220898, 2221052, 2221258, 2221286, 2221401, 2221556, 2221695, 2221944, 2222264, 2222403, 2222442, 2222609, 2222618, 2222802, 2222839, 2223119, 2223703, 2223731, 2223938, 2223962, 2224048, 2224295, 2224407, 2224416, 2224570, 2224759, 2224837, 2225112, 2225202, 2225286, 2225586, 2225984, 2226003, 2226037, 2226274, 2226450, 2226508, 2226600, 2226650, 2226668, 2226992, 2227727, 2228471, 2228732, 2228786, 2228905, 2229010, 2229062, 2229090, 2229839, 2229878, 2230219, 2230484, 2230734, 2230749, 2231008, 2231214, 2231480, 2231540, 2231661, 2231665, 2231952, 2232387, 2232651, 2232708, 2232925, 2232933, 2233047, 2233266, 2233633, 2233689, 2233745, 2233852, 2234336, 2234410, 2234774, 2235319, 2236285, 2236355, 2236443, 2236477, 2236487, 2237069, 2237110, 2237355, 2237376, 2237391, 2237442, 2237590, 2237938, 2238038, 2238229, 2238232, 2238240, 2238287, 2238346, 2238431, 2238504, 2238654, 2238764, 2239053, 2239087, 2239238, 2239298, 2239402, 2239456, 2239487, 2239834, 2239873, 2240083, 2240210, 2240308, 2240350, 2240517, 2240911, 2241015, 2241114, 2241320, 2241347, 2241495, 2241558, 2241592, 2241866, 2241937, 2242538, 2242797, 2242965, 2242981, 2243188, 2243310, 2243764, 2243770, 2244105, 2244476, 2244604, 2244830, 2244859, 2245329, 2245857, 2246191, 2246193, 2246617, 2246707, 2246850, 2247000, 2247141, 2247344, 2247720, 2248031, 2248795, 2248946, 2249063, 2249225, 2249250, 2249270, 2249296, 2249305, 2249488, 2249870, 2250325, 2250401, 2250523, 2250568, 2250876, 2251400, 2251553, 2251631, 2252127, 2252369, 2252747, 2252763, 2252932, 2253249, 2253379, 2253597, 2253887, 2253900, 2253975, 2254016, 2254162, 2254173, 2254250, 2254647, 2254740, 2254838, 2255271, 2255319, 2255369, 2255404, 2256199, 2256307, 2256738, 2256749, 2257040, 2258051, 2258145, 2258353, 2259227, 2259257, 2259331, 2259556, 2259605, 2259800, 2260011, 2260306, 2260340, 2260416, 2260582]\n"
          ],
          "name": "stdout"
        }
      ]
    },
    {
      "cell_type": "code",
      "metadata": {
        "id": "Hs-H7QMR7Tqi",
        "outputId": "b15b7ede-80a3-447b-df29-1398e5604708",
        "colab": {
          "base_uri": "https://localhost:8080/"
        }
      },
      "source": [
        "df_Accepted.shape"
      ],
      "execution_count": 156,
      "outputs": [
        {
          "output_type": "execute_result",
          "data": {
            "text/plain": [
              "(1335546, 19)"
            ]
          },
          "metadata": {
            "tags": []
          },
          "execution_count": 156
        }
      ]
    },
    {
      "cell_type": "code",
      "metadata": {
        "id": "V-9ZDTPc7JX4"
      },
      "source": [
        "df_Accepted.drop(Outlier_Annual_inc_Remove, axis=0, inplace=True)"
      ],
      "execution_count": 158,
      "outputs": []
    },
    {
      "cell_type": "markdown",
      "metadata": {
        "id": "JGnFHNzY7ijn"
      },
      "source": [
        "Debt-to-income\n",
        "DTI= (Total of Monthly Debt Payments / Gross Monthly Income)"
      ]
    },
    {
      "cell_type": "code",
      "metadata": {
        "id": "j7K2xaNI7Ja5",
        "outputId": "9f0a2dcc-5848-4ff7-f384-097ef890674a",
        "colab": {
          "base_uri": "https://localhost:8080/"
        }
      },
      "source": [
        "df_Accepted[\"dti\"].isnull().sum()"
      ],
      "execution_count": 160,
      "outputs": [
        {
          "output_type": "execute_result",
          "data": {
            "text/plain": [
              "361"
            ]
          },
          "metadata": {
            "tags": []
          },
          "execution_count": 160
        }
      ]
    },
    {
      "cell_type": "code",
      "metadata": {
        "id": "b_5YePza70IL",
        "outputId": "13d4deca-51dc-423d-d2cd-c6563a33c62e",
        "colab": {
          "base_uri": "https://localhost:8080/"
        }
      },
      "source": [
        "df_Accepted[\"loan_status\"][df_Accepted[\"dti\"].isnull()].value_counts()"
      ],
      "execution_count": 161,
      "outputs": [
        {
          "output_type": "execute_result",
          "data": {
            "text/plain": [
              "Fully Paid     295\n",
              "Charged Off     66\n",
              "Name: loan_status, dtype: int64"
            ]
          },
          "metadata": {
            "tags": []
          },
          "execution_count": 161
        }
      ]
    },
    {
      "cell_type": "code",
      "metadata": {
        "id": "KAHkYEAk70TX"
      },
      "source": [
        "df_Accepted.dropna(subset=[\"dti\"], axis=0, inplace=True)"
      ],
      "execution_count": 162,
      "outputs": []
    },
    {
      "cell_type": "code",
      "metadata": {
        "id": "lt-5G1go75O_",
        "outputId": "edad1165-b78b-4373-8f9f-83d6f874acf5",
        "colab": {
          "base_uri": "https://localhost:8080/"
        }
      },
      "source": [
        "df_Accepted.shape"
      ],
      "execution_count": 163,
      "outputs": [
        {
          "output_type": "execute_result",
          "data": {
            "text/plain": [
              "(1325221, 19)"
            ]
          },
          "metadata": {
            "tags": []
          },
          "execution_count": 163
        }
      ]
    },
    {
      "cell_type": "markdown",
      "metadata": {
        "id": "8uQGADsk7_NI"
      },
      "source": [
        "\n",
        "OUTLIER DETECTION USING INTER QURTILE RANGE"
      ]
    },
    {
      "cell_type": "code",
      "metadata": {
        "id": "Nkntr97775So",
        "outputId": "d47bc3f7-dbbb-4478-8efd-b1f8ef65ce63",
        "colab": {
          "base_uri": "https://localhost:8080/"
        }
      },
      "source": [
        "Q1 = np.quantile(df_Accepted[\"dti\"],0.25)\n",
        "Q3 = np.quantile(df_Accepted[\"dti\"],0.75)\n",
        "IQR = Q3 - Q1\n",
        "\n",
        "Low_outliers = Q1-1.5*IQR\n",
        "High_outliers = Q3+1.5*IQR\n",
        "\n",
        "print(\"Q1 :\",Q1)\n",
        "print(\"Q3 :\", Q3)\n",
        "print(\"IQR :\", IQR)\n",
        "print(\"Low_outliers :\", round(Low_outliers,4))\n",
        "print(\"High_outliers :\", round(High_outliers,4))"
      ],
      "execution_count": 164,
      "outputs": [
        {
          "output_type": "stream",
          "text": [
            "Q1 : 11.86\n",
            "Q3 : 24.06\n",
            "IQR : 12.2\n",
            "Low_outliers : -6.44\n",
            "High_outliers : 42.36\n"
          ],
          "name": "stdout"
        }
      ]
    },
    {
      "cell_type": "code",
      "metadata": {
        "id": "f63NhNvc8AwU",
        "outputId": "377da655-9851-405d-f271-fb6c1001acfc",
        "colab": {
          "base_uri": "https://localhost:8080/"
        }
      },
      "source": [
        "data = df_Accepted[\"dti\"] \n",
        "mean = round(np.mean(data) , 4)\n",
        "std = round(np.std(data),4)\n",
        "print('mean of the dataset is', mean) \n",
        "print('std. deviation is', std)\n",
        "\n",
        "\n",
        "threshold1 = -3\n",
        "threshold2 =  3\n",
        "outlier = [] \n",
        "for i in data: \n",
        "    z = (i-mean)/std \n",
        "    if z < threshold1 or z > threshold2: \n",
        "        outlier.append(i)\n",
        "\n",
        "print('outlier in the dataset:', outlier)\n",
        "print('DTI threshold:', min(outlier))\n",
        "print('Length of the outlier:', len(outlier))"
      ],
      "execution_count": 165,
      "outputs": [
        {
          "output_type": "stream",
          "text": [
            "mean of the dataset is 18.3107\n",
            "std. deviation is 11.0569\n",
            "outlier in the dataset: [83.64, 999.0, 83.4, 137.4, 89.83, 52.8, 58.54, 59.18, 59.26, 100.09, 68.41, 52.45, 90.0, 57.14, 69.35, 54.1, 120.66, 54.36, 54.19, 61.21, 67.5, 380.53, 59.26, 672.52, 63.64, 125.25, 64.99, 60.08, 71.4, 68.3, 104.0, 54.43, 58.43, 63.0, 112.2, 78.64, 60.99, 60.2, 93.0, 531.33, 57.49, 359.69, 66.61, 55.52, 59.83, 51.98, 53.15, 110.9, 72.67, 65.24, 55.87, 54.22, 99.18, 108.71, 79.59, 69.47, 51.99, 53.4, 117.71, 86.31, 55.11, 53.23, 56.46, 55.28, 549.53, 92.29, 55.62, 56.0, 61.46, 251.6, 65.84, 52.81, 94.12, 52.28, 61.4, 64.82, 62.85, 288.08, 60.06, 54.4, 65.22, 65.73, 112.32, 65.8, 54.2, 62.83, 56.62, 59.59, 209.1, 97.03, 57.84, 460.21, 67.68, 55.4, 70.28, 999.0, 55.78, 75.87, 75.54, 71.63, 58.4, 116.21, 51.97, 131.35, 59.97, 58.95, 54.98, 54.22, 63.39, 62.66, 106.03, 70.54, 57.31, 75.4, 75.25, 57.68, 62.16, 131.1, 129.11, 77.27, 56.62, 90.29, 61.97, 82.27, 142.16, 60.33, 94.29, 62.92, 71.59, 67.35, 55.22, 77.6, 64.72, 74.02, 90.37, 67.89, 260.24, 108.14, 52.59, 191.7, 228.33, 70.04, 74.17, 55.54, 74.85, 60.58, 67.7, 62.78, 57.43, 74.12, 53.06, 57.76, 60.48, 87.85, 95.57, 61.92, 109.61, 81.75, 999.0, 85.0, 57.2, 60.87, 56.95, 52.8, 56.35, 63.07, 104.14, 67.93, 52.7, 146.55, 60.36, 185.95, 55.7, 243.75, 122.52, 294.0, 54.19, 76.8, 55.26, 51.92, 76.8, 71.36, 218.21, 64.17, 77.06, 61.79, 81.07, 68.77, 54.87, 64.69, 54.43, 81.4, 131.71, 72.52, 100.04, 54.74, 61.51, 81.54, 68.83, 62.64, 51.73, 54.12, 62.56, 131.07, 65.24, 68.61, 70.77, 62.48, 75.17, 59.95, 417.0, 51.51, 106.79, 59.68, 84.46, 98.96, 64.51, 81.42, 60.65, 72.6, 61.59, 101.5, 68.76, 55.09, 88.33, 101.2, 54.69, 76.89, 55.23, 419.28, 75.2, 100.16, 74.88, 78.09, 98.76, 107.84, 64.04, 69.82, 59.29, 65.07, 71.6, 74.38, 60.76, 173.06, 72.7, 55.41, 78.31, 55.53, 163.5, 79.73, 59.77, 53.83, 106.54, 71.33, 57.89, 83.52, 128.61, 55.52, 180.71, 102.24, 167.83, 52.8, 104.8, 62.24, 52.41, 58.53, 83.6, 60.67, 69.96, 56.89, 65.26, 78.29, 80.48, 121.95, 57.01, 88.52, 266.29, 69.95, 53.87, 69.52, 71.05, 56.11, 53.02, 999.0, 59.06, 76.0, 76.41, 84.76, 71.1, 106.09, 95.86, 61.17, 81.94, 85.3, 201.81, 55.87, 77.64, 66.18, 53.06, 58.99, 226.6, 55.6, 57.1, 54.73, 68.05, 55.68, 137.7, 56.16, 54.81, 81.47, 65.75, 255.57, 98.45, 239.32, 75.28, 93.94, 138.72, 61.29, 215.38, 59.58, 70.9, 52.09, 57.48, 52.03, 78.04, 53.57, 58.21, 61.27, 60.63, 98.8, 65.97, 54.31, 53.91, 69.62, 52.58, 56.15, 58.4, 117.76, 63.74, 65.24, 64.14, 96.4, 62.05, 55.06, 999.0, 62.34, 62.18, 82.59, 60.0, 999.0, 69.34, 57.23, 53.74, 53.5, 188.46, 96.63, 117.53, 751.22, 56.21, 57.27, 68.0, 117.67, 51.55, 52.4, 53.9, 63.97, 86.92, 65.39, 70.86, 55.41, 113.3, 52.44, 69.3, 52.3, 81.35, 54.02, 65.41, 56.5, 73.35, 69.04, 139.49, 62.68, 89.49, 112.62, 86.64, 78.08, 78.28, 59.32, 150.05, 112.0, 84.25, 130.17, 87.15, 78.33, 116.61, 57.99, 59.75, 86.76, 73.04, 55.35, 80.32, 89.19, 69.02, 55.93, 72.24, 83.94, 52.73, 136.2, 53.36, 77.41, 999.0, 65.75, 55.78, 68.57, 75.5, 53.99, 602.67, 53.05, 185.59, 105.38, 83.99, 87.47, 54.15, 70.89, 58.1, 65.19, 130.32, 999.0, 51.94, 58.33, 55.3, 63.67, 195.72, 57.14, 69.52, 60.25, 66.9, 58.89, 220.91, 54.39, 51.99, 61.22, 54.76, 59.07, 53.34, 141.19, 52.73, 69.37, 92.98, 66.84, 66.41, 75.37, 57.99, 64.46, 84.68, 56.24, 100.08, 71.38, 87.36, 133.1, 53.55, 168.34, 61.94, 113.5, 55.61, 58.12, 61.8, 88.86, 52.91, 55.72, 55.26, 98.0, 70.88, 217.86, 64.67, 85.48, 58.03, 58.18, 257.0, 57.26, 89.14, 55.54, 51.52, 78.2, 84.04, 131.0, 54.88, 66.38, 59.18, 59.39, 55.95, 103.08, 65.05, 103.23, 74.46, 195.24, 219.8, 63.52, 76.63, 53.66, 76.6, 52.66, 88.7, 54.31, 53.7, 68.43, 58.24, 69.32, 53.08, 76.75, 70.0, 79.56, 119.2, 73.35, 59.34, 103.05, 58.7, 248.5, 61.23, 157.14, 79.12, 89.96, 56.1, 62.12, 64.47, 57.45, 74.62, 73.7, 87.28, 197.59, 71.87, 207.6, 54.41, 147.36, 52.9, 70.28, 62.44, 55.7, 55.1, 104.68, 58.09, 92.32, 135.5, 66.12, 70.34, 64.04, 75.67, 58.38, 65.98, 59.23, 92.56, 56.79, 53.46, 83.8, 60.39, 65.45, 67.58, 61.6, 95.31, 65.52, 58.37, 54.22, 56.67, 58.78, 65.2, 68.32, 61.37, 204.92, 56.37, 89.68, 346.99, 54.47, 65.24, 90.0, 75.84, 91.33, 54.98, 879.55, 365.17, 52.17, 60.09, 69.56, 63.43, 66.4, 66.6, 87.09, 67.88, 143.5, 54.64, 180.29, 64.36, 54.35, 63.64, 74.56, 82.66, 77.9, 67.95, 65.4, 97.5, 69.76, 72.84, 66.85, 999.0, 80.53, 174.67, 65.68, 79.1, 177.7, 57.33, 60.02, 58.1, 65.74, 67.25, 65.07, 82.24, 305.97, 305.6, 89.53, 71.43, 106.15, 65.81, 54.3, 78.12, 115.0, 63.99, 82.0, 64.05, 54.45, 60.31, 55.51, 101.32, 76.87, 73.54, 57.87, 58.77, 153.64, 51.72, 108.67, 63.91, 53.6, 53.36, 88.19, 58.45, 83.96, 216.87, 55.11, 62.63, 54.91, 54.57, 65.17, 51.99, 56.01, 51.69, 60.03, 999.0, 56.46, 59.36, 283.14, 62.19, 999.0, 765.76, 88.32, 440.0, 57.35, 58.13, 63.68, 126.35, 999.0, 674.7, 61.1, 87.08, 74.47, 83.2, 103.76, 54.46, 53.32, 72.82, 185.81, 155.08, 225.6, 999.0, 51.55, 68.08, 56.24, 67.77, 55.95, 60.05, 55.74, 58.4, 54.06, 53.84, 87.41, 70.81, 54.77, 65.61, 53.82, 79.59, 999.0, 220.4, 57.94, 65.83, 121.88, 58.77, 55.73, 104.05, 173.5, 67.73, 60.11, 69.87, 56.35, 991.57, 81.75, 270.4, 67.78, 96.32, 77.65, 58.87, 61.46, 67.8, 138.4, 52.72, 64.2, 65.73, 78.04, 94.32, 59.6, 65.45, 125.79, 55.54, 59.13, 65.08, 56.63, 61.22, 56.2, 56.98, 99.9, 103.13, 62.45, 72.27, 68.81, 63.03, 61.31, 74.21, 57.54, 63.27, 122.94, 999.0, 55.02, 67.14, 52.17, 56.08, 53.19, 108.45, 51.73, 79.93, 75.8, 112.33, 226.44, 262.89, 69.13, 58.82, 63.88, 136.93, 60.73, 52.44, 63.75, 143.04, 72.42, 999.0, 60.58, 67.64, 55.94, 68.52, 70.87, 70.46, 55.1, 58.2, 61.17, 65.8, 65.58, 58.29, 82.92, 72.08, 55.93, 131.82, 63.1, 58.26, 92.88, 999.0, 81.9, 60.8, 52.13, 124.13, 68.29, 53.04, 123.4, 818.1, 56.54, 52.58, 70.95, 52.47, 149.46, 64.7, 56.85, 89.85, 59.05, 51.97, 106.88, 114.44, 53.56, 57.82, 210.4, 66.73, 107.68, 56.47, 822.0, 182.12, 103.69, 185.88, 54.37, 68.52, 189.48, 60.31, 192.98, 64.77, 53.44, 68.59, 94.33, 57.36, 52.77, 71.96, 98.55, 57.25, 51.89, 58.21, 191.0, 55.78, 67.17, 141.94, 66.04, 747.13, 52.77, 61.02, 64.17, 62.7, 65.6, 61.81, 68.56, 54.94, 66.53, 63.56, 313.32, 96.28, 58.86, 57.19, 68.89, 168.43, 63.9, 91.33, 96.5, 67.4, 60.5, 53.87, 55.62, 63.7, 100.35, 52.88, 70.51, 59.85, 161.94, 114.2, 70.47, 62.38, 81.1, 72.7, 53.79, 53.87, 69.42, 82.79, 53.72, 80.2, 78.55, 55.74, 56.64, 65.14, 113.7, 84.63, 54.53, 79.59, 77.72, 140.5, 52.23, 606.8, 85.73, 145.2, 59.67, 61.37, 95.31, 72.45, 59.72, 198.0, 52.29, 78.16, 308.25, 57.98, 58.74, 271.15, 59.85, 52.0, 100.24, 82.32, 81.28, 68.27, 56.68, 61.46, 60.16, 52.38, 93.55, 60.8, 91.56, 65.35, 59.18, 84.85, 61.85, 104.06, 86.15, 178.31, 68.18, 52.74, 235.29, 119.5, 59.74, 53.95, 207.03, 81.52, 51.87, 60.36, 51.95, 106.81, 52.12, 58.5, 62.48, 63.65, 78.75, 82.97, 52.64, 67.81, 78.4, 72.8, 67.91, 52.78, 57.83, 88.82, 83.5, 430.0, 59.8, 57.81, 114.4, 67.13, 52.97, 63.0, 74.24, 54.11, 62.59, 58.15, 120.89, 136.44, 55.08, 65.55, 146.2, 64.91, 58.38, 68.35, 89.32, 55.12, 56.7, 94.14, 654.77, 66.52, 89.2, 80.5, 85.6, 90.17, 181.73, 58.88, 81.21, 51.49, 60.38, 69.69, 73.97, 71.28, 103.04, 128.33, 62.0, 83.24, 92.79, 209.74, 51.74, 62.67, 64.83, 85.0, 52.34, 65.01, 61.04, 60.96, 71.46, 64.07, 53.62, 72.03, 53.25, 56.36, 51.62, 52.15, 107.21, 56.36, 53.53, 57.93, 107.35, 187.88, 81.72, 91.91, 66.44, 56.53, 76.78, 93.27, 63.73, 53.28, 62.24, 78.36, 95.8, 66.71, 65.1, 55.92, 51.71, 71.9, 53.5, 102.86, 63.28, 80.13, 54.59, 87.2, 92.64, 53.08, 79.26, 71.43, 78.25, 58.56, 51.71, 65.06, 76.0, 76.95, 58.25, 61.28, 226.8, 70.92, 52.2, 64.94, 53.75, 105.92, 54.63, 52.4, 586.79, 98.03, 63.22, 56.73, 56.4, 64.73, 66.92, 163.68, 66.75, 56.89, 91.74, 61.71, 122.67, 55.68, 87.12, 115.58, 93.82, 98.03, 58.0, 72.21, 99.48, 290.38, 67.69, 60.52, 120.57, 62.63, 71.83, 55.42, 84.45, 54.33, 69.08, 65.78, 98.16, 126.38, 97.89, 174.86, 77.19, 52.62, 89.58, 73.9, 92.2, 250.71, 57.3, 54.42, 61.69, 179.41, 63.41, 62.14, 80.8, 52.29, 55.11, 58.6, 56.98, 61.1, 79.15, 55.68, 175.24, 170.12, 307.75, 66.11, 56.37, 62.58, 61.53, 85.35, 58.96, 59.25, 223.17, 83.45, 65.92, 112.44, 97.0, 70.02, 72.17, 58.4, 56.95, 59.48, 126.4, 68.79, 63.29, 137.22, 57.84, 55.97, 73.11, 999.0, 81.94, 52.78, 73.94, 80.63, 107.44, 155.6, 78.54, 57.0, 57.68, 57.72, 70.49, 92.39, 999.0, 113.11, 55.98, 79.83, 59.33, 56.01, 57.92, 62.1, 69.77, 71.6, 55.47, 77.76, 66.32, 63.2, 64.93, 60.92, 52.81, 63.55, 76.18, 54.9, 80.33, 62.67, 86.19, 57.41, 187.15, 107.31, 91.55, 79.2, 62.64, 77.51, 297.0, 67.74, 59.19, 69.09, 54.06, 69.84, 349.04, 124.67, 87.76, 73.66, 64.71, 68.99, 58.91, 91.52, 248.95, 76.24, 75.83, 76.4, 62.24, 60.39, 72.24, 102.52, 88.24, 91.14, 131.81, 52.07, 60.44, 72.74, 70.2, 118.22, 57.91, 60.57, 72.87, 60.7, 72.97, 54.35, 54.28, 62.49, 66.96, 86.84, 249.1, 57.56, 371.83, 58.02, 55.94, 53.88, 66.55, 70.09, 67.02, 56.86, 55.62, 77.31, 65.87, 51.56, 74.75, 69.75, 61.96, 83.87, 52.86, 75.25, 100.6, 110.56, 66.64, 95.86, 141.0, 68.79, 69.43, 67.93, 53.74, 159.45, 87.73, 68.51, 999.0, 62.78, 66.88, 54.69, 126.12, 55.48, 100.23, 52.67, 52.02, 55.42, 54.39, 52.38, 51.94, 61.06, 78.56, 51.57, 140.59, 52.2, 91.46, 70.92, 57.42, 147.49, 93.86, 108.0, 55.36, 168.0, 87.25, 137.92, 62.8, 53.07, 93.04, 53.55, 58.9, 70.35, 113.21, 62.08, 137.33, 86.4, 71.6, 61.04, 56.39, 71.4, 56.67, 145.65, 75.4, 54.92, 57.09, 86.3, 62.21, 447.6, 55.93, 61.12, 77.23, 161.22, 81.26, 64.11, 55.74, 56.7, 55.36, 215.88, 124.75, 62.53, 58.01, 68.55, 63.48, 55.21, 54.14, 70.03, 63.98, 218.59, 321.74, 64.2, 85.5, 64.96, 60.44, 54.46, 65.07, 52.05, 99.74, 56.69, 73.44, 69.71, 59.68, 54.96, 57.93, 64.04, 65.12, 98.71, 51.71, 52.69, 57.02, 55.17, 208.49, 58.6, 92.13, 262.16, 55.34, 179.58, 64.0, 51.75, 73.33, 51.73, 70.78, 59.64, 107.96, 67.72, 54.29, 70.54, 75.03, 73.36, 77.95, 241.59, 88.21, 202.73, 61.5, 52.06, 111.69, 129.25, 54.9, 53.19, 59.04, 56.26, 154.52, 72.64, 55.51, 58.94, 63.37, 57.27, 59.44, 67.64, 56.32, 66.95, 58.04, 60.23, 87.11, 67.37, 78.45, 55.91, 51.65, 79.36, 267.57, 94.26, 51.95, 54.9, 53.09, 68.97, 59.83, 55.63, 82.27, 999.0, 57.28, 125.82, 129.18, 61.31, 56.83, 52.08, 53.96, 81.57, 73.5, 55.32, 94.82, 60.54, 380.72, 73.28, 66.1, 55.68, 62.36, 72.56, 57.31, 66.21, 68.46, 65.95, 53.98, 55.03, 483.88, 77.86, 52.5, 55.34, 131.44, 222.48, 56.68, 129.81, 669.23, 90.6, 71.5, 53.2, 62.8, 82.09, 72.21, 146.14, 79.27, 54.85, 58.92, 60.33, 73.29, 190.87, 52.87, 52.49, 57.08, 55.0, 95.44, 54.37, 97.94, 56.0, 54.33, 54.15, 158.04, 65.59, 999.0, 82.59, 98.87, 100.0, 104.28, 92.0, 67.36, 72.29, 58.32, 99.92, 186.57, 57.7, 53.57, 74.76, 59.15, 74.04, 53.35, 73.2, 55.3, 65.9, 62.51, 66.13, 58.66, 73.64, 345.42, 64.65, 66.2, 60.91, 55.3, 70.18, 82.38, 60.63, 56.0, 56.16, 70.41, 79.23, 59.53, 58.2, 126.95, 54.54, 273.49, 171.39, 135.4, 61.83, 58.96, 55.5, 124.71, 58.59, 59.14, 53.07, 58.95, 53.93, 157.9, 74.85, 56.9, 86.26, 59.2, 71.78, 771.31, 136.85, 62.62, 64.69, 55.12, 65.1, 122.42, 66.91, 72.4, 59.18, 56.69, 58.16, 58.51, 76.12, 66.27, 59.96, 54.76, 80.64, 52.87, 64.13, 105.16, 107.28, 90.28, 242.93, 121.68, 74.72, 53.26, 51.61, 84.73, 70.45, 105.44, 59.8, 96.2, 157.21, 57.88, 88.52, 132.29, 68.33, 58.81, 57.68, 54.09, 53.36, 89.06, 59.98, 61.59, 53.66, 62.94, 69.05, 54.38, 53.36, 77.36, 70.41, 62.06, 53.89, 74.53, 106.85, 147.15, 55.74, 51.96, 61.97, 92.08, 51.57, 82.61, 53.22, 697.04, 999.0, 206.0, 97.14, 85.36, 55.97, 506.73, 52.76, 53.09, 55.16, 138.5, 57.03, 52.21, 54.59, 58.86, 283.17, 91.38, 82.78, 59.69, 78.13, 55.29, 52.77, 66.74, 59.66, 74.11, 53.95, 68.52, 100.47, 96.19, 92.36, 75.76, 56.26, 58.41, 56.57, 314.73, 185.09, 69.47, 54.52, 68.7, 51.91, 205.31, 132.13, 57.93, 180.0, 180.67, 53.24, 58.22, 61.8, 52.0, 119.51, 65.19, 52.55, 55.4, 81.08, 68.0, 53.67, 120.45, 107.84, 63.13, 59.16, 91.7, 105.45, 73.36, 81.18, 96.52, 244.72, 52.8, 51.57, 283.8, 75.8, 61.45, 63.93, 59.29, 101.5, 102.73, 57.99, 59.86, 73.0, 63.95, 66.85, 68.3, 151.2, 69.08, 58.64, 58.46, 57.9, 52.95, 51.5, 89.8, 575.31, 60.02, 252.87, 231.35, 52.12, 183.9, 70.82, 75.65, 81.81, 112.45, 56.34, 181.4, 86.72, 56.24, 58.92, 52.71, 94.64, 51.82, 52.97, 55.82, 63.27, 58.13, 54.48, 80.75, 53.68, 154.81, 68.1, 127.59, 69.8, 231.93, 75.69, 75.75, 52.12, 158.19, 64.92, 60.96, 66.72, 64.42, 58.93, 55.38, 53.05, 57.97, 57.78, 64.12, 98.41, 312.02, 143.62, 63.11, 441.5, 63.63, 52.99, 52.55, 84.18, 261.74, 82.96, 58.61, 93.67, 76.19, 999.0, 214.17, 53.68, 126.61, 55.53, 162.14, 152.4, 66.24, 234.0, 166.15, 54.24, 52.24, 886.77, 62.0, 67.21, 81.14, 53.88, 56.73, 55.93, 75.38, 195.32, 58.58, 80.26, 110.75, 60.22, 70.02, 62.0, 61.57, 51.93, 64.12, 84.03, 86.42, 76.62, 73.07, 54.28, 64.88, 57.9, 79.75, 55.57, 64.96, 163.25, 55.8, 75.07, 52.58, 86.19, 56.49, 69.76, 999.0, 93.4, 214.43, 999.0, 231.97, 62.0, 100.0, 92.0, 120.53, 595.24, 138.93, 52.66, 79.6, 84.92, 79.79, 60.83, 163.25, 61.08, 94.36, 52.65, 53.79, 54.56, 53.75, 51.84, 53.32, 57.85, 84.94, 51.59, 105.76, 56.35, 56.54, 58.4, 67.53, 132.15, 269.23, 138.03, 65.2, 56.48, 59.09, 52.16, 120.32, 60.49, 999.0, 54.64, 91.09, 61.17, 144.66, 502.41, 76.63, 61.72, 740.96, 71.66, 56.36, 54.78, 110.56, 54.44, 56.1, 57.6, 60.13, 999.0, 396.2, 66.49, 64.08, 59.85, 62.16, 141.54, 58.32, 85.41, 70.84, 53.26, 84.27, 61.79, 72.67, 132.29, 76.35, 61.1, 61.72, 76.27, 51.83, 59.43, 61.46, 51.61, 62.88, 93.52, 52.78, 69.17, 132.4, 79.82, 84.79, 53.0, 71.41, 107.6, 83.27, 112.49, 381.64, 60.4, 67.65, 59.52, 62.35, 64.68, 61.5, 54.15, 369.37, 58.25, 61.38, 52.5, 72.35, 65.49, 55.24, 60.14, 494.23, 85.38, 53.04, 73.69, 82.17, 74.9, 55.6, 999.0, 301.67, 53.41, 101.2, 51.64, 59.77, 56.21, 580.2, 57.35, 59.88, 466.92, 59.58, 67.72, 78.51, 58.5, 66.45, 61.48, 77.07, 114.9, 57.9, 57.34, 651.44, 59.07, 68.64, 54.76, 79.25, 56.51, 78.16, 141.82, 245.49, 59.27, 222.95, 52.21, 505.03, 59.67, 57.23, 90.79, 57.13, 90.19, 100.15, 284.54, 67.01, 56.94, 56.78, 55.1, 67.74, 53.6, 100.69, 66.14, 999.0, 110.5, 256.0, 66.35, 87.6, 185.7, 86.18, 54.32, 54.43, 56.2, 68.82, 163.33, 52.67, 67.39, 82.36, 68.8, 97.04, 169.36, 61.38, 56.32, 59.96, 51.82, 56.12, 51.89, 137.58, 201.13, 80.43, 234.45, 58.21, 62.58, 85.52, 60.14, 75.63, 71.0, 69.85, 73.49, 56.33, 69.56, 60.23, 51.52, 53.84, 54.96, 83.53, 54.82, 64.44, 78.55, 170.31, 83.14, 167.74, 56.08, 58.08, 52.54, 56.23, 182.81, 82.44, 76.64, 63.52, 82.5, 135.76, 69.21, 75.42, 59.48, 92.45, 380.72, 93.1, 59.05, 68.44, 54.45, 446.05, 53.0, 81.69, 61.66, 53.0, 63.12, 53.44, 52.11, 52.84, 797.1, 55.81, 84.0, 67.77, 69.69, 59.19, 57.83, 68.73, 75.78, 61.24, 181.55, 59.17, 212.85, 68.95, 59.6, 58.47, 406.83, 67.18, 64.73, 102.4, 111.87, 72.41, 59.41, 56.08, 67.17, 75.3, 57.65, 74.03, 53.41, 91.52, 65.55, 51.85, 84.2, 58.16, 55.84, 56.13, 52.32, 203.71, 70.81, 154.38, 60.63, 73.55, 51.89, 53.57, 73.5, 58.13, 52.66, 147.16, 57.01, 54.18, 82.53, 76.75, 103.79, 117.55, 67.71, 62.7, 104.0, 53.68, 59.18, 57.5, 102.06, 58.42, 72.46, 60.84, 60.82, 56.9, 121.2, 87.9, 58.95, 52.56, 69.95, 66.77, 325.99, 999.0, 62.43, 51.61, 136.37, 56.56, 73.47, 61.55, 61.98, 57.84, 53.05, 80.76, 63.99, 67.6, 100.17, 57.89, 98.9, 86.37, 147.9, 74.86, 62.14, 74.94, 51.88, 146.33, 230.97, 60.88, 155.73, 55.89, 69.94, 125.87, 68.03, 124.58, 68.38, 111.52, 61.99, 109.65, 53.33, 88.78, 592.12, 54.88, 73.18, 57.98, 61.34, 52.19, 71.15, 74.1, 67.95, 115.01, 73.41, 57.42, 762.5, 91.93, 63.23, 52.97, 64.23, 111.15, 77.85, 94.72, 69.66, 59.72, 102.0, 63.99, 53.4, 69.28, 157.63, 72.68, 78.96, 51.82, 324.73, 55.46, 68.65, 831.97, 52.61, 64.19, 198.56, 52.9, 91.2, 60.86, 55.93, 75.8, 52.9, 51.97, 65.19, 119.59, 60.52, 78.75, 63.41, 83.47, 59.57, 98.08, 72.88, 102.54, 55.83, 79.38, 78.76, 67.59, 54.63, 78.68, 135.48, 55.94, 76.9, 67.29, 69.1, 55.23, 73.42, 56.92, 51.55, 90.18, 83.1, 53.71, 65.94, 60.77, 82.08, 54.73, 94.78, 61.11, 54.73, 52.82, 69.32, 69.47, 83.03, 61.23, 164.83, 94.77, 77.24, 79.09, 55.81, 104.87, 58.84, 52.25, 999.0, 51.65, 52.51, 80.19, 60.62, 70.1, 183.16, 58.95, 53.72, 66.56, 55.84, 265.6, 60.15, 54.31, 60.64, 136.73, 62.18, 56.53, 52.84, 163.15, 70.2, 55.97, 57.3, 60.36, 93.92, 51.62, 77.5, 54.47, 67.1, 72.56, 77.43, 117.14, 97.03, 77.93, 56.77, 79.12, 107.66, 61.48, 52.58, 64.06, 81.07, 56.18, 52.81, 220.43, 77.31, 52.35, 64.25, 59.2, 122.93, 84.62, 181.87, 377.19, 79.84, 68.47, 57.99, 58.48, 68.29, 74.74, 102.73, 64.61, 62.59, 78.65, 124.36, 196.88, 145.55, 148.98, 51.57, 75.34, 75.27, 54.8, 95.81, 71.63, 52.85, 59.41, 78.27, 244.6, 53.64, 80.8, 110.02, 81.6, 52.0, 56.85, 99.66, 74.2, 52.29, 89.26, 80.19, 57.31, 57.55, 55.46, 136.54, 63.31, 61.83, 999.0, 75.75, 78.56, 56.69, 69.14, 51.5, 75.92, 73.91, 172.36, 293.0, 641.36, 81.14, 51.74, 56.93, 66.77, 138.66, 57.0, 56.9, 99.4, 58.14, 76.69, 56.3, 76.95, 63.66, 78.24, 59.42, 65.93, 66.29, 57.24, 57.37, 93.36, 62.21, 53.8, 55.38, 308.58, 999.0, 70.53, 64.49, 52.72, 52.15, 58.46, 52.26, 62.3, 75.25, 112.93, 71.33, 58.68, 323.87, 54.5, 55.43, 72.64, 82.6, 53.62, 286.0, 83.44, 999.0, 58.72, 59.92, 59.56, 76.18, 52.42, 189.9, 55.53, 55.31, 76.37, 83.36, 61.69, 79.56, 266.77, 75.59, 172.4, 244.2, 58.89, 63.22, 110.24, 77.7, 126.8, 999.0, 67.57, 114.89, 70.41, 55.5, 54.44, 106.0, 75.28, 61.98, 95.73, 62.29, 55.84, 51.64, 56.0, 490.07, 53.22, 95.55, 56.8, 58.52, 51.61, 70.55, 56.18, 54.23, 62.29, 52.71, 56.14, 125.6, 59.27, 53.05, 136.6, 156.01, 51.58, 83.3, 54.87, 144.5, 51.94, 72.04, 81.14, 169.33, 55.5, 95.83, 66.14, 52.14, 74.92, 51.8, 75.35, 73.05, 65.27, 81.15, 52.46, 56.16]\n",
            "DTI threshold: 51.49\n",
            "Length of the outlier: 2449\n"
          ],
          "name": "stdout"
        }
      ]
    },
    {
      "cell_type": "code",
      "metadata": {
        "colab": {
          "base_uri": "https://localhost:8080/"
        },
        "id": "iRSpoLymEx9F",
        "outputId": "1292bf01-b90b-4b72-be1d-64b8705b08ad"
      },
      "source": [
        "df_Accepted['grade'].unique()"
      ],
      "execution_count": 167,
      "outputs": [
        {
          "output_type": "execute_result",
          "data": {
            "text/plain": [
              "array(['C', 'B', 'F', 'A', 'E', 'D', 'G'], dtype=object)"
            ]
          },
          "metadata": {
            "tags": []
          },
          "execution_count": 167
        }
      ]
    },
    {
      "cell_type": "code",
      "metadata": {
        "colab": {
          "base_uri": "https://localhost:8080/",
          "height": 297
        },
        "id": "zIswDidkE0KZ",
        "outputId": "10b95f7a-5d45-47b9-ae5b-82a6714899db"
      },
      "source": [
        "df_Accepted[df_Accepted['grade'] == 'A'].describe().T"
      ],
      "execution_count": 168,
      "outputs": [
        {
          "output_type": "execute_result",
          "data": {
            "text/html": [
              "<div>\n",
              "<style scoped>\n",
              "    .dataframe tbody tr th:only-of-type {\n",
              "        vertical-align: middle;\n",
              "    }\n",
              "\n",
              "    .dataframe tbody tr th {\n",
              "        vertical-align: top;\n",
              "    }\n",
              "\n",
              "    .dataframe thead th {\n",
              "        text-align: right;\n",
              "    }\n",
              "</style>\n",
              "<table border=\"1\" class=\"dataframe\">\n",
              "  <thead>\n",
              "    <tr style=\"text-align: right;\">\n",
              "      <th></th>\n",
              "      <th>count</th>\n",
              "      <th>mean</th>\n",
              "      <th>std</th>\n",
              "      <th>min</th>\n",
              "      <th>25%</th>\n",
              "      <th>50%</th>\n",
              "      <th>75%</th>\n",
              "      <th>max</th>\n",
              "    </tr>\n",
              "  </thead>\n",
              "  <tbody>\n",
              "    <tr>\n",
              "      <th>loan_amnt</th>\n",
              "      <td>232051.0</td>\n",
              "      <td>13746.570366</td>\n",
              "      <td>7945.978729</td>\n",
              "      <td>500.00</td>\n",
              "      <td>7800.00</td>\n",
              "      <td>12000.00</td>\n",
              "      <td>19725.00</td>\n",
              "      <td>40000.00</td>\n",
              "    </tr>\n",
              "    <tr>\n",
              "      <th>int_rate</th>\n",
              "      <td>232051.0</td>\n",
              "      <td>7.115602</td>\n",
              "      <td>0.999162</td>\n",
              "      <td>5.31</td>\n",
              "      <td>6.49</td>\n",
              "      <td>7.26</td>\n",
              "      <td>7.89</td>\n",
              "      <td>9.63</td>\n",
              "    </tr>\n",
              "    <tr>\n",
              "      <th>installment</th>\n",
              "      <td>232051.0</td>\n",
              "      <td>419.312833</td>\n",
              "      <td>242.943129</td>\n",
              "      <td>14.77</td>\n",
              "      <td>234.99</td>\n",
              "      <td>367.74</td>\n",
              "      <td>572.26</td>\n",
              "      <td>1268.46</td>\n",
              "    </tr>\n",
              "    <tr>\n",
              "      <th>annual_inc</th>\n",
              "      <td>232051.0</td>\n",
              "      <td>84126.986792</td>\n",
              "      <td>43592.177646</td>\n",
              "      <td>20.00</td>\n",
              "      <td>53000.00</td>\n",
              "      <td>75000.00</td>\n",
              "      <td>103000.00</td>\n",
              "      <td>286400.00</td>\n",
              "    </tr>\n",
              "    <tr>\n",
              "      <th>dti</th>\n",
              "      <td>232051.0</td>\n",
              "      <td>15.697468</td>\n",
              "      <td>8.992037</td>\n",
              "      <td>0.00</td>\n",
              "      <td>10.00</td>\n",
              "      <td>15.06</td>\n",
              "      <td>20.79</td>\n",
              "      <td>999.00</td>\n",
              "    </tr>\n",
              "    <tr>\n",
              "      <th>fico_range_low</th>\n",
              "      <td>232051.0</td>\n",
              "      <td>727.464243</td>\n",
              "      <td>36.774540</td>\n",
              "      <td>660.00</td>\n",
              "      <td>700.00</td>\n",
              "      <td>720.00</td>\n",
              "      <td>750.00</td>\n",
              "      <td>845.00</td>\n",
              "    </tr>\n",
              "    <tr>\n",
              "      <th>fico_range_high</th>\n",
              "      <td>232051.0</td>\n",
              "      <td>731.464833</td>\n",
              "      <td>36.776435</td>\n",
              "      <td>664.00</td>\n",
              "      <td>704.00</td>\n",
              "      <td>724.00</td>\n",
              "      <td>754.00</td>\n",
              "      <td>850.00</td>\n",
              "    </tr>\n",
              "    <tr>\n",
              "      <th>pub_rec</th>\n",
              "      <td>232051.0</td>\n",
              "      <td>0.110730</td>\n",
              "      <td>0.440406</td>\n",
              "      <td>0.00</td>\n",
              "      <td>0.00</td>\n",
              "      <td>0.00</td>\n",
              "      <td>0.00</td>\n",
              "      <td>37.00</td>\n",
              "    </tr>\n",
              "  </tbody>\n",
              "</table>\n",
              "</div>"
            ],
            "text/plain": [
              "                    count          mean  ...        75%        max\n",
              "loan_amnt        232051.0  13746.570366  ...   19725.00   40000.00\n",
              "int_rate         232051.0      7.115602  ...       7.89       9.63\n",
              "installment      232051.0    419.312833  ...     572.26    1268.46\n",
              "annual_inc       232051.0  84126.986792  ...  103000.00  286400.00\n",
              "dti              232051.0     15.697468  ...      20.79     999.00\n",
              "fico_range_low   232051.0    727.464243  ...     750.00     845.00\n",
              "fico_range_high  232051.0    731.464833  ...     754.00     850.00\n",
              "pub_rec          232051.0      0.110730  ...       0.00      37.00\n",
              "\n",
              "[8 rows x 8 columns]"
            ]
          },
          "metadata": {
            "tags": []
          },
          "execution_count": 168
        }
      ]
    },
    {
      "cell_type": "code",
      "metadata": {
        "colab": {
          "base_uri": "https://localhost:8080/"
        },
        "id": "l2GHjLHeE2L6",
        "outputId": "132598e7-0051-41cb-fd15-efc2353b584e"
      },
      "source": [
        "df_Accepted['sub_grade'].unique()"
      ],
      "execution_count": 169,
      "outputs": [
        {
          "output_type": "execute_result",
          "data": {
            "text/plain": [
              "array(['C4', 'C1', 'B4', 'F1', 'C3', 'B2', 'B1', 'A2', 'B5', 'C2', 'E2',\n",
              "       'A4', 'E3', 'C5', 'A1', 'D4', 'F3', 'D1', 'B3', 'D3', 'D5', 'A5',\n",
              "       'F2', 'E4', 'D2', 'E1', 'F5', 'E5', 'A3', 'G2', 'G1', 'F4', 'G4',\n",
              "       'G3', 'G5'], dtype=object)"
            ]
          },
          "metadata": {
            "tags": []
          },
          "execution_count": 169
        }
      ]
    },
    {
      "cell_type": "code",
      "metadata": {
        "id": "hUvVFRI2FLbx"
      },
      "source": [
        "import matplotlib.ticker as mticker\n",
        "\n",
        "def plot_var(col_name, full_name, df=df_Accepted, continuous=True, rotation=0, alignment='center'):\n",
        "    \"\"\"\n",
        "    \n",
        "    \"\"\"\n",
        "    \n",
        "    # Set up figure space:\n",
        "    fig, (ax1, ax2) = plt.subplots(nrows=1, ncols=2, figsize=(12,4), dpi=90)\n",
        "    sn.set(palette='bright')\n",
        "    \n",
        "    # Set the font options for the x/y axes labels:\n",
        "    #font.set_style('italic')\n",
        "    \n",
        "    # Plot distribution of the variable without showing charge off rate\n",
        "    if continuous:\n",
        "        # Show a histogram to visualise variable\n",
        "        sn.histplot(df.loc[df[col_name].notnull(), col_name], kde=False, ax=ax1, bins=30)\n",
        "    else:\n",
        "        x_labels = df[col_name].sort_values().unique()\n",
        "        sn.countplot(x=df[col_name], order=sorted(df[col_name].unique()), ax=ax1).set_xticklabels(x_labels, rotation=rotation, horizontalalignment=alignment)\n",
        "    \n",
        "    # Formatting the x labels\n",
        "    ax1.set_xlabel(full_name)\n",
        "    \n",
        "    # Formatting the y labels\n",
        "    y_labels_1 = ['{:,.0f}'.format(x) + 'K' for x in ax1.get_yticks()/1000]\n",
        "    ax1.yaxis.set_major_locator(mticker.FixedLocator(ax1.get_yticks().tolist()))\n",
        "    ax1.set_yticklabels(y_labels_1)\n",
        "    ax1.set_ylabel('Count')\n",
        "    # Formatting the title\n",
        "    ax1.set_title(full_name+\"\\n\", fontweight='bold')\n",
        "\n",
        "    # Plot distribution of variable split by loan status \n",
        "    if continuous:\n",
        "        sn.boxplot(x=col_name, y='loan_status', data=df, ax=ax2)\n",
        "        ax2.set_ylabel('Loan status')\n",
        "        ax2.set_title(full_name + ' by loan status'+\"\\n\", fontweight='bold')\n",
        "    else:\n",
        "        charge_off_rates = df.groupby(col_name)['loan_status'].value_counts(normalize=True).loc[:,'Charged Off']\n",
        "        sn.barplot(x=charge_off_rates.index, y=charge_off_rates.values, ax=ax2)\n",
        "        \n",
        "        # Formatting the x-axis\n",
        "        ax2.set_xticklabels(charge_off_rates.index,rotation=rotation, horizontalalignment=alignment)\n",
        "        \n",
        "        # Formatting the y-axis\n",
        "        y_labels_2 = ['{:,.0f}'.format(x) + '%' for x in ax2.get_yticks()*100]\n",
        "        ax2.yaxis.set_major_locator(mticker.FixedLocator(ax2.get_yticks().tolist()))\n",
        "        ax2.set_yticklabels(y_labels_2)\n",
        "        ax2.set_ylabel('Proportion of loans charged off')\n",
        "\n",
        "        # Formatting the title \n",
        "        ax2.set_title('Charge off rate by ' + full_name+\"\\n\", fontweight='bold')\n",
        "    \n",
        "    ax2.set_xlabel(full_name)\n",
        "    \n",
        "    plt.tight_layout()"
      ],
      "execution_count": 171,
      "outputs": []
    },
    {
      "cell_type": "code",
      "metadata": {
        "colab": {
          "base_uri": "https://localhost:8080/",
          "height": 362
        },
        "id": "g5iKcvomFSeY",
        "outputId": "12726170-9b18-4a4f-95fa-3b26df7aea79"
      },
      "source": [
        "plot_var('loan_amnt', 'Loan amount')"
      ],
      "execution_count": 176,
      "outputs": [
        {
          "output_type": "display_data",
          "data": {
            "image/png": "[encoded data removed]",
            "text/plain": [
              "<Figure size 1080x360 with 2 Axes>"
            ]
          },
          "metadata": {
            "tags": [],
            "needs_background": "light"
          }
        }
      ]
    },
    {
      "cell_type": "code",
      "metadata": {
        "colab": {
          "base_uri": "https://localhost:8080/",
          "height": 362
        },
        "id": "H4WyrYfpFcyr",
        "outputId": "3415823e-f96b-4efb-e190-7d9c11b0060e"
      },
      "source": [
        "df_Accepted['term'] = df_Accepted.term.map({' 36 months': 36, ' 60 months': 60})\n",
        "plot_var('term', 'Term', continuous=False)"
      ],
      "execution_count": 177,
      "outputs": [
        {
          "output_type": "display_data",
          "data": {
            "image/png": "[encoded data removed]",
            "text/plain": [
              "<Figure size 1080x360 with 2 Axes>"
            ]
          },
          "metadata": {
            "tags": []
          }
        }
      ]
    },
    {
      "cell_type": "code",
      "metadata": {
        "id": "Qe_aD4FHGErL"
      },
      "source": [
        "rejected_filepath=\"/content/drive/MyDrive/rejected_2007_to_2018Q4.csv.gz\""
      ],
      "execution_count": 179,
      "outputs": []
    },
    {
      "cell_type": "code",
      "metadata": {
        "colab": {
          "base_uri": "https://localhost:8080/"
        },
        "id": "sLTFoIUvKKom",
        "outputId": "5e54e62a-9622-4321-95fc-53636bf4e12d"
      },
      "source": [
        "from google.colab import drive\n",
        "drive.mount('/content/drive')"
      ],
      "execution_count": null,
      "outputs": [
        {
          "output_type": "stream",
          "text": [
            "Mounted at /content/drive\n"
          ],
          "name": "stdout"
        }
      ]
    },
    {
      "cell_type": "code",
      "metadata": {
        "id": "4UKBFPPJGlxV"
      },
      "source": [
        "data_reject=pd.read_csv(rejected_filepath)"
      ],
      "execution_count": 180,
      "outputs": []
    },
    {
      "cell_type": "code",
      "metadata": {
        "colab": {
          "base_uri": "https://localhost:8080/"
        },
        "id": "qdfu-YdBG1Tr",
        "outputId": "b575deae-fddd-4c5f-be50-e7a60f6c8849"
      },
      "source": [
        "data_reject.shape"
      ],
      "execution_count": 181,
      "outputs": [
        {
          "output_type": "execute_result",
          "data": {
            "text/plain": [
              "(27648741, 9)"
            ]
          },
          "metadata": {
            "tags": []
          },
          "execution_count": 181
        }
      ]
    },
    {
      "cell_type": "code",
      "metadata": {
        "colab": {
          "base_uri": "https://localhost:8080/",
          "height": 238
        },
        "id": "lhUdzJP4HO3F",
        "outputId": "1937be3e-ac15-46de-ea18-37b60fce136c"
      },
      "source": [
        "data_reject.head()"
      ],
      "execution_count": 182,
      "outputs": [
        {
          "output_type": "execute_result",
          "data": {
            "text/html": [
              "<div>\n",
              "<style scoped>\n",
              "    .dataframe tbody tr th:only-of-type {\n",
              "        vertical-align: middle;\n",
              "    }\n",
              "\n",
              "    .dataframe tbody tr th {\n",
              "        vertical-align: top;\n",
              "    }\n",
              "\n",
              "    .dataframe thead th {\n",
              "        text-align: right;\n",
              "    }\n",
              "</style>\n",
              "<table border=\"1\" class=\"dataframe\">\n",
              "  <thead>\n",
              "    <tr style=\"text-align: right;\">\n",
              "      <th></th>\n",
              "      <th>Amount Requested</th>\n",
              "      <th>Application Date</th>\n",
              "      <th>Loan Title</th>\n",
              "      <th>Risk_Score</th>\n",
              "      <th>Debt-To-Income Ratio</th>\n",
              "      <th>Zip Code</th>\n",
              "      <th>State</th>\n",
              "      <th>Employment Length</th>\n",
              "      <th>Policy Code</th>\n",
              "    </tr>\n",
              "  </thead>\n",
              "  <tbody>\n",
              "    <tr>\n",
              "      <th>0</th>\n",
              "      <td>1000.0</td>\n",
              "      <td>2007-05-26</td>\n",
              "      <td>Wedding Covered but No Honeymoon</td>\n",
              "      <td>693.0</td>\n",
              "      <td>10%</td>\n",
              "      <td>481xx</td>\n",
              "      <td>NM</td>\n",
              "      <td>4 years</td>\n",
              "      <td>0.0</td>\n",
              "    </tr>\n",
              "    <tr>\n",
              "      <th>1</th>\n",
              "      <td>1000.0</td>\n",
              "      <td>2007-05-26</td>\n",
              "      <td>Consolidating Debt</td>\n",
              "      <td>703.0</td>\n",
              "      <td>10%</td>\n",
              "      <td>010xx</td>\n",
              "      <td>MA</td>\n",
              "      <td>&lt; 1 year</td>\n",
              "      <td>0.0</td>\n",
              "    </tr>\n",
              "    <tr>\n",
              "      <th>2</th>\n",
              "      <td>11000.0</td>\n",
              "      <td>2007-05-27</td>\n",
              "      <td>Want to consolidate my debt</td>\n",
              "      <td>715.0</td>\n",
              "      <td>10%</td>\n",
              "      <td>212xx</td>\n",
              "      <td>MD</td>\n",
              "      <td>1 year</td>\n",
              "      <td>0.0</td>\n",
              "    </tr>\n",
              "    <tr>\n",
              "      <th>3</th>\n",
              "      <td>6000.0</td>\n",
              "      <td>2007-05-27</td>\n",
              "      <td>waksman</td>\n",
              "      <td>698.0</td>\n",
              "      <td>38.64%</td>\n",
              "      <td>017xx</td>\n",
              "      <td>MA</td>\n",
              "      <td>&lt; 1 year</td>\n",
              "      <td>0.0</td>\n",
              "    </tr>\n",
              "    <tr>\n",
              "      <th>4</th>\n",
              "      <td>1500.0</td>\n",
              "      <td>2007-05-27</td>\n",
              "      <td>mdrigo</td>\n",
              "      <td>509.0</td>\n",
              "      <td>9.43%</td>\n",
              "      <td>209xx</td>\n",
              "      <td>MD</td>\n",
              "      <td>&lt; 1 year</td>\n",
              "      <td>0.0</td>\n",
              "    </tr>\n",
              "  </tbody>\n",
              "</table>\n",
              "</div>"
            ],
            "text/plain": [
              "   Amount Requested Application Date  ... Employment Length  Policy Code\n",
              "0            1000.0       2007-05-26  ...           4 years          0.0\n",
              "1            1000.0       2007-05-26  ...          < 1 year          0.0\n",
              "2           11000.0       2007-05-27  ...            1 year          0.0\n",
              "3            6000.0       2007-05-27  ...          < 1 year          0.0\n",
              "4            1500.0       2007-05-27  ...          < 1 year          0.0\n",
              "\n",
              "[5 rows x 9 columns]"
            ]
          },
          "metadata": {
            "tags": []
          },
          "execution_count": 182
        }
      ]
    },
    {
      "cell_type": "code",
      "metadata": {
        "colab": {
          "base_uri": "https://localhost:8080/",
          "height": 204
        },
        "id": "aYVSn8FKHSDR",
        "outputId": "4bcd00f4-68f9-4eb3-d273-3b68fa3ee81a"
      },
      "source": [
        "data_reject.tail()"
      ],
      "execution_count": 183,
      "outputs": [
        {
          "output_type": "execute_result",
          "data": {
            "text/html": [
              "<div>\n",
              "<style scoped>\n",
              "    .dataframe tbody tr th:only-of-type {\n",
              "        vertical-align: middle;\n",
              "    }\n",
              "\n",
              "    .dataframe tbody tr th {\n",
              "        vertical-align: top;\n",
              "    }\n",
              "\n",
              "    .dataframe thead th {\n",
              "        text-align: right;\n",
              "    }\n",
              "</style>\n",
              "<table border=\"1\" class=\"dataframe\">\n",
              "  <thead>\n",
              "    <tr style=\"text-align: right;\">\n",
              "      <th></th>\n",
              "      <th>Amount Requested</th>\n",
              "      <th>Application Date</th>\n",
              "      <th>Loan Title</th>\n",
              "      <th>Risk_Score</th>\n",
              "      <th>Debt-To-Income Ratio</th>\n",
              "      <th>Zip Code</th>\n",
              "      <th>State</th>\n",
              "      <th>Employment Length</th>\n",
              "      <th>Policy Code</th>\n",
              "    </tr>\n",
              "  </thead>\n",
              "  <tbody>\n",
              "    <tr>\n",
              "      <th>27648736</th>\n",
              "      <td>10000.0</td>\n",
              "      <td>2016-12-31</td>\n",
              "      <td>Debt consolidation</td>\n",
              "      <td>590.0</td>\n",
              "      <td>41.26%</td>\n",
              "      <td>441xx</td>\n",
              "      <td>OH</td>\n",
              "      <td>&lt; 1 year</td>\n",
              "      <td>0.0</td>\n",
              "    </tr>\n",
              "    <tr>\n",
              "      <th>27648737</th>\n",
              "      <td>10000.0</td>\n",
              "      <td>2016-12-31</td>\n",
              "      <td>moving</td>\n",
              "      <td>NaN</td>\n",
              "      <td>1.48%</td>\n",
              "      <td>207xx</td>\n",
              "      <td>MD</td>\n",
              "      <td>5 years</td>\n",
              "      <td>0.0</td>\n",
              "    </tr>\n",
              "    <tr>\n",
              "      <th>27648738</th>\n",
              "      <td>1200.0</td>\n",
              "      <td>2016-12-31</td>\n",
              "      <td>Other</td>\n",
              "      <td>686.0</td>\n",
              "      <td>10.26%</td>\n",
              "      <td>914xx</td>\n",
              "      <td>CA</td>\n",
              "      <td>&lt; 1 year</td>\n",
              "      <td>0.0</td>\n",
              "    </tr>\n",
              "    <tr>\n",
              "      <th>27648739</th>\n",
              "      <td>25000.0</td>\n",
              "      <td>2016-12-31</td>\n",
              "      <td>debt_consolidation</td>\n",
              "      <td>NaN</td>\n",
              "      <td>17.71%</td>\n",
              "      <td>880xx</td>\n",
              "      <td>NM</td>\n",
              "      <td>&lt; 1 year</td>\n",
              "      <td>0.0</td>\n",
              "    </tr>\n",
              "    <tr>\n",
              "      <th>27648740</th>\n",
              "      <td>15000.0</td>\n",
              "      <td>2016-12-31</td>\n",
              "      <td>Business</td>\n",
              "      <td>684.0</td>\n",
              "      <td>10.58%</td>\n",
              "      <td>113xx</td>\n",
              "      <td>NY</td>\n",
              "      <td>&lt; 1 year</td>\n",
              "      <td>0.0</td>\n",
              "    </tr>\n",
              "  </tbody>\n",
              "</table>\n",
              "</div>"
            ],
            "text/plain": [
              "          Amount Requested Application Date  ... Employment Length  Policy Code\n",
              "27648736           10000.0       2016-12-31  ...          < 1 year          0.0\n",
              "27648737           10000.0       2016-12-31  ...           5 years          0.0\n",
              "27648738            1200.0       2016-12-31  ...          < 1 year          0.0\n",
              "27648739           25000.0       2016-12-31  ...          < 1 year          0.0\n",
              "27648740           15000.0       2016-12-31  ...          < 1 year          0.0\n",
              "\n",
              "[5 rows x 9 columns]"
            ]
          },
          "metadata": {
            "tags": []
          },
          "execution_count": 183
        }
      ]
    },
    {
      "cell_type": "code",
      "metadata": {
        "colab": {
          "base_uri": "https://localhost:8080/"
        },
        "id": "5w3EbF4AHZgy",
        "outputId": "e8d79468-b5bc-4622-8bb1-1094310263e9"
      },
      "source": [
        "data_reject.isnull().sum()"
      ],
      "execution_count": 184,
      "outputs": [
        {
          "output_type": "execute_result",
          "data": {
            "text/plain": [
              "Amount Requested               0\n",
              "Application Date               0\n",
              "Loan Title                  1303\n",
              "Risk_Score              18497630\n",
              "Debt-To-Income Ratio           0\n",
              "Zip Code                     293\n",
              "State                         22\n",
              "Employment Length         951355\n",
              "Policy Code                  918\n",
              "dtype: int64"
            ]
          },
          "metadata": {
            "tags": []
          },
          "execution_count": 184
        }
      ]
    },
    {
      "cell_type": "code",
      "metadata": {
        "colab": {
          "base_uri": "https://localhost:8080/"
        },
        "id": "VvyKFv9ZHcMZ",
        "outputId": "961f87dd-8d90-4b5b-db74-868013a8ac47"
      },
      "source": [
        "data_reject.columns"
      ],
      "execution_count": 185,
      "outputs": [
        {
          "output_type": "execute_result",
          "data": {
            "text/plain": [
              "Index(['Amount Requested', 'Application Date', 'Loan Title', 'Risk_Score',\n",
              "       'Debt-To-Income Ratio', 'Zip Code', 'State', 'Employment Length',\n",
              "       'Policy Code'],\n",
              "      dtype='object')"
            ]
          },
          "metadata": {
            "tags": []
          },
          "execution_count": 185
        }
      ]
    },
    {
      "cell_type": "code",
      "metadata": {
        "colab": {
          "base_uri": "https://localhost:8080/"
        },
        "id": "8SKYOGu_Hhxq",
        "outputId": "4e70ef1d-ba30-45df-f214-ecc9ee3e5fc6"
      },
      "source": [
        "\n",
        "data_reject.info(verbose=True, null_counts=True)"
      ],
      "execution_count": 186,
      "outputs": [
        {
          "output_type": "stream",
          "text": [
            "<class 'pandas.core.frame.DataFrame'>\n",
            "RangeIndex: 27648741 entries, 0 to 27648740\n",
            "Data columns (total 9 columns):\n",
            " #   Column                Non-Null Count     Dtype  \n",
            "---  ------                --------------     -----  \n",
            " 0   Amount Requested      27648741 non-null  float64\n",
            " 1   Application Date      27648741 non-null  object \n",
            " 2   Loan Title            27647438 non-null  object \n",
            " 3   Risk_Score            9151111 non-null   float64\n",
            " 4   Debt-To-Income Ratio  27648741 non-null  object \n",
            " 5   Zip Code              27648448 non-null  object \n",
            " 6   State                 27648719 non-null  object \n",
            " 7   Employment Length     26697386 non-null  object \n",
            " 8   Policy Code           27647823 non-null  float64\n",
            "dtypes: float64(3), object(6)\n",
            "memory usage: 1.9+ GB\n"
          ],
          "name": "stdout"
        }
      ]
    },
    {
      "cell_type": "code",
      "metadata": {
        "colab": {
          "base_uri": "https://localhost:8080/",
          "height": 142
        },
        "id": "Dip1kY2uHj0O",
        "outputId": "1a5709b6-0464-4aba-e2a5-e9e23be68071"
      },
      "source": [
        "data_reject.describe().T"
      ],
      "execution_count": 187,
      "outputs": [
        {
          "output_type": "execute_result",
          "data": {
            "text/html": [
              "<div>\n",
              "<style scoped>\n",
              "    .dataframe tbody tr th:only-of-type {\n",
              "        vertical-align: middle;\n",
              "    }\n",
              "\n",
              "    .dataframe tbody tr th {\n",
              "        vertical-align: top;\n",
              "    }\n",
              "\n",
              "    .dataframe thead th {\n",
              "        text-align: right;\n",
              "    }\n",
              "</style>\n",
              "<table border=\"1\" class=\"dataframe\">\n",
              "  <thead>\n",
              "    <tr style=\"text-align: right;\">\n",
              "      <th></th>\n",
              "      <th>count</th>\n",
              "      <th>mean</th>\n",
              "      <th>std</th>\n",
              "      <th>min</th>\n",
              "      <th>25%</th>\n",
              "      <th>50%</th>\n",
              "      <th>75%</th>\n",
              "      <th>max</th>\n",
              "    </tr>\n",
              "  </thead>\n",
              "  <tbody>\n",
              "    <tr>\n",
              "      <th>Amount Requested</th>\n",
              "      <td>27648741.0</td>\n",
              "      <td>13133.240309</td>\n",
              "      <td>15009.636325</td>\n",
              "      <td>0.0</td>\n",
              "      <td>4800.0</td>\n",
              "      <td>10000.0</td>\n",
              "      <td>20000.0</td>\n",
              "      <td>1400000.0</td>\n",
              "    </tr>\n",
              "    <tr>\n",
              "      <th>Risk_Score</th>\n",
              "      <td>9151111.0</td>\n",
              "      <td>628.172090</td>\n",
              "      <td>89.936793</td>\n",
              "      <td>0.0</td>\n",
              "      <td>591.0</td>\n",
              "      <td>637.0</td>\n",
              "      <td>675.0</td>\n",
              "      <td>990.0</td>\n",
              "    </tr>\n",
              "    <tr>\n",
              "      <th>Policy Code</th>\n",
              "      <td>27647823.0</td>\n",
              "      <td>0.006375</td>\n",
              "      <td>0.112737</td>\n",
              "      <td>0.0</td>\n",
              "      <td>0.0</td>\n",
              "      <td>0.0</td>\n",
              "      <td>0.0</td>\n",
              "      <td>2.0</td>\n",
              "    </tr>\n",
              "  </tbody>\n",
              "</table>\n",
              "</div>"
            ],
            "text/plain": [
              "                       count          mean  ...      75%        max\n",
              "Amount Requested  27648741.0  13133.240309  ...  20000.0  1400000.0\n",
              "Risk_Score         9151111.0    628.172090  ...    675.0      990.0\n",
              "Policy Code       27647823.0      0.006375  ...      0.0        2.0\n",
              "\n",
              "[3 rows x 8 columns]"
            ]
          },
          "metadata": {
            "tags": []
          },
          "execution_count": 187
        }
      ]
    },
    {
      "cell_type": "code",
      "metadata": {
        "colab": {
          "base_uri": "https://localhost:8080/",
          "height": 204
        },
        "id": "SNGchrhuHpXW",
        "outputId": "ab0eba80-e6c8-4b5f-b567-e823e2dd3404"
      },
      "source": [
        "bool_series = pd.isnull(data_reject[\"Risk_Score\"])\n",
        "data_reject[bool_series] .head()"
      ],
      "execution_count": 188,
      "outputs": [
        {
          "output_type": "execute_result",
          "data": {
            "text/html": [
              "<div>\n",
              "<style scoped>\n",
              "    .dataframe tbody tr th:only-of-type {\n",
              "        vertical-align: middle;\n",
              "    }\n",
              "\n",
              "    .dataframe tbody tr th {\n",
              "        vertical-align: top;\n",
              "    }\n",
              "\n",
              "    .dataframe thead th {\n",
              "        text-align: right;\n",
              "    }\n",
              "</style>\n",
              "<table border=\"1\" class=\"dataframe\">\n",
              "  <thead>\n",
              "    <tr style=\"text-align: right;\">\n",
              "      <th></th>\n",
              "      <th>Amount Requested</th>\n",
              "      <th>Application Date</th>\n",
              "      <th>Loan Title</th>\n",
              "      <th>Risk_Score</th>\n",
              "      <th>Debt-To-Income Ratio</th>\n",
              "      <th>Zip Code</th>\n",
              "      <th>State</th>\n",
              "      <th>Employment Length</th>\n",
              "      <th>Policy Code</th>\n",
              "    </tr>\n",
              "  </thead>\n",
              "  <tbody>\n",
              "    <tr>\n",
              "      <th>132</th>\n",
              "      <td>3000.0</td>\n",
              "      <td>2007-06-09</td>\n",
              "      <td>lmhsfan</td>\n",
              "      <td>NaN</td>\n",
              "      <td>9.26%</td>\n",
              "      <td>805xx</td>\n",
              "      <td>CO</td>\n",
              "      <td>&lt; 1 year</td>\n",
              "      <td>0.0</td>\n",
              "    </tr>\n",
              "    <tr>\n",
              "      <th>160</th>\n",
              "      <td>12000.0</td>\n",
              "      <td>2007-06-12</td>\n",
              "      <td>Tony_Texan</td>\n",
              "      <td>NaN</td>\n",
              "      <td>100%</td>\n",
              "      <td>802xx</td>\n",
              "      <td>CO</td>\n",
              "      <td>&lt; 1 year</td>\n",
              "      <td>0.0</td>\n",
              "    </tr>\n",
              "    <tr>\n",
              "      <th>205</th>\n",
              "      <td>4000.0</td>\n",
              "      <td>2007-06-19</td>\n",
              "      <td>ThePegLeg</td>\n",
              "      <td>NaN</td>\n",
              "      <td>100%</td>\n",
              "      <td>796xx</td>\n",
              "      <td>TX</td>\n",
              "      <td>&lt; 1 year</td>\n",
              "      <td>0.0</td>\n",
              "    </tr>\n",
              "    <tr>\n",
              "      <th>310</th>\n",
              "      <td>1000.0</td>\n",
              "      <td>2007-06-27</td>\n",
              "      <td>Help rebuild Galveston</td>\n",
              "      <td>NaN</td>\n",
              "      <td>100%</td>\n",
              "      <td>701xx</td>\n",
              "      <td>TX</td>\n",
              "      <td>10+ years</td>\n",
              "      <td>0.0</td>\n",
              "    </tr>\n",
              "    <tr>\n",
              "      <th>543</th>\n",
              "      <td>7500.0</td>\n",
              "      <td>2007-07-23</td>\n",
              "      <td>Sm-biz owner seeks loan</td>\n",
              "      <td>NaN</td>\n",
              "      <td>100%</td>\n",
              "      <td>891xx</td>\n",
              "      <td>NV</td>\n",
              "      <td>3 years</td>\n",
              "      <td>0.0</td>\n",
              "    </tr>\n",
              "  </tbody>\n",
              "</table>\n",
              "</div>"
            ],
            "text/plain": [
              "     Amount Requested Application Date  ... Employment Length  Policy Code\n",
              "132            3000.0       2007-06-09  ...          < 1 year          0.0\n",
              "160           12000.0       2007-06-12  ...          < 1 year          0.0\n",
              "205            4000.0       2007-06-19  ...          < 1 year          0.0\n",
              "310            1000.0       2007-06-27  ...         10+ years          0.0\n",
              "543            7500.0       2007-07-23  ...           3 years          0.0\n",
              "\n",
              "[5 rows x 9 columns]"
            ]
          },
          "metadata": {
            "tags": []
          },
          "execution_count": 188
        }
      ]
    },
    {
      "cell_type": "code",
      "metadata": {
        "colab": {
          "base_uri": "https://localhost:8080/"
        },
        "id": "hPIq9oHyHwcG",
        "outputId": "fe7836c8-0f7a-4240-f2d0-178a28211acf"
      },
      "source": [
        "new_data1 = data_reject.dropna(axis = 0, how ='any')  \n",
        "new_data1.shape"
      ],
      "execution_count": 189,
      "outputs": [
        {
          "output_type": "execute_result",
          "data": {
            "text/plain": [
              "(8992195, 9)"
            ]
          },
          "metadata": {
            "tags": []
          },
          "execution_count": 189
        }
      ]
    },
    {
      "cell_type": "code",
      "metadata": {
        "colab": {
          "base_uri": "https://localhost:8080/"
        },
        "id": "m9CPHYBIK5QN",
        "outputId": "8dab8ce3-629d-4c25-b6f2-91b33c31d27f"
      },
      "source": [
        "print(\"Old data frame length:\", len(data_reject)) \n",
        "print(\"New data frame length:\", len(new_data1))  \n",
        "print(\"Number of rows with at least 1 NA value: \", (len(data_reject)-len(new_data1)))"
      ],
      "execution_count": 190,
      "outputs": [
        {
          "output_type": "stream",
          "text": [
            "Old data frame length: 27648741\n",
            "New data frame length: 8992195\n",
            "Number of rows with at least 1 NA value:  18656546\n"
          ],
          "name": "stdout"
        }
      ]
    },
    {
      "cell_type": "code",
      "metadata": {
        "colab": {
          "base_uri": "https://localhost:8080/"
        },
        "id": "e2_A6FPPK_Lb",
        "outputId": "f0ac206f-124a-4aed-a4fb-4f37be2acc2d"
      },
      "source": [
        "\n",
        "new_data1.isnull().sum()"
      ],
      "execution_count": 191,
      "outputs": [
        {
          "output_type": "execute_result",
          "data": {
            "text/plain": [
              "Amount Requested        0\n",
              "Application Date        0\n",
              "Loan Title              0\n",
              "Risk_Score              0\n",
              "Debt-To-Income Ratio    0\n",
              "Zip Code                0\n",
              "State                   0\n",
              "Employment Length       0\n",
              "Policy Code             0\n",
              "dtype: int64"
            ]
          },
          "metadata": {
            "tags": []
          },
          "execution_count": 191
        }
      ]
    },
    {
      "cell_type": "code",
      "metadata": {
        "id": "GG6O32J2LBco"
      },
      "source": [
        "def removeNulls(dataframe, axis =1, percent=0.3):\n",
        "    '''\n",
        "    \n",
        "    '''\n",
        "    df = dataframe.copy()\n",
        "    ishape = df.shape\n",
        "    if axis == 0:\n",
        "        rownames = df.transpose().isnull().sum()\n",
        "        rownames = list(rownames[rownames.values > percent*len(df)].index)\n",
        "        df.drop(df.index[rownames],inplace=True) \n",
        "        print(\"\\nNumber of Rows dropped\\t: \",len(rownames))\n",
        "    else:\n",
        "        colnames = (df.isnull().sum()/len(df))\n",
        "        colnames = list(colnames[colnames.values>=percent].index)\n",
        "        df.drop(labels = colnames,axis =1,inplace=True)        \n",
        "        print(\"Number of Columns dropped\\t: \",len(colnames))\n",
        "         \n",
        "    print(\"\\nOld dataset rows,columns\",ishape,\"\\nNew dataset rows,columns\",df.shape)\n",
        "\n",
        "    return df"
      ],
      "execution_count": 192,
      "outputs": []
    },
    {
      "cell_type": "code",
      "metadata": {
        "colab": {
          "base_uri": "https://localhost:8080/"
        },
        "id": "wwlXWBLPLOgq",
        "outputId": "fb461a9b-fd72-4fd5-d3f8-18acd99be2c0"
      },
      "source": [
        "data_reject = removeNulls(data_reject, axis =1,percent = 0.3)"
      ],
      "execution_count": 193,
      "outputs": [
        {
          "output_type": "stream",
          "text": [
            "Number of Columns dropped\t:  1\n",
            "\n",
            "Old dataset rows,columns (27648741, 9) \n",
            "New dataset rows,columns (27648741, 8)\n"
          ],
          "name": "stdout"
        }
      ]
    },
    {
      "cell_type": "markdown",
      "metadata": {
        "id": "Oet2c5DEUjWG"
      },
      "source": [
        "**CORRELATION OF ATTRIBUTES**"
      ]
    },
    {
      "cell_type": "code",
      "metadata": {
        "id": "gn3R8XYoLV-c",
        "colab": {
          "base_uri": "https://localhost:8080/",
          "height": 289
        },
        "outputId": "9ccbc41a-e77b-4ad6-b72f-f2fdfa75a884"
      },
      "source": [
        "corelation=data_reject.corr()\n",
        "sns.heatmap(corelation,xticklabels=corelation.columns,yticklabels=corelation.columns,annot=True)"
      ],
      "execution_count": 194,
      "outputs": [
        {
          "output_type": "execute_result",
          "data": {
            "text/plain": [
              "<matplotlib.axes._subplots.AxesSubplot at 0x7f52cb5abd10>"
            ]
          },
          "metadata": {
            "tags": []
          },
          "execution_count": 194
        },
        {
          "output_type": "display_data",
          "data": {
            "image/png": "[encoded data removed]",
            "text/plain": [
              "<Figure size 432x288 with 2 Axes>"
            ]
          },
          "metadata": {
            "tags": []
          }
        }
      ]
    },
    {
      "cell_type": "code",
      "metadata": {
        "id": "Vve3XdeQdlzO"
      },
      "source": [
        "sns.catplot(x='Amount Requested',kind='box',data=data_reject)"
      ],
      "execution_count": null,
      "outputs": []
    },
    {
      "cell_type": "code",
      "metadata": {
        "colab": {
          "base_uri": "https://localhost:8080/",
          "height": 308
        },
        "id": "8p_ohRxTX-MB",
        "outputId": "4c8a3a58-0e19-4e6a-bb38-65812304b680"
      },
      "source": [
        "import matplotlib.pyplot as plt\n",
        "sns.scatterplot(x=data_reject['Risk_Score'],y=data_reject['Amount Requested'])"
      ],
      "execution_count": null,
      "outputs": [
        {
          "output_type": "execute_result",
          "data": {
            "text/plain": [
              "<matplotlib.axes._subplots.AxesSubplot at 0x7fdccb7a62d0>"
            ]
          },
          "metadata": {
            "tags": []
          },
          "execution_count": 27
        },
        {
          "output_type": "display_data",
          "data": {
            "image/png": "[encoded data removed]",
            "text/plain": [
              "<Figure size 432x288 with 1 Axes>"
            ]
          },
          "metadata": {
            "tags": [],
            "needs_background": "light"
          }
        }
      ]
    },
    {
      "cell_type": "code",
      "metadata": {
        "id": "JY_aTL5udU24"
      },
      "source": [
        ""
      ],
      "execution_count": null,
      "outputs": []
    }
  ]
}