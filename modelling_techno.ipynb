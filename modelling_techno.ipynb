{
  "nbformat": 4,
  "nbformat_minor": 0,
  "metadata": {
    "colab": {
      "name": "modelling techno.ipynb",
      "provenance": [],
      "collapsed_sections": []
    },
    "kernelspec": {
      "name": "python3",
      "display_name": "Python 3"
    },
    "language_info": {
      "name": "python"
    }
  },
  "cells": [
    {
      "cell_type": "code",
      "metadata": {
        "id": "9Dz0QzWXWEC9"
      },
      "source": [
        "import pandas as pd\n",
        "import numpy as np\n",
        "import seaborn as sns\n",
        "import matplotlib.pyplot as plt"
      ],
      "execution_count": null,
      "outputs": []
    },
    {
      "cell_type": "code",
      "metadata": {
        "colab": {
          "base_uri": "https://localhost:8080/"
        },
        "id": "d7mUVoX2WJMt",
        "outputId": "35cf9a7e-69c6-4b61-e4b1-9da18bc7281c"
      },
      "source": [
        "df = pd.read_csv('/content/drive/MyDrive/Colab Notebooks/Lending_Club_Loan_approval_Optimization (1).csv')\n",
        "df.shape"
      ],
      "execution_count": null,
      "outputs": [
        {
          "output_type": "execute_result",
          "data": {
            "text/plain": [
              "(2072806, 6)"
            ]
          },
          "metadata": {
            "tags": []
          },
          "execution_count": 2
        }
      ]
    },
    {
      "cell_type": "code",
      "metadata": {
        "colab": {
          "base_uri": "https://localhost:8080/",
          "height": 359
        },
        "id": "dG7gWg4OWMlI",
        "outputId": "7eadf180-f036-41c3-f5e8-f8bbcecd1a06"
      },
      "source": [
        "df.head(10)"
      ],
      "execution_count": null,
      "outputs": [
        {
          "output_type": "execute_result",
          "data": {
            "text/html": [
              "<div>\n",
              "<style scoped>\n",
              "    .dataframe tbody tr th:only-of-type {\n",
              "        vertical-align: middle;\n",
              "    }\n",
              "\n",
              "    .dataframe tbody tr th {\n",
              "        vertical-align: top;\n",
              "    }\n",
              "\n",
              "    .dataframe thead th {\n",
              "        text-align: right;\n",
              "    }\n",
              "</style>\n",
              "<table border=\"1\" class=\"dataframe\">\n",
              "  <thead>\n",
              "    <tr style=\"text-align: right;\">\n",
              "      <th></th>\n",
              "      <th>Unnamed: 0</th>\n",
              "      <th>Amount Requested</th>\n",
              "      <th>Risk_Score</th>\n",
              "      <th>Debt-To-Income Ratio</th>\n",
              "      <th>Employment Length</th>\n",
              "      <th>Target</th>\n",
              "    </tr>\n",
              "  </thead>\n",
              "  <tbody>\n",
              "    <tr>\n",
              "      <th>0</th>\n",
              "      <td>0</td>\n",
              "      <td>3600.0</td>\n",
              "      <td>677.0</td>\n",
              "      <td>5.91</td>\n",
              "      <td>10</td>\n",
              "      <td>1</td>\n",
              "    </tr>\n",
              "    <tr>\n",
              "      <th>1</th>\n",
              "      <td>1</td>\n",
              "      <td>24700.0</td>\n",
              "      <td>717.0</td>\n",
              "      <td>16.06</td>\n",
              "      <td>10</td>\n",
              "      <td>1</td>\n",
              "    </tr>\n",
              "    <tr>\n",
              "      <th>2</th>\n",
              "      <td>2</td>\n",
              "      <td>20000.0</td>\n",
              "      <td>697.0</td>\n",
              "      <td>10.78</td>\n",
              "      <td>10</td>\n",
              "      <td>1</td>\n",
              "    </tr>\n",
              "    <tr>\n",
              "      <th>3</th>\n",
              "      <td>3</td>\n",
              "      <td>10400.0</td>\n",
              "      <td>697.0</td>\n",
              "      <td>25.37</td>\n",
              "      <td>3</td>\n",
              "      <td>1</td>\n",
              "    </tr>\n",
              "    <tr>\n",
              "      <th>4</th>\n",
              "      <td>4</td>\n",
              "      <td>11950.0</td>\n",
              "      <td>692.0</td>\n",
              "      <td>10.20</td>\n",
              "      <td>4</td>\n",
              "      <td>1</td>\n",
              "    </tr>\n",
              "    <tr>\n",
              "      <th>5</th>\n",
              "      <td>5</td>\n",
              "      <td>20000.0</td>\n",
              "      <td>682.0</td>\n",
              "      <td>14.67</td>\n",
              "      <td>10</td>\n",
              "      <td>1</td>\n",
              "    </tr>\n",
              "    <tr>\n",
              "      <th>6</th>\n",
              "      <td>6</td>\n",
              "      <td>20000.0</td>\n",
              "      <td>707.0</td>\n",
              "      <td>17.61</td>\n",
              "      <td>10</td>\n",
              "      <td>1</td>\n",
              "    </tr>\n",
              "    <tr>\n",
              "      <th>7</th>\n",
              "      <td>7</td>\n",
              "      <td>10000.0</td>\n",
              "      <td>687.0</td>\n",
              "      <td>13.07</td>\n",
              "      <td>6</td>\n",
              "      <td>1</td>\n",
              "    </tr>\n",
              "    <tr>\n",
              "      <th>8</th>\n",
              "      <td>8</td>\n",
              "      <td>8000.0</td>\n",
              "      <td>702.0</td>\n",
              "      <td>34.80</td>\n",
              "      <td>10</td>\n",
              "      <td>1</td>\n",
              "    </tr>\n",
              "    <tr>\n",
              "      <th>9</th>\n",
              "      <td>9</td>\n",
              "      <td>1400.0</td>\n",
              "      <td>702.0</td>\n",
              "      <td>34.95</td>\n",
              "      <td>3</td>\n",
              "      <td>1</td>\n",
              "    </tr>\n",
              "  </tbody>\n",
              "</table>\n",
              "</div>"
            ],
            "text/plain": [
              "   Unnamed: 0  Amount Requested  ...  Employment Length  Target\n",
              "0           0            3600.0  ...                 10       1\n",
              "1           1           24700.0  ...                 10       1\n",
              "2           2           20000.0  ...                 10       1\n",
              "3           3           10400.0  ...                  3       1\n",
              "4           4           11950.0  ...                  4       1\n",
              "5           5           20000.0  ...                 10       1\n",
              "6           6           20000.0  ...                 10       1\n",
              "7           7           10000.0  ...                  6       1\n",
              "8           8            8000.0  ...                 10       1\n",
              "9           9            1400.0  ...                  3       1\n",
              "\n",
              "[10 rows x 6 columns]"
            ]
          },
          "metadata": {
            "tags": []
          },
          "execution_count": 3
        }
      ]
    },
    {
      "cell_type": "code",
      "metadata": {
        "colab": {
          "base_uri": "https://localhost:8080/"
        },
        "id": "2b9ZVrLeWMoI",
        "outputId": "a1b5d518-6a5d-430b-8c1b-fbfe7e19a112"
      },
      "source": [
        "df.info()"
      ],
      "execution_count": null,
      "outputs": [
        {
          "output_type": "stream",
          "text": [
            "<class 'pandas.core.frame.DataFrame'>\n",
            "RangeIndex: 2072806 entries, 0 to 2072805\n",
            "Data columns (total 6 columns):\n",
            " #   Column                Dtype  \n",
            "---  ------                -----  \n",
            " 0   Unnamed: 0            int64  \n",
            " 1   Amount Requested      float64\n",
            " 2   Risk_Score            float64\n",
            " 3   Debt-To-Income Ratio  float64\n",
            " 4   Employment Length     int64  \n",
            " 5   Target                int64  \n",
            "dtypes: float64(3), int64(3)\n",
            "memory usage: 94.9 MB\n"
          ],
          "name": "stdout"
        }
      ]
    },
    {
      "cell_type": "code",
      "metadata": {
        "colab": {
          "base_uri": "https://localhost:8080/",
          "height": 297
        },
        "id": "-mAXCzA_WMra",
        "outputId": "f921eaed-1662-4017-adde-edb9d3960fd4"
      },
      "source": [
        "df.describe()"
      ],
      "execution_count": null,
      "outputs": [
        {
          "output_type": "execute_result",
          "data": {
            "text/html": [
              "<div>\n",
              "<style scoped>\n",
              "    .dataframe tbody tr th:only-of-type {\n",
              "        vertical-align: middle;\n",
              "    }\n",
              "\n",
              "    .dataframe tbody tr th {\n",
              "        vertical-align: top;\n",
              "    }\n",
              "\n",
              "    .dataframe thead th {\n",
              "        text-align: right;\n",
              "    }\n",
              "</style>\n",
              "<table border=\"1\" class=\"dataframe\">\n",
              "  <thead>\n",
              "    <tr style=\"text-align: right;\">\n",
              "      <th></th>\n",
              "      <th>Unnamed: 0</th>\n",
              "      <th>Amount Requested</th>\n",
              "      <th>Risk_Score</th>\n",
              "      <th>Debt-To-Income Ratio</th>\n",
              "      <th>Employment Length</th>\n",
              "      <th>Target</th>\n",
              "    </tr>\n",
              "  </thead>\n",
              "  <tbody>\n",
              "    <tr>\n",
              "      <th>count</th>\n",
              "      <td>2.072806e+06</td>\n",
              "      <td>2.072806e+06</td>\n",
              "      <td>2.072806e+06</td>\n",
              "      <td>2.072806e+06</td>\n",
              "      <td>2.072806e+06</td>\n",
              "      <td>2072806.0</td>\n",
              "    </tr>\n",
              "    <tr>\n",
              "      <th>mean</th>\n",
              "      <td>1.036402e+06</td>\n",
              "      <td>1.293403e+04</td>\n",
              "      <td>6.560779e+02</td>\n",
              "      <td>1.173645e+02</td>\n",
              "      <td>3.738213e+00</td>\n",
              "      <td>0.5</td>\n",
              "    </tr>\n",
              "    <tr>\n",
              "      <th>std</th>\n",
              "      <td>5.983677e+05</td>\n",
              "      <td>9.483082e+03</td>\n",
              "      <td>8.573350e+01</td>\n",
              "      <td>4.757285e+03</td>\n",
              "      <td>4.046339e+00</td>\n",
              "      <td>0.5</td>\n",
              "    </tr>\n",
              "    <tr>\n",
              "      <th>min</th>\n",
              "      <td>0.000000e+00</td>\n",
              "      <td>2.000000e+02</td>\n",
              "      <td>0.000000e+00</td>\n",
              "      <td>-1.000000e+00</td>\n",
              "      <td>0.000000e+00</td>\n",
              "      <td>0.0</td>\n",
              "    </tr>\n",
              "    <tr>\n",
              "      <th>25%</th>\n",
              "      <td>5.182012e+05</td>\n",
              "      <td>5.000000e+03</td>\n",
              "      <td>6.130000e+02</td>\n",
              "      <td>1.108000e+01</td>\n",
              "      <td>0.000000e+00</td>\n",
              "      <td>0.0</td>\n",
              "    </tr>\n",
              "    <tr>\n",
              "      <th>50%</th>\n",
              "      <td>1.036402e+06</td>\n",
              "      <td>1.000000e+04</td>\n",
              "      <td>6.720000e+02</td>\n",
              "      <td>1.859000e+01</td>\n",
              "      <td>2.000000e+00</td>\n",
              "      <td>0.5</td>\n",
              "    </tr>\n",
              "    <tr>\n",
              "      <th>75%</th>\n",
              "      <td>1.554604e+06</td>\n",
              "      <td>1.920000e+04</td>\n",
              "      <td>7.020000e+02</td>\n",
              "      <td>2.807000e+01</td>\n",
              "      <td>8.000000e+00</td>\n",
              "      <td>1.0</td>\n",
              "    </tr>\n",
              "    <tr>\n",
              "      <th>max</th>\n",
              "      <td>2.072805e+06</td>\n",
              "      <td>1.400000e+06</td>\n",
              "      <td>9.900000e+02</td>\n",
              "      <td>2.376000e+06</td>\n",
              "      <td>1.000000e+01</td>\n",
              "      <td>1.0</td>\n",
              "    </tr>\n",
              "  </tbody>\n",
              "</table>\n",
              "</div>"
            ],
            "text/plain": [
              "         Unnamed: 0  Amount Requested  ...  Employment Length     Target\n",
              "count  2.072806e+06      2.072806e+06  ...       2.072806e+06  2072806.0\n",
              "mean   1.036402e+06      1.293403e+04  ...       3.738213e+00        0.5\n",
              "std    5.983677e+05      9.483082e+03  ...       4.046339e+00        0.5\n",
              "min    0.000000e+00      2.000000e+02  ...       0.000000e+00        0.0\n",
              "25%    5.182012e+05      5.000000e+03  ...       0.000000e+00        0.0\n",
              "50%    1.036402e+06      1.000000e+04  ...       2.000000e+00        0.5\n",
              "75%    1.554604e+06      1.920000e+04  ...       8.000000e+00        1.0\n",
              "max    2.072805e+06      1.400000e+06  ...       1.000000e+01        1.0\n",
              "\n",
              "[8 rows x 6 columns]"
            ]
          },
          "metadata": {
            "tags": []
          },
          "execution_count": 5
        }
      ]
    },
    {
      "cell_type": "code",
      "metadata": {
        "colab": {
          "base_uri": "https://localhost:8080/"
        },
        "id": "TdCQbv9WaF3c",
        "outputId": "9aeeeb37-d349-4b1d-9751-4400d91f9b79"
      },
      "source": [
        "\n",
        "df[\"Target\"].value_counts()"
      ],
      "execution_count": null,
      "outputs": [
        {
          "output_type": "execute_result",
          "data": {
            "text/plain": [
              "1    1036403\n",
              "0    1036403\n",
              "Name: Target, dtype: int64"
            ]
          },
          "metadata": {
            "tags": []
          },
          "execution_count": 6
        }
      ]
    },
    {
      "cell_type": "code",
      "metadata": {
        "id": "op3C_IzLaIeO"
      },
      "source": [
        "from sklearn.model_selection import train_test_split\n"
      ],
      "execution_count": null,
      "outputs": []
    },
    {
      "cell_type": "code",
      "metadata": {
        "id": "zxVmy5VFbA6v"
      },
      "source": [
        "X = df.drop(\"Target\", axis=1)\n",
        "y = df[\"Target\"]\n",
        "\n",
        "X_train, X_test, y_train, y_test = train_test_split(X,y,test_size=0.25,random_state=190)"
      ],
      "execution_count": null,
      "outputs": []
    },
    {
      "cell_type": "code",
      "metadata": {
        "colab": {
          "base_uri": "https://localhost:8080/"
        },
        "id": "pebLTRoPbKqd",
        "outputId": "ffb3ae12-2365-4d00-b8ab-b774d47c05b1"
      },
      "source": [
        "print(X_test.shape)"
      ],
      "execution_count": null,
      "outputs": [
        {
          "output_type": "stream",
          "text": [
            "(518202, 5)\n"
          ],
          "name": "stdout"
        }
      ]
    },
    {
      "cell_type": "code",
      "metadata": {
        "colab": {
          "base_uri": "https://localhost:8080/"
        },
        "id": "LdC73RZubtQ7",
        "outputId": "7331da58-1d48-4e95-e687-96014d04d89e"
      },
      "source": [
        "print(y_test.shape)"
      ],
      "execution_count": null,
      "outputs": [
        {
          "output_type": "stream",
          "text": [
            "(518202,)\n"
          ],
          "name": "stdout"
        }
      ]
    },
    {
      "cell_type": "markdown",
      "metadata": {
        "id": "drUKvykjcnAg"
      },
      "source": [
        "Normalisation"
      ]
    },
    {
      "cell_type": "code",
      "metadata": {
        "id": "FQQdpdAjbxix"
      },
      "source": [
        "from sklearn.preprocessing import MinMaxScaler"
      ],
      "execution_count": null,
      "outputs": []
    },
    {
      "cell_type": "code",
      "metadata": {
        "colab": {
          "base_uri": "https://localhost:8080/"
        },
        "id": "DshC5g3Zb0Cy",
        "outputId": "321a618f-6748-469b-de70-c3faa6653cf7"
      },
      "source": [
        "n_data = MinMaxScaler().fit(X_train)\n",
        "X_train_n = n_data.transform(X_train)\n",
        "X_test_n = n_data.transform(X_test)\n",
        "X_train_n"
      ],
      "execution_count": null,
      "outputs": [
        {
          "output_type": "execute_result",
          "data": {
            "text/plain": [
              "array([[6.15949031e-01, 3.42906129e-03, 5.95959596e-01, 5.43432802e-06,\n",
              "        0.00000000e+00],\n",
              "       [2.10070615e-01, 1.64309187e-03, 6.98989899e-01, 1.28221047e-05,\n",
              "        0.00000000e+00],\n",
              "       [2.26208665e-01, 3.78625518e-03, 6.88888889e-01, 1.17414735e-05,\n",
              "        6.00000000e-01],\n",
              "       ...,\n",
              "       [4.84280465e-01, 7.00100014e-03, 7.04040404e-01, 4.91998913e-06,\n",
              "        1.00000000e+00],\n",
              "       [4.46040941e-01, 3.42906129e-03, 7.19191919e-01, 1.05517402e-05,\n",
              "        1.00000000e+00],\n",
              "       [2.20209060e-02, 9.67995428e-03, 6.93939394e-01, 1.51963761e-05,\n",
              "        1.00000000e+00]])"
            ]
          },
          "metadata": {
            "tags": []
          },
          "execution_count": 12
        }
      ]
    },
    {
      "cell_type": "code",
      "metadata": {
        "id": "HtgGqiRPb0GA"
      },
      "source": [
        ""
      ],
      "execution_count": null,
      "outputs": []
    },
    {
      "cell_type": "markdown",
      "metadata": {
        "id": "BAyMdUCGcw93"
      },
      "source": [
        "Standardisation"
      ]
    },
    {
      "cell_type": "code",
      "metadata": {
        "id": "5BWX4zRxb0KX"
      },
      "source": [
        "from sklearn.preprocessing import StandardScaler"
      ],
      "execution_count": null,
      "outputs": []
    },
    {
      "cell_type": "code",
      "metadata": {
        "id": "S9OeIRkbb0fK"
      },
      "source": [
        "X_train_s = X_train.copy()\n",
        "X_test_s = X_test.copy()"
      ],
      "execution_count": null,
      "outputs": []
    },
    {
      "cell_type": "code",
      "metadata": {
        "id": "f9KT2pkub0h5"
      },
      "source": [
        "num = ['Amount Requested','Risk_Score','Debt-To-Income Ratio','Employment Length']\n",
        "\n",
        "for i in num:    \n",
        "    scale = StandardScaler().fit(X_train_s[[i]])\n",
        "    X_train_s[i] = scale.transform(X_train_s[[i]])\n",
        "    X_test_s[i] = scale.transform(X_test_s[[i]])"
      ],
      "execution_count": null,
      "outputs": []
    },
    {
      "cell_type": "code",
      "metadata": {
        "colab": {
          "base_uri": "https://localhost:8080/",
          "height": 514
        },
        "id": "ZJNwcdakdsX-",
        "outputId": "229c44e3-073c-4d69-e26f-ee35d6b67b83"
      },
      "source": [
        "X_train_s.head(15)\n"
      ],
      "execution_count": null,
      "outputs": [
        {
          "output_type": "execute_result",
          "data": {
            "text/html": [
              "<div>\n",
              "<style scoped>\n",
              "    .dataframe tbody tr th:only-of-type {\n",
              "        vertical-align: middle;\n",
              "    }\n",
              "\n",
              "    .dataframe tbody tr th {\n",
              "        vertical-align: top;\n",
              "    }\n",
              "\n",
              "    .dataframe thead th {\n",
              "        text-align: right;\n",
              "    }\n",
              "</style>\n",
              "<table border=\"1\" class=\"dataframe\">\n",
              "  <thead>\n",
              "    <tr style=\"text-align: right;\">\n",
              "      <th></th>\n",
              "      <th>Unnamed: 0</th>\n",
              "      <th>Amount Requested</th>\n",
              "      <th>Risk_Score</th>\n",
              "      <th>Debt-To-Income Ratio</th>\n",
              "      <th>Employment Length</th>\n",
              "    </tr>\n",
              "  </thead>\n",
              "  <tbody>\n",
              "    <tr>\n",
              "      <th>1276742</th>\n",
              "      <td>1276742</td>\n",
              "      <td>-0.837375</td>\n",
              "      <td>-0.769384</td>\n",
              "      <td>-0.024171</td>\n",
              "      <td>-0.923739</td>\n",
              "    </tr>\n",
              "    <tr>\n",
              "      <th>435436</th>\n",
              "      <td>435436</td>\n",
              "      <td>-1.101311</td>\n",
              "      <td>0.419378</td>\n",
              "      <td>-0.020920</td>\n",
              "      <td>-0.923739</td>\n",
              "    </tr>\n",
              "    <tr>\n",
              "      <th>468887</th>\n",
              "      <td>468887</td>\n",
              "      <td>-0.784588</td>\n",
              "      <td>0.302833</td>\n",
              "      <td>-0.021396</td>\n",
              "      <td>0.558809</td>\n",
              "    </tr>\n",
              "    <tr>\n",
              "      <th>126791</th>\n",
              "      <td>126791</td>\n",
              "      <td>0.746240</td>\n",
              "      <td>0.769014</td>\n",
              "      <td>-0.022960</td>\n",
              "      <td>-0.923739</td>\n",
              "    </tr>\n",
              "    <tr>\n",
              "      <th>1647396</th>\n",
              "      <td>1647396</td>\n",
              "      <td>0.746240</td>\n",
              "      <td>-0.396439</td>\n",
              "      <td>-0.022653</td>\n",
              "      <td>-0.923739</td>\n",
              "    </tr>\n",
              "    <tr>\n",
              "      <th>1592773</th>\n",
              "      <td>1592773</td>\n",
              "      <td>-1.048524</td>\n",
              "      <td>-0.722766</td>\n",
              "      <td>-0.020330</td>\n",
              "      <td>-0.923739</td>\n",
              "    </tr>\n",
              "    <tr>\n",
              "      <th>849151</th>\n",
              "      <td>849151</td>\n",
              "      <td>-0.098355</td>\n",
              "      <td>0.186288</td>\n",
              "      <td>-0.022143</td>\n",
              "      <td>-0.429556</td>\n",
              "    </tr>\n",
              "    <tr>\n",
              "      <th>1969062</th>\n",
              "      <td>1969062</td>\n",
              "      <td>-1.154098</td>\n",
              "      <td>-1.806637</td>\n",
              "      <td>-0.024304</td>\n",
              "      <td>-0.923739</td>\n",
              "    </tr>\n",
              "    <tr>\n",
              "      <th>127665</th>\n",
              "      <td>127665</td>\n",
              "      <td>0.685534</td>\n",
              "      <td>0.186288</td>\n",
              "      <td>-0.019027</td>\n",
              "      <td>0.311718</td>\n",
              "    </tr>\n",
              "    <tr>\n",
              "      <th>1529709</th>\n",
              "      <td>1529709</td>\n",
              "      <td>-1.259673</td>\n",
              "      <td>-1.806637</td>\n",
              "      <td>-0.026060</td>\n",
              "      <td>-0.923739</td>\n",
              "    </tr>\n",
              "    <tr>\n",
              "      <th>1429562</th>\n",
              "      <td>1429562</td>\n",
              "      <td>2.857726</td>\n",
              "      <td>-1.806637</td>\n",
              "      <td>-0.017315</td>\n",
              "      <td>-0.923739</td>\n",
              "    </tr>\n",
              "    <tr>\n",
              "      <th>9593</th>\n",
              "      <td>9593</td>\n",
              "      <td>2.329854</td>\n",
              "      <td>0.361106</td>\n",
              "      <td>-0.022018</td>\n",
              "      <td>1.547174</td>\n",
              "    </tr>\n",
              "    <tr>\n",
              "      <th>745600</th>\n",
              "      <td>745600</td>\n",
              "      <td>-0.541767</td>\n",
              "      <td>0.244560</td>\n",
              "      <td>-0.021590</td>\n",
              "      <td>1.300083</td>\n",
              "    </tr>\n",
              "    <tr>\n",
              "      <th>189032</th>\n",
              "      <td>189032</td>\n",
              "      <td>-0.098355</td>\n",
              "      <td>0.302833</td>\n",
              "      <td>-0.025269</td>\n",
              "      <td>1.300083</td>\n",
              "    </tr>\n",
              "    <tr>\n",
              "      <th>1243438</th>\n",
              "      <td>1243438</td>\n",
              "      <td>-0.177536</td>\n",
              "      <td>0.885560</td>\n",
              "      <td>-0.018499</td>\n",
              "      <td>1.547174</td>\n",
              "    </tr>\n",
              "  </tbody>\n",
              "</table>\n",
              "</div>"
            ],
            "text/plain": [
              "         Unnamed: 0  Amount Requested  ...  Debt-To-Income Ratio  Employment Length\n",
              "1276742     1276742         -0.837375  ...             -0.024171          -0.923739\n",
              "435436       435436         -1.101311  ...             -0.020920          -0.923739\n",
              "468887       468887         -0.784588  ...             -0.021396           0.558809\n",
              "126791       126791          0.746240  ...             -0.022960          -0.923739\n",
              "1647396     1647396          0.746240  ...             -0.022653          -0.923739\n",
              "1592773     1592773         -1.048524  ...             -0.020330          -0.923739\n",
              "849151       849151         -0.098355  ...             -0.022143          -0.429556\n",
              "1969062     1969062         -1.154098  ...             -0.024304          -0.923739\n",
              "127665       127665          0.685534  ...             -0.019027           0.311718\n",
              "1529709     1529709         -1.259673  ...             -0.026060          -0.923739\n",
              "1429562     1429562          2.857726  ...             -0.017315          -0.923739\n",
              "9593           9593          2.329854  ...             -0.022018           1.547174\n",
              "745600       745600         -0.541767  ...             -0.021590           1.300083\n",
              "189032       189032         -0.098355  ...             -0.025269           1.300083\n",
              "1243438     1243438         -0.177536  ...             -0.018499           1.547174\n",
              "\n",
              "[15 rows x 5 columns]"
            ]
          },
          "metadata": {
            "tags": []
          },
          "execution_count": 16
        }
      ]
    },
    {
      "cell_type": "code",
      "metadata": {
        "colab": {
          "base_uri": "https://localhost:8080/",
          "height": 359
        },
        "id": "h7ulQ1mIepAW",
        "outputId": "72a2a453-de72-4fb9-f82e-5a44975beef1"
      },
      "source": [
        "X_test_s.head(10)"
      ],
      "execution_count": null,
      "outputs": [
        {
          "output_type": "execute_result",
          "data": {
            "text/html": [
              "<div>\n",
              "<style scoped>\n",
              "    .dataframe tbody tr th:only-of-type {\n",
              "        vertical-align: middle;\n",
              "    }\n",
              "\n",
              "    .dataframe tbody tr th {\n",
              "        vertical-align: top;\n",
              "    }\n",
              "\n",
              "    .dataframe thead th {\n",
              "        text-align: right;\n",
              "    }\n",
              "</style>\n",
              "<table border=\"1\" class=\"dataframe\">\n",
              "  <thead>\n",
              "    <tr style=\"text-align: right;\">\n",
              "      <th></th>\n",
              "      <th>Unnamed: 0</th>\n",
              "      <th>Amount Requested</th>\n",
              "      <th>Risk_Score</th>\n",
              "      <th>Debt-To-Income Ratio</th>\n",
              "      <th>Employment Length</th>\n",
              "    </tr>\n",
              "  </thead>\n",
              "  <tbody>\n",
              "    <tr>\n",
              "      <th>1221086</th>\n",
              "      <td>1221086</td>\n",
              "      <td>0.640665</td>\n",
              "      <td>0.302833</td>\n",
              "      <td>-0.021467</td>\n",
              "      <td>0.311718</td>\n",
              "    </tr>\n",
              "    <tr>\n",
              "      <th>629017</th>\n",
              "      <td>629017</td>\n",
              "      <td>0.640665</td>\n",
              "      <td>0.361106</td>\n",
              "      <td>-0.021041</td>\n",
              "      <td>-0.429556</td>\n",
              "    </tr>\n",
              "    <tr>\n",
              "      <th>565581</th>\n",
              "      <td>565581</td>\n",
              "      <td>-1.101311</td>\n",
              "      <td>0.302833</td>\n",
              "      <td>-0.023330</td>\n",
              "      <td>-0.429556</td>\n",
              "    </tr>\n",
              "    <tr>\n",
              "      <th>922442</th>\n",
              "      <td>922442</td>\n",
              "      <td>-1.154098</td>\n",
              "      <td>0.477651</td>\n",
              "      <td>-0.025847</td>\n",
              "      <td>-0.182465</td>\n",
              "    </tr>\n",
              "    <tr>\n",
              "      <th>1925635</th>\n",
              "      <td>1925635</td>\n",
              "      <td>-0.309504</td>\n",
              "      <td>-0.571257</td>\n",
              "      <td>-0.013076</td>\n",
              "      <td>-0.923739</td>\n",
              "    </tr>\n",
              "    <tr>\n",
              "      <th>267835</th>\n",
              "      <td>267835</td>\n",
              "      <td>0.218368</td>\n",
              "      <td>0.302833</td>\n",
              "      <td>-0.022363</td>\n",
              "      <td>0.558809</td>\n",
              "    </tr>\n",
              "    <tr>\n",
              "      <th>329975</th>\n",
              "      <td>329975</td>\n",
              "      <td>1.274111</td>\n",
              "      <td>1.468286</td>\n",
              "      <td>-0.022367</td>\n",
              "      <td>1.547174</td>\n",
              "    </tr>\n",
              "    <tr>\n",
              "      <th>577402</th>\n",
              "      <td>577402</td>\n",
              "      <td>0.746240</td>\n",
              "      <td>0.186288</td>\n",
              "      <td>-0.017413</td>\n",
              "      <td>1.547174</td>\n",
              "    </tr>\n",
              "    <tr>\n",
              "      <th>2019817</th>\n",
              "      <td>2019817</td>\n",
              "      <td>-1.259673</td>\n",
              "      <td>-0.617875</td>\n",
              "      <td>-0.026334</td>\n",
              "      <td>-0.923739</td>\n",
              "    </tr>\n",
              "    <tr>\n",
              "      <th>560413</th>\n",
              "      <td>560413</td>\n",
              "      <td>0.851814</td>\n",
              "      <td>0.477651</td>\n",
              "      <td>-0.023291</td>\n",
              "      <td>1.547174</td>\n",
              "    </tr>\n",
              "  </tbody>\n",
              "</table>\n",
              "</div>"
            ],
            "text/plain": [
              "         Unnamed: 0  Amount Requested  ...  Debt-To-Income Ratio  Employment Length\n",
              "1221086     1221086          0.640665  ...             -0.021467           0.311718\n",
              "629017       629017          0.640665  ...             -0.021041          -0.429556\n",
              "565581       565581         -1.101311  ...             -0.023330          -0.429556\n",
              "922442       922442         -1.154098  ...             -0.025847          -0.182465\n",
              "1925635     1925635         -0.309504  ...             -0.013076          -0.923739\n",
              "267835       267835          0.218368  ...             -0.022363           0.558809\n",
              "329975       329975          1.274111  ...             -0.022367           1.547174\n",
              "577402       577402          0.746240  ...             -0.017413           1.547174\n",
              "2019817     2019817         -1.259673  ...             -0.026334          -0.923739\n",
              "560413       560413          0.851814  ...             -0.023291           1.547174\n",
              "\n",
              "[10 rows x 5 columns]"
            ]
          },
          "metadata": {
            "tags": []
          },
          "execution_count": 17
        }
      ]
    },
    {
      "cell_type": "code",
      "metadata": {
        "colab": {
          "base_uri": "https://localhost:8080/"
        },
        "id": "DOPvZUJae0f2",
        "outputId": "f90bdefa-5a40-4edf-9251-ed2efbaae1e4"
      },
      "source": [
        "print(X_train_s.min())\n",
        "print(X_train_s.max())"
      ],
      "execution_count": null,
      "outputs": [
        {
          "output_type": "stream",
          "text": [
            "Unnamed: 0              1.000000\n",
            "Amount Requested       -1.344132\n",
            "Risk_Score             -7.645559\n",
            "Debt-To-Income Ratio   -0.026563\n",
            "Employment Length      -0.923739\n",
            "dtype: float64\n",
            "Unnamed: 0              2.072804e+06\n",
            "Amount Requested        1.464388e+02\n",
            "Risk_Score              3.892429e+00\n",
            "Debt-To-Income Ratio    4.400608e+02\n",
            "Employment Length       1.547174e+00\n",
            "dtype: float64\n"
          ],
          "name": "stdout"
        }
      ]
    },
    {
      "cell_type": "markdown",
      "metadata": {
        "id": "KlL1kPBRlme3"
      },
      "source": [
        "Predicting without Feature Scaling"
      ]
    },
    {
      "cell_type": "code",
      "metadata": {
        "id": "b78tgr6Xe8kt"
      },
      "source": [
        "from sklearn.linear_model import LogisticRegression\n",
        "\n",
        "# instantiate the model (using the default parameters)\n",
        "logreg = LogisticRegression()\n",
        "\n",
        "# fit the model with data\n",
        "logreg.fit(X_train,y_train)\n",
        "\n",
        "#\n",
        "y_pred=logreg.predict(X_test)"
      ],
      "execution_count": null,
      "outputs": []
    },
    {
      "cell_type": "code",
      "metadata": {
        "colab": {
          "base_uri": "https://localhost:8080/"
        },
        "id": "9XdfEsk4fukA",
        "outputId": "0f14a9de-994e-45a5-cb33-4ae72ead9989"
      },
      "source": [
        "from sklearn import metrics\n",
        "cnf_matrix = metrics.confusion_matrix(y_test, y_pred)\n",
        "cnf_matrix"
      ],
      "execution_count": null,
      "outputs": [
        {
          "output_type": "execute_result",
          "data": {
            "text/plain": [
              "array([[210171,  48421],\n",
              "       [ 31499, 228111]])"
            ]
          },
          "metadata": {
            "tags": []
          },
          "execution_count": 20
        }
      ]
    },
    {
      "cell_type": "code",
      "metadata": {
        "id": "DHXhvnCIjd81"
      },
      "source": [
        "import numpy as np\n",
        "import matplotlib.pyplot as plt\n",
        "import seaborn as sns\n",
        "%matplotlib inline"
      ],
      "execution_count": null,
      "outputs": []
    },
    {
      "cell_type": "code",
      "metadata": {
        "colab": {
          "base_uri": "https://localhost:8080/",
          "height": 342
        },
        "id": "A-SgjJqIjtBd",
        "outputId": "3e5d78c2-e1ec-4f99-8c72-f8b8430f2437"
      },
      "source": [
        "class_names=[0,1] # name  of classes\n",
        "fig, ax = plt.subplots()\n",
        "tick_marks = np.arange(len(class_names))\n",
        "plt.xticks(tick_marks, class_names)\n",
        "plt.yticks(tick_marks, class_names)\n",
        "# create heatmap\n",
        "sns.heatmap(pd.DataFrame(cnf_matrix), annot=True, cmap=\"YlGnBu\" ,fmt='g')\n",
        "ax.xaxis.set_label_position(\"top\")\n",
        "plt.tight_layout()\n",
        "plt.title('Confusion matrix', y=1.1)\n",
        "plt.ylabel('Actual label')\n",
        "plt.xlabel('Predicted label')"
      ],
      "execution_count": null,
      "outputs": [
        {
          "output_type": "execute_result",
          "data": {
            "text/plain": [
              "Text(0.5, 257.44, 'Predicted label')"
            ]
          },
          "metadata": {
            "tags": []
          },
          "execution_count": 22
        },
        {
          "output_type": "display_data",
          "data": {
            "image/png": "[encoded data removed]",
            "text/plain": [
              "<Figure size 432x288 with 2 Axes>"
            ]
          },
          "metadata": {
            "tags": [],
            "needs_background": "light"
          }
        }
      ]
    },
    {
      "cell_type": "code",
      "metadata": {
        "colab": {
          "base_uri": "https://localhost:8080/"
        },
        "id": "tvtklWBSj0LH",
        "outputId": "de4c9367-75a7-472e-de27-34746b554e1a"
      },
      "source": [
        "print(\"Accuracy:\",metrics.accuracy_score(y_test, y_pred))\n",
        "print(\"Precision:\",metrics.precision_score(y_test, y_pred))\n",
        "print(\"Recall:\",metrics.recall_score(y_test, y_pred))"
      ],
      "execution_count": null,
      "outputs": [
        {
          "output_type": "stream",
          "text": [
            "Accuracy: 0.8457744277328146\n",
            "Precision: 0.824899107517394\n",
            "Recall: 0.8786680020030045\n"
          ],
          "name": "stdout"
        }
      ]
    },
    {
      "cell_type": "markdown",
      "metadata": {
        "id": "xSpTl8MDlt0I"
      },
      "source": [
        "Prediction using Normalisation "
      ]
    },
    {
      "cell_type": "code",
      "metadata": {
        "id": "UTmQv1lej51v"
      },
      "source": [
        "from sklearn.linear_model import LogisticRegression\n",
        "\n",
        "# instantiate the model (using the default parameters)\n",
        "logreg1 = LogisticRegression()\n",
        "\n",
        "# fit the model with data\n",
        "logreg1.fit(X_train_n,y_train)\n",
        "\n",
        "#\n",
        "y_pred1=logreg1.predict(X_test_n)"
      ],
      "execution_count": null,
      "outputs": []
    },
    {
      "cell_type": "code",
      "metadata": {
        "colab": {
          "base_uri": "https://localhost:8080/"
        },
        "id": "bOgZXdCXkyPI",
        "outputId": "18c20d3f-ddf7-4924-b721-5076d6c5124d"
      },
      "source": [
        "from sklearn import metrics\n",
        "cnf_matrix1 = metrics.confusion_matrix(y_test, y_pred1)\n",
        "cnf_matrix1"
      ],
      "execution_count": null,
      "outputs": [
        {
          "output_type": "execute_result",
          "data": {
            "text/plain": [
              "array([[203764,  54828],\n",
              "       [ 18507, 241103]])"
            ]
          },
          "metadata": {
            "tags": []
          },
          "execution_count": 25
        }
      ]
    },
    {
      "cell_type": "code",
      "metadata": {
        "colab": {
          "base_uri": "https://localhost:8080/",
          "height": 342
        },
        "id": "4sAETvW1lF7S",
        "outputId": "3c2f9bd7-62c9-4e09-d695-3840211d3680"
      },
      "source": [
        "class_names=[0,1] # name  of classes\n",
        "fig, ax = plt.subplots()\n",
        "tick_marks = np.arange(len(class_names))\n",
        "plt.xticks(tick_marks, class_names)\n",
        "plt.yticks(tick_marks, class_names)\n",
        "# create heatmap\n",
        "sns.heatmap(pd.DataFrame(cnf_matrix1), annot=True, cmap=\"YlGnBu\" ,fmt='g')\n",
        "ax.xaxis.set_label_position(\"top\")\n",
        "plt.tight_layout()\n",
        "plt.title('Confusion matrix', y=1.1)\n",
        "plt.ylabel('Actual label')\n",
        "plt.xlabel('Predicted label')"
      ],
      "execution_count": null,
      "outputs": [
        {
          "output_type": "execute_result",
          "data": {
            "text/plain": [
              "Text(0.5, 257.44, 'Predicted label')"
            ]
          },
          "metadata": {
            "tags": []
          },
          "execution_count": 26
        },
        {
          "output_type": "display_data",
          "data": {
            "image/png": "[encoded data removed]",
            "text/plain": [
              "<Figure size 432x288 with 2 Axes>"
            ]
          },
          "metadata": {
            "tags": [],
            "needs_background": "light"
          }
        }
      ]
    },
    {
      "cell_type": "code",
      "metadata": {
        "colab": {
          "base_uri": "https://localhost:8080/"
        },
        "id": "MMQu9u_-lPNr",
        "outputId": "d7a5b52f-753d-4080-b094-b96b93658d7a"
      },
      "source": [
        "print(\"Accuracy:\",metrics.accuracy_score(y_test, y_pred1))\n",
        "print(\"Precision:\",metrics.precision_score(y_test, y_pred1))\n",
        "print(\"Recall:\",metrics.recall_score(y_test, y_pred1))"
      ],
      "execution_count": null,
      "outputs": [
        {
          "output_type": "stream",
          "text": [
            "Accuracy: 0.8584818275498743\n",
            "Precision: 0.8147270816507902\n",
            "Recall: 0.9287122992180579\n"
          ],
          "name": "stdout"
        }
      ]
    },
    {
      "cell_type": "markdown",
      "metadata": {
        "id": "y090itPhnodP"
      },
      "source": [
        ""
      ]
    },
    {
      "cell_type": "markdown",
      "metadata": {
        "id": "TIz4yyZZl4AQ"
      },
      "source": [
        "Prediction using Standardisation"
      ]
    },
    {
      "cell_type": "code",
      "metadata": {
        "id": "9Q_TJMPPlXC_"
      },
      "source": [
        "logreg2 = LogisticRegression()\n",
        "\n",
        "# fit the model with data\n",
        "logreg2.fit(X_train_s,y_train)\n",
        "\n",
        "#\n",
        "y_pred2=logreg2.predict(X_test_s)"
      ],
      "execution_count": null,
      "outputs": []
    },
    {
      "cell_type": "code",
      "metadata": {
        "colab": {
          "base_uri": "https://localhost:8080/"
        },
        "id": "GUXM09NXmFBj",
        "outputId": "54edd8e6-9620-4255-da0e-ac5f5dd58131"
      },
      "source": [
        "cnf_matrix2 = metrics.confusion_matrix(y_test, y_pred2)\n",
        "cnf_matrix2"
      ],
      "execution_count": null,
      "outputs": [
        {
          "output_type": "execute_result",
          "data": {
            "text/plain": [
              "array([[258592,      0],\n",
              "       [259609,      1]])"
            ]
          },
          "metadata": {
            "tags": []
          },
          "execution_count": 29
        }
      ]
    },
    {
      "cell_type": "code",
      "metadata": {
        "colab": {
          "base_uri": "https://localhost:8080/",
          "height": 342
        },
        "id": "rJ13mBiCmNg9",
        "outputId": "4aa7ed36-f5bc-40b4-dedb-3e41ba1f70ba"
      },
      "source": [
        "class_names=[0,1] # name  of classes\n",
        "fig, ax = plt.subplots()\n",
        "tick_marks = np.arange(len(class_names))\n",
        "plt.xticks(tick_marks, class_names)\n",
        "plt.yticks(tick_marks, class_names)\n",
        "# create heatmap\n",
        "sns.heatmap(pd.DataFrame(cnf_matrix2), annot=True, cmap=\"YlGnBu\" ,fmt='g')\n",
        "ax.xaxis.set_label_position(\"top\")\n",
        "plt.tight_layout()\n",
        "plt.title('Confusion matrix', y=1.1)\n",
        "plt.ylabel('Actual label')\n",
        "plt.xlabel('Predicted label')"
      ],
      "execution_count": null,
      "outputs": [
        {
          "output_type": "execute_result",
          "data": {
            "text/plain": [
              "Text(0.5, 257.44, 'Predicted label')"
            ]
          },
          "metadata": {
            "tags": []
          },
          "execution_count": 30
        },
        {
          "output_type": "display_data",
          "data": {
            "image/png": "[encoded data removed]",
            "text/plain": [
              "<Figure size 432x288 with 2 Axes>"
            ]
          },
          "metadata": {
            "tags": [],
            "needs_background": "light"
          }
        }
      ]
    },
    {
      "cell_type": "code",
      "metadata": {
        "colab": {
          "base_uri": "https://localhost:8080/"
        },
        "id": "Ntr3ffpWmUIu",
        "outputId": "fcced540-4719-47c4-a94a-d534309a8c62"
      },
      "source": [
        "print(\"Accuracy:\",metrics.accuracy_score(y_test, y_pred2))\n",
        "print(\"Precision:\",metrics.precision_score(y_test, y_pred2))\n",
        "print(\"Recall:\",metrics.recall_score(y_test, y_pred2))"
      ],
      "execution_count": null,
      "outputs": [
        {
          "output_type": "stream",
          "text": [
            "Accuracy: 0.4990196873034068\n",
            "Precision: 1.0\n",
            "Recall: 3.851931743769501e-06\n"
          ],
          "name": "stdout"
        }
      ]
    },
    {
      "cell_type": "code",
      "metadata": {
        "id": "Ggersfgg_Uxh"
      },
      "source": [
        "from sklearn.model_selection import train_test_split\n",
        "from sklearn.ensemble import RandomForestClassifier\n",
        "from sklearn.metrics import accuracy_score, confusion_matrix, classification_report\n"
      ],
      "execution_count": null,
      "outputs": []
    },
    {
      "cell_type": "code",
      "metadata": {
        "id": "8lGqwj0y9iNG"
      },
      "source": [
        "from sklearn.model_selection import train_test_split,cross_val_predict\n",
        "\n",
        "X = df.iloc[:,:-1].values\n",
        "y = df.iloc[:,-1].values\n",
        "\n",
        "X_train, X_test, y_train, y_test = train_test_split(X,y,test_size=0.2,random_state=36)"
      ],
      "execution_count": null,
      "outputs": []
    },
    {
      "cell_type": "code",
      "metadata": {
        "colab": {
          "base_uri": "https://localhost:8080/"
        },
        "id": "H9SCiRt-dAWp",
        "outputId": "7b17437d-124c-4fc5-e393-69fec5e0a548"
      },
      "source": [
        "print(X_train.shape)\n",
        "print(y_train.shape)"
      ],
      "execution_count": null,
      "outputs": [
        {
          "output_type": "stream",
          "text": [
            "(1658244, 5)\n",
            "(1658244,)\n"
          ],
          "name": "stdout"
        }
      ]
    },
    {
      "cell_type": "code",
      "metadata": {
        "colab": {
          "base_uri": "https://localhost:8080/"
        },
        "id": "1gBL8oFTdD5R",
        "outputId": "9ffcfdab-b01b-41c4-b484-bf5c1638067b"
      },
      "source": [
        "from sklearn.ensemble import RandomForestClassifier\n",
        "\n",
        "Model_RF = RandomForestClassifier()\n",
        "Model_RF.fit(X_train, y_train)\n",
        "y_pred = Model_RF.predict(X_test)\n",
        "print(\"Accuracy score of training data {} %:\".format(Model_RF.score(X_train, y_train)*100))\n",
        "print(\"Accuracy score of testing data {} %\".format(Model_RF.score(X_test, y_test)*100))"
      ],
      "execution_count": null,
      "outputs": [
        {
          "output_type": "stream",
          "text": [
            "Accuracy score of training data 99.99915573341438 %:\n",
            "Accuracy score of testing data 88.22468050617277 %\n"
          ],
          "name": "stdout"
        }
      ]
    },
    {
      "cell_type": "code",
      "metadata": {
        "colab": {
          "base_uri": "https://localhost:8080/"
        },
        "id": "Nd4UblPwdKUq",
        "outputId": "6405b8c1-40cb-412b-a8a9-0e1300f85f6e"
      },
      "source": [
        "from sklearn.ensemble import RandomForestClassifier\n",
        "\n",
        "Model_RF = RandomForestClassifier(n_estimators=500, max_features=None, max_depth=6, bootstrap=True)\n",
        "Model_RF.fit(X_train, y_train)\n",
        "print(\"Accuracy score of training data {} %:\".format(Model_RF.score(X_train, y_train)*100))\n",
        "print(\"Accuracy score of testing data {} %\".format(Model_RF.score(X_test, y_test)*100))"
      ],
      "execution_count": null,
      "outputs": [
        {
          "output_type": "stream",
          "text": [
            "Accuracy score of training data 88.801587703619 %:\n",
            "Accuracy score of testing data 88.80818791881552 %\n"
          ],
          "name": "stdout"
        }
      ]
    },
    {
      "cell_type": "code",
      "metadata": {
        "id": "KU0sB4pcovJG"
      },
      "source": [
        ""
      ],
      "execution_count": null,
      "outputs": []
    }
  ]
}